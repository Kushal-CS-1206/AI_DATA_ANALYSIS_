{
 "cells": [
  {
   "cell_type": "markdown",
   "metadata": {},
   "source": [
    "## Automated Data Quality Monitoring\n",
    "**Objective**: Use Great Expectations to perform data profiling and write validation rules.\n",
    "\n",
    "1. Data Profiling with Great Expectations\n",
    "### Profile a CSV dataset containing customer information to inspect distribution patterns of 'Age' and 'Income' columns.\n",
    "- Load the dataset using Great Expectations and create a data context.\n",
    "- Generate a data asset to inspect the summary statistics.\n",
    "- View the generated expectation suite to analyze data distributions."
   ]
  },
  {
   "cell_type": "code",
   "execution_count": 1,
   "metadata": {},
   "outputs": [
    {
     "ename": "TypeError",
     "evalue": "DataAssistantRunner.run_impl.<locals>.run() got an unexpected keyword argument 'asset_name'",
     "output_type": "error",
     "traceback": [
      "\u001b[0;31m---------------------------------------------------------------------------\u001b[0m",
      "\u001b[0;31mTypeError\u001b[0m                                 Traceback (most recent call last)",
      "Cell \u001b[0;32mIn[1], line 23\u001b[0m\n\u001b[1;32m     20\u001b[0m data_asset \u001b[38;5;241m=\u001b[39m datasource\u001b[38;5;241m.\u001b[39madd_dataframe_asset(name\u001b[38;5;241m=\u001b[39m\u001b[38;5;124m\"\u001b[39m\u001b[38;5;124mcustomer_data\u001b[39m\u001b[38;5;124m\"\u001b[39m, dataframe\u001b[38;5;241m=\u001b[39mdf)\n\u001b[1;32m     22\u001b[0m \u001b[38;5;66;03m# Run profiling (data assistant)\u001b[39;00m\n\u001b[0;32m---> 23\u001b[0m assistant \u001b[38;5;241m=\u001b[39m \u001b[43mcontext\u001b[49m\u001b[38;5;241;43m.\u001b[39;49m\u001b[43massistants\u001b[49m\u001b[38;5;241;43m.\u001b[39;49m\u001b[43monboarding\u001b[49m\u001b[38;5;241;43m.\u001b[39;49m\u001b[43mrun\u001b[49m\u001b[43m(\u001b[49m\u001b[43masset_name\u001b[49m\u001b[38;5;241;43m=\u001b[39;49m\u001b[38;5;124;43m\"\u001b[39;49m\u001b[38;5;124;43mcustomer_data\u001b[39;49m\u001b[38;5;124;43m\"\u001b[39;49m\u001b[43m)\u001b[49m\n\u001b[1;32m     25\u001b[0m \u001b[38;5;66;03m# Save generated expectation suite\u001b[39;00m\n\u001b[1;32m     26\u001b[0m assistant\u001b[38;5;241m.\u001b[39mexpectation_suite\u001b[38;5;241m.\u001b[39msave()\n",
      "\u001b[0;31mTypeError\u001b[0m: DataAssistantRunner.run_impl.<locals>.run() got an unexpected keyword argument 'asset_name'"
     ]
    }
   ],
   "source": [
    "# write your code from here\n",
    "import pandas as pd\n",
    "import great_expectations as gx\n",
    "\n",
    "# Create sample dataset\n",
    "df = pd.DataFrame({\n",
    "    \"customer_id\": [1, 2, 3, 4, 5],\n",
    "    \"name\": [\"Alice\", \"Bob\", \"Charlie\", \"David\", \"Eve\"],\n",
    "    \"age\": [25, 40, 35, 28, 60],\n",
    "    \"income\": [50000, 65000, 70000, 48000, 90000]\n",
    "})\n",
    "\n",
    "# Create Great Expectations context\n",
    "context = gx.get_context()\n",
    "\n",
    "# Add Pandas datasource (Fluent API style)\n",
    "datasource = context.sources.add_pandas(name=\"pandas_src\")\n",
    "\n",
    "# Create DataFrame asset\n",
    "data_asset = datasource.add_dataframe_asset(name=\"customer_data\", dataframe=df)\n",
    "\n",
    "# Run profiling (data assistant)\n",
    "assistant = context.assistants.onboarding.run(asset_name=\"customer_data\")\n",
    "\n",
    "# Save generated expectation suite\n",
    "assistant.expectation_suite.save()\n"
   ]
  },
  {
   "cell_type": "markdown",
   "metadata": {},
   "source": [
    "2. Writing Validation Rules for Data Ingestion\n",
    "### Write validation rules for a CSV file to ensure the 'Date' column follows a specific date format.\n",
    "- Utilize expect_column_values_to_match_regex to enforce date format validation.\n",
    "- Run the validation and interpret the output."
   ]
  },
  {
   "cell_type": "code",
   "execution_count": 2,
   "metadata": {},
   "outputs": [
    {
     "data": {
      "application/vnd.jupyter.widget-view+json": {
       "model_id": "dc2b2e5e33b5447b8ac4cd72194ef8eb",
       "version_major": 2,
       "version_minor": 0
      },
      "text/plain": [
       "Calculating Metrics:   0%|          | 0/8 [00:00<?, ?it/s]"
      ]
     },
     "metadata": {},
     "output_type": "display_data"
    },
    {
     "data": {
      "application/vnd.jupyter.widget-view+json": {
       "model_id": "7e6eb8deca7b4b5c8b77c7e37598e4dd",
       "version_major": 2,
       "version_minor": 0
      },
      "text/plain": [
       "Calculating Metrics:   0%|          | 0/8 [00:00<?, ?it/s]"
      ]
     },
     "metadata": {},
     "output_type": "display_data"
    },
    {
     "name": "stdout",
     "output_type": "stream",
     "text": [
      "{\n",
      "  \"success\": false,\n",
      "  \"results\": [\n",
      "    {\n",
      "      \"success\": false,\n",
      "      \"expectation_config\": {\n",
      "        \"expectation_type\": \"expect_column_values_to_match_regex\",\n",
      "        \"kwargs\": {\n",
      "          \"column\": \"Date\",\n",
      "          \"regex\": \"^\\\\d{4}-\\\\d{2}-\\\\d{2}$\",\n",
      "          \"batch_id\": \"pandas_src-date_data\"\n",
      "        },\n",
      "        \"meta\": {}\n",
      "      },\n",
      "      \"result\": {\n",
      "        \"element_count\": 5,\n",
      "        \"unexpected_count\": 2,\n",
      "        \"unexpected_percent\": 40.0,\n",
      "        \"partial_unexpected_list\": [\n",
      "          \"2023/03/15\",\n",
      "          \"15-05-2023\"\n",
      "        ],\n",
      "        \"missing_count\": 0,\n",
      "        \"missing_percent\": 0.0,\n",
      "        \"unexpected_percent_total\": 40.0,\n",
      "        \"unexpected_percent_nonmissing\": 40.0\n",
      "      },\n",
      "      \"meta\": {},\n",
      "      \"exception_info\": {\n",
      "        \"raised_exception\": false,\n",
      "        \"exception_traceback\": null,\n",
      "        \"exception_message\": null\n",
      "      }\n",
      "    }\n",
      "  ],\n",
      "  \"evaluation_parameters\": {},\n",
      "  \"statistics\": {\n",
      "    \"evaluated_expectations\": 1,\n",
      "    \"successful_expectations\": 0,\n",
      "    \"unsuccessful_expectations\": 1,\n",
      "    \"success_percent\": 0.0\n",
      "  },\n",
      "  \"meta\": {\n",
      "    \"great_expectations_version\": \"0.16.15\",\n",
      "    \"expectation_suite_name\": \"date_validation_suite\",\n",
      "    \"run_id\": {\n",
      "      \"run_name\": null,\n",
      "      \"run_time\": \"2025-05-20T15:50:12.273724+00:00\"\n",
      "    },\n",
      "    \"batch_spec\": {\n",
      "      \"batch_data\": \"PandasDataFrame\"\n",
      "    },\n",
      "    \"batch_markers\": {\n",
      "      \"ge_load_time\": \"20250520T155012.188113Z\",\n",
      "      \"pandas_data_fingerprint\": \"27f104a82f0854eaa858431d40deb2e6\"\n",
      "    },\n",
      "    \"active_batch_definition\": {\n",
      "      \"datasource_name\": \"pandas_src\",\n",
      "      \"data_connector_name\": \"fluent\",\n",
      "      \"data_asset_name\": \"date_data\",\n",
      "      \"batch_identifiers\": {}\n",
      "    },\n",
      "    \"validation_time\": \"20250520T155012.273665Z\",\n",
      "    \"checkpoint_name\": null\n",
      "  }\n",
      "}\n"
     ]
    }
   ],
   "source": [
    "# write your code from here\n",
    "import pandas as pd\n",
    "import great_expectations as gx\n",
    "\n",
    "# Sample dataset with Date column\n",
    "df = pd.DataFrame({\n",
    "    \"Date\": [\"2023-01-01\", \"2023-02-30\", \"2023/03/15\", \"2023-04-10\", \"15-05-2023\"],\n",
    "    \"Value\": [100, 200, 150, 300, 250]\n",
    "})\n",
    "\n",
    "# Create Great Expectations context\n",
    "context = gx.get_context()\n",
    "\n",
    "# Add Pandas datasource and DataFrame asset\n",
    "datasource = context.sources.add_pandas(name=\"pandas_src\")\n",
    "data_asset = datasource.add_dataframe_asset(name=\"date_data\", dataframe=df)\n",
    "\n",
    "# Create or get expectation suite\n",
    "expectation_suite = context.create_expectation_suite(\"date_validation_suite\", overwrite_existing=True)\n",
    "\n",
    "# Get validator\n",
    "validator = context.get_validator(\n",
    "    batch_request=data_asset.build_batch_request(),\n",
    "    expectation_suite=expectation_suite,\n",
    ")\n",
    "\n",
    "# Add expectation for Date column format YYYY-MM-DD\n",
    "validator.expect_column_values_to_match_regex(\n",
    "    column=\"Date\",\n",
    "    regex=r\"^\\d{4}-\\d{2}-\\d{2}$\"\n",
    ")\n",
    "\n",
    "# Validate data\n",
    "results = validator.validate()\n",
    "\n",
    "# Print validation results\n",
    "print(results)\n"
   ]
  }
 ],
 "metadata": {
  "kernelspec": {
   "display_name": "Python 3",
   "language": "python",
   "name": "python3"
  },
  "language_info": {
   "codemirror_mode": {
    "name": "ipython",
    "version": 3
   },
   "file_extension": ".py",
   "mimetype": "text/x-python",
   "name": "python",
   "nbconvert_exporter": "python",
   "pygments_lexer": "ipython3",
   "version": "3.10.12"
  }
 },
 "nbformat": 4,
 "nbformat_minor": 2
}
