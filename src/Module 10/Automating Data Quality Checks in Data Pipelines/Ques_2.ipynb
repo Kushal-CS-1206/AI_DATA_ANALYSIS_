{
 "cells": [
  {
   "cell_type": "markdown",
   "metadata": {},
   "source": [
    "## Automated Data Quality Monitoring\n",
    "**Objective**: Use Great Expectations to perform data profiling and write validation rules.\n",
    "\n",
    "1. Data Profiling with Great Expectations\n",
    "### Profile a CSV dataset containing customer information to inspect distribution patterns of 'Age' and 'Income' columns.\n",
    "- Load the dataset using Great Expectations and create a data context.\n",
    "- Generate a data asset to inspect the summary statistics.\n",
    "- View the generated expectation suite to analyze data distributions."
   ]
  },
  {
   "cell_type": "code",
   "execution_count": 4,
   "metadata": {},
   "outputs": [
    {
     "ename": "TypeError",
     "evalue": "batch_request must be a BatchRequest, RuntimeBatchRequest, or a fluent BatchRequest object, not <class 'dict'>",
     "output_type": "error",
     "traceback": [
      "\u001b[0;31m---------------------------------------------------------------------------\u001b[0m",
      "\u001b[0;31mTypeError\u001b[0m                                 Traceback (most recent call last)",
      "Cell \u001b[0;32mIn[4], line 47\u001b[0m\n\u001b[1;32m     44\u001b[0m     \u001b[38;5;28;01mpass\u001b[39;00m\n\u001b[1;32m     46\u001b[0m \u001b[38;5;66;03m# Get a Validator for this batch request and suite\u001b[39;00m\n\u001b[0;32m---> 47\u001b[0m validator \u001b[38;5;241m=\u001b[39m \u001b[43mcontext\u001b[49m\u001b[38;5;241;43m.\u001b[39;49m\u001b[43mget_validator\u001b[49m\u001b[43m(\u001b[49m\u001b[43mbatch_request\u001b[49m\u001b[38;5;241;43m=\u001b[39;49m\u001b[43mbatch_request\u001b[49m\u001b[43m,\u001b[49m\u001b[43m \u001b[49m\u001b[43mexpectation_suite_name\u001b[49m\u001b[38;5;241;43m=\u001b[39;49m\u001b[43msuite_name\u001b[49m\u001b[43m)\u001b[49m\n\u001b[1;32m     49\u001b[0m \u001b[38;5;66;03m# Add expectation: Date column matches regex YYYY-MM-DD\u001b[39;00m\n\u001b[1;32m     50\u001b[0m validator\u001b[38;5;241m.\u001b[39mexpect_column_values_to_match_regex(\n\u001b[1;32m     51\u001b[0m     column\u001b[38;5;241m=\u001b[39m\u001b[38;5;124m\"\u001b[39m\u001b[38;5;124mDate\u001b[39m\u001b[38;5;124m\"\u001b[39m,\n\u001b[1;32m     52\u001b[0m     regex\u001b[38;5;241m=\u001b[39m\u001b[38;5;124mr\u001b[39m\u001b[38;5;124m\"\u001b[39m\u001b[38;5;124m^\u001b[39m\u001b[38;5;124m\\\u001b[39m\u001b[38;5;124md\u001b[39m\u001b[38;5;132;01m{4}\u001b[39;00m\u001b[38;5;124m-\u001b[39m\u001b[38;5;124m\\\u001b[39m\u001b[38;5;124md\u001b[39m\u001b[38;5;132;01m{2}\u001b[39;00m\u001b[38;5;124m-\u001b[39m\u001b[38;5;124m\\\u001b[39m\u001b[38;5;124md\u001b[39m\u001b[38;5;132;01m{2}\u001b[39;00m\u001b[38;5;124m$\u001b[39m\u001b[38;5;124m\"\u001b[39m\n\u001b[1;32m     53\u001b[0m )\n",
      "File \u001b[0;32m~/.local/lib/python3.10/site-packages/great_expectations/data_context/data_context/abstract_data_context.py:2565\u001b[0m, in \u001b[0;36mAbstractDataContext.get_validator\u001b[0;34m(***failed resolving arguments***)\u001b[0m\n\u001b[1;32m   2561\u001b[0m         batch_request_list \u001b[38;5;241m=\u001b[39m [batch_request]  \u001b[38;5;66;03m# type: ignore[list-item]\u001b[39;00m\n\u001b[1;32m   2563\u001b[0m     \u001b[38;5;28;01mfor\u001b[39;00m batch_request \u001b[38;5;129;01min\u001b[39;00m batch_request_list:\n\u001b[1;32m   2564\u001b[0m         batch_list\u001b[38;5;241m.\u001b[39mextend(\n\u001b[0;32m-> 2565\u001b[0m             \u001b[38;5;28;43mself\u001b[39;49m\u001b[38;5;241;43m.\u001b[39;49m\u001b[43mget_batch_list\u001b[49m\u001b[43m(\u001b[49m\n\u001b[1;32m   2566\u001b[0m \u001b[43m                \u001b[49m\u001b[43mdatasource_name\u001b[49m\u001b[38;5;241;43m=\u001b[39;49m\u001b[43mdatasource_name\u001b[49m\u001b[43m,\u001b[49m\n\u001b[1;32m   2567\u001b[0m \u001b[43m                \u001b[49m\u001b[43mdata_connector_name\u001b[49m\u001b[38;5;241;43m=\u001b[39;49m\u001b[43mdata_connector_name\u001b[49m\u001b[43m,\u001b[49m\n\u001b[1;32m   2568\u001b[0m \u001b[43m                \u001b[49m\u001b[43mdata_asset_name\u001b[49m\u001b[38;5;241;43m=\u001b[39;49m\u001b[43mdata_asset_name\u001b[49m\u001b[43m,\u001b[49m\n\u001b[1;32m   2569\u001b[0m \u001b[43m                \u001b[49m\u001b[43mbatch_request\u001b[49m\u001b[38;5;241;43m=\u001b[39;49m\u001b[43mbatch_request\u001b[49m\u001b[43m,\u001b[49m\n\u001b[1;32m   2570\u001b[0m \u001b[43m                \u001b[49m\u001b[43mbatch_data\u001b[49m\u001b[38;5;241;43m=\u001b[39;49m\u001b[43mbatch_data\u001b[49m\u001b[43m,\u001b[49m\n\u001b[1;32m   2571\u001b[0m \u001b[43m                \u001b[49m\u001b[43mdata_connector_query\u001b[49m\u001b[38;5;241;43m=\u001b[39;49m\u001b[43mdata_connector_query\u001b[49m\u001b[43m,\u001b[49m\n\u001b[1;32m   2572\u001b[0m \u001b[43m                \u001b[49m\u001b[43mbatch_identifiers\u001b[49m\u001b[38;5;241;43m=\u001b[39;49m\u001b[43mbatch_identifiers\u001b[49m\u001b[43m,\u001b[49m\n\u001b[1;32m   2573\u001b[0m \u001b[43m                \u001b[49m\u001b[43mlimit\u001b[49m\u001b[38;5;241;43m=\u001b[39;49m\u001b[43mlimit\u001b[49m\u001b[43m,\u001b[49m\n\u001b[1;32m   2574\u001b[0m \u001b[43m                \u001b[49m\u001b[43mindex\u001b[49m\u001b[38;5;241;43m=\u001b[39;49m\u001b[43mindex\u001b[49m\u001b[43m,\u001b[49m\n\u001b[1;32m   2575\u001b[0m \u001b[43m                \u001b[49m\u001b[43mcustom_filter_function\u001b[49m\u001b[38;5;241;43m=\u001b[39;49m\u001b[43mcustom_filter_function\u001b[49m\u001b[43m,\u001b[49m\n\u001b[1;32m   2576\u001b[0m \u001b[43m                \u001b[49m\u001b[43msampling_method\u001b[49m\u001b[38;5;241;43m=\u001b[39;49m\u001b[43msampling_method\u001b[49m\u001b[43m,\u001b[49m\n\u001b[1;32m   2577\u001b[0m \u001b[43m                \u001b[49m\u001b[43msampling_kwargs\u001b[49m\u001b[38;5;241;43m=\u001b[39;49m\u001b[43msampling_kwargs\u001b[49m\u001b[43m,\u001b[49m\n\u001b[1;32m   2578\u001b[0m \u001b[43m                \u001b[49m\u001b[43msplitter_method\u001b[49m\u001b[38;5;241;43m=\u001b[39;49m\u001b[43msplitter_method\u001b[49m\u001b[43m,\u001b[49m\n\u001b[1;32m   2579\u001b[0m \u001b[43m                \u001b[49m\u001b[43msplitter_kwargs\u001b[49m\u001b[38;5;241;43m=\u001b[39;49m\u001b[43msplitter_kwargs\u001b[49m\u001b[43m,\u001b[49m\n\u001b[1;32m   2580\u001b[0m \u001b[43m                \u001b[49m\u001b[43mruntime_parameters\u001b[49m\u001b[38;5;241;43m=\u001b[39;49m\u001b[43mruntime_parameters\u001b[49m\u001b[43m,\u001b[49m\n\u001b[1;32m   2581\u001b[0m \u001b[43m                \u001b[49m\u001b[43mquery\u001b[49m\u001b[38;5;241;43m=\u001b[39;49m\u001b[43mquery\u001b[49m\u001b[43m,\u001b[49m\n\u001b[1;32m   2582\u001b[0m \u001b[43m                \u001b[49m\u001b[43mpath\u001b[49m\u001b[38;5;241;43m=\u001b[39;49m\u001b[43mpath\u001b[49m\u001b[43m,\u001b[49m\n\u001b[1;32m   2583\u001b[0m \u001b[43m                \u001b[49m\u001b[43mbatch_filter_parameters\u001b[49m\u001b[38;5;241;43m=\u001b[39;49m\u001b[43mbatch_filter_parameters\u001b[49m\u001b[43m,\u001b[49m\n\u001b[1;32m   2584\u001b[0m \u001b[43m                \u001b[49m\u001b[43mbatch_spec_passthrough\u001b[49m\u001b[38;5;241;43m=\u001b[39;49m\u001b[43mbatch_spec_passthrough\u001b[49m\u001b[43m,\u001b[49m\n\u001b[1;32m   2585\u001b[0m \u001b[43m                \u001b[49m\u001b[38;5;241;43m*\u001b[39;49m\u001b[38;5;241;43m*\u001b[39;49m\u001b[43mkwargs\u001b[49m\u001b[43m,\u001b[49m\n\u001b[1;32m   2586\u001b[0m \u001b[43m            \u001b[49m\u001b[43m)\u001b[49m\n\u001b[1;32m   2587\u001b[0m         )\n\u001b[1;32m   2589\u001b[0m \u001b[38;5;28;01mreturn\u001b[39;00m \u001b[38;5;28mself\u001b[39m\u001b[38;5;241m.\u001b[39mget_validator_using_batch_list(\n\u001b[1;32m   2590\u001b[0m     expectation_suite\u001b[38;5;241m=\u001b[39mexpectation_suite,  \u001b[38;5;66;03m# type: ignore[arg-type]\u001b[39;00m\n\u001b[1;32m   2591\u001b[0m     batch_list\u001b[38;5;241m=\u001b[39mbatch_list,\n\u001b[1;32m   2592\u001b[0m     include_rendered_content\u001b[38;5;241m=\u001b[39minclude_rendered_content,\n\u001b[1;32m   2593\u001b[0m )\n",
      "File \u001b[0;32m~/.local/lib/python3.10/site-packages/great_expectations/core/usage_statistics/usage_statistics.py:318\u001b[0m, in \u001b[0;36musage_statistics_enabled_method.<locals>.usage_statistics_wrapped_method\u001b[0;34m(*args, **kwargs)\u001b[0m\n\u001b[1;32m    315\u001b[0m         args_payload \u001b[38;5;241m=\u001b[39m args_payload_fn(\u001b[38;5;241m*\u001b[39margs, \u001b[38;5;241m*\u001b[39m\u001b[38;5;241m*\u001b[39mkwargs) \u001b[38;5;129;01mor\u001b[39;00m {}\n\u001b[1;32m    316\u001b[0m         nested_update(event_payload, args_payload)\n\u001b[0;32m--> 318\u001b[0m     result \u001b[38;5;241m=\u001b[39m \u001b[43mfunc\u001b[49m\u001b[43m(\u001b[49m\u001b[38;5;241;43m*\u001b[39;49m\u001b[43margs\u001b[49m\u001b[43m,\u001b[49m\u001b[43m \u001b[49m\u001b[38;5;241;43m*\u001b[39;49m\u001b[38;5;241;43m*\u001b[39;49m\u001b[43mkwargs\u001b[49m\u001b[43m)\u001b[49m\n\u001b[1;32m    319\u001b[0m     message[\u001b[38;5;124m\"\u001b[39m\u001b[38;5;124msuccess\u001b[39m\u001b[38;5;124m\"\u001b[39m] \u001b[38;5;241m=\u001b[39m \u001b[38;5;28;01mTrue\u001b[39;00m\n\u001b[1;32m    320\u001b[0m \u001b[38;5;28;01mexcept\u001b[39;00m \u001b[38;5;167;01mException\u001b[39;00m:\n",
      "File \u001b[0;32m~/.local/lib/python3.10/site-packages/great_expectations/data_context/data_context/abstract_data_context.py:2734\u001b[0m, in \u001b[0;36mAbstractDataContext.get_batch_list\u001b[0;34m(self, datasource_name, data_connector_name, data_asset_name, batch_request, batch_data, data_connector_query, batch_identifiers, limit, index, custom_filter_function, sampling_method, sampling_kwargs, splitter_method, splitter_kwargs, runtime_parameters, query, path, batch_filter_parameters, batch_spec_passthrough, batch_request_options, **kwargs)\u001b[0m\n\u001b[1;32m   2656\u001b[0m \u001b[38;5;129m@public_api\u001b[39m\n\u001b[1;32m   2657\u001b[0m \u001b[38;5;129m@usage_statistics_enabled_method\u001b[39m(\n\u001b[1;32m   2658\u001b[0m     event_name\u001b[38;5;241m=\u001b[39mUsageStatsEvents\u001b[38;5;241m.\u001b[39mDATA_CONTEXT_GET_BATCH_LIST,\n\u001b[0;32m   (...)\u001b[0m\n\u001b[1;32m   2683\u001b[0m     \u001b[38;5;241m*\u001b[39m\u001b[38;5;241m*\u001b[39mkwargs: Optional[\u001b[38;5;28mdict\u001b[39m],\n\u001b[1;32m   2684\u001b[0m ) \u001b[38;5;241m-\u001b[39m\u001b[38;5;241m>\u001b[39m List[Batch]:\n\u001b[1;32m   2685\u001b[0m \u001b[38;5;250m    \u001b[39m\u001b[38;5;124;03m\"\"\"Get the list of zero or more batches, based on a variety of flexible input types.\u001b[39;00m\n\u001b[1;32m   2686\u001b[0m \n\u001b[1;32m   2687\u001b[0m \u001b[38;5;124;03m    `get_batch_list` is the main user-facing API for getting batches.\u001b[39;00m\n\u001b[0;32m   (...)\u001b[0m\n\u001b[1;32m   2732\u001b[0m \n\u001b[1;32m   2733\u001b[0m \u001b[38;5;124;03m    \"\"\"\u001b[39;00m\n\u001b[0;32m-> 2734\u001b[0m     \u001b[38;5;28;01mreturn\u001b[39;00m \u001b[38;5;28;43mself\u001b[39;49m\u001b[38;5;241;43m.\u001b[39;49m\u001b[43m_get_batch_list\u001b[49m\u001b[43m(\u001b[49m\n\u001b[1;32m   2735\u001b[0m \u001b[43m        \u001b[49m\u001b[43mdatasource_name\u001b[49m\u001b[38;5;241;43m=\u001b[39;49m\u001b[43mdatasource_name\u001b[49m\u001b[43m,\u001b[49m\n\u001b[1;32m   2736\u001b[0m \u001b[43m        \u001b[49m\u001b[43mdata_connector_name\u001b[49m\u001b[38;5;241;43m=\u001b[39;49m\u001b[43mdata_connector_name\u001b[49m\u001b[43m,\u001b[49m\n\u001b[1;32m   2737\u001b[0m \u001b[43m        \u001b[49m\u001b[43mdata_asset_name\u001b[49m\u001b[38;5;241;43m=\u001b[39;49m\u001b[43mdata_asset_name\u001b[49m\u001b[43m,\u001b[49m\n\u001b[1;32m   2738\u001b[0m \u001b[43m        \u001b[49m\u001b[43mbatch_request\u001b[49m\u001b[38;5;241;43m=\u001b[39;49m\u001b[43mbatch_request\u001b[49m\u001b[43m,\u001b[49m\n\u001b[1;32m   2739\u001b[0m \u001b[43m        \u001b[49m\u001b[43mbatch_data\u001b[49m\u001b[38;5;241;43m=\u001b[39;49m\u001b[43mbatch_data\u001b[49m\u001b[43m,\u001b[49m\n\u001b[1;32m   2740\u001b[0m \u001b[43m        \u001b[49m\u001b[43mdata_connector_query\u001b[49m\u001b[38;5;241;43m=\u001b[39;49m\u001b[43mdata_connector_query\u001b[49m\u001b[43m,\u001b[49m\n\u001b[1;32m   2741\u001b[0m \u001b[43m        \u001b[49m\u001b[43mbatch_identifiers\u001b[49m\u001b[38;5;241;43m=\u001b[39;49m\u001b[43mbatch_identifiers\u001b[49m\u001b[43m,\u001b[49m\n\u001b[1;32m   2742\u001b[0m \u001b[43m        \u001b[49m\u001b[43mlimit\u001b[49m\u001b[38;5;241;43m=\u001b[39;49m\u001b[43mlimit\u001b[49m\u001b[43m,\u001b[49m\n\u001b[1;32m   2743\u001b[0m \u001b[43m        \u001b[49m\u001b[43mindex\u001b[49m\u001b[38;5;241;43m=\u001b[39;49m\u001b[43mindex\u001b[49m\u001b[43m,\u001b[49m\n\u001b[1;32m   2744\u001b[0m \u001b[43m        \u001b[49m\u001b[43mcustom_filter_function\u001b[49m\u001b[38;5;241;43m=\u001b[39;49m\u001b[43mcustom_filter_function\u001b[49m\u001b[43m,\u001b[49m\n\u001b[1;32m   2745\u001b[0m \u001b[43m        \u001b[49m\u001b[43msampling_method\u001b[49m\u001b[38;5;241;43m=\u001b[39;49m\u001b[43msampling_method\u001b[49m\u001b[43m,\u001b[49m\n\u001b[1;32m   2746\u001b[0m \u001b[43m        \u001b[49m\u001b[43msampling_kwargs\u001b[49m\u001b[38;5;241;43m=\u001b[39;49m\u001b[43msampling_kwargs\u001b[49m\u001b[43m,\u001b[49m\n\u001b[1;32m   2747\u001b[0m \u001b[43m        \u001b[49m\u001b[43msplitter_method\u001b[49m\u001b[38;5;241;43m=\u001b[39;49m\u001b[43msplitter_method\u001b[49m\u001b[43m,\u001b[49m\n\u001b[1;32m   2748\u001b[0m \u001b[43m        \u001b[49m\u001b[43msplitter_kwargs\u001b[49m\u001b[38;5;241;43m=\u001b[39;49m\u001b[43msplitter_kwargs\u001b[49m\u001b[43m,\u001b[49m\n\u001b[1;32m   2749\u001b[0m \u001b[43m        \u001b[49m\u001b[43mruntime_parameters\u001b[49m\u001b[38;5;241;43m=\u001b[39;49m\u001b[43mruntime_parameters\u001b[49m\u001b[43m,\u001b[49m\n\u001b[1;32m   2750\u001b[0m \u001b[43m        \u001b[49m\u001b[43mquery\u001b[49m\u001b[38;5;241;43m=\u001b[39;49m\u001b[43mquery\u001b[49m\u001b[43m,\u001b[49m\n\u001b[1;32m   2751\u001b[0m \u001b[43m        \u001b[49m\u001b[43mpath\u001b[49m\u001b[38;5;241;43m=\u001b[39;49m\u001b[43mpath\u001b[49m\u001b[43m,\u001b[49m\n\u001b[1;32m   2752\u001b[0m \u001b[43m        \u001b[49m\u001b[43mbatch_filter_parameters\u001b[49m\u001b[38;5;241;43m=\u001b[39;49m\u001b[43mbatch_filter_parameters\u001b[49m\u001b[43m,\u001b[49m\n\u001b[1;32m   2753\u001b[0m \u001b[43m        \u001b[49m\u001b[43mbatch_spec_passthrough\u001b[49m\u001b[38;5;241;43m=\u001b[39;49m\u001b[43mbatch_spec_passthrough\u001b[49m\u001b[43m,\u001b[49m\n\u001b[1;32m   2754\u001b[0m \u001b[43m        \u001b[49m\u001b[43mbatch_request_options\u001b[49m\u001b[38;5;241;43m=\u001b[39;49m\u001b[43mbatch_request_options\u001b[49m\u001b[43m,\u001b[49m\n\u001b[1;32m   2755\u001b[0m \u001b[43m        \u001b[49m\u001b[38;5;241;43m*\u001b[39;49m\u001b[38;5;241;43m*\u001b[39;49m\u001b[43mkwargs\u001b[49m\u001b[43m,\u001b[49m\n\u001b[1;32m   2756\u001b[0m \u001b[43m    \u001b[49m\u001b[43m)\u001b[49m\n",
      "File \u001b[0;32m~/.local/lib/python3.10/site-packages/great_expectations/data_context/data_context/abstract_data_context.py:2782\u001b[0m, in \u001b[0;36mAbstractDataContext._get_batch_list\u001b[0;34m(self, datasource_name, data_connector_name, data_asset_name, batch_request, batch_data, data_connector_query, batch_identifiers, limit, index, custom_filter_function, sampling_method, sampling_kwargs, splitter_method, splitter_kwargs, runtime_parameters, query, path, batch_filter_parameters, batch_spec_passthrough, batch_request_options, **kwargs)\u001b[0m\n\u001b[1;32m   2758\u001b[0m \u001b[38;5;28;01mdef\u001b[39;00m \u001b[38;5;21m_get_batch_list\u001b[39m(\n\u001b[1;32m   2759\u001b[0m     \u001b[38;5;28mself\u001b[39m,\n\u001b[1;32m   2760\u001b[0m     datasource_name: Optional[\u001b[38;5;28mstr\u001b[39m] \u001b[38;5;241m=\u001b[39m \u001b[38;5;28;01mNone\u001b[39;00m,\n\u001b[0;32m   (...)\u001b[0m\n\u001b[1;32m   2780\u001b[0m     \u001b[38;5;241m*\u001b[39m\u001b[38;5;241m*\u001b[39mkwargs: Optional[\u001b[38;5;28mdict\u001b[39m],\n\u001b[1;32m   2781\u001b[0m ) \u001b[38;5;241m-\u001b[39m\u001b[38;5;241m>\u001b[39m List[Batch]:\n\u001b[0;32m-> 2782\u001b[0m     result \u001b[38;5;241m=\u001b[39m \u001b[43mget_batch_request_from_acceptable_arguments\u001b[49m\u001b[43m(\u001b[49m\n\u001b[1;32m   2783\u001b[0m \u001b[43m        \u001b[49m\u001b[43mdatasource_name\u001b[49m\u001b[38;5;241;43m=\u001b[39;49m\u001b[43mdatasource_name\u001b[49m\u001b[43m,\u001b[49m\n\u001b[1;32m   2784\u001b[0m \u001b[43m        \u001b[49m\u001b[43mdata_connector_name\u001b[49m\u001b[38;5;241;43m=\u001b[39;49m\u001b[43mdata_connector_name\u001b[49m\u001b[43m,\u001b[49m\n\u001b[1;32m   2785\u001b[0m \u001b[43m        \u001b[49m\u001b[43mdata_asset_name\u001b[49m\u001b[38;5;241;43m=\u001b[39;49m\u001b[43mdata_asset_name\u001b[49m\u001b[43m,\u001b[49m\n\u001b[1;32m   2786\u001b[0m \u001b[43m        \u001b[49m\u001b[43mbatch_request\u001b[49m\u001b[38;5;241;43m=\u001b[39;49m\u001b[43mbatch_request\u001b[49m\u001b[43m,\u001b[49m\n\u001b[1;32m   2787\u001b[0m \u001b[43m        \u001b[49m\u001b[43mbatch_data\u001b[49m\u001b[38;5;241;43m=\u001b[39;49m\u001b[43mbatch_data\u001b[49m\u001b[43m,\u001b[49m\n\u001b[1;32m   2788\u001b[0m \u001b[43m        \u001b[49m\u001b[43mdata_connector_query\u001b[49m\u001b[38;5;241;43m=\u001b[39;49m\u001b[43mdata_connector_query\u001b[49m\u001b[43m,\u001b[49m\n\u001b[1;32m   2789\u001b[0m \u001b[43m        \u001b[49m\u001b[43mbatch_identifiers\u001b[49m\u001b[38;5;241;43m=\u001b[39;49m\u001b[43mbatch_identifiers\u001b[49m\u001b[43m,\u001b[49m\n\u001b[1;32m   2790\u001b[0m \u001b[43m        \u001b[49m\u001b[43mlimit\u001b[49m\u001b[38;5;241;43m=\u001b[39;49m\u001b[43mlimit\u001b[49m\u001b[43m,\u001b[49m\n\u001b[1;32m   2791\u001b[0m \u001b[43m        \u001b[49m\u001b[43mindex\u001b[49m\u001b[38;5;241;43m=\u001b[39;49m\u001b[43mindex\u001b[49m\u001b[43m,\u001b[49m\n\u001b[1;32m   2792\u001b[0m \u001b[43m        \u001b[49m\u001b[43mcustom_filter_function\u001b[49m\u001b[38;5;241;43m=\u001b[39;49m\u001b[43mcustom_filter_function\u001b[49m\u001b[43m,\u001b[49m\n\u001b[1;32m   2793\u001b[0m \u001b[43m        \u001b[49m\u001b[43msampling_method\u001b[49m\u001b[38;5;241;43m=\u001b[39;49m\u001b[43msampling_method\u001b[49m\u001b[43m,\u001b[49m\n\u001b[1;32m   2794\u001b[0m \u001b[43m        \u001b[49m\u001b[43msampling_kwargs\u001b[49m\u001b[38;5;241;43m=\u001b[39;49m\u001b[43msampling_kwargs\u001b[49m\u001b[43m,\u001b[49m\n\u001b[1;32m   2795\u001b[0m \u001b[43m        \u001b[49m\u001b[43msplitter_method\u001b[49m\u001b[38;5;241;43m=\u001b[39;49m\u001b[43msplitter_method\u001b[49m\u001b[43m,\u001b[49m\n\u001b[1;32m   2796\u001b[0m \u001b[43m        \u001b[49m\u001b[43msplitter_kwargs\u001b[49m\u001b[38;5;241;43m=\u001b[39;49m\u001b[43msplitter_kwargs\u001b[49m\u001b[43m,\u001b[49m\n\u001b[1;32m   2797\u001b[0m \u001b[43m        \u001b[49m\u001b[43mruntime_parameters\u001b[49m\u001b[38;5;241;43m=\u001b[39;49m\u001b[43mruntime_parameters\u001b[49m\u001b[43m,\u001b[49m\n\u001b[1;32m   2798\u001b[0m \u001b[43m        \u001b[49m\u001b[43mquery\u001b[49m\u001b[38;5;241;43m=\u001b[39;49m\u001b[43mquery\u001b[49m\u001b[43m,\u001b[49m\n\u001b[1;32m   2799\u001b[0m \u001b[43m        \u001b[49m\u001b[43mpath\u001b[49m\u001b[38;5;241;43m=\u001b[39;49m\u001b[43mpath\u001b[49m\u001b[43m,\u001b[49m\n\u001b[1;32m   2800\u001b[0m \u001b[43m        \u001b[49m\u001b[43mbatch_filter_parameters\u001b[49m\u001b[38;5;241;43m=\u001b[39;49m\u001b[43mbatch_filter_parameters\u001b[49m\u001b[43m,\u001b[49m\n\u001b[1;32m   2801\u001b[0m \u001b[43m        \u001b[49m\u001b[43mbatch_spec_passthrough\u001b[49m\u001b[38;5;241;43m=\u001b[39;49m\u001b[43mbatch_spec_passthrough\u001b[49m\u001b[43m,\u001b[49m\n\u001b[1;32m   2802\u001b[0m \u001b[43m        \u001b[49m\u001b[43mbatch_request_options\u001b[49m\u001b[38;5;241;43m=\u001b[39;49m\u001b[43mbatch_request_options\u001b[49m\u001b[43m,\u001b[49m\n\u001b[1;32m   2803\u001b[0m \u001b[43m        \u001b[49m\u001b[38;5;241;43m*\u001b[39;49m\u001b[38;5;241;43m*\u001b[39;49m\u001b[43mkwargs\u001b[49m\u001b[43m,\u001b[49m\n\u001b[1;32m   2804\u001b[0m \u001b[43m    \u001b[49m\u001b[43m)\u001b[49m\n\u001b[1;32m   2805\u001b[0m     datasource_name \u001b[38;5;241m=\u001b[39m result\u001b[38;5;241m.\u001b[39mdatasource_name\n\u001b[1;32m   2806\u001b[0m     \u001b[38;5;28;01mif\u001b[39;00m datasource_name \u001b[38;5;129;01mnot\u001b[39;00m \u001b[38;5;129;01min\u001b[39;00m \u001b[38;5;28mself\u001b[39m\u001b[38;5;241m.\u001b[39mdatasources:\n",
      "File \u001b[0;32m~/.local/lib/python3.10/site-packages/great_expectations/core/batch.py:1207\u001b[0m, in \u001b[0;36mget_batch_request_from_acceptable_arguments\u001b[0;34m(datasource_name, data_connector_name, data_asset_name, batch_request, batch_data, data_connector_query, batch_identifiers, limit, index, custom_filter_function, batch_spec_passthrough, sampling_method, sampling_kwargs, splitter_method, splitter_kwargs, runtime_parameters, query, path, batch_filter_parameters, batch_request_options, **kwargs)\u001b[0m\n\u001b[1;32m   1202\u001b[0m \u001b[38;5;28;01mif\u001b[39;00m batch_request:\n\u001b[1;32m   1203\u001b[0m     \u001b[38;5;28;01mif\u001b[39;00m \u001b[38;5;129;01mnot\u001b[39;00m \u001b[38;5;28misinstance\u001b[39m(\n\u001b[1;32m   1204\u001b[0m         batch_request,\n\u001b[1;32m   1205\u001b[0m         (BatchRequest, RuntimeBatchRequest, _get_fluent_batch_request_class()),\n\u001b[1;32m   1206\u001b[0m     ):\n\u001b[0;32m-> 1207\u001b[0m         \u001b[38;5;28;01mraise\u001b[39;00m \u001b[38;5;167;01mTypeError\u001b[39;00m(\n\u001b[1;32m   1208\u001b[0m             \u001b[38;5;124m\"\u001b[39m\u001b[38;5;124mbatch_request must be a BatchRequest, RuntimeBatchRequest, or a \u001b[39m\u001b[38;5;124m\"\u001b[39m\n\u001b[1;32m   1209\u001b[0m             \u001b[38;5;124mf\u001b[39m\u001b[38;5;124m\"\u001b[39m\u001b[38;5;124mfluent BatchRequest object, not \u001b[39m\u001b[38;5;132;01m{\u001b[39;00m\u001b[38;5;28mtype\u001b[39m(batch_request)\u001b[38;5;132;01m}\u001b[39;00m\u001b[38;5;124m\"\u001b[39m\n\u001b[1;32m   1210\u001b[0m         )\n\u001b[1;32m   1212\u001b[0m     \u001b[38;5;28;01mreturn\u001b[39;00m batch_request\n\u001b[1;32m   1214\u001b[0m \u001b[38;5;66;03m# try to get a runtime batch request\u001b[39;00m\n",
      "\u001b[0;31mTypeError\u001b[0m: batch_request must be a BatchRequest, RuntimeBatchRequest, or a fluent BatchRequest object, not <class 'dict'>"
     ]
    }
   ],
   "source": [
    "import pandas as pd\n",
    "import great_expectations as gx\n",
    "\n",
    "# Sample DataFrame with Date column\n",
    "df = pd.DataFrame({\n",
    "    \"Date\": [\"2023-01-01\", \"2023-02-30\", \"2023/03/15\", \"2023-04-10\", \"15-05-2023\"],\n",
    "    \"Value\": [100, 200, 150, 300, 250]\n",
    "})\n",
    "\n",
    "# Initialize in-memory (Ephemeral) Great Expectations context\n",
    "context = gx.get_context()\n",
    "\n",
    "# Create a batch request for pandas dataframe runtime batch\n",
    "batch_request = {\n",
    "    \"datasource_name\": \"pandas_datasource\",\n",
    "    \"data_connector_name\": \"default_runtime_data_connector_name\",\n",
    "    \"data_asset_name\": \"my_data_asset\",  # arbitrary name for this batch\n",
    "    \"runtime_parameters\": {\"batch_data\": df},\n",
    "    \"batch_identifiers\": {\"default_identifier_name\": \"default_identifier\"},\n",
    "}\n",
    "\n",
    "# Add a Pandas datasource (Fluent API)\n",
    "try:\n",
    "    context.add_datasource(\n",
    "        name=\"pandas_datasource\",\n",
    "        class_name=\"Datasource\",\n",
    "        execution_engine={\"class_name\": \"PandasExecutionEngine\"},\n",
    "        data_connectors={\n",
    "            \"default_runtime_data_connector_name\": {\n",
    "                \"class_name\": \"RuntimeDataConnector\",\n",
    "                \"batch_identifiers\": [\"default_identifier_name\"],\n",
    "            }\n",
    "        },\n",
    "    )\n",
    "except Exception:\n",
    "    # If datasource already exists, ignore error\n",
    "    pass\n",
    "\n",
    "# Create or get expectation suite\n",
    "suite_name = \"date_validation_suite\"\n",
    "try:\n",
    "    context.create_expectation_suite(suite_name, overwrite_existing=True)\n",
    "except Exception:\n",
    "    pass\n",
    "\n",
    "# Get a Validator for this batch request and suite\n",
    "validator = context.get_validator(batch_request=batch_request, expectation_suite_name=suite_name)\n",
    "\n",
    "# Add expectation: Date column matches regex YYYY-MM-DD\n",
    "validator.expect_column_values_to_match_regex(\n",
    "    column=\"Date\",\n",
    "    regex=r\"^\\d{4}-\\d{2}-\\d{2}$\"\n",
    ")\n",
    "\n",
    "# Validate and get results\n",
    "validation_results = validator.validate()\n",
    "\n",
    "# Print summary of validation results\n",
    "print(validation_results)\n",
    "\n",
    "# Optionally, show detailed result for the 'Date' column expectation\n",
    "for result in validation_results['results']:\n",
    "    if result['expectation_config']['expectation_type'] == \"expect_column_values_to_match_regex\":\n",
    "        print(result)"
   ]
  },
  {
   "cell_type": "markdown",
   "metadata": {},
   "source": [
    "2. Writing Validation Rules for Data Ingestion\n",
    "### Write validation rules for a CSV file to ensure the 'Date' column follows a specific date format.\n",
    "- Utilize expect_column_values_to_match_regex to enforce date format validation.\n",
    "- Run the validation and interpret the output."
   ]
  },
  {
   "cell_type": "code",
   "execution_count": null,
   "metadata": {},
   "outputs": [
    {
     "data": {
      "application/vnd.jupyter.widget-view+json": {
       "model_id": "dc2b2e5e33b5447b8ac4cd72194ef8eb",
       "version_major": 2,
       "version_minor": 0
      },
      "text/plain": [
       "Calculating Metrics:   0%|          | 0/8 [00:00<?, ?it/s]"
      ]
     },
     "metadata": {},
     "output_type": "display_data"
    },
    {
     "data": {
      "application/vnd.jupyter.widget-view+json": {
       "model_id": "7e6eb8deca7b4b5c8b77c7e37598e4dd",
       "version_major": 2,
       "version_minor": 0
      },
      "text/plain": [
       "Calculating Metrics:   0%|          | 0/8 [00:00<?, ?it/s]"
      ]
     },
     "metadata": {},
     "output_type": "display_data"
    },
    {
     "name": "stdout",
     "output_type": "stream",
     "text": [
      "{\n",
      "  \"success\": false,\n",
      "  \"results\": [\n",
      "    {\n",
      "      \"success\": false,\n",
      "      \"expectation_config\": {\n",
      "        \"expectation_type\": \"expect_column_values_to_match_regex\",\n",
      "        \"kwargs\": {\n",
      "          \"column\": \"Date\",\n",
      "          \"regex\": \"^\\\\d{4}-\\\\d{2}-\\\\d{2}$\",\n",
      "          \"batch_id\": \"pandas_src-date_data\"\n",
      "        },\n",
      "        \"meta\": {}\n",
      "      },\n",
      "      \"result\": {\n",
      "        \"element_count\": 5,\n",
      "        \"unexpected_count\": 2,\n",
      "        \"unexpected_percent\": 40.0,\n",
      "        \"partial_unexpected_list\": [\n",
      "          \"2023/03/15\",\n",
      "          \"15-05-2023\"\n",
      "        ],\n",
      "        \"missing_count\": 0,\n",
      "        \"missing_percent\": 0.0,\n",
      "        \"unexpected_percent_total\": 40.0,\n",
      "        \"unexpected_percent_nonmissing\": 40.0\n",
      "      },\n",
      "      \"meta\": {},\n",
      "      \"exception_info\": {\n",
      "        \"raised_exception\": false,\n",
      "        \"exception_traceback\": null,\n",
      "        \"exception_message\": null\n",
      "      }\n",
      "    }\n",
      "  ],\n",
      "  \"evaluation_parameters\": {},\n",
      "  \"statistics\": {\n",
      "    \"evaluated_expectations\": 1,\n",
      "    \"successful_expectations\": 0,\n",
      "    \"unsuccessful_expectations\": 1,\n",
      "    \"success_percent\": 0.0\n",
      "  },\n",
      "  \"meta\": {\n",
      "    \"great_expectations_version\": \"0.16.15\",\n",
      "    \"expectation_suite_name\": \"date_validation_suite\",\n",
      "    \"run_id\": {\n",
      "      \"run_name\": null,\n",
      "      \"run_time\": \"2025-05-20T15:50:12.273724+00:00\"\n",
      "    },\n",
      "    \"batch_spec\": {\n",
      "      \"batch_data\": \"PandasDataFrame\"\n",
      "    },\n",
      "    \"batch_markers\": {\n",
      "      \"ge_load_time\": \"20250520T155012.188113Z\",\n",
      "      \"pandas_data_fingerprint\": \"27f104a82f0854eaa858431d40deb2e6\"\n",
      "    },\n",
      "    \"active_batch_definition\": {\n",
      "      \"datasource_name\": \"pandas_src\",\n",
      "      \"data_connector_name\": \"fluent\",\n",
      "      \"data_asset_name\": \"date_data\",\n",
      "      \"batch_identifiers\": {}\n",
      "    },\n",
      "    \"validation_time\": \"20250520T155012.273665Z\",\n",
      "    \"checkpoint_name\": null\n",
      "  }\n",
      "}\n"
     ]
    }
   ],
   "source": [
    "# write your code fro\n",
    "import pandas as pd\n",
    "import great_expectations as gx\n",
    "\n",
    "# Sample dataset with Date column\n",
    "df = pd.DataFrame({\n",
    "    \"Date\": [\"2023-01-01\", \"2023-02-30\", \"2023/03/15\", \"2023-04-10\", \"15-05-2023\"],\n",
    "    \"Value\": [100, 200, 150, 300, 250]\n",
    "})\n",
    "\n",
    "# Create Great Expectations context\n",
    "context = gx.get_context()\n",
    "\n",
    "# Add Pandas datasource and DataFrame asset\n",
    "datasource = context.sources.add_pandas(name=\"pandas_src\")\n",
    "data_asset = datasource.add_dataframe_asset(name=\"date_data\", dataframe=df)\n",
    "\n",
    "# Create or get expectation suite\n",
    "expectation_suite = context.create_expectation_suite(\"date_validation_suite\", overwrite_existing=True)\n",
    "\n",
    "# Get validator\n",
    "validator = context.get_validator(\n",
    "    batch_request=data_asset.build_batch_request(),\n",
    "    expectation_suite=expectation_suite,\n",
    ")\n",
    "\n",
    "# Add expectation for Date column format YYYY-MM-DD\n",
    "validator.expect_column_values_to_match_regex(\n",
    "    column=\"Date\",\n",
    "    regex=r\"^\\d{4}-\\d{2}-\\d{2}$\"\n",
    ")\n",
    "\n",
    "# Validate data\n",
    "results = validator.validate()\n",
    "\n",
    "# Print validation results\n",
    "print(results)\n"
   ]
  }
 ],
 "metadata": {
  "kernelspec": {
   "display_name": "Python 3",
   "language": "python",
   "name": "python3"
  },
  "language_info": {
   "codemirror_mode": {
    "name": "ipython",
    "version": 3
   },
   "file_extension": ".py",
   "mimetype": "text/x-python",
   "name": "python",
   "nbconvert_exporter": "python",
   "pygments_lexer": "ipython3",
   "version": "3.10.12"
  }
 },
 "nbformat": 4,
 "nbformat_minor": 2
}
