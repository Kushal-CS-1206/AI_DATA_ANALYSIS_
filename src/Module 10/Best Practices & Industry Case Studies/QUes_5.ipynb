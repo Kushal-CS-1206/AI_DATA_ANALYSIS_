{
 "cells": [
  {
   "cell_type": "markdown",
   "metadata": {},
   "source": [
    "### Implementing Basic Data Validation with Great Expectations\n",
    "**Description**: Set up a simple data validation using Great Expectations to check the completeness of a dataset.\n",
    "\n",
    "**Steps**:\n",
    "1. Installation\n",
    "2. Initialize Great Expectations\n",
    "3. Create a Data Context in Python\n",
    "4. Create an Expectation Suite\n",
    "5. Load Sample Data and Validate Completeness\n",
    "6. Run Validations"
   ]
  },
  {
   "cell_type": "code",
   "execution_count": 2,
   "metadata": {},
   "outputs": [
    {
     "data": {
      "application/vnd.jupyter.widget-view+json": {
       "model_id": "4f9af573079f40509b5f7302ab01f77d",
       "version_major": 2,
       "version_minor": 0
      },
      "text/plain": [
       "Calculating Metrics:   0%|          | 0/6 [00:00<?, ?it/s]"
      ]
     },
     "metadata": {},
     "output_type": "display_data"
    },
    {
     "data": {
      "application/vnd.jupyter.widget-view+json": {
       "model_id": "b7dc856fc22e494f88fd77200f0ae822",
       "version_major": 2,
       "version_minor": 0
      },
      "text/plain": [
       "Calculating Metrics:   0%|          | 0/6 [00:00<?, ?it/s]"
      ]
     },
     "metadata": {},
     "output_type": "display_data"
    },
    {
     "data": {
      "application/vnd.jupyter.widget-view+json": {
       "model_id": "7d6cffb282e141888af9bd9d0c435941",
       "version_major": 2,
       "version_minor": 0
      },
      "text/plain": [
       "Calculating Metrics:   0%|          | 0/6 [00:00<?, ?it/s]"
      ]
     },
     "metadata": {},
     "output_type": "display_data"
    },
    {
     "data": {
      "application/vnd.jupyter.widget-view+json": {
       "model_id": "b75a8e6981144434bc5a34382436bd0f",
       "version_major": 2,
       "version_minor": 0
      },
      "text/plain": [
       "Calculating Metrics: 0it [00:00, ?it/s]"
      ]
     },
     "metadata": {},
     "output_type": "display_data"
    },
    {
     "data": {
      "text/plain": [
       "True"
      ]
     },
     "execution_count": 2,
     "metadata": {},
     "output_type": "execute_result"
    }
   ],
   "source": [
    "import pandas as pd\n",
    "import great_expectations as gx\n",
    "\n",
    "df = pd.DataFrame({\n",
    "    \"id\": range(1, 101),\n",
    "    \"name\": [\"Name\"] * 95 + [None] * 5,\n",
    "    \"score\": list(range(50, 150))\n",
    "})\n",
    "\n",
    "context = gx.get_context()\n",
    "suite = context.add_or_update_expectation_suite(\"completeness_suite\")\n",
    "validator = context.sources.pandas_default.read_dataframe(df, \"completeness_check\")\n",
    "validator.expect_column_values_to_not_be_null(\"id\")\n",
    "validator.expect_column_values_to_not_be_null(\"name\")\n",
    "validator.expect_column_values_to_not_be_null(\"score\")\n",
    "results = validator.validate(expectation_suite=suite)\n",
    "results.success\n",
    "#\n",
    "\n",
    "\n",
    "\n",
    "\n",
    "\n",
    "\n",
    "\n",
    "\n"
   ]
  }
 ],
 "metadata": {
  "kernelspec": {
   "display_name": "Python 3",
   "language": "python",
   "name": "python3"
  },
  "language_info": {
   "codemirror_mode": {
    "name": "ipython",
    "version": 3
   },
   "file_extension": ".py",
   "mimetype": "text/x-python",
   "name": "python",
   "nbconvert_exporter": "python",
   "pygments_lexer": "ipython3",
   "version": "3.10.12"
  }
 },
 "nbformat": 4,
 "nbformat_minor": 2
}
