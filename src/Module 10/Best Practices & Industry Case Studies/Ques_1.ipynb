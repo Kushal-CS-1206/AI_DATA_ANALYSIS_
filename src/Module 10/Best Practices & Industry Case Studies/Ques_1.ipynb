{
 "cells": [
  {
   "cell_type": "markdown",
   "metadata": {},
   "source": [
    "## Defining Data Quality SLAs\n",
    "### Data Completeness\n",
    "**Description**: Set an SLA that ensures that 95% of data fields in your dataset are filled (non-null values). Practice by checking a dataset of your choice and calculate its completeness."
   ]
  },
  {
   "cell_type": "code",
   "execution_count": 1,
   "metadata": {},
   "outputs": [
    {
     "data": {
      "text/plain": [
       "(85.0, False)"
      ]
     },
     "execution_count": 1,
     "metadata": {},
     "output_type": "execute_result"
    }
   ],
   "source": [
    "import pandas as pd\n",
    "\n",
    "data = {\n",
    "    \"customer_id\": [1, 2, 3, 4, 5],\n",
    "    \"name\": [\"Alice\", \"Bob\", None, \"David\", \"Eve\"],\n",
    "    \"email\": [\"a@example.com\", None, \"c@example.com\", \"d@example.com\", \"e@example.com\"],\n",
    "    \"age\": [25, 30, 22, None, 29]\n",
    "}\n",
    "\n",
    "df = pd.DataFrame(data)\n",
    "\n",
    "total_values = df.size\n",
    "non_null_values = df.count().sum()\n",
    "completeness_percentage = (non_null_values / total_values) * 100\n",
    "\n",
    "sla_pass = completeness_percentage >= 95\n",
    "\n",
    "completeness_percentage, sla_pass\n"
   ]
  },
  {
   "cell_type": "markdown",
   "metadata": {},
   "source": [
    "### Data Timeliness:\n",
    "**Description**: Establish an SLA that specifies that data should be integrated and processed within 24 hours of acquisition. Monitor the data pipeline for timeliness."
   ]
  },
  {
   "cell_type": "code",
   "execution_count": 2,
   "metadata": {},
   "outputs": [
    {
     "data": {
      "text/plain": [
       "(   record_id  processing_delay  sla_met\n",
       " 0          1               5.0     True\n",
       " 1          2               5.0     True\n",
       " 2          3               1.0     True\n",
       " 3          4               2.0     True,\n",
       " 100.0)"
      ]
     },
     "execution_count": 2,
     "metadata": {},
     "output_type": "execute_result"
    }
   ],
   "source": [
    "import pandas as pd\n",
    "from datetime import datetime, timedelta\n",
    "\n",
    "data = {\n",
    "    \"record_id\": [1, 2, 3, 4],\n",
    "    \"acquisition_time\": [\n",
    "        datetime.now() - timedelta(hours=10),\n",
    "        datetime.now() - timedelta(hours=25),\n",
    "        datetime.now() - timedelta(hours=3),\n",
    "        datetime.now() - timedelta(hours=27)\n",
    "    ],\n",
    "    \"processing_time\": [\n",
    "        datetime.now() - timedelta(hours=5),\n",
    "        datetime.now() - timedelta(hours=20),\n",
    "        datetime.now() - timedelta(hours=2),\n",
    "        datetime.now() - timedelta(hours=25)\n",
    "    ]\n",
    "}\n",
    "\n",
    "df = pd.DataFrame(data)\n",
    "\n",
    "df[\"processing_delay\"] = (df[\"processing_time\"] - df[\"acquisition_time\"]).dt.total_seconds() / 3600\n",
    "df[\"sla_met\"] = df[\"processing_delay\"] <= 24\n",
    "\n",
    "sla_compliance = df[\"sla_met\"].mean() * 100\n",
    "\n",
    "df[[\"record_id\", \"processing_delay\", \"sla_met\"]], sla_compliance\n"
   ]
  },
  {
   "cell_type": "markdown",
   "metadata": {},
   "source": [
    "### Data Consistency:\n",
    "**Description**: Define an SLA for maintaining consistency across various related datasets. Implement a check to ensure that 99% of data entries are consistent."
   ]
  },
  {
   "cell_type": "code",
   "execution_count": 3,
   "metadata": {},
   "outputs": [
    {
     "data": {
      "text/plain": [
       "(   order_id  customer_id  is_consistent\n",
       " 0       101            1           True\n",
       " 1       102            2           True\n",
       " 2       103            3           True\n",
       " 3       104            4           True\n",
       " 4       105            5          False,\n",
       " 80.0)"
      ]
     },
     "execution_count": 3,
     "metadata": {},
     "output_type": "execute_result"
    }
   ],
   "source": [
    "import pandas as pd\n",
    "\n",
    "orders = pd.DataFrame({\n",
    "    \"order_id\": [101, 102, 103, 104, 105],\n",
    "    \"customer_id\": [1, 2, 3, 4, 5]\n",
    "})\n",
    "\n",
    "customers = pd.DataFrame({\n",
    "    \"customer_id\": [1, 2, 3, 4],\n",
    "    \"name\": [\"Alice\", \"Bob\", \"Charlie\", \"David\"]\n",
    "})\n",
    "\n",
    "orders[\"is_consistent\"] = orders[\"customer_id\"].isin(customers[\"customer_id\"])\n",
    "consistency_rate = orders[\"is_consistent\"].mean() * 100\n",
    "\n",
    "orders, consistency_rate\n"
   ]
  }
 ],
 "metadata": {
  "kernelspec": {
   "display_name": "Python 3",
   "language": "python",
   "name": "python3"
  },
  "language_info": {
   "codemirror_mode": {
    "name": "ipython",
    "version": 3
   },
   "file_extension": ".py",
   "mimetype": "text/x-python",
   "name": "python",
   "nbconvert_exporter": "python",
   "pygments_lexer": "ipython3",
   "version": "3.10.12"
  }
 },
 "nbformat": 4,
 "nbformat_minor": 2
}
