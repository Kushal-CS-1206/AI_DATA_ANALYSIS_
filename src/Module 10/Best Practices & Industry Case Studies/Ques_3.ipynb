{
 "cells": [
  {
   "cell_type": "markdown",
   "metadata": {},
   "source": [
    "## Real-World Case Studies\n",
    "\n",
    "### Finance - Fraud Detection Models:\n",
    "**Description**: Analyze a financial dataset, define SLAs for data accuracy and\n",
    "completeness, and ensure high data quality for fraud detection models."
   ]
  },
  {
   "cell_type": "code",
   "execution_count": 1,
   "metadata": {},
   "outputs": [
    {
     "data": {
      "text/plain": [
       "(True, True)"
      ]
     },
     "execution_count": 1,
     "metadata": {},
     "output_type": "execute_result"
    }
   ],
   "source": [
    "import pandas as pd\n",
    "import numpy as np\n",
    "from sklearn.ensemble import IsolationForest\n",
    "\n",
    "data = pd.DataFrame({\n",
    "    \"transaction_id\": range(1, 1001),\n",
    "    \"amount\": np.append(np.random.normal(100, 20, 980), np.random.normal(1000, 100, 20)),\n",
    "    \"account_age_days\": np.random.randint(30, 1000, size=1000),\n",
    "    \"is_fraud\": [0]*980 + [1]*20\n",
    "})\n",
    "\n",
    "completeness = data.notnull().mean().mean() * 100\n",
    "accuracy_sla = 99\n",
    "completeness_sla = 95\n",
    "\n",
    "model = IsolationForest(contamination=0.02, random_state=42)\n",
    "data[\"anomaly\"] = model.fit_predict(data[[\"amount\", \"account_age_days\"]])\n",
    "data[\"anomaly\"] = data[\"anomaly\"].map({1: 0, -1: 1})\n",
    "\n",
    "completeness_pass = completeness >= completeness_sla\n",
    "accuracy_pass = (data[\"anomaly\"] == data[\"is_fraud\"]).mean() * 100 >= accuracy_sla\n",
    "\n",
    "(completeness_pass, accuracy_pass)\n"
   ]
  }
 ],
 "metadata": {
  "kernelspec": {
   "display_name": "Python 3",
   "language": "python",
   "name": "python3"
  },
  "language_info": {
   "codemirror_mode": {
    "name": "ipython",
    "version": 3
   },
   "file_extension": ".py",
   "mimetype": "text/x-python",
   "name": "python",
   "nbconvert_exporter": "python",
   "pygments_lexer": "ipython3",
   "version": "3.10.12"
  }
 },
 "nbformat": 4,
 "nbformat_minor": 2
}
