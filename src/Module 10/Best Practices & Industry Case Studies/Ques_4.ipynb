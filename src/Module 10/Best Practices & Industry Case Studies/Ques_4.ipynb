{
 "cells": [
  {
   "cell_type": "markdown",
   "metadata": {},
   "source": [
    "## Real-World Case Studies\n",
    "\n",
    "### Healthcare - Medical Prediction Errors:\n",
    "**Description**: Implement validation rules using a healthcare dataset to reduce errors in\n",
    "predictive models by automating data quality checks."
   ]
  },
  {
   "cell_type": "code",
   "execution_count": 1,
   "metadata": {},
   "outputs": [
    {
     "data": {
      "application/vnd.jupyter.widget-view+json": {
       "model_id": "3a891ce817bb40f98f2b49c36f06af5a",
       "version_major": 2,
       "version_minor": 0
      },
      "text/plain": [
       "Calculating Metrics:   0%|          | 0/6 [00:00<?, ?it/s]"
      ]
     },
     "metadata": {},
     "output_type": "display_data"
    },
    {
     "data": {
      "application/vnd.jupyter.widget-view+json": {
       "model_id": "bdcaa54d38574f63aecc516e645e2fad",
       "version_major": 2,
       "version_minor": 0
      },
      "text/plain": [
       "Calculating Metrics:   0%|          | 0/6 [00:00<?, ?it/s]"
      ]
     },
     "metadata": {},
     "output_type": "display_data"
    },
    {
     "data": {
      "application/vnd.jupyter.widget-view+json": {
       "model_id": "4ec0072145be4861a88414184610df3b",
       "version_major": 2,
       "version_minor": 0
      },
      "text/plain": [
       "Calculating Metrics:   0%|          | 0/8 [00:00<?, ?it/s]"
      ]
     },
     "metadata": {},
     "output_type": "display_data"
    },
    {
     "data": {
      "application/vnd.jupyter.widget-view+json": {
       "model_id": "89a93c1d3c7049a3bc54f5f403c2ffaf",
       "version_major": 2,
       "version_minor": 0
      },
      "text/plain": [
       "Calculating Metrics:   0%|          | 0/8 [00:00<?, ?it/s]"
      ]
     },
     "metadata": {},
     "output_type": "display_data"
    },
    {
     "data": {
      "application/vnd.jupyter.widget-view+json": {
       "model_id": "c98608767ecb468eadce6e40bf796a34",
       "version_major": 2,
       "version_minor": 0
      },
      "text/plain": [
       "Calculating Metrics:   0%|          | 0/8 [00:00<?, ?it/s]"
      ]
     },
     "metadata": {},
     "output_type": "display_data"
    },
    {
     "data": {
      "application/vnd.jupyter.widget-view+json": {
       "model_id": "72e29c9c6cf44b45b591114f602e7398",
       "version_major": 2,
       "version_minor": 0
      },
      "text/plain": [
       "Calculating Metrics: 0it [00:00, ?it/s]"
      ]
     },
     "metadata": {},
     "output_type": "display_data"
    },
    {
     "data": {
      "text/plain": [
       "True"
      ]
     },
     "execution_count": 1,
     "metadata": {},
     "output_type": "execute_result"
    }
   ],
   "source": [
    "import pandas as pd\n",
    "import numpy as np\n",
    "import great_expectations as gx\n",
    "\n",
    "df = pd.DataFrame({\n",
    "    \"patient_id\": range(1, 501),\n",
    "    \"age\": np.append(np.random.randint(0, 100, size=490), [None]*10),\n",
    "    \"blood_pressure\": np.append(np.random.randint(80, 180, size=495), [None]*5),\n",
    "    \"diagnosis\": np.append(np.random.choice([\"A\", \"B\", \"C\"], size=498), [None]*2)\n",
    "})\n",
    "\n",
    "context = gx.get_context()\n",
    "suite = context.add_or_update_expectation_suite(expectation_suite_name=\"healthcare_suite\")\n",
    "validator = context.sources.pandas_default.read_dataframe(df, \"medical_data\")\n",
    "validator.expect_column_values_to_not_be_null(\"patient_id\")\n",
    "validator.expect_column_values_to_not_be_null(\"age\")\n",
    "validator.expect_column_values_to_be_between(\"age\", 0, 120)\n",
    "validator.expect_column_values_to_be_between(\"blood_pressure\", 60, 200)\n",
    "validator.expect_column_values_to_be_in_set(\"diagnosis\", [\"A\", \"B\", \"C\"])\n",
    "results = validator.validate(expectation_suite=suite)\n",
    "results.success\n",
    "\n",
    "\n",
    "\n",
    "\n",
    "\n",
    "\n",
    "\n"
   ]
  }
 ],
 "metadata": {
  "kernelspec": {
   "display_name": "Python 3",
   "language": "python",
   "name": "python3"
  },
  "language_info": {
   "codemirror_mode": {
    "name": "ipython",
    "version": 3
   },
   "file_extension": ".py",
   "mimetype": "text/x-python",
   "name": "python",
   "nbconvert_exporter": "python",
   "pygments_lexer": "ipython3",
   "version": "3.10.12"
  }
 },
 "nbformat": 4,
 "nbformat_minor": 2
}
