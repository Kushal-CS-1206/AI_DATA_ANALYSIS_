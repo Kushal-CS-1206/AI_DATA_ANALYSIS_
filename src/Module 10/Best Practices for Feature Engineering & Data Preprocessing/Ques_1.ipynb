{
 "cells": [
  {
   "cell_type": "markdown",
   "metadata": {},
   "source": [
    "### Task 1: Handling Missing Values - Simple Imputation\n",
    "**Description**: Given a dataset with missing values, impute the missing values using the mean for numerical features and the mode for categorical features."
   ]
  },
  {
   "cell_type": "code",
   "execution_count": 3,
   "metadata": {},
   "outputs": [
    {
     "name": "stdout",
     "output_type": "stream",
     "text": [
      "     Age   Income  Gender\n",
      "0  25.00  50000.0    Male\n",
      "1  30.00  55000.0  Female\n",
      "2  29.25  60000.0  Female\n",
      "3  22.00  58000.0  Female\n",
      "4  29.25  52000.0    Male\n",
      "5  40.00  55000.0  Female\n"
     ]
    }
   ],
   "source": [
    "import pandas as pd\n",
    "import numpy as np\n",
    "from sklearn.impute import SimpleImputer\n",
    "\n",
    "# Sample dataset with missing values\n",
    "data = {\n",
    "    \"Age\": [25, 30, None, 22, None, 40],\n",
    "    \"Income\": [50000, None, 60000, 58000, 52000, None],\n",
    "    \"Gender\": [\"Male\", \"Female\", None, \"Female\", \"Male\", None],\n",
    "}\n",
    "\n",
    "df = pd.DataFrame(data)\n",
    "\n",
    "# Replace None with np.nan for proper handling\n",
    "df[\"Gender\"] = df[\"Gender\"].replace({None: np.nan})\n",
    "\n",
    "# Convert columns to proper dtype before imputing\n",
    "df[\"Age\"] = pd.to_numeric(df[\"Age\"], errors=\"coerce\")\n",
    "df[\"Income\"] = pd.to_numeric(df[\"Income\"], errors=\"coerce\")\n",
    "\n",
    "# Impute numerical columns with mean\n",
    "num_imputer = SimpleImputer(strategy=\"mean\")\n",
    "df[[\"Age\", \"Income\"]] = num_imputer.fit_transform(df[[\"Age\", \"Income\"]])\n",
    "\n",
    "# Impute categorical columns with mode\n",
    "cat_imputer = SimpleImputer(strategy=\"most_frequent\")\n",
    "df[[\"Gender\"]] = cat_imputer.fit_transform(df[[\"Gender\"]])\n",
    "\n",
    "print(df)"
   ]
  },
  {
   "cell_type": "markdown",
   "metadata": {},
   "source": [
    "### Task 2: Feature Scaling - Min-Max Normalization\n",
    "**Description**: Normalize a numerical feature using Min-Max scaling to a range [0, 1]."
   ]
  },
  {
   "cell_type": "code",
   "execution_count": 4,
   "metadata": {},
   "outputs": [
    {
     "name": "stdout",
     "output_type": "stream",
     "text": [
      "   Age  Age_normalized\n",
      "0   25        0.166667\n",
      "1   30        0.444444\n",
      "2   22        0.000000\n",
      "3   40        1.000000\n",
      "4   28        0.333333\n",
      "5   35        0.722222\n"
     ]
    }
   ],
   "source": [
    "# write your code from here\n",
    "import pandas as pd\n",
    "from sklearn.preprocessing import MinMaxScaler\n",
    "\n",
    "# Sample data\n",
    "data = {\n",
    "    \"Age\": [25, 30, 22, 40, 28, 35]\n",
    "}\n",
    "df = pd.DataFrame(data)\n",
    "\n",
    "# Initialize MinMaxScaler to scale features between 0 and 1\n",
    "scaler = MinMaxScaler()\n",
    "\n",
    "# Fit and transform the \"Age\" column\n",
    "df[\"Age_normalized\"] = scaler.fit_transform(df[[\"Age\"]])\n",
    "\n",
    "print(df)\n"
   ]
  },
  {
   "cell_type": "markdown",
   "metadata": {},
   "source": [
    "### Task 3: Handling Missing Values - Drop Missing Values\n",
    "**Description**: Remove rows with missing values from a dataset."
   ]
  },
  {
   "cell_type": "code",
   "execution_count": 5,
   "metadata": {},
   "outputs": [
    {
     "name": "stdout",
     "output_type": "stream",
     "text": [
      "    Name   Age Gender\n",
      "0  Alice  25.0      F\n",
      "3  David  22.0      M\n"
     ]
    }
   ],
   "source": [
    "import pandas as pd\n",
    "import numpy as np\n",
    "\n",
    "# Sample data with missing values\n",
    "data = {\n",
    "    \"Name\": [\"Alice\", \"Bob\", \"Charlie\", \"David\", \"Eva\"],\n",
    "    \"Age\": [25, np.nan, 30, 22, np.nan],\n",
    "    \"Gender\": [\"F\", \"M\", None, \"M\", \"F\"]\n",
    "}\n",
    "df = pd.DataFrame(data)\n",
    "\n",
    "# Drop rows with any missing values\n",
    "df_cleaned = df.dropna()\n",
    "\n",
    "print(df_cleaned)"
   ]
  },
  {
   "cell_type": "markdown",
   "metadata": {},
   "source": [
    "### Task 4: Feature Scaling - Standardization\n",
    "**Description**: Standardize a numerical feature to have zero mean and unit variance."
   ]
  },
  {
   "cell_type": "code",
   "execution_count": 6,
   "metadata": {},
   "outputs": [
    {
     "name": "stdout",
     "output_type": "stream",
     "text": [
      "   Age  Age_standardized\n",
      "0   25         -0.677631\n",
      "1   30          0.451754\n",
      "2   22         -1.355262\n",
      "3   35          1.581139\n",
      "4   28          0.000000\n"
     ]
    }
   ],
   "source": [
    "# write your code from here\n",
    "\n",
    "import pandas as pd\n",
    "import numpy as np\n",
    "from sklearn.preprocessing import StandardScaler\n",
    "\n",
    "# Sample data\n",
    "data = {\n",
    "    \"Age\": [25, 30, 22, 35, 28]\n",
    "}\n",
    "df = pd.DataFrame(data)\n",
    "\n",
    "# Standardize the 'Age' column\n",
    "scaler = StandardScaler()\n",
    "df[\"Age_standardized\"] = scaler.fit_transform(df[[\"Age\"]])\n",
    "\n",
    "print(df)"
   ]
  }
 ],
 "metadata": {
  "kernelspec": {
   "display_name": "Python 3",
   "language": "python",
   "name": "python3"
  },
  "language_info": {
   "codemirror_mode": {
    "name": "ipython",
    "version": 3
   },
   "file_extension": ".py",
   "mimetype": "text/x-python",
   "name": "python",
   "nbconvert_exporter": "python",
   "pygments_lexer": "ipython3",
   "version": "3.10.12"
  }
 },
 "nbformat": 4,
 "nbformat_minor": 2
}
