{
 "cells": [
  {
   "cell_type": "markdown",
   "metadata": {},
   "source": [
    "### Ensuring Feature Consistency Between Training & InferencePipelines:\n",
    "\n",
    "**Task 1**: Consistent Feature Preparation\n",
    "- Step 1: Write a function for data preprocessing and imputation shared by both training and inference pipelines.\n",
    "- Step 2: Demonstrate consistent application on both datasets."
   ]
  },
  {
   "cell_type": "code",
   "execution_count": 5,
   "metadata": {},
   "outputs": [
    {
     "data": {
      "text/plain": [
       "(         age gender\n",
       " 0  25.000000      M\n",
       " 1  33.333333      F\n",
       " 2  35.000000   None\n",
       " 3  40.000000      F,\n",
       "          age gender\n",
       " 0  30.000000      F\n",
       " 1  33.333333   None)"
      ]
     },
     "execution_count": 5,
     "metadata": {},
     "output_type": "execute_result"
    }
   ],
   "source": [
    "import pandas as pd\n",
    "from sklearn.impute import SimpleImputer\n",
    "\n",
    "def preprocess_data(df, num_imputer=None, cat_imputer=None):\n",
    "    num_cols = df.select_dtypes(include=[\"float64\", \"int64\"]).columns\n",
    "    cat_cols = df.select_dtypes(include=[\"object\"]).columns\n",
    "    if num_imputer is None:\n",
    "        num_imputer = SimpleImputer(strategy=\"mean\")\n",
    "        df[num_cols] = num_imputer.fit_transform(df[num_cols])\n",
    "    else:\n",
    "        df[num_cols] = num_imputer.transform(df[num_cols])\n",
    "    if cat_imputer is None:\n",
    "        cat_imputer = SimpleImputer(strategy=\"most_frequent\")\n",
    "        df[cat_cols] = cat_imputer.fit_transform(df[cat_cols])\n",
    "    else:\n",
    "        df[cat_cols] = cat_imputer.transform(df[cat_cols])\n",
    "    return df, num_imputer, cat_imputer\n",
    "\n",
    "train_df = pd.DataFrame({\n",
    "    \"age\": [25, None, 35, 40],\n",
    "    \"gender\": [\"M\", \"F\", None, \"F\"]\n",
    "})\n",
    "\n",
    "test_df = pd.DataFrame({\n",
    "    \"age\": [30, None],\n",
    "    \"gender\": [\"F\", None]\n",
    "})\n",
    "\n",
    "train_processed, num_imp, cat_imp = preprocess_data(train_df.copy())\n",
    "test_processed, _, _ = preprocess_data(test_df.copy(), num_imputer=num_imp, cat_imputer=cat_imp)\n",
    "\n",
    "(train_processed, test_processed)"
   ]
  },
  {
   "cell_type": "markdown",
   "metadata": {},
   "source": [
    "**Task 2**: Pipeline Integration\n",
    "- Step 1: Use sklearn pipelines to encapsulate the preprocessing steps.\n",
    "- Step 2: Configure identical pipelines for both training and building inference models."
   ]
  },
  {
   "cell_type": "code",
   "execution_count": 6,
   "metadata": {},
   "outputs": [
    {
     "data": {
      "text/plain": [
       "(         age gender\n",
       " 0       25.0      M\n",
       " 1  33.333333      F\n",
       " 2       35.0   None\n",
       " 3       40.0      F,\n",
       "          age gender\n",
       " 0       30.0      F\n",
       " 1  33.333333   None)"
      ]
     },
     "execution_count": 6,
     "metadata": {},
     "output_type": "execute_result"
    }
   ],
   "source": [
    "import pandas as pd\n",
    "from sklearn.pipeline import Pipeline\n",
    "from sklearn.impute import SimpleImputer\n",
    "from sklearn.compose import ColumnTransformer\n",
    "\n",
    "train_df = pd.DataFrame({\n",
    "    \"age\": [25, None, 35, 40],\n",
    "    \"gender\": [\"M\", \"F\", None, \"F\"]\n",
    "})\n",
    "\n",
    "test_df = pd.DataFrame({\n",
    "    \"age\": [30, None],\n",
    "    \"gender\": [\"F\", None]\n",
    "})\n",
    "\n",
    "num_cols = train_df.select_dtypes(include=[\"float64\", \"int64\"]).columns\n",
    "cat_cols = train_df.select_dtypes(include=[\"object\"]).columns\n",
    "\n",
    "num_pipeline = Pipeline([\n",
    "    (\"imputer\", SimpleImputer(strategy=\"mean\"))\n",
    "])\n",
    "\n",
    "cat_pipeline = Pipeline([\n",
    "    (\"imputer\", SimpleImputer(strategy=\"most_frequent\"))\n",
    "])\n",
    "\n",
    "preprocessor = ColumnTransformer([\n",
    "    (\"num\", num_pipeline, num_cols),\n",
    "    (\"cat\", cat_pipeline, cat_cols)\n",
    "])\n",
    "\n",
    "train_processed = pd.DataFrame(preprocessor.fit_transform(train_df), columns=num_cols.append(cat_cols))\n",
    "test_processed = pd.DataFrame(preprocessor.transform(test_df), columns=num_cols.append(cat_cols))\n",
    "\n",
    "(train_processed, test_processed)\n"
   ]
  },
  {
   "cell_type": "markdown",
   "metadata": {},
   "source": [
    "**Task 3**: Saving and Loading Preprocessing Models\n",
    "- Step 1: Save the transformation model after fitting it to the training data.\n",
    "- Step 2: Load and apply the saved model during inference."
   ]
  },
  {
   "cell_type": "code",
   "execution_count": 7,
   "metadata": {},
   "outputs": [
    {
     "data": {
      "text/html": [
       "<div>\n",
       "<style scoped>\n",
       "    .dataframe tbody tr th:only-of-type {\n",
       "        vertical-align: middle;\n",
       "    }\n",
       "\n",
       "    .dataframe tbody tr th {\n",
       "        vertical-align: top;\n",
       "    }\n",
       "\n",
       "    .dataframe thead th {\n",
       "        text-align: right;\n",
       "    }\n",
       "</style>\n",
       "<table border=\"1\" class=\"dataframe\">\n",
       "  <thead>\n",
       "    <tr style=\"text-align: right;\">\n",
       "      <th></th>\n",
       "      <th>age</th>\n",
       "      <th>gender</th>\n",
       "    </tr>\n",
       "  </thead>\n",
       "  <tbody>\n",
       "    <tr>\n",
       "      <th>0</th>\n",
       "      <td>30.0</td>\n",
       "      <td>F</td>\n",
       "    </tr>\n",
       "    <tr>\n",
       "      <th>1</th>\n",
       "      <td>33.333333</td>\n",
       "      <td>None</td>\n",
       "    </tr>\n",
       "  </tbody>\n",
       "</table>\n",
       "</div>"
      ],
      "text/plain": [
       "         age gender\n",
       "0       30.0      F\n",
       "1  33.333333   None"
      ]
     },
     "execution_count": 7,
     "metadata": {},
     "output_type": "execute_result"
    }
   ],
   "source": [
    "import joblib\n",
    "\n",
    "joblib.dump(preprocessor, \"preprocessor.joblib\")\n",
    "\n",
    "loaded_preprocessor = joblib.load(\"preprocessor.joblib\")\n",
    "\n",
    "test_processed_loaded = pd.DataFrame(loaded_preprocessor.transform(test_df), columns=num_cols.append(cat_cols))\n",
    "\n",
    "test_processed_loaded\n"
   ]
  }
 ],
 "metadata": {
  "kernelspec": {
   "display_name": "Python 3",
   "language": "python",
   "name": "python3"
  },
  "language_info": {
   "codemirror_mode": {
    "name": "ipython",
    "version": 3
   },
   "file_extension": ".py",
   "mimetype": "text/x-python",
   "name": "python",
   "nbconvert_exporter": "python",
   "pygments_lexer": "ipython3",
   "version": "3.10.12"
  }
 },
 "nbformat": 4,
 "nbformat_minor": 2
}
