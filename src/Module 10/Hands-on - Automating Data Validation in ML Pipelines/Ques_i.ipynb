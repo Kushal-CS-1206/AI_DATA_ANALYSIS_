{
 "cells": [
  {
   "cell_type": "markdown",
   "metadata": {},
   "source": [
    "### Using Great Expectations for Automated Data Checks\n",
    "**Objective**: Use Great Expectations to perform data validation steps on a dataset.\n",
    "\n",
    "**Task 1**: Validate Column Existence\n",
    "\n",
    "**Steps**:\n",
    "- Load your dataset using a Pandas DataFrame.\n",
    "- Use Great Expectations to setup an expectation suite.\n",
    "- Create an expectation to confirm that a specific column (e.g., customer_id ) exists in your dataset.\n",
    "- Run the expectation and observe the results."
   ]
  },
  {
   "cell_type": "code",
   "execution_count": 9,
   "metadata": {},
   "outputs": [
    {
     "ename": "AttributeError",
     "evalue": "'EphemeralDataContext' object has no attribute 'datasources'",
     "output_type": "error",
     "traceback": [
      "\u001b[0;31m---------------------------------------------------------------------------\u001b[0m",
      "\u001b[0;31mAttributeError\u001b[0m                            Traceback (most recent call last)",
      "Cell \u001b[0;32mIn[9], line 15\u001b[0m\n\u001b[1;32m     12\u001b[0m context \u001b[38;5;241m=\u001b[39m gx\u001b[38;5;241m.\u001b[39mget_context(mode\u001b[38;5;241m=\u001b[39m\u001b[38;5;124m\"\u001b[39m\u001b[38;5;124mephemeral\u001b[39m\u001b[38;5;124m\"\u001b[39m)\n\u001b[1;32m     14\u001b[0m \u001b[38;5;66;03m# Add Pandas DataFrame as a Data Asset using Fluent API\u001b[39;00m\n\u001b[0;32m---> 15\u001b[0m datasource \u001b[38;5;241m=\u001b[39m \u001b[43mcontext\u001b[49m\u001b[38;5;241;43m.\u001b[39;49m\u001b[43mdatasources\u001b[49m\u001b[38;5;241m.\u001b[39madd_pandas(name\u001b[38;5;241m=\u001b[39m\u001b[38;5;124m\"\u001b[39m\u001b[38;5;124mmy_pandas\u001b[39m\u001b[38;5;124m\"\u001b[39m)\n\u001b[1;32m     16\u001b[0m data_asset \u001b[38;5;241m=\u001b[39m datasource\u001b[38;5;241m.\u001b[39madd_dataframe_asset(name\u001b[38;5;241m=\u001b[39m\u001b[38;5;124m\"\u001b[39m\u001b[38;5;124mcustomer_data\u001b[39m\u001b[38;5;124m\"\u001b[39m, dataframe\u001b[38;5;241m=\u001b[39mdf)\n\u001b[1;32m     17\u001b[0m batch \u001b[38;5;241m=\u001b[39m data_asset\u001b[38;5;241m.\u001b[39mbuild_batch()\n",
      "\u001b[0;31mAttributeError\u001b[0m: 'EphemeralDataContext' object has no attribute 'datasources'"
     ]
    }
   ],
   "source": [
    "import pandas as pd\n",
    "import great_expectations as gx\n",
    "\n",
    "# Sample data\n",
    "df = pd.DataFrame({\n",
    "    \"customer_id\": [1, 2, 3],\n",
    "    \"name\": [\"Alice\", \"Bob\", \"Charlie\"],\n",
    "    \"age\": [25, 30, 35]\n",
    "})\n",
    "\n",
    "# Create a temporary GE context\n",
    "context = gx.get_context(mode=\"ephemeral\")\n",
    "\n",
    "# Add Pandas DataFrame as a Data Asset using Fluent API\n",
    "datasource = context.datasources.add_pandas(name=\"my_pandas\")\n",
    "data_asset = datasource.add_dataframe_asset(name=\"customer_data\", dataframe=df)\n",
    "batch = data_asset.build_batch()\n",
    "\n",
    "# Create an Expectation Suite\n",
    "suite = context.add_or_update_expectation_suite(name=\"customer_suite\")\n",
    "\n",
    "# Validate the batch with the suite\n",
    "validator = context.get_validator(expectation_suite=suite, batch=batch)\n",
    "\n",
    "# Add expectation\n",
    "validator.expect_column_to_exist(\"customer_id\")\n",
    "\n",
    "# Save expectations\n",
    "validator.save_expectation_suite(discard_failed_expectations=False)\n",
    "\n",
    "# Run validation\n",
    "checkpoint = context.add_or_update_checkpoint(\n",
    "    name=\"simple_checkpoint\",\n",
    "    validator=validator\n",
    ")\n",
    "results = checkpoint.run()\n",
    "\n",
    "# Show result\n",
    "print(results)"
   ]
  },
  {
   "cell_type": "markdown",
   "metadata": {},
   "source": [
    "**Task 2**: Validate Column Data Types\n",
    "\n",
    "**Steps**:\n",
    "- Using the same dataset setup, create an expectation to check that a numeric column\n",
    "(e.g., purchase_amount ) contains only float values.\n",
    "- Identify a numeric column in your dataset.\n",
    "- Use Great Expectations to create and validate an expectation that checks the column's data type is correct.\n",
    "- Run your expectation and check if it passes for your data."
   ]
  },
  {
   "cell_type": "code",
   "execution_count": null,
   "metadata": {},
   "outputs": [
    {
     "ename": "AttributeError",
     "evalue": "'EphemeralDataContext' object has no attribute 'datasources'",
     "output_type": "error",
     "traceback": [
      "\u001b[0;31m---------------------------------------------------------------------------\u001b[0m",
      "\u001b[0;31mAttributeError\u001b[0m                            Traceback (most recent call last)",
      "Cell \u001b[0;32mIn[7], line 16\u001b[0m\n\u001b[1;32m     13\u001b[0m context \u001b[38;5;241m=\u001b[39m gx\u001b[38;5;241m.\u001b[39mget_context(mode\u001b[38;5;241m=\u001b[39m\u001b[38;5;124m\"\u001b[39m\u001b[38;5;124mephemeral\u001b[39m\u001b[38;5;124m\"\u001b[39m)\n\u001b[1;32m     15\u001b[0m \u001b[38;5;66;03m# Register Pandas datasource and create a data asset\u001b[39;00m\n\u001b[0;32m---> 16\u001b[0m datasource \u001b[38;5;241m=\u001b[39m \u001b[43mcontext\u001b[49m\u001b[38;5;241;43m.\u001b[39;49m\u001b[43mdatasources\u001b[49m\u001b[38;5;241m.\u001b[39madd_pandas(name\u001b[38;5;241m=\u001b[39m\u001b[38;5;124m\"\u001b[39m\u001b[38;5;124mmy_pandas\u001b[39m\u001b[38;5;124m\"\u001b[39m)\n\u001b[1;32m     17\u001b[0m data_asset \u001b[38;5;241m=\u001b[39m datasource\u001b[38;5;241m.\u001b[39madd_dataframe_asset(name\u001b[38;5;241m=\u001b[39m\u001b[38;5;124m\"\u001b[39m\u001b[38;5;124mcustomer_data\u001b[39m\u001b[38;5;124m\"\u001b[39m, dataframe\u001b[38;5;241m=\u001b[39mdf)\n\u001b[1;32m     18\u001b[0m batch \u001b[38;5;241m=\u001b[39m data_asset\u001b[38;5;241m.\u001b[39mbuild_batch()\n",
      "\u001b[0;31mAttributeError\u001b[0m: 'EphemeralDataContext' object has no attribute 'datasources'"
     ]
    }
   ],
   "source": [
    "# write your code from here\n",
    "import pandas as pd\n",
    "import great_expectations as gx\n",
    "\n",
    "# Sample dataset\n",
    "df = pd.DataFrame({\n",
    "    \"customer_id\": [1, 2, 3],\n",
    "    \"name\": [\"Alice\", \"Bob\", \"Charlie\"],\n",
    "    \"purchase_amount\": [100.50, 200.75, 150.00]\n",
    "})\n",
    "\n",
    "# Create an ephemeral GE context (no files written to disk)\n",
    "context = gx.get_context(mode=\"ephemeral\")\n",
    "\n",
    "# Register Pandas datasource and create a data asset\n",
    "datasource = context.datasources.add_pandas(name=\"my_pandas\")\n",
    "data_asset = datasource.add_dataframe_asset(name=\"customer_data\", dataframe=df)\n",
    "batch = data_asset.build_batch()\n",
    "\n",
    "# Create expectation suite\n",
    "suite = context.add_or_update_expectation_suite(name=\"column_type_suite\")\n",
    "\n",
    "# Get validator to work with the batch and suite\n",
    "validator = context.get_validator(expectation_suite=suite, batch=batch)\n",
    "\n",
    "# Add expectation: purchase_amount column should be of float type\n",
    "validator.expect_column_values_to_be_of_type(\"purchase_amount\", \"float\")\n",
    "\n",
    "# Save the expectation suite\n",
    "validator.save_expectation_suite(discard_failed_expectations=False)\n",
    "\n",
    "# Run validation through a checkpoint\n",
    "checkpoint = context.add_or_update_checkpoint(\n",
    "    name=\"type_validation_checkpoint\",\n",
    "    validator=validator\n",
    ")\n",
    "results = checkpoint.run()\n",
    "\n",
    "# Show validation results\n",
    "print(results)"
   ]
  },
  {
   "cell_type": "markdown",
   "metadata": {},
   "source": [
    "**Task 3**: Validate Range of Values\n",
    "\n",
    "**Steps**:\n",
    "- Set an expectation using Great Expectations to ensure that a column (e.g., age ) values\n",
    "are between 18 and 65.\n",
    "- Identify a column in your dataset where values fall within a specific range.\n",
    "- Implement a range-based expectation to check this column and validate your dataset.\n",
    "- Observe and interpret the result of your expectation."
   ]
  },
  {
   "cell_type": "code",
   "execution_count": null,
   "metadata": {},
   "outputs": [
    {
     "ename": "AttributeError",
     "evalue": "'EphemeralDataContext' object has no attribute 'datasources'",
     "output_type": "error",
     "traceback": [
      "\u001b[0;31m---------------------------------------------------------------------------\u001b[0m",
      "\u001b[0;31mAttributeError\u001b[0m                            Traceback (most recent call last)",
      "Cell \u001b[0;32mIn[8], line 17\u001b[0m\n\u001b[1;32m     14\u001b[0m context \u001b[38;5;241m=\u001b[39m gx\u001b[38;5;241m.\u001b[39mget_context(mode\u001b[38;5;241m=\u001b[39m\u001b[38;5;124m\"\u001b[39m\u001b[38;5;124mephemeral\u001b[39m\u001b[38;5;124m\"\u001b[39m)\n\u001b[1;32m     16\u001b[0m \u001b[38;5;66;03m# Add Pandas datasource and data asset\u001b[39;00m\n\u001b[0;32m---> 17\u001b[0m datasource \u001b[38;5;241m=\u001b[39m \u001b[43mcontext\u001b[49m\u001b[38;5;241;43m.\u001b[39;49m\u001b[43mdatasources\u001b[49m\u001b[38;5;241m.\u001b[39madd_pandas(name\u001b[38;5;241m=\u001b[39m\u001b[38;5;124m\"\u001b[39m\u001b[38;5;124mmy_pandas\u001b[39m\u001b[38;5;124m\"\u001b[39m)\n\u001b[1;32m     18\u001b[0m data_asset \u001b[38;5;241m=\u001b[39m datasource\u001b[38;5;241m.\u001b[39madd_dataframe_asset(name\u001b[38;5;241m=\u001b[39m\u001b[38;5;124m\"\u001b[39m\u001b[38;5;124mcustomer_data\u001b[39m\u001b[38;5;124m\"\u001b[39m, dataframe\u001b[38;5;241m=\u001b[39mdf)\n\u001b[1;32m     19\u001b[0m batch \u001b[38;5;241m=\u001b[39m data_asset\u001b[38;5;241m.\u001b[39mbuild_batch()\n",
      "\u001b[0;31mAttributeError\u001b[0m: 'EphemeralDataContext' object has no attribute 'datasources'"
     ]
    }
   ],
   "source": [
    "# write your code from here\n",
    "import pandas as pd\n",
    "import great_expectations as gx\n",
    "\n",
    "# Sample dataset\n",
    "df = pd.DataFrame({\n",
    "    \"customer_id\": [1, 2, 3, 4],\n",
    "    \"name\": [\"Alice\", \"Bob\", \"Charlie\", \"Diana\"],\n",
    "    \"age\": [25, 40, 17, 70],  # Contains values outside expected range\n",
    "    \"purchase_amount\": [100.5, 200.75, 150.0, 180.25]\n",
    "})\n",
    "\n",
    "# Create ephemeral context\n",
    "context = gx.get_context(mode=\"ephemeral\")\n",
    "\n",
    "# Add Pandas datasource and data asset\n",
    "datasource = context.datasources.add_pandas(name=\"my_pandas\")\n",
    "data_asset = datasource.add_dataframe_asset(name=\"customer_data\", dataframe=df)\n",
    "batch = data_asset.build_batch()\n",
    "\n",
    "# Create or update expectation suite\n",
    "suite = context.add_or_update_expectation_suite(name=\"range_validation_suite\")\n",
    "\n",
    "# Get validator\n",
    "validator = context.get_validator(expectation_suite=suite, batch=batch)\n",
    "\n",
    "# Expect 'age' column values to be between 18 and 65\n",
    "validator.expect_column_values_to_be_between(\"age\", min_value=18, max_value=65)\n",
    "\n",
    "# Save expectation suite\n",
    "validator.save_expectation_suite(discard_failed_expectations=False)\n",
    "\n",
    "# Run validation\n",
    "checkpoint = context.add_or_update_checkpoint(\n",
    "    name=\"age_range_checkpoint\",\n",
    "    validator=validator\n",
    ")\n",
    "results = checkpoint.run()\n",
    "\n",
    "# Show validation results\n",
    "print(results)\n",
    "#"
   ]
  }
 ],
 "metadata": {
  "kernelspec": {
   "display_name": "Python 3",
   "language": "python",
   "name": "python3"
  },
  "language_info": {
   "codemirror_mode": {
    "name": "ipython",
    "version": 3
   },
   "file_extension": ".py",
   "mimetype": "text/x-python",
   "name": "python",
   "nbconvert_exporter": "python",
   "pygments_lexer": "ipython3",
   "version": "3.10.12"
  }
 },
 "nbformat": 4,
 "nbformat_minor": 2
}
