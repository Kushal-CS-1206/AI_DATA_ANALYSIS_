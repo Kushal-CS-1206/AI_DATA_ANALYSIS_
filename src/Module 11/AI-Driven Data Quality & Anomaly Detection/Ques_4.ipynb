{
 "cells": [
  {
   "cell_type": "markdown",
   "metadata": {},
   "source": [
    "# Data Deduplication using Clustering\n",
    "**Objective**: Learn and implement data deduplication techniques.\n",
    "\n",
    "**Task**: Deduplication Using K-means Clustering\n",
    "\n",
    "**Steps**:\n",
    "1. Data Set: Download a dataset containing duplicate customer records.\n",
    "2. Preprocess: Standardize the data to ensure better clustering.\n",
    "3. Apply K-means: Use K-means clustering to find and group similar customer records.\n",
    "4. Identify Duplicates: Identify and remove duplicates within clusters."
   ]
  },
  {
   "cell_type": "code",
   "execution_count": 1,
   "metadata": {},
   "outputs": [
    {
     "name": "stdout",
     "output_type": "stream",
     "text": [
      "   customer_id          name         address  cluster\n",
      "1            2     Jon Smith  123 Elm Street        0\n",
      "2            3      Jane Doe      456 Oak St        1\n",
      "3            4       Jane D.  456 Oak Street        1\n",
      "0            1    John Smith      123 Elm St        2\n",
      "4            5  Jake Johnson     789 Pine Rd        2\n"
     ]
    }
   ],
   "source": [
    "# write your code from here\n",
    "import pandas as pd\n",
    "from sklearn.feature_extraction.text import TfidfVectorizer\n",
    "from sklearn.cluster import KMeans\n",
    "from sklearn.preprocessing import normalize\n",
    "import numpy as np\n",
    "\n",
    "# 1. Sample customer dataset with duplicates\n",
    "data = {\n",
    "    \"customer_id\": [1, 2, 3, 4, 5],\n",
    "    \"name\": [\n",
    "        \"John Smith\",\n",
    "        \"Jon Smith\",\n",
    "        \"Jane Doe\",\n",
    "        \"Jane D.\",\n",
    "        \"Jake Johnson\"\n",
    "    ],\n",
    "    \"address\": [\n",
    "        \"123 Elm St\",\n",
    "        \"123 Elm Street\",\n",
    "        \"456 Oak St\",\n",
    "        \"456 Oak Street\",\n",
    "        \"789 Pine Rd\"\n",
    "    ]\n",
    "}\n",
    "df = pd.DataFrame(data)\n",
    "\n",
    "# 2. Preprocess - combine name and address\n",
    "df[\"text\"] = df[\"name\"] + \" \" + df[\"address\"]\n",
    "\n",
    "# Convert text to TF-IDF features\n",
    "vectorizer = TfidfVectorizer()\n",
    "X = vectorizer.fit_transform(df[\"text\"])\n",
    "\n",
    "# Normalize features\n",
    "X_normalized = normalize(X)\n",
    "\n",
    "# 3. Apply K-means clustering\n",
    "n_clusters = 3\n",
    "kmeans = KMeans(n_clusters=n_clusters, random_state=42)\n",
    "df[\"cluster\"] = kmeans.fit_predict(X_normalized)\n",
    "\n",
    "# 4. Identify duplicates within each cluster (same cluster implies similarity)\n",
    "duplicates = df.sort_values(\"cluster\")[[\"customer_id\", \"name\", \"address\", \"cluster\"]]\n",
    "print(duplicates)"
   ]
  }
 ],
 "metadata": {
  "kernelspec": {
   "display_name": "Python 3",
   "language": "python",
   "name": "python3"
  },
  "language_info": {
   "codemirror_mode": {
    "name": "ipython",
    "version": 3
   },
   "file_extension": ".py",
   "mimetype": "text/x-python",
   "name": "python",
   "nbconvert_exporter": "python",
   "pygments_lexer": "ipython3",
   "version": "3.10.12"
  }
 },
 "nbformat": 4,
 "nbformat_minor": 2
}
