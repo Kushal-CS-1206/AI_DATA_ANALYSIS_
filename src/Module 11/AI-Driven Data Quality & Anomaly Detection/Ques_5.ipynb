{
 "cells": [
  {
   "cell_type": "markdown",
   "metadata": {},
   "source": [
    "# Data Deduplication using Clustering\n",
    "**Objective**: Learn and implement data deduplication techniques.\n",
    "\n",
    "**Task**: Hierarchical Clustering for Deduplication\n",
    "\n",
    "**Steps**:\n",
    "1. Data Set: Obtain a dataset containing duplicate employee information.\n",
    "2. Perform Clustering: Use hierarchical agglomerative clustering to cluster the employee\n",
    "records.\n",
    "3. Evaluate Duplicates: Determine duplicates by analyzing the clusters formed.\n",
    "4. Clean Data: Remove duplicate employee records found during clustering."
   ]
  },
  {
   "cell_type": "code",
   "execution_count": 2,
   "metadata": {},
   "outputs": [
    {
     "name": "stderr",
     "output_type": "stream",
     "text": [
      "/tmp/ipykernel_24883/841776457.py:39: ClusterWarning: scipy.cluster: The symmetric non-negative hollow observation matrix looks suspiciously like an uncondensed distance matrix\n",
      "  linked = linkage(distance_matrix, method='average')\n"
     ]
    },
    {
     "data": {
      "image/png": "[encoded data removed]",
      "text/plain": [
       "<Figure size 1000x500 with 1 Axes>"
      ]
     },
     "metadata": {},
     "output_type": "display_data"
    },
    {
     "name": "stdout",
     "output_type": "stream",
     "text": [
      "Potential Duplicate Groups:\n",
      "    employee_id            name   department  cluster\n",
      "2          103       Bob Smith        Sales        1\n",
      "3          104    Robert Smith        Sales        2\n",
      "0          101   Alice Johnson  Engineering        3\n",
      "1          102  Alicia Johnson  Engineering        4\n",
      "4          105   Charlie Davis           HR        5\n",
      "\n",
      "Cleaned Dataset:\n",
      "    employee_id            name   department\n",
      "0          101   Alice Johnson  Engineering\n",
      "1          102  Alicia Johnson  Engineering\n",
      "2          103       Bob Smith        Sales\n",
      "3          104    Robert Smith        Sales\n",
      "4          105   Charlie Davis           HR\n"
     ]
    }
   ],
   "source": [
    "# write your code from here\n",
    "import pandas as pd\n",
    "from sklearn.feature_extraction.text import TfidfVectorizer\n",
    "from sklearn.metrics.pairwise import cosine_distances\n",
    "from scipy.cluster.hierarchy import linkage, fcluster, dendrogram\n",
    "import matplotlib.pyplot as plt\n",
    "\n",
    "# 1. Sample employee dataset with duplicates\n",
    "data = {\n",
    "    \"employee_id\": [101, 102, 103, 104, 105],\n",
    "    \"name\": [\n",
    "        \"Alice Johnson\",\n",
    "        \"Alicia Johnson\",\n",
    "        \"Bob Smith\",\n",
    "        \"Robert Smith\",\n",
    "        \"Charlie Davis\"\n",
    "    ],\n",
    "    \"department\": [\n",
    "        \"Engineering\",\n",
    "        \"Engineering\",\n",
    "        \"Sales\",\n",
    "        \"Sales\",\n",
    "        \"HR\"\n",
    "    ]\n",
    "}\n",
    "df = pd.DataFrame(data)\n",
    "\n",
    "# Combine fields for deduplication\n",
    "df[\"text\"] = df[\"name\"] + \" \" + df[\"department\"]\n",
    "\n",
    "# Convert to TF-IDF vectors\n",
    "vectorizer = TfidfVectorizer()\n",
    "X = vectorizer.fit_transform(df[\"text\"])\n",
    "\n",
    "# Compute cosine distance matrix\n",
    "distance_matrix = cosine_distances(X)\n",
    "\n",
    "# 2. Perform Hierarchical Agglomerative Clustering\n",
    "linked = linkage(distance_matrix, method='average')\n",
    "\n",
    "# 3. Plot dendrogram (optional for visual inspection)\n",
    "plt.figure(figsize=(10, 5))\n",
    "dendrogram(linked, labels=df[\"employee_id\"].values)\n",
    "plt.title(\"Employee Record Dendrogram\")\n",
    "plt.xlabel(\"Employee ID\")\n",
    "plt.ylabel(\"Distance\")\n",
    "plt.show()\n",
    "\n",
    "# Assign cluster labels (threshold controls sensitivity)\n",
    "df[\"cluster\"] = fcluster(linked, t=0.6, criterion='distance')\n",
    "\n",
    "# 4. Print grouped potential duplicates and remove one per group\n",
    "duplicates = df.sort_values(\"cluster\")[[\"employee_id\", \"name\", \"department\", \"cluster\"]]\n",
    "print(\"Potential Duplicate Groups:\\n\", duplicates)\n",
    "\n",
    "# Remove duplicates (keep first in each cluster)\n",
    "clean_df = df.drop_duplicates(subset=\"cluster\", keep=\"first\").drop(columns=[\"text\", \"cluster\"])\n",
    "print(\"\\nCleaned Dataset:\\n\", clean_df)\n",
    "#"
   ]
  }
 ],
 "metadata": {
  "kernelspec": {
   "display_name": "Python 3",
   "language": "python",
   "name": "python3"
  },
  "language_info": {
   "codemirror_mode": {
    "name": "ipython",
    "version": 3
   },
   "file_extension": ".py",
   "mimetype": "text/x-python",
   "name": "python",
   "nbconvert_exporter": "python",
   "pygments_lexer": "ipython3",
   "version": "3.10.12"
  }
 },
 "nbformat": 4,
 "nbformat_minor": 2
}
