{
 "cells": [
  {
   "cell_type": "markdown",
   "metadata": {},
   "source": [
    "# Data Deduplication using Clustering\n",
    "**Objective**: Learn and implement data deduplication techniques.\n",
    "\n",
    "**Task**: DBSCAN for Data Deduplication\n",
    "\n",
    "**Steps**:\n",
    "1. Data Set: Download a dataset containing duplicate entries for event registrations.\n",
    "2. DBSCAN Clustering: Apply the DBSCAN algorithm to cluster similar registrations.\n",
    "3. Identify Duplicates: Detect duplicates based on density of the clusters.\n",
    "4. Refinement: Validate clusters and remove any erroneous duplicates."
   ]
  },
  {
   "cell_type": "code",
   "execution_count": 2,
   "metadata": {},
   "outputs": [
    {
     "name": "stdout",
     "output_type": "stream",
     "text": [
      "Potential Duplicate Groups:\n",
      "    registration_id         name              event  cluster\n",
      "0                1  Emma Watson      AI Conference        0\n",
      "1                2    Ema Watsn            AI Conf        1\n",
      "2                3     John Doe        Data Summit        2\n",
      "3                4      Jon Doe   Data Summit 2023        2\n",
      "4                5   Liam Smith       Health Forum        3\n",
      "5                6     L. Smith  Health Forum 2023        3\n",
      "\n",
      "Cleaned Dataset:\n",
      "    registration_id         name          event\n",
      "0                1  Emma Watson  AI Conference\n",
      "1                2    Ema Watsn        AI Conf\n",
      "2                3     John Doe    Data Summit\n",
      "4                5   Liam Smith   Health Forum\n"
     ]
    }
   ],
   "source": [
    "# write your code from here\n",
    "import pandas as pd\n",
    "from sklearn.feature_extraction.text import TfidfVectorizer\n",
    "from sklearn.cluster import DBSCAN\n",
    "from sklearn.preprocessing import normalize\n",
    "import numpy as np\n",
    "\n",
    "# 1. Sample event registration dataset with duplicates\n",
    "data = {\n",
    "    \"registration_id\": [1, 2, 3, 4, 5, 6],\n",
    "    \"name\": [\n",
    "        \"Emma Watson\",\n",
    "        \"Ema Watsn\",\n",
    "        \"John Doe\",\n",
    "        \"Jon Doe\",\n",
    "        \"Liam Smith\",\n",
    "        \"L. Smith\"\n",
    "    ],\n",
    "    \"event\": [\n",
    "        \"AI Conference\",\n",
    "        \"AI Conf\",\n",
    "        \"Data Summit\",\n",
    "        \"Data Summit 2023\",\n",
    "        \"Health Forum\",\n",
    "        \"Health Forum 2023\"\n",
    "    ]\n",
    "}\n",
    "df = pd.DataFrame(data)\n",
    "\n",
    "# Combine name and event fields for clustering\n",
    "df[\"text\"] = df[\"name\"] + \" \" + df[\"event\"]\n",
    "\n",
    "# Convert text to TF-IDF features\n",
    "vectorizer = TfidfVectorizer()\n",
    "X = vectorizer.fit_transform(df[\"text\"])\n",
    "\n",
    "# Normalize features\n",
    "X_normalized = normalize(X)\n",
    "\n",
    "# 2. Apply DBSCAN clustering\n",
    "dbscan = DBSCAN(eps=0.5, min_samples=1, metric='cosine')\n",
    "df[\"cluster\"] = dbscan.fit_predict(X_normalized)\n",
    "\n",
    "# 3. Identify and display potential duplicates\n",
    "duplicates = df.sort_values(\"cluster\")[[\"registration_id\", \"name\", \"event\", \"cluster\"]]\n",
    "print(\"Potential Duplicate Groups:\\n\", duplicates)\n",
    "\n",
    "# 4. Refinement - remove duplicates (keep first entry per cluster)\n",
    "deduplicated_df = df.drop_duplicates(subset=\"cluster\", keep=\"first\").drop(columns=[\"text\", \"cluster\"])\n",
    "print(\"\\nCleaned Dataset:\\n\", deduplicated_df)\n",
    "#"
   ]
  }
 ],
 "metadata": {
  "kernelspec": {
   "display_name": "Python 3",
   "language": "python",
   "name": "python3"
  },
  "language_info": {
   "codemirror_mode": {
    "name": "ipython",
    "version": 3
   },
   "file_extension": ".py",
   "mimetype": "text/x-python",
   "name": "python",
   "nbconvert_exporter": "python",
   "pygments_lexer": "ipython3",
   "version": "3.10.12"
  }
 },
 "nbformat": 4,
 "nbformat_minor": 2
}
