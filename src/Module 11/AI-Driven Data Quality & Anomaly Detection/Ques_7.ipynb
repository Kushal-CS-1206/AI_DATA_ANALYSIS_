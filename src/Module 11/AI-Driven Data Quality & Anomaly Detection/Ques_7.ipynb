{
 "cells": [
  {
   "cell_type": "markdown",
   "metadata": {},
   "source": [
    "### Using NLP for Text Data Quality\n",
    "**Objective**: Enhance text data quality using NLP techniques.\n",
    "\n",
    "**Task**: Handling Noisy Text Data\n",
    "\n",
    "**Steps**:\n",
    "1. Data Set: Obtain a dataset with customer reviews containing noise (e.g., random characters).\n",
    "2. Clean Data: Use regex patterns to clean the noise from text data.\n",
    "3. Evaluate: Compare the text before and after cleaning for noise."
   ]
  },
  {
   "cell_type": "code",
   "execution_count": 2,
   "metadata": {},
   "outputs": [
    {
     "name": "stdout",
     "output_type": "stream",
     "text": [
      "   review_id                                        review  \\\n",
      "0          1  Th!s pr0duct is @mazing!!! Highly rec0mmend.   \n",
      "1          2                  Worst@@@ experie^nce ever###   \n",
      "2          3                G00d value$$ for the $$$money!   \n",
      "\n",
      "                           cleaned_review  \n",
      "0  Ths pr0duct is mazing Highly rec0mmend  \n",
      "1                   Worst experience ever  \n",
      "2                G00d value for the money  \n"
     ]
    }
   ],
   "source": [
    "# write your code from here\n",
    "import pandas as pd\n",
    "import re\n",
    "\n",
    "# 1. Sample customer reviews with noisy text\n",
    "data = {\n",
    "    \"review_id\": [1, 2, 3],\n",
    "    \"review\": [\n",
    "        \"Th!s pr0duct is @mazing!!! Highly rec0mmend.\",\n",
    "        \"Worst@@@ experie^nce ever###\",\n",
    "        \"G00d value$$ for the $$$money!\"\n",
    "    ]\n",
    "}\n",
    "df = pd.DataFrame(data)\n",
    "\n",
    "# 2. Clean Data using regex\n",
    "def clean_text(text):\n",
    "    text = re.sub(r'[^A-Za-z0-9\\s]', '', text)  # Remove special characters\n",
    "    text = re.sub(r'\\s+', ' ', text)  # Normalize whitespace\n",
    "    return text.strip()\n",
    "\n",
    "df[\"cleaned_review\"] = df[\"review\"].apply(clean_text)\n",
    "\n",
    "# 3. Compare before and after..\n",
    "print(df[[\"review_id\", \"review\", \"cleaned_review\"]])"
   ]
  }
 ],
 "metadata": {
  "kernelspec": {
   "display_name": "Python 3",
   "language": "python",
   "name": "python3"
  },
  "language_info": {
   "codemirror_mode": {
    "name": "ipython",
    "version": 3
   },
   "file_extension": ".py",
   "mimetype": "text/x-python",
   "name": "python",
   "nbconvert_exporter": "python",
   "pygments_lexer": "ipython3",
   "version": "3.10.12"
  }
 },
 "nbformat": 4,
 "nbformat_minor": 2
}
