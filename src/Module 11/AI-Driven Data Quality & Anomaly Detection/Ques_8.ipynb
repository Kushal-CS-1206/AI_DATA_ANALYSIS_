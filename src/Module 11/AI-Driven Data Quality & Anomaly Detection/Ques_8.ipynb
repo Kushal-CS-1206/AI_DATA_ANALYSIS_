{
 "cells": [
  {
   "cell_type": "markdown",
   "metadata": {},
   "source": [
    "### Using NLP for Text Data Quality\n",
    "**Objective**: Enhance text data quality using NLP techniques.\n",
    "\n",
    "**Task**: Removing Stopwords\n",
    "\n",
    "**Steps**:\n",
    "1. Data Set: Use a dataset of text product descriptions.\n",
    "2. Stopword Removal: Utilize an NLP library (e.g., NLTK) to remove stopwords from the\n",
    "descriptions.\n",
    "3. Assess Impact: Examine the effectiveness by analyzing word frequency before and after\n",
    "removal."
   ]
  },
  {
   "cell_type": "code",
   "execution_count": 7,
   "metadata": {},
   "outputs": [
    {
     "name": "stdout",
     "output_type": "stream",
     "text": [
      "Word Frequency Before Stopword Removal:\n",
      " Counter({'is': 2, 'and': 2, 'this': 1, 'a': 1, 'fantastic': 1, 'wireless': 1, 'mouse': 1, 'with': 1, 'ergonomic': 1, 'design': 1, 'an': 1, 'excellent': 1, 'choice': 1, 'for': 1, 'gaming': 1, 'office': 1, 'work': 1, 'the': 1, 'product': 1, 'durable': 1, 'very': 1, 'easy': 1, 'to': 1, 'use': 1})\n",
      "\n",
      "Word Frequency After Stopword Removal:\n",
      " Counter({'fantastic': 1, 'wireless': 1, 'mouse': 1, 'ergonomic': 1, 'design': 1, 'excellent': 1, 'choice': 1, 'gaming': 1, 'office': 1, 'work': 1, 'product': 1, 'durable': 1, 'easy': 1, 'use': 1})\n"
     ]
    }
   ],
   "source": [
    "##\n",
    "import pandas as pd\n",
    "import re\n",
    "from collections import Counter\n",
    "\n",
    "# Sample product descriptions\n",
    "data = {\n",
    "    \"product_id\": [101, 102, 103],\n",
    "    \"description\": [\n",
    "        \"This is a fantastic wireless mouse with ergonomic design.\",\n",
    "        \"An excellent choice for gaming and office work.\",\n",
    "        \"The product is durable and very easy to use.\"\n",
    "    ]\n",
    "}\n",
    "df = pd.DataFrame(data)\n",
    "\n",
    "# Basic stopword list\n",
    "custom_stopwords = set(\"\"\"\n",
    "a an the is are for to with of and or in on at by from this that very be\n",
    "\"\"\".split())\n",
    "\n",
    "# Tokenizer and stopword remover\n",
    "def tokenize(text):\n",
    "    tokens = re.findall(r'\\b\\w+\\b', text.lower())\n",
    "    return tokens\n",
    "\n",
    "def remove_stopwords(text):\n",
    "    tokens = tokenize(text)\n",
    "    return [word for word in tokens if word not in custom_stopwords]\n",
    "\n",
    "# Apply functions\n",
    "df[\"tokens_before\"] = df[\"description\"].apply(tokenize)\n",
    "df[\"tokens_after\"] = df[\"description\"].apply(remove_stopwords)\n",
    "\n",
    "# Word frequency\n",
    "all_before = [word for tokens in df[\"tokens_before\"] for word in tokens]\n",
    "all_after = [word for tokens in df[\"tokens_after\"] for word in tokens]\n",
    "\n",
    "freq_before = Counter(all_before)\n",
    "freq_after = Counter(all_after)\n",
    "\n",
    "print(\"Word Frequency Before Stopword Removal:\\n\", freq_before)\n",
    "print(\"\\nWord Frequency After Stopword Removal:\\n\", freq_after)"
   ]
  }
 ],
 "metadata": {
  "kernelspec": {
   "display_name": "Python 3",
   "language": "python",
   "name": "python3"
  },
  "language_info": {
   "codemirror_mode": {
    "name": "ipython",
    "version": 3
   },
   "file_extension": ".py",
   "mimetype": "text/x-python",
   "name": "python",
   "nbconvert_exporter": "python",
   "pygments_lexer": "ipython3",
   "version": "3.10.12"
  }
 },
 "nbformat": 4,
 "nbformat_minor": 2
}
