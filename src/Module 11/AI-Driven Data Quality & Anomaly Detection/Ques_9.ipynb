{
 "cells": [
  {
   "cell_type": "markdown",
   "metadata": {},
   "source": [
    "### Using NLP for Text Data Quality\n",
    "**Objective**: Enhance text data quality using NLP techniques.\n",
    "\n",
    "**Task**: Spelling Corrections\n",
    "\n",
    "**Steps**:\n",
    "1. Data Set: Import a dataset containing text reviews with spelling errors.\n",
    "2. Apply Corrections: Use a spell-checker from an NLP library to correct spelling mistakes.\n",
    "3. Verify Improvements: Review the corrections to ensure data quality improvement."
   ]
  },
  {
   "cell_type": "code",
   "execution_count": 1,
   "metadata": {},
   "outputs": [
    {
     "name": "stdout",
     "output_type": "stream",
     "text": [
      "Defaulting to user installation because normal site-packages is not writeable\n",
      "Collecting textblob\n",
      "  Downloading textblob-0.19.0-py3-none-any.whl (624 kB)\n",
      "\u001b[2K     \u001b[90m━━━━━━━━━━━━━━━━━━━━━━━━━━━━━━━━━━━━━━━\u001b[0m \u001b[32m624.3/624.3 kB\u001b[0m \u001b[31m3.4 MB/s\u001b[0m eta \u001b[36m0:00:00\u001b[0m00:01\u001b[0m00:01\u001b[0m\n",
      "\u001b[?25hRequirement already satisfied: nltk>=3.9 in /home/vscode/.local/lib/python3.10/site-packages (from textblob) (3.9.1)\n",
      "Requirement already satisfied: regex>=2021.8.3 in /home/vscode/.local/lib/python3.10/site-packages (from nltk>=3.9->textblob) (2024.11.6)\n",
      "Requirement already satisfied: joblib in /home/vscode/.local/lib/python3.10/site-packages (from nltk>=3.9->textblob) (1.5.0)\n",
      "Requirement already satisfied: tqdm in /home/vscode/.local/lib/python3.10/site-packages (from nltk>=3.9->textblob) (4.67.1)\n",
      "Requirement already satisfied: click in /home/vscode/.local/lib/python3.10/site-packages (from nltk>=3.9->textblob) (8.2.0)\n",
      "Installing collected packages: textblob\n",
      "Successfully installed textblob-0.19.0\n",
      "\n",
      "\u001b[1m[\u001b[0m\u001b[34;49mnotice\u001b[0m\u001b[1;39;49m]\u001b[0m\u001b[39;49m A new release of pip is available: \u001b[0m\u001b[31;49m23.0.1\u001b[0m\u001b[39;49m -> \u001b[0m\u001b[32;49m25.1.1\u001b[0m\n",
      "\u001b[1m[\u001b[0m\u001b[34;49mnotice\u001b[0m\u001b[1;39;49m]\u001b[0m\u001b[39;49m To update, run: \u001b[0m\u001b[32;49mpip install --upgrade pip\u001b[0m\n",
      "Original Reviews:\n",
      " 0    The prduct was amazng and usefull.\n",
      "1          I realy enjoied the servise.\n",
      "2            Ths is not what I expectd.\n",
      "Name: review, dtype: object\n",
      "\n",
      "Corrected Reviews:\n",
      " 0    The product was amazing and useful.\n",
      "1          I really enjoyed the service.\n",
      "2            The is not what I expected.\n",
      "Name: corrected_review, dtype: object\n"
     ]
    }
   ],
   "source": [
    "# write your code from here\n",
    "!pip install textblob\n",
    "import pandas as pd\n",
    "from textblob import TextBlob\n",
    "\n",
    "# Sample dataset with spelling errors\n",
    "data = {\n",
    "    \"review_id\": [1, 2, 3],\n",
    "    \"review\": [\n",
    "        \"The prduct was amazng and usefull.\",\n",
    "        \"I realy enjoied the servise.\",\n",
    "        \"Ths is not what I expectd.\"\n",
    "    ]\n",
    "}\n",
    "df = pd.DataFrame(data)\n",
    "\n",
    "# Apply spelling correction using TextBlob\n",
    "df[\"corrected_review\"] = df[\"review\"].apply(lambda x: str(TextBlob(x).correct()))\n",
    "\n",
    "# Display before and after\n",
    "print(\"Original Reviews:\\n\", df[\"review\"])\n",
    "print(\"\\nCorrected Reviews:\\n\", df[\"corrected_review\"])"
   ]
  }
 ],
 "metadata": {
  "kernelspec": {
   "display_name": "Python 3",
   "language": "python",
   "name": "python3"
  },
  "language_info": {
   "codemirror_mode": {
    "name": "ipython",
    "version": 3
   },
   "file_extension": ".py",
   "mimetype": "text/x-python",
   "name": "python",
   "nbconvert_exporter": "python",
   "pygments_lexer": "ipython3",
   "version": "3.10.12"
  }
 },
 "nbformat": 4,
 "nbformat_minor": 2
}
