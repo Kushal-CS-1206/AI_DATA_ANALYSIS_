{
 "cells": [
  {
   "cell_type": "markdown",
   "metadata": {},
   "source": [
    "## Isolation Forest for Anomaly Detection\n",
    "**Objective**: Understand and apply the Isolation Forest algorithm to identify anomalies in datasets.\n",
    "\n",
    "### Task: Anomaly Detection in Network Traffic\n",
    "**Steps**:\n",
    "1. Extract Features from Dataset:\n",
    "    - Load `network_traffic.csv` .\n",
    "2. Isolation Forest Model\n",
    "3. Display Anomalies"
   ]
  },
  {
   "cell_type": "code",
   "execution_count": 2,
   "metadata": {},
   "outputs": [
    {
     "name": "stdout",
     "output_type": "stream",
     "text": [
      "    src_port  dst_port  packet_size  duration_sec  anomaly  is_anomaly\n",
      "11      9999     11111         9000          10.0       -1        True\n",
      "12      8888     22222         8500           8.5       -1        True\n"
     ]
    }
   ],
   "source": [
    "import pandas as pd\n",
    "from sklearn.ensemble import IsolationForest\n",
    "\n",
    "# Sample network traffic dataset with numeric features\n",
    "data = {\n",
    "    \"src_port\": [443, 80, 22, 443, 8080, 22, 443, 3306, 443, 80, 22, 9999, 8888, 443, 80],\n",
    "    \"dst_port\": [52345, 23456, 34567, 52345, 23456, 34567, 52345, 23456, 52345, 23456, 34567, 11111, 22222, 52345, 23456],\n",
    "    \"packet_size\": [1500, 60, 120, 1500, 80, 120, 1500, 60, 1500, 60, 120, 9000, 8500, 1500, 60],\n",
    "    \"duration_sec\": [1.2, 0.1, 0.5, 1.1, 0.3, 0.5, 1.2, 0.1, 1.3, 0.1, 0.5, 10.0, 8.5, 1.2, 0.1]\n",
    "}\n",
    "\n",
    "df = pd.DataFrame(data)\n",
    "\n",
    "# Features for anomaly detection\n",
    "features = df.columns.tolist()\n",
    "\n",
    "# Isolation Forest Model\n",
    "model = IsolationForest(contamination=0.13, random_state=42)\n",
    "model.fit(df[features])\n",
    "\n",
    "# Predict anomalies\n",
    "df[\"anomaly\"] = model.predict(df[features])\n",
    "df[\"is_anomaly\"] = df[\"anomaly\"] == -1\n",
    "\n",
    "# Display anomalies\n",
    "print(df[df[\"is_anomaly\"]])"
   ]
  }
 ],
 "metadata": {
  "kernelspec": {
   "display_name": "Python 3",
   "language": "python",
   "name": "python3"
  },
  "language_info": {
   "codemirror_mode": {
    "name": "ipython",
    "version": 3
   },
   "file_extension": ".py",
   "mimetype": "text/x-python",
   "name": "python",
   "nbconvert_exporter": "python",
   "pygments_lexer": "ipython3",
   "version": "3.10.12"
  }
 },
 "nbformat": 4,
 "nbformat_minor": 2
}
