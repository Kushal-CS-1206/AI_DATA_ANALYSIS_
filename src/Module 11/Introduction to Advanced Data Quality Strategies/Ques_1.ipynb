{
 "cells": [
  {
   "cell_type": "markdown",
   "metadata": {},
   "source": [
    "### Task 1: Data Profiling to Understand Data Quality\n",
    "**Description**: Use basic statistical methods to profile a dataset and identify potential quality issues.\n",
    "\n",
    "**Steps**:\n",
    "1. Load the dataset using pandas in Python.\n",
    "2. Understand the data by checking its basic statistics.\n",
    "3. Identify null values.\n",
    "4. Check unique values for categorical columns.\n",
    "5. Review outliers using box plots."
   ]
  },
  {
   "cell_type": "code",
   "execution_count": 17,
   "metadata": {},
   "outputs": [
    {
     "name": "stdout",
     "output_type": "stream",
     "text": [
      "=== Descriptive Statistics ===\n",
      "         Name        Age Gender         Income\n",
      "count       9   9.000000     10       9.000000\n",
      "unique      9        NaN      2            NaN\n",
      "top     Alice        NaN      F            NaN\n",
      "freq        1        NaN      6            NaN\n",
      "mean      NaN  37.222222    NaN   70222.222222\n",
      "std       NaN  12.617228    NaN   26966.543057\n",
      "min       NaN  22.000000    NaN   47000.000000\n",
      "25%       NaN  28.000000    NaN   50000.000000\n",
      "50%       NaN  35.000000    NaN   60000.000000\n",
      "75%       NaN  45.000000    NaN   75000.000000\n",
      "max       NaN  60.000000    NaN  120000.000000\n",
      "\n",
      "=== Missing Values ===\n",
      "Name      1\n",
      "Age       1\n",
      "Gender    0\n",
      "Income    1\n",
      "dtype: int64\n",
      "\n",
      "=== Unique Values in Categorical Columns ===\n",
      "Name: 9 unique values - ['Alice' 'Bob' 'Charlie' 'David' 'Eve' 'Frank' 'Grace' 'Helen' None 'Ivy']\n",
      "Gender: 2 unique values - ['F' 'M']\n"
     ]
    },
    {
     "data": {
      "image/png": "[encoded data removed]",
      "text/plain": [
       "<Figure size 600x400 with 1 Axes>"
      ]
     },
     "metadata": {},
     "output_type": "display_data"
    },
    {
     "data": {
      "image/png": "[encoded data removed]",
      "text/plain": [
       "<Figure size 600x400 with 1 Axes>"
      ]
     },
     "metadata": {},
     "output_type": "display_data"
    }
   ],
   "source": [
    "# write your code from here\n",
    "import pandas as pd\n",
    "import seaborn as sns\n",
    "import matplotlib.pyplot as plt\n",
    "\n",
    "# Step 1: Load a sample dataset\n",
    "data = {\n",
    "    \"Name\": [\"Alice\", \"Bob\", \"Charlie\", \"David\", \"Eve\", \"Frank\", \"Grace\", \"Helen\", None, \"Ivy\"],\n",
    "    \"Age\": [25, 30, 35, 40, None, 50, 28, 60, 22, 45],\n",
    "    \"Gender\": [\"F\", \"M\", \"M\", \"M\", \"F\", \"M\", \"F\", \"F\", \"F\", \"F\"],\n",
    "    \"Income\": [50000, 60000, 75000, 120000, 48000, None, 58000, 110000, 47000, 64000]\n",
    "}\n",
    "df = pd.DataFrame(data)\n",
    "\n",
    "# Step 2: Basic statistics\n",
    "print(\"=== Descriptive Statistics ===\")\n",
    "print(df.describe(include='all'))\n",
    "\n",
    "# Step 3: Identify null values\n",
    "print(\"\\n=== Missing Values ===\")\n",
    "print(df.isnull().sum())\n",
    "\n",
    "# Step 4: Unique values for categorical columns\n",
    "print(\"\\n=== Unique Values in Categorical Columns ===\")\n",
    "for col in df.select_dtypes(include='object'):\n",
    "    print(f\"{col}: {df[col].nunique()} unique values - {df[col].unique()}\")\n",
    "\n",
    "# Step 5: Outliers using box plots\n",
    "numerical_columns = df.select_dtypes(include='number').columns\n",
    "for col in numerical_columns:\n",
    "    plt.figure(figsize=(6, 4))\n",
    "    sns.boxplot(x=df[col])\n",
    "    plt.title(f\"Box Plot of {col}\")\n",
    "    plt.show()"
   ]
  },
  {
   "cell_type": "markdown",
   "metadata": {},
   "source": [
    "### Task 2: Implement Simple Data Validation\n",
    "**Description**: Write a Python script to validate the data types and constraints of each column in a dataset.\n",
    "\n",
    "**Steps**:\n",
    "1. Define constraints for each column.\n",
    "2. Validate each column based on its constraints."
   ]
  },
  {
   "cell_type": "code",
   "execution_count": 18,
   "metadata": {},
   "outputs": [
    {
     "name": "stdout",
     "output_type": "stream",
     "text": [
      "=== Validation Report ===\n",
      "   Row  Column    Value     Issues\n",
      "0    5    Name      NaN       NULL\n",
      "1    3     Age      NaN       NULL\n",
      "2    2   Email      NaN       NULL\n",
      "3    4  Salary      NaN       NULL\n",
      "4    5  Salary -10000.0  BELOW MIN\n"
     ]
    }
   ],
   "source": [
    "# write your code from here\n",
    "import pandas as pd\n",
    "import numpy as np\n",
    "\n",
    "# Sample dataset\n",
    "data = {\n",
    "    \"Name\": [\"Alice\", \"Bob\", \"Charlie\", \"David\", \"Eve\", None],\n",
    "    \"Age\": [25, 30, 35, None, 28, 42],\n",
    "    \"Email\": [\"alice@example.com\", \"bob@example.com\", None, \"david@domain\", \"eve@example.com\", \"frank@site.com\"],\n",
    "    \"Salary\": [50000, 60000, 75000, 40000, None, -10000]\n",
    "}\n",
    "df = pd.DataFrame(data)\n",
    "\n",
    "# Define constraints\n",
    "constraints = {\n",
    "    \"Name\": {\"type\": str, \"not_null\": True},\n",
    "    \"Age\": {\"type\": (int, float), \"not_null\": True, \"min\": 18, \"max\": 65},\n",
    "    \"Email\": {\"type\": str, \"not_null\": True, \"contains\": \"@\"},\n",
    "    \"Salary\": {\"type\": (int, float), \"not_null\": True, \"min\": 0}\n",
    "}\n",
    "\n",
    "# Validation function\n",
    "def validate(df, constraints):\n",
    "    results = []\n",
    "    for column, rules in constraints.items():\n",
    "        for index, value in df[column].items():\n",
    "            errors = []\n",
    "            if rules.get(\"not_null\") and pd.isnull(value):\n",
    "                errors.append(\"NULL\")\n",
    "            if \"type\" in rules and not pd.isnull(value):\n",
    "                if not isinstance(value, rules[\"type\"]):\n",
    "                    errors.append(\"WRONG TYPE\")\n",
    "            if \"min\" in rules and not pd.isnull(value):\n",
    "                if value < rules[\"min\"]:\n",
    "                    errors.append(\"BELOW MIN\")\n",
    "            if \"max\" in rules and not pd.isnull(value):\n",
    "                if value > rules[\"max\"]:\n",
    "                    errors.append(\"ABOVE MAX\")\n",
    "            if \"contains\" in rules and not pd.isnull(value):\n",
    "                if rules[\"contains\"] not in str(value):\n",
    "                    errors.append(f\"MISSING '{rules['contains']}'\")\n",
    "            if errors:\n",
    "                results.append({\"Row\": index, \"Column\": column, \"Value\": value, \"Issues\": \", \".join(errors)})\n",
    "    return pd.DataFrame(results)\n",
    "\n",
    "# Run validation\n",
    "validation_report = validate(df, constraints)\n",
    "\n",
    "# Output\n",
    "print(\"=== Validation Report ===\")\n",
    "print(validation_report if not validation_report.empty else \"No issues found.\")"
   ]
  },
  {
   "cell_type": "markdown",
   "metadata": {},
   "source": [
    "### Task 3: Detect Missing Data Patterns\n",
    "**Description**: Analyze and visualize missing data patterns in a dataset.\n",
    "\n",
    "**Steps**:\n",
    "1. Visualize missing data using a heatmap.\n",
    "2. Identify patterns in missing data."
   ]
  },
  {
   "cell_type": "code",
   "execution_count": 19,
   "metadata": {},
   "outputs": [
    {
     "data": {
      "image/png": "[encoded data removed]",
      "text/plain": [
       "<Figure size 800x400 with 1 Axes>"
      ]
     },
     "metadata": {},
     "output_type": "display_data"
    },
    {
     "name": "stdout",
     "output_type": "stream",
     "text": [
      "=== Missing Data Pattern Summary ===\n",
      "        Missing Count  Missing Percentage\n",
      "Name                1               16.67\n",
      "Age                 2               33.33\n",
      "Email               2               33.33\n",
      "Salary              2               33.33\n"
     ]
    }
   ],
   "source": [
    "# write your code from here\n",
    "import pandas as pd\n",
    "import seaborn as sns\n",
    "import matplotlib.pyplot as plt\n",
    "\n",
    "# Sample dataset with missing values\n",
    "data = {\n",
    "    \"Name\": [\"Alice\", \"Bob\", \"Charlie\", None, \"Eve\", \"Frank\"],\n",
    "    \"Age\": [25, 30, None, 40, 28, None],\n",
    "    \"Email\": [\"alice@example.com\", \"bob@example.com\", None, \"david@domain.com\", None, \"frank@site.com\"],\n",
    "    \"Salary\": [50000, None, 75000, 40000, None, -10000]\n",
    "}\n",
    "df = pd.DataFrame(data)\n",
    "\n",
    "# Set visual style\n",
    "sns.set(style=\"whitegrid\")\n",
    "\n",
    "# Step 1: Visualize missing data as a heatmap\n",
    "plt.figure(figsize=(8, 4))\n",
    "sns.heatmap(df.isnull(), cbar=False, cmap='viridis', yticklabels=True)\n",
    "plt.title(\"Missing Data Heatmap\")\n",
    "plt.show()\n",
    "\n",
    "# Step 2: Identify patterns in missing data\n",
    "missing_summary = df.isnull().sum()\n",
    "missing_percent = (df.isnull().mean() * 100).round(2)\n",
    "\n",
    "pattern_df = pd.DataFrame({\n",
    "    \"Missing Count\": missing_summary,\n",
    "    \"Missing Percentage\": missing_percent\n",
    "})\n",
    "\n",
    "print(\"=== Missing Data Pattern Summary ===\")\n",
    "print(pattern_df)"
   ]
  },
  {
   "cell_type": "markdown",
   "metadata": {},
   "source": [
    "### Task 4: Integrate Automated Data Quality Checks\n",
    "**Description**: Integrate automated data quality checks using the Great Expectations library for a dataset.\n",
    "\n",
    "**Steps**:\n",
    "1. Install and initialize Great Expectations.\n",
    "2. Set up Great Expectations.\n",
    "3. Add further checks and validate."
   ]
  },
  {
   "cell_type": "code",
   "execution_count": 20,
   "metadata": {},
   "outputs": [
    {
     "ename": "ModuleNotFoundError",
     "evalue": "No module named 'great_expectations.datasource.fluent.data_connectors'",
     "output_type": "error",
     "traceback": [
      "\u001b[0;31m---------------------------------------------------------------------------\u001b[0m",
      "\u001b[0;31mModuleNotFoundError\u001b[0m                       Traceback (most recent call last)",
      "Cell \u001b[0;32mIn[20], line 5\u001b[0m\n\u001b[1;32m      3\u001b[0m \u001b[38;5;28;01mfrom\u001b[39;00m\u001b[38;5;250m \u001b[39m\u001b[38;5;21;01mgreat_expectations\u001b[39;00m\u001b[38;5;21;01m.\u001b[39;00m\u001b[38;5;21;01mdatasource\u001b[39;00m\u001b[38;5;21;01m.\u001b[39;00m\u001b[38;5;21;01mfluent\u001b[39;00m\u001b[38;5;250m \u001b[39m\u001b[38;5;28;01mimport\u001b[39;00m PandasDatasource\n\u001b[1;32m      4\u001b[0m \u001b[38;5;28;01mfrom\u001b[39;00m\u001b[38;5;250m \u001b[39m\u001b[38;5;21;01mgreat_expectations\u001b[39;00m\u001b[38;5;21;01m.\u001b[39;00m\u001b[38;5;21;01mexecution_engine\u001b[39;00m\u001b[38;5;250m \u001b[39m\u001b[38;5;28;01mimport\u001b[39;00m PandasExecutionEngine\n\u001b[0;32m----> 5\u001b[0m \u001b[38;5;28;01mfrom\u001b[39;00m\u001b[38;5;250m \u001b[39m\u001b[38;5;21;01mgreat_expectations\u001b[39;00m\u001b[38;5;21;01m.\u001b[39;00m\u001b[38;5;21;01mdatasource\u001b[39;00m\u001b[38;5;21;01m.\u001b[39;00m\u001b[38;5;21;01mfluent\u001b[39;00m\u001b[38;5;21;01m.\u001b[39;00m\u001b[38;5;21;01mdata_connectors\u001b[39;00m\u001b[38;5;250m \u001b[39m\u001b[38;5;28;01mimport\u001b[39;00m RuntimeDataConnector\n\u001b[1;32m      6\u001b[0m \u001b[38;5;28;01mimport\u001b[39;00m\u001b[38;5;250m \u001b[39m\u001b[38;5;21;01mtempfile\u001b[39;00m\n\u001b[1;32m      7\u001b[0m \u001b[38;5;28;01mimport\u001b[39;00m\u001b[38;5;250m \u001b[39m\u001b[38;5;21;01mshutil\u001b[39;00m\n",
      "\u001b[0;31mModuleNotFoundError\u001b[0m: No module named 'great_expectations.datasource.fluent.data_connectors'"
     ]
    }
   ],
   "source": [
    "import pandas as pd\n",
    "import great_expectations as gx\n",
    "from great_expectations.datasource.fluent import PandasDatasource\n",
    "from great_expectations.execution_engine import PandasExecutionEngine\n",
    "from great_expectations.datasource.fluent.data_connectors import RuntimeDataConnector\n",
    "import tempfile\n",
    "import shutil\n",
    "\n",
    "# Sample DataFrame\n",
    "df = pd.DataFrame({\n",
    "    \"Name\": [\"Alice\", \"Bob\", \"Charlie\", None, \"Eve\"],\n",
    "    \"Age\": [25, 30, 35, 40, None],\n",
    "    \"Email\": [\"alice@example.com\", \"bob@example.com\", None, \"david@domain.com\", \"eve@domain.com\"]\n",
    "})\n",
    "\n",
    "# Temporary directory for GE context\n",
    "temp_dir = tempfile.mkdtemp()\n",
    "\n",
    "# Initialize GE context\n",
    "context = gx.get_context(context_root_dir=temp_dir)\n",
    "\n",
    "# Create Execution Engine object\n",
    "execution_engine = PandasExecutionEngine()\n",
    "\n",
    "# Create Data Connector object\n",
    "runtime_data_connector = RuntimeDataConnector(\n",
    "    name=\"default_runtime_data_connector_name\",\n",
    "    batch_identifiers=[\"default_identifier\"],\n",
    ")\n",
    "\n",
    "# Create PandasDatasource with objects, NOT dicts\n",
    "pandas_datasource = PandasDatasource(\n",
    "    name=\"my_pandas\",\n",
    "    execution_engine=execution_engine,\n",
    "    data_connectors={\"default_runtime_data_connector_name\": runtime_data_connector},\n",
    ")\n",
    "\n",
    "# Add datasource to context\n",
    "context.add_datasource(datasource=pandas_datasource)\n",
    "\n",
    "# Build batch request with runtime batch data (your DataFrame)\n",
    "batch_request = {\n",
    "    \"datasource_name\": \"my_pandas\",\n",
    "    \"data_connector_name\": \"default_runtime_data_connector_name\",\n",
    "    \"data_asset_name\": \"my_data_asset\",\n",
    "    \"runtime_parameters\": {\"batch_data\": df},\n",
    "    \"batch_identifiers\": {\"default_identifier\": \"default_identifier_value\"},\n",
    "}\n",
    "\n",
    "# Create expectation suite#\n",
    "suite_name = \"my_suite\"\n",
    "context.add_expectation_suite(expectation_suite_name=suite_name)\n",
    "\n",
    "# Get validator\n",
    "validator = context.get_validator(batch_request=batch_request, expectation_suite_name=suite_name)\n",
    "\n",
    "# Add expectations\n",
    "validator.expect_column_values_to_not_be_null(\"Name\")\n",
    "validator.expect_column_values_to_not_be_null(\"Age\")\n",
    "validator.expect_column_values_to_match_regex(\"Email\", r\".+@.+\\..+\", mostly=0.9)\n",
    "\n",
    "# Save expectation suite\n",
    "validator.save_expectation_suite()\n",
    "\n",
    "# Create and run checkpoint\n",
    "checkpoint = context.add_or_update_checkpoint(\n",
    "    name=\"dq_checkpoint\",\n",
    "    validations=[{\"batch_request\": batch_request, \"expectation_suite_name\": suite_name}],\n",
    ")\n",
    "\n",
    "results = checkpoint.run()\n",
    "\n",
    "print(results[\"run_results\"])\n",
    "\n",
    "# Cleanup\n",
    "shutil.rmtree(temp_dir)"
   ]
  }
 ],
 "metadata": {
  "kernelspec": {
   "display_name": "Python 3",
   "language": "python",
   "name": "python3"
  },
  "language_info": {
   "codemirror_mode": {
    "name": "ipython",
    "version": 3
   },
   "file_extension": ".py",
   "mimetype": "text/x-python",
   "name": "python",
   "nbconvert_exporter": "python",
   "pygments_lexer": "ipython3",
   "version": "3.10.12"
  }
 },
 "nbformat": 4,
 "nbformat_minor": 2
}
