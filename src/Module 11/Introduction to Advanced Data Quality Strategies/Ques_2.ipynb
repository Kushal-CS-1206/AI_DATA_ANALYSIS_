{
 "cells": [
  {
   "cell_type": "markdown",
   "metadata": {},
   "source": [
    "### Handling Unstructured Data with Python\n",
    "**Description**: Extract structured data from unstructured text using Python.\n",
    "\n",
    "**Steps**:\n",
    "1. Load and analyze an unstructured text document.\n",
    "2. Extract information using regex."
   ]
  },
  {
   "cell_type": "code",
   "execution_count": 1,
   "metadata": {},
   "outputs": [
    {
     "name": "stdout",
     "output_type": "stream",
     "text": [
      "{'order_id': '12345', 'date': '2025-05-18', 'name': 'John Doe', 'address': '123 Maple Street, Springfield, IL 62704', 'email': 'john.doe@example.com', 'phone': '(555) 123-4567'}\n",
      "{'order_id': '12346', 'date': '2025-05-19', 'name': 'Jane Smith', 'address': '456 Oak Avenue, Shelbyville, IL 62565', 'email': 'jane.smith@example.com', 'phone': '(555) 987-6543'}\n"
     ]
    }
   ],
   "source": [
    "# write your code from here\n",
    "import re\n",
    "\n",
    "# Sample unstructured text\n",
    "text = \"\"\"\n",
    "Order #12345 placed on 2025-05-18 by John Doe.\n",
    "Shipping address: 123 Maple Street, Springfield, IL 62704.\n",
    "Contact: john.doe@example.com, Phone: (555) 123-4567.\n",
    "\n",
    "Order #12346 placed on 2025-05-19 by Jane Smith.\n",
    "Shipping address: 456 Oak Avenue, Shelbyville, IL 62565.\n",
    "Contact: jane.smith@example.com, Phone: (555) 987-6543.\n",
    "\"\"\"\n",
    "\n",
    "# Regex patterns to extract order info\n",
    "order_pattern = re.compile(\n",
    "    r\"Order\\s+#(?P<order_id>\\d+)\\s+placed on\\s+(?P<date>\\d{4}-\\d{2}-\\d{2})\\s+by\\s+(?P<name>[\\w\\s]+)\\.\\s+\"\n",
    "    r\"Shipping address:\\s+(?P<address>.+?)\\.\\s+\"\n",
    "    r\"Contact:\\s+(?P<email>[\\w\\.-]+@[\\w\\.-]+),\\s+Phone:\\s+(?P<phone>\\([\\d\\s\\)-]+)\\.\",\n",
    "    re.DOTALL\n",
    ")\n",
    "\n",
    "# Extract all matches\n",
    "matches = order_pattern.finditer(text)\n",
    "\n",
    "# Process and print extracted structured data\n",
    "for match in matches:\n",
    "    data = match.groupdict()\n",
    "    print(data)"
   ]
  }
 ],
 "metadata": {
  "kernelspec": {
   "display_name": "Python 3",
   "language": "python",
   "name": "python3"
  },
  "language_info": {
   "codemirror_mode": {
    "name": "ipython",
    "version": 3
   },
   "file_extension": ".py",
   "mimetype": "text/x-python",
   "name": "python",
   "nbconvert_exporter": "python",
   "pygments_lexer": "ipython3",
   "version": "3.10.12"
  }
 },
 "nbformat": 4,
 "nbformat_minor": 2
}
