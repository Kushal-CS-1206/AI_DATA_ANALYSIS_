{
 "cells": [
  {
   "cell_type": "code",
   "execution_count": 1,
   "metadata": {},
   "outputs": [
    {
     "name": "stdout",
     "output_type": "stream",
     "text": [
      "Libraries imported successfully!\n",
      "   SepalLength  SepalWidth  PetalLength  PetalWidth     Species\n",
      "0          5.1         3.5          1.4         0.2      setosa\n",
      "1          4.9         3.0          1.4         0.2      setosa\n",
      "2          6.3         3.3          6.0         2.5   virginica\n",
      "3          5.8         2.7          5.1         1.9   virginica\n",
      "4          5.7         2.8          4.5         1.3  versicolor\n",
      "<class 'pandas.core.frame.DataFrame'>\n",
      "RangeIndex: 10 entries, 0 to 9\n",
      "Data columns (total 5 columns):\n",
      " #   Column       Non-Null Count  Dtype  \n",
      "---  ------       --------------  -----  \n",
      " 0   SepalLength  10 non-null     float64\n",
      " 1   SepalWidth   10 non-null     float64\n",
      " 2   PetalLength  10 non-null     float64\n",
      " 3   PetalWidth   10 non-null     float64\n",
      " 4   Species      10 non-null     object \n",
      "dtypes: float64(4), object(1)\n",
      "memory usage: 528.0+ bytes\n",
      "None\n",
      "       SepalLength  SepalWidth  PetalLength  PetalWidth\n",
      "count    10.000000   10.000000    10.000000   10.000000\n",
      "mean      5.780000    3.100000     3.710000    1.210000\n",
      "std       0.690893    0.527046     1.995801    0.912201\n",
      "min       4.900000    2.200000     1.400000    0.200000\n",
      "25%       5.175000    2.800000     1.550000    0.325000\n",
      "50%       5.750000    3.000000     4.250000    1.150000\n",
      "75%       6.225000    3.450000     5.475000    2.050000\n",
      "max       7.100000    3.900000     6.000000    2.500000\n"
     ]
    }
   ],
   "source": [
    "import pandas as pd\n",
    "import matplotlib.pyplot as plt\n",
    "import seaborn as sns\n",
    "import numpy as np\n",
    "\n",
    "print(\"Libraries imported successfully!\")\n",
    "\n",
    "# Step 2: Load & Explore the Dataset\n",
    "# 3. Create sample CSV data as a string and load into DataFrame\n",
    "from io import StringIO\n",
    "\n",
    "csv_data = \"\"\"\n",
    "SepalLength,SepalWidth,PetalLength,PetalWidth,Species\n",
    "5.1,3.5,1.4,0.2,setosa\n",
    "4.9,3.0,1.4,0.2,setosa\n",
    "6.3,3.3,6.0,2.5,virginica\n",
    "5.8,2.7,5.1,1.9,virginica\n",
    "5.7,2.8,4.5,1.3,versicolor\n",
    "6.4,2.8,5.6,2.2,virginica\n",
    "5.1,3.8,1.5,0.3,setosa\n",
    "7.1,3.0,5.9,2.1,virginica\n",
    "6.0,2.2,4.0,1.0,versicolor\n",
    "5.4,3.9,1.7,0.4,setosa\n",
    "\"\"\"\n",
    "#\n",
    "df = pd.read_csv(StringIO(csv_data))\n",
    "\n",
    "# 4. Display first few records\n",
    "print(df.head())\n",
    "\n",
    "# 5. Get summary of the dataset\n",
    "print(df.info())\n",
    "print(df.describe())"
   ]
  }
 ],
 "metadata": {
  "kernelspec": {
   "display_name": "Python 3",
   "language": "python",
   "name": "python3"
  },
  "language_info": {
   "codemirror_mode": {
    "name": "ipython",
    "version": 3
   },
   "file_extension": ".py",
   "mimetype": "text/x-python",
   "name": "python",
   "nbconvert_exporter": "python",
   "pygments_lexer": "ipython3",
   "version": "3.10.12"
  }
 },
 "nbformat": 4,
 "nbformat_minor": 2
}
