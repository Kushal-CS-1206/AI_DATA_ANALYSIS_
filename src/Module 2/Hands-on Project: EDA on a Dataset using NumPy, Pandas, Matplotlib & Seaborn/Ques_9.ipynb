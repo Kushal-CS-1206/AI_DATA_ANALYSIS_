{
 "cells": [
  {
   "cell_type": "code",
   "execution_count": 1,
   "metadata": {},
   "outputs": [
    {
     "name": "stdout",
     "output_type": "stream",
     "text": [
      "species\n",
      "setosa         0.3656\n",
      "versicolor     5.7204\n",
      "virginica     11.2962\n",
      "Name: petal_area, dtype: float64\n"
     ]
    }
   ],
   "source": [
    "import seaborn as sns\n",
    "import pandas as pd\n",
    "\n",
    "# Load dataset\n",
    "iris = sns.load_dataset('iris')\n",
    "\n",
    "# Create new feature: petal_area = petal_length * petal_width\n",
    "iris['petal_area'] = iris['petal_length'] * iris['petal_width']\n",
    "\n",
    "# Verify utility by checking mean petal_area by species\n",
    "mean_area = iris.groupby('species')['petal_area'].mean()\n",
    "print(mean_area)\n"
   ]
  }
 ],
 "metadata": {
  "kernelspec": {
   "display_name": "Python 3",
   "language": "python",
   "name": "python3"
  },
  "language_info": {
   "codemirror_mode": {
    "name": "ipython",
    "version": 3
   },
   "file_extension": ".py",
   "mimetype": "text/x-python",
   "name": "python",
   "nbconvert_exporter": "python",
   "pygments_lexer": "ipython3",
   "version": "3.10.12"
  }
 },
 "nbformat": 4,
 "nbformat_minor": 2
}
