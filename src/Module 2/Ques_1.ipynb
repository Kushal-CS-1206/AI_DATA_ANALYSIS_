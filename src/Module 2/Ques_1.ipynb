{
 "cells": [
  {
   "cell_type": "code",
   "execution_count": 6,
   "metadata": {},
   "outputs": [
    {
     "name": "stdout",
     "output_type": "stream",
     "text": [
      "      Name  Age  Gender  Score\n",
      "0    Alice   24  Female     85\n",
      "1      Bob   27    Male     90\n",
      "2  Charlie   22    Male     78\n",
      "3    Diana   23  Female     92\n",
      "4     Evan   25    Male     88\n",
      "<class 'pandas.core.frame.DataFrame'>\n",
      "RangeIndex: 5 entries, 0 to 4\n",
      "Data columns (total 4 columns):\n",
      " #   Column  Non-Null Count  Dtype \n",
      "---  ------  --------------  ----- \n",
      " 0   Name    5 non-null      object\n",
      " 1   Age     5 non-null      int64 \n",
      " 2   Gender  5 non-null      object\n",
      " 3   Score   5 non-null      int64 \n",
      "dtypes: int64(2), object(2)\n",
      "memory usage: 288.0+ bytes\n",
      "None\n"
     ]
    }
   ],
   "source": [
    "#\n",
    "import pandas as pd\n",
    "from io import StringIO\n",
    "\n",
    "# Sample CSV data\n",
    "csv_data = \"\"\"\n",
    "Name,Age,Gender,Score\n",
    "Alice,24,Female,85\n",
    "Bob,27,Male,90\n",
    "Charlie,22,Male,78\n",
    "Diana,23,Female,92\n",
    "Evan,25,Male,88\n",
    "\"\"\"\n",
    "\n",
    "# Load CSV data into DataFrame\n",
    "df = pd.read_csv(StringIO(csv_data))\n",
    "\n",
    "# Question 2: Displaying the First Few Rows\n",
    "print(df.head())\n",
    "\n",
    "# Question 3: Basic Data Information\n",
    "print(df.info())\n",
    "\n",
    "\n",
    "\n",
    "\n",
    "\n"
   ]
  },
  {
   "cell_type": "code",
   "execution_count": 7,
   "metadata": {},
   "outputs": [
    {
     "name": "stdout",
     "output_type": "stream",
     "text": [
      "Name      object\n",
      "Age        int64\n",
      "Gender    object\n",
      "Score      int64\n",
      "dtype: object\n",
      "0    24\n",
      "1    27\n",
      "2    22\n",
      "3    23\n",
      "4    25\n",
      "Name: Age, dtype: int64\n",
      "      Name  Age  Gender  Score\n",
      "1      Bob   27    Male     90\n",
      "2  Charlie   22    Male     78\n",
      "3    Diana   23  Female     92\n"
     ]
    }
   ],
   "source": [
    "import pandas as pd\n",
    "from io import StringIO\n",
    "\n",
    "csv_data = \"\"\"\n",
    "Name,Age,Gender,Score\n",
    "Alice,24,Female,85\n",
    "Bob,27,Male,90\n",
    "Charlie,22,Male,78\n",
    "Diana,23,Female,92\n",
    "Evan,25,Male,88\n",
    "\"\"\"\n",
    "\n",
    "df = pd.read_csv(StringIO(csv_data))\n",
    "\n",
    "# Question 1: Inspecting Column Data Types\n",
    "print(df.dtypes)\n",
    "\n",
    "# Question 2: Selecting Columns\n",
    "age_column = df['Age']\n",
    "print(age_column)\n",
    "\n",
    "# Question 3: Slicing Rows\n",
    "slice_rows = df[1:4]  # Select rows with index 1 to 3\n",
    "print(slice_rows)\n"
   ]
  },
  {
   "cell_type": "code",
   "execution_count": 8,
   "metadata": {},
   "outputs": [
    {
     "name": "stdout",
     "output_type": "stream",
     "text": [
      "      Name  Age_Years  Gender  Test_Score\n",
      "0    Alice       24.0  Female          85\n",
      "1      Bob       27.0    Male          90\n",
      "2  Charlie       24.0    Male          78\n",
      "3    Diana       23.0  Female          92\n",
      "4     Evan       25.0    Male          88\n"
     ]
    }
   ],
   "source": [
    "import pandas as pd\n",
    "from io import StringIO\n",
    "import numpy as np\n",
    "\n",
    "# Sample DataFrame with missing values and duplicates\n",
    "csv_data = \"\"\"\n",
    "Name,Age,Gender,Score\n",
    "Alice,24,Female,85\n",
    "Bob,27,Male,90\n",
    "Charlie,,Male,78\n",
    "Diana,23,Female,92\n",
    "Evan,25,Male,88\n",
    "Alice,24,Female,85\n",
    "\"\"\"\n",
    "\n",
    "df = pd.read_csv(StringIO(csv_data))\n",
    "\n",
    "# Question 1: Handling Missing Values - fill missing Age with median age\n",
    "df['Age'] = df['Age'].fillna(df['Age'].median())\n",
    "\n",
    "# Question 2: Renaming Columns\n",
    "df = df.rename(columns={'Score': 'Test_Score', 'Age': 'Age_Years'})\n",
    "\n",
    "# Question 3: Dropping Duplicates\n",
    "df = df.drop_duplicates()\n",
    "\n",
    "print(df)\n"
   ]
  },
  {
   "cell_type": "code",
   "execution_count": 9,
   "metadata": {},
   "outputs": [
    {
     "name": "stdout",
     "output_type": "stream",
     "text": [
      "Gender\n",
      "Female    88.500000\n",
      "Male      85.333333\n",
      "Name: Score, dtype: float64\n",
      "             mean  max\n",
      "Gender                \n",
      "Female  88.500000   92\n",
      "Male    85.333333   90\n"
     ]
    }
   ],
   "source": [
    "import pandas as pd\n",
    "from io import StringIO\n",
    "\n",
    "# Sample data\n",
    "csv_data = \"\"\"\n",
    "Name,Age,Gender,Score\n",
    "Alice,24,Female,85\n",
    "Bob,27,Male,90\n",
    "Charlie,22,Male,78\n",
    "Diana,23,Female,92\n",
    "Evan,25,Male,88\n",
    "\"\"\"\n",
    "\n",
    "df = pd.read_csv(StringIO(csv_data))\n",
    "\n",
    "# Question 1: Grouping and Aggregating Data - mean Score by Gender\n",
    "grouped_mean = df.groupby('Gender')['Score'].mean()\n",
    "print(grouped_mean)\n",
    "\n",
    "# Question 2: Exporting Data to CSV\n",
    "df.to_csv('exported_data.csv', index=False)\n",
    "\n",
    "# Question 3: Aggregating with Multiple Functions - mean and max Score by Gender\n",
    "grouped_agg = df.groupby('Gender')['Score'].agg(['mean', 'max'])\n",
    "print(grouped_agg)\n"
   ]
  }
 ],
 "metadata": {
  "kernelspec": {
   "display_name": "Python 3",
   "language": "python",
   "name": "python3"
  },
  "language_info": {
   "codemirror_mode": {
    "name": "ipython",
    "version": 3
   },
   "file_extension": ".py",
   "mimetype": "text/x-python",
   "name": "python",
   "nbconvert_exporter": "python",
   "pygments_lexer": "ipython3",
   "version": "3.10.12"
  }
 },
 "nbformat": 4,
 "nbformat_minor": 2
}
