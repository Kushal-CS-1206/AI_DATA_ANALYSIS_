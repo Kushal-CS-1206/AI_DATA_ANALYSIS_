{
 "cells": [
  {
   "cell_type": "code",
   "execution_count": 1,
   "metadata": {},
   "outputs": [
    {
     "name": "stdout",
     "output_type": "stream",
     "text": [
      "Missing values in Iris dataset:\n",
      "sepal length (cm)    0\n",
      "sepal width (cm)     0\n",
      "petal length (cm)    0\n",
      "petal width (cm)     0\n",
      "species              0\n",
      "dtype: int64\n",
      "\n",
      "Unique entries in 'Gender' column:\n",
      "['M' 'Female' 'male' 'F' 'Male' 'm']\n",
      "\n",
      "Iris dataset descriptive statistics:\n",
      "        sepal length (cm)  sepal width (cm)  petal length (cm)  \\\n",
      "count          150.000000        150.000000         150.000000   \n",
      "unique                NaN               NaN                NaN   \n",
      "top                   NaN               NaN                NaN   \n",
      "freq                  NaN               NaN                NaN   \n",
      "mean             5.843333          3.057333           3.758000   \n",
      "std              0.828066          0.435866           1.765298   \n",
      "min              4.300000          2.000000           1.000000   \n",
      "25%              5.100000          2.800000           1.600000   \n",
      "50%              5.800000          3.000000           4.350000   \n",
      "75%              6.400000          3.300000           5.100000   \n",
      "max              7.900000          4.400000           6.900000   \n",
      "\n",
      "        petal width (cm) species  \n",
      "count         150.000000     150  \n",
      "unique               NaN       3  \n",
      "top                  NaN  setosa  \n",
      "freq                 NaN      50  \n",
      "mean            1.199333     NaN  \n",
      "std             0.762238     NaN  \n",
      "min             0.100000     NaN  \n",
      "25%             0.300000     NaN  \n",
      "50%             1.300000     NaN  \n",
      "75%             1.800000     NaN  \n",
      "max             2.500000     NaN  \n"
     ]
    }
   ],
   "source": [
    "import pandas as pd\n",
    "from io import StringIO\n",
    "from sklearn import datasets\n",
    "\n",
    "# Part 1: Load Iris Dataset and Check Missing Values.\n",
    "iris_sklearn = datasets.load_iris()\n",
    "df_iris = pd.DataFrame(data=iris_sklearn.data, columns=iris_sklearn.feature_names)\n",
    "df_iris['species'] = pd.Categorical.from_codes(iris_sklearn.target, iris_sklearn.target_names)\n",
    "\n",
    "# Check for missing values in entire dataset\n",
    "missing_values = df_iris.isnull().sum()\n",
    "print(\"Missing values in Iris dataset:\")\n",
    "print(missing_values)\n",
    "\n",
    "# Part 2: Identify Inconsistent Entries in 'Gender' Column in Sample Dataset\n",
    "csv_data = \"\"\"\n",
    "ID,Name,Gender\n",
    "1,John,M\n",
    "2,Alice,Female\n",
    "3,Bob,male\n",
    "4,Diana,F\n",
    "5,Evan,Male\n",
    "6,Mike,m\n",
    "7,Lisa,Female\n",
    "\"\"\"\n",
    "\n",
    "df_gender = pd.read_csv(StringIO(csv_data))\n",
    "\n",
    "# Identify unique entries in 'Gender' column to find inconsistencies\n",
    "unique_genders = df_gender['Gender'].unique()\n",
    "print(\"\\nUnique entries in 'Gender' column:\")\n",
    "print(unique_genders)\n",
    "\n",
    "# Part 3: Iris Dataset Summary - Basic Descriptive Statistics\n",
    "desc_stats = df_iris.describe(include='all')\n",
    "print(\"\\nIris dataset descriptive statistics:\")\n",
    "print(desc_stats)\n",
    "\n",
    "\n",
    "\n",
    "\n"
   ]
  }
 ],
 "metadata": {
  "kernelspec": {
   "display_name": "Python 3",
   "language": "python",
   "name": "python3"
  },
  "language_info": {
   "codemirror_mode": {
    "name": "ipython",
    "version": 3
   },
   "file_extension": ".py",
   "mimetype": "text/x-python",
   "name": "python",
   "nbconvert_exporter": "python",
   "pygments_lexer": "ipython3",
   "version": "3.10.12"
  }
 },
 "nbformat": 4,
 "nbformat_minor": 2
}
