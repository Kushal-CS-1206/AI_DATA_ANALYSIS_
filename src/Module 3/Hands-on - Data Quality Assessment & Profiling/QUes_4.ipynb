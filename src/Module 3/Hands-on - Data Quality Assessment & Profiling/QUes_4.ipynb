{
 "cells": [
  {
   "cell_type": "code",
   "execution_count": 1,
   "metadata": {},
   "outputs": [
    {
     "name": "stdout",
     "output_type": "stream",
     "text": [
      "Missing values in 'Email' column: 1\n",
      "Missing or blank values in 'Phone' column: 2\n",
      "\n",
      "Duplicate email entries:\n",
      "   CustomerID      Name             Email       Phone\n",
      "0           1  John Doe  john@example.com  1234567890\n",
      "4           5  John Doe  john@example.com  1234567890\n",
      "\n",
      "Data Quality Report:\n",
      "Total records: 7\n",
      "Duplicate rows: 0\n",
      "Missing values per column:\n",
      "CustomerID    0\n",
      "Name          0\n",
      "Email         1\n",
      "Phone         1\n",
      "dtype: int64\n",
      "Blank phone numbers (treated as missing): 1\n"
     ]
    }
   ],
   "source": [
    "import pandas as pd\n",
    "from io import StringIO\n",
    "\n",
    "# Sample customer_data.csv content with missing values and duplicates\n",
    "csv_data = \"\"\"\n",
    "CustomerID,Name,Email,Phone\n",
    "1,John Doe,john@example.com,1234567890\n",
    "2,Alice Smith,alice@example.com,0987654321\n",
    "3,Bob Johnson,bob@example.com,\n",
    "4,Diana Prince,diana@example.com,1234509876\n",
    "5,John Doe,john@example.com,1234567890\n",
    "6,Evan Davis,,9876543210\n",
    "7,Mike Brown,mike@example.com, \n",
    "\"\"\"\n",
    "\n",
    "# Load dataset from string (simulate reading 'customer_data.csv')\n",
    "df = pd.read_csv(StringIO(csv_data))\n",
    "\n",
    "# Part 1: Check missing values in 'Email' and 'Phone' columns\n",
    "missing_email = df['Email'].isnull().sum()\n",
    "missing_phone = df['Phone'].isnull().sum() + df['Phone'].str.strip().eq('').sum()\n",
    "\n",
    "print(f\"Missing values in 'Email' column: {missing_email}\")\n",
    "print(f\"Missing or blank values in 'Phone' column: {missing_phone}\")\n",
    "\n",
    "# Part 2: Identify duplicate emails\n",
    "duplicate_emails = df[df.duplicated(subset=['Email'], keep=False) & df['Email'].notnull()]\n",
    "print(\"\\nDuplicate email entries:\")\n",
    "print(duplicate_emails)\n",
    "\n",
    "# Part 3: Data Quality Report\n",
    "total_records = len(df)\n",
    "num_duplicates = df.duplicated().sum()\n",
    "missing_values = df.isnull().sum()\n",
    "\n",
    "print(\"\\nData Quality Report:\")\n",
    "print(f\"Total records: {total_records}\")\n",
    "print(f\"Duplicate rows: {num_duplicates}\")\n",
    "print(\"Missing values per column:\")\n",
    "print(missing_values)\n",
    "\n",
    "# Identify inconsistencies in 'Phone' (e.g., blanks counted as missing)\n",
    "blank_phones = df['Phone'].str.strip().eq('').sum()\n",
    "print(f\"Blank phone numbers (treated as missing): {blank_phones}\")\n",
    "\n",
    "\n",
    "\n",
    "\n",
    "\n",
    "\n",
    "\n"
   ]
  }
 ],
 "metadata": {
  "kernelspec": {
   "display_name": "Python 3",
   "language": "python",
   "name": "python3"
  },
  "language_info": {
   "codemirror_mode": {
    "name": "ipython",
    "version": 3
   },
   "file_extension": ".py",
   "mimetype": "text/x-python",
   "name": "python",
   "nbconvert_exporter": "python",
   "pygments_lexer": "ipython3",
   "version": "3.10.12"
  }
 },
 "nbformat": 4,
 "nbformat_minor": 2
}
