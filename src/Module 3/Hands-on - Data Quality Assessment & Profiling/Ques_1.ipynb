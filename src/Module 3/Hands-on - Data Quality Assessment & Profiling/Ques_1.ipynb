{
 "cells": [
  {
   "cell_type": "code",
   "execution_count": 4,
   "metadata": {},
   "outputs": [
    {
     "name": "stdout",
     "output_type": "stream",
     "text": [
      "   ID   Name  Age Department  Salary\n",
      "0   1   John   28      Sales   50000\n",
      "1   2  Alice   34  Marketing   60000\n",
      "2   3    Bob   23         IT   55000\n",
      "3   4  Diana   29         HR   52000\n",
      "4   5   Evan   31    Finance   58000\n"
     ]
    }
   ],
   "source": [
    "import pandas as pd\n",
    "from io import StringIO\n",
    "\n",
    "# Sample CSV data\n",
    "csv_data = \"\"\"\n",
    "ID,Name,Age,Department,Salary\n",
    "1,John,28,Sales,50000\n",
    "2,Alice,34,Marketing,60000\n",
    "3,Bob,23,IT,55000\n",
    "4,Diana,29,HR,52000\n",
    "5,Evan,31,Finance,58000\n",
    "\"\"\"\n",
    "\n",
    "# Load CSV data into DataFrame\n",
    "df = pd.read_csv(StringIO(csv_data))\n",
    "\n",
    "# Print first five rows\n",
    "print(df.head())\n"
   ]
  },
  {
   "cell_type": "code",
   "execution_count": 5,
   "metadata": {},
   "outputs": [
    {
     "name": "stdout",
     "output_type": "stream",
     "text": [
      "Columns with missing values and their counts:\n",
      "Age           1\n",
      "Department    1\n",
      "Salary        1\n",
      "dtype: int64\n"
     ]
    }
   ],
   "source": [
    "import pandas as pd\n",
    "from io import StringIO\n",
    "import numpy as np\n",
    "\n",
    "# Sample CSV data with missing values\n",
    "csv_data = \"\"\"\n",
    "ID,Name,Age,Department,Salary\n",
    "1,John,28,Sales,50000\n",
    "2,Alice,,Marketing,60000\n",
    "3,Bob,23,,55000\n",
    "4,Diana,29,HR,\n",
    "5,Evan,31,Finance,58000\n",
    "\"\"\"\n",
    "\n",
    "# Load CSV data into DataFrame\n",
    "df = pd.read_csv(StringIO(csv_data))\n",
    "\n",
    "# Identify columns with missing values and count them\n",
    "missing_values = df.isnull().sum()\n",
    "missing_values = missing_values[missing_values > 0]\n",
    "\n",
    "print(\"Columns with missing values and their counts:\")\n",
    "print(missing_values)\n"
   ]
  },
  {
   "cell_type": "code",
   "execution_count": 6,
   "metadata": {},
   "outputs": [
    {
     "data": {
      "image/png": "[encoded data removed]",
      "text/plain": [
       "<Figure size 640x480 with 1 Axes>"
      ]
     },
     "metadata": {},
     "output_type": "display_data"
    }
   ],
   "source": [
    "import pandas as pd\n",
    "from io import StringIO\n",
    "import seaborn as sns\n",
    "import matplotlib.pyplot as plt\n",
    "\n",
    "csv_data = \"\"\"\n",
    "ID,Name,Age,Department,Salary\n",
    "1,John,28,Sales,50000\n",
    "2,Alice,,Marketing,60000\n",
    "3,Bob,23,,55000\n",
    "4,Diana,29,HR,\n",
    "5,Evan,31,Finance,58000\n",
    "\"\"\"\n",
    "\n",
    "df = pd.read_csv(StringIO(csv_data))\n",
    "\n",
    "sns.heatmap(df.isnull(), cbar=False, cmap='viridis')\n",
    "plt.title('Heatmap of Missing Values')\n",
    "plt.show()\n"
   ]
  },
  {
   "cell_type": "code",
   "execution_count": 7,
   "metadata": {},
   "outputs": [
    {
     "name": "stdout",
     "output_type": "stream",
     "text": [
      "   ID   Name   Age Department   Salary\n",
      "0   1   John  28.0      Sales  50000.0\n",
      "1   2  Alice   NaN  Marketing  60000.0\n",
      "2   3    Bob  23.0        NaN  55000.0\n",
      "3   4  Diana  29.0         HR      NaN\n",
      "4   5   Evan  31.0    Finance  58000.0\n"
     ]
    }
   ],
   "source": [
    "import pandas as pd\n",
    "from io import StringIO\n",
    "\n",
    "csv_data = \"\"\"\n",
    "ID,Name,Age,Department,Salary,Notes\n",
    "1,John,28,Sales,50000,\n",
    "2,Alice,,Marketing,60000,\n",
    "3,Bob,23,,55000,\n",
    "4,Diana,29,HR,,\n",
    "5,Evan,31,Finance,58000,\n",
    "\"\"\"\n",
    "\n",
    "df = pd.read_csv(StringIO(csv_data))\n",
    "\n",
    "# Calculate threshold (50% of rows)\n",
    "threshold = len(df) * 0.5\n",
    "\n",
    "# Drop columns with more than 50% missing values\n",
    "df_cleaned = df.dropna(axis=1, thresh=threshold)\n",
    "\n",
    "print(df_cleaned)\n",
    "\n",
    "\n",
    "\n",
    "\n",
    "\n",
    "\n",
    "\n"
   ]
  },
  {
   "cell_type": "code",
   "execution_count": 8,
   "metadata": {},
   "outputs": [
    {
     "name": "stdout",
     "output_type": "stream",
     "text": [
      "Duplicate rows:\n",
      "   ID   Name  Age Department  Salary\n",
      "4   2  Alice   30  Marketing   60000\n"
     ]
    }
   ],
   "source": [
    "import pandas as pd\n",
    "from io import StringIO\n",
    "\n",
    "csv_data = \"\"\"\n",
    "ID,Name,Age,Department,Salary\n",
    "1,John,28,Sales,50000\n",
    "2,Alice,30,Marketing,60000\n",
    "3,Bob,23,IT,55000\n",
    "4,Diana,29,HR,52000\n",
    "2,Alice,30,Marketing,60000\n",
    "5,Evan,31,Finance,58000\n",
    "\"\"\"\n",
    "\n",
    "df = pd.read_csv(StringIO(csv_data))\n",
    "\n",
    "# Identify duplicate rows\n",
    "duplicates = df[df.duplicated()]\n",
    "\n",
    "print(\"Duplicate rows:\")\n",
    "print(duplicates)\n"
   ]
  },
  {
   "cell_type": "code",
   "execution_count": 9,
   "metadata": {},
   "outputs": [
    {
     "name": "stdout",
     "output_type": "stream",
     "text": [
      "   ID   Name  Age Department  Salary\n",
      "0   1   John   28      Sales   50000\n",
      "1   2  Alice   30  Marketing   60000\n",
      "2   3    Bob   23         IT   55000\n",
      "3   4  Diana   29         HR   52000\n",
      "5   5   Evan   31    Finance   58000\n"
     ]
    }
   ],
   "source": [
    "import pandas as pd\n",
    "from io import StringIO\n",
    "\n",
    "csv_data = \"\"\"\n",
    "ID,Name,Age,Department,Salary\n",
    "1,John,28,Sales,50000\n",
    "2,Alice,30,Marketing,60000\n",
    "3,Bob,23,IT,55000\n",
    "4,Diana,29,HR,52000\n",
    "2,Alice,30,Marketing,60000\n",
    "5,Evan,31,Finance,58000\n",
    "\"\"\"\n",
    "\n",
    "df = pd.read_csv(StringIO(csv_data))\n",
    "\n",
    "# Remove duplicate rows\n",
    "df_no_duplicates = df.drop_duplicates()\n",
    "\n",
    "# Verify duplicates removed\n",
    "print(df_no_duplicates)\n"
   ]
  },
  {
   "cell_type": "code",
   "execution_count": 10,
   "metadata": {},
   "outputs": [
    {
     "name": "stdout",
     "output_type": "stream",
     "text": [
      "Unique values in 'Department' column:\n",
      "['Sales' 'marketing' 'IT' ' HR ' 'Finance' 'sales']\n"
     ]
    }
   ],
   "source": [
    "import pandas as pd\n",
    "from io import StringIO\n",
    "\n",
    "csv_data = \"\"\"\n",
    "ID,Name,Age,Department,Salary\n",
    "1,John,28,Sales,50000\n",
    "2,Alice,30,marketing,60000\n",
    "3,Bob,23,IT,55000\n",
    "4,Diana,29, HR ,52000\n",
    "5,Evan,31,Finance,58000\n",
    "6,Mike,27,sales,51000\n",
    "\"\"\"\n",
    "\n",
    "df = pd.read_csv(StringIO(csv_data))\n",
    "\n",
    "# Check unique values in 'Department' column to identify inconsistencies\n",
    "unique_departments = df['Department'].unique()\n",
    "print(\"Unique values in 'Department' column:\")\n",
    "print(unique_departments)\n"
   ]
  },
  {
   "cell_type": "code",
   "execution_count": 11,
   "metadata": {},
   "outputs": [
    {
     "name": "stdout",
     "output_type": "stream",
     "text": [
      "Total records: 8\n",
      "Number of duplicate rows: 1\n",
      "Columns with missing values and their counts:\n",
      "Name    1\n",
      "dtype: int64\n"
     ]
    }
   ],
   "source": [
    "import pandas as pd\n",
    "from io import StringIO\n",
    "\n",
    "csv_data = \"\"\"\n",
    "ID,Name,Age,Department,Salary\n",
    "1,John,28,Sales,50000\n",
    "2,Alice,30,marketing,60000\n",
    "3,Bob,23,IT,55000\n",
    "4,Diana,29, HR ,52000\n",
    "5,Evan,31,Finance,58000\n",
    "2,Alice,30,marketing,60000\n",
    "6,Mike,27,sales,51000\n",
    "7,,25,IT,49000\n",
    "\"\"\"\n",
    "\n",
    "df = pd.read_csv(StringIO(csv_data))\n",
    "\n",
    "# Total records\n",
    "total_records = len(df)\n",
    "\n",
    "# Number of duplicate rows\n",
    "num_duplicates = df.duplicated().sum()\n",
    "\n",
    "# Columns with missing values and counts\n",
    "missing_values = df.isnull().sum()\n",
    "missing_columns = missing_values[missing_values > 0]\n",
    "\n",
    "print(f\"Total records: {total_records}\")\n",
    "print(f\"Number of duplicate rows: {num_duplicates}\")\n",
    "print(\"Columns with missing values and their counts:\")\n",
    "print(missing_columns)\n"
   ]
  },
  {
   "cell_type": "code",
   "execution_count": 12,
   "metadata": {},
   "outputs": [
    {
     "name": "stdout",
     "output_type": "stream",
     "text": [
      "Missing Values:\n",
      "ID            0\n",
      "Name          1\n",
      "Age           0\n",
      "Department    0\n",
      "Salary        0\n",
      "dtype: int64\n",
      "\n",
      "Numerical Columns Statistics:\n",
      "            ID        Age       Salary\n",
      "count  8.00000   8.000000      8.00000\n",
      "mean   3.75000  27.875000  54375.00000\n",
      "std    2.12132   2.748376   4501.98369\n",
      "min    1.00000  23.000000  49000.00000\n",
      "25%    2.00000  26.500000  50750.00000\n",
      "50%    3.50000  28.500000  53500.00000\n",
      "75%    5.25000  30.000000  58500.00000\n",
      "max    7.00000  31.000000  60000.00000\n",
      "\n",
      "Categorical Columns Distribution:\n",
      "\n",
      "Name distribution:\n",
      "Name\n",
      "Alice    2\n",
      "John     1\n",
      "Bob      1\n",
      "Diana    1\n",
      "Evan     1\n",
      "Mike     1\n",
      "NaN      1\n",
      "Name: count, dtype: int64\n",
      "\n",
      "Department distribution:\n",
      "Department\n",
      "marketing    2\n",
      "IT           2\n",
      "Sales        1\n",
      " HR          1\n",
      "Finance      1\n",
      "sales        1\n",
      "Name: count, dtype: int64\n"
     ]
    }
   ],
   "source": [
    "import pandas as pd\n",
    "from io import StringIO\n",
    "\n",
    "csv_data = \"\"\"\n",
    "ID,Name,Age,Department,Salary\n",
    "1,John,28,Sales,50000\n",
    "2,Alice,30,marketing,60000\n",
    "3,Bob,23,IT,55000\n",
    "4,Diana,29, HR ,52000\n",
    "5,Evan,31,Finance,58000\n",
    "2,Alice,30,marketing,60000\n",
    "6,Mike,27,sales,51000\n",
    "7,,25,IT,49000\n",
    "\"\"\"\n",
    "\n",
    "df = pd.read_csv(StringIO(csv_data))\n",
    "\n",
    "# Missing values per column\n",
    "missing_values = df.isnull().sum()\n",
    "\n",
    "# Basic statistics for numerical columns\n",
    "numeric_stats = df.describe()\n",
    "\n",
    "# Distribution of categorical columns\n",
    "categorical_cols = df.select_dtypes(include=['object']).columns\n",
    "categorical_dist = {col: df[col].value_counts(dropna=False) for col in categorical_cols}\n",
    "\n",
    "print(\"Missing Values:\")\n",
    "print(missing_values)\n",
    "print(\"\\nNumerical Columns Statistics:\")\n",
    "print(numeric_stats)\n",
    "print(\"\\nCategorical Columns Distribution:\")\n",
    "for col, dist in categorical_dist.items():\n",
    "    print(f\"\\n{col} distribution:\")\n",
    "    print(dist)\n"
   ]
  },
  {
   "cell_type": "code",
   "execution_count": 13,
   "metadata": {},
   "outputs": [
    {
     "name": "stdout",
     "output_type": "stream",
     "text": [
      "   ID   Name        Age Department  Salary\n",
      "0   1   John  28.000000      Sales   50000\n",
      "1   2  Alice  30.000000  marketing   60000\n",
      "2   3    Bob  23.000000         IT   55000\n",
      "3   4  Diana  29.000000        HR    52000\n",
      "4   5   Evan  31.000000    Finance   58000\n",
      "5   2  Alice  30.000000  marketing   60000\n",
      "6   6   Mike  27.000000      sales   51000\n",
      "7   7  Alice  25.000000         IT   49000\n",
      "8   8    Tom  27.666667         HR   53000\n",
      "9   9   Lisa  26.000000         IT   54000\n"
     ]
    },
    {
     "name": "stderr",
     "output_type": "stream",
     "text": [
      "/tmp/ipykernel_11758/3039837012.py:25: FutureWarning: A value is trying to be set on a copy of a DataFrame or Series through chained assignment using an inplace method.\n",
      "The behavior will change in pandas 3.0. This inplace method will never work because the intermediate object on which we are setting values always behaves as a copy.\n",
      "\n",
      "For example, when doing 'df[col].method(value, inplace=True)', try using 'df.method({col: value}, inplace=True)' or df[col] = df[col].method(value) instead, to perform the operation inplace on the original object.\n",
      "\n",
      "\n",
      "  df[col].fillna(mean_val, inplace=True)\n",
      "/tmp/ipykernel_11758/3039837012.py:31: FutureWarning: A value is trying to be set on a copy of a DataFrame or Series through chained assignment using an inplace method.\n",
      "The behavior will change in pandas 3.0. This inplace method will never work because the intermediate object on which we are setting values always behaves as a copy.\n",
      "\n",
      "For example, when doing 'df[col].method(value, inplace=True)', try using 'df.method({col: value}, inplace=True)' or df[col] = df[col].method(value) instead, to perform the operation inplace on the original object.\n",
      "\n",
      "\n",
      "  df[col].fillna(mode_val, inplace=True)\n"
     ]
    }
   ],
   "source": [
    "import pandas as pd\n",
    "from io import StringIO\n",
    "from scipy.stats import mode\n",
    "\n",
    "csv_data = \"\"\"\n",
    "ID,Name,Age,Department,Salary\n",
    "1,John,28,Sales,50000\n",
    "2,Alice,30,marketing,60000\n",
    "3,Bob,23,IT,55000\n",
    "4,Diana,29, HR ,52000\n",
    "5,Evan,31,Finance,58000\n",
    "2,Alice,30,marketing,60000\n",
    "6,Mike,27,sales,51000\n",
    "7,,25,IT,49000\n",
    "8,Tom,,HR,53000\n",
    "9,Lisa,26,,54000\n",
    "\"\"\"\n",
    "\n",
    "df = pd.read_csv(StringIO(csv_data))\n",
    "\n",
    "# Impute numerical columns with mean\n",
    "num_cols = df.select_dtypes(include=['number']).columns\n",
    "for col in num_cols:\n",
    "    mean_val = df[col].mean()\n",
    "    df[col].fillna(mean_val, inplace=True)\n",
    "\n",
    "# Impute categorical columns with mode\n",
    "cat_cols = df.select_dtypes(include=['object']).columns\n",
    "for col in cat_cols:\n",
    "    mode_val = df[col].mode()[0]\n",
    "    df[col].fillna(mode_val, inplace=True)\n",
    "\n",
    "print(df)\n"
   ]
  }
 ],
 "metadata": {
  "kernelspec": {
   "display_name": "Python 3",
   "language": "python",
   "name": "python3"
  },
  "language_info": {
   "codemirror_mode": {
    "name": "ipython",
    "version": 3
   },
   "file_extension": ".py",
   "mimetype": "text/x-python",
   "name": "python",
   "nbconvert_exporter": "python",
   "pygments_lexer": "ipython3",
   "version": "3.10.12"
  }
 },
 "nbformat": 4,
 "nbformat_minor": 2
}
