{
 "cells": [
  {
   "cell_type": "code",
   "execution_count": 2,
   "metadata": {},
   "outputs": [
    {
     "name": "stdout",
     "output_type": "stream",
     "text": [
      "Completeness (Email): 0.86\n",
      "Completeness (Phone): 0.86\n",
      "Uniqueness (Email): 0.83\n",
      "Consistency (Email Format): 0.71\n",
      "Overall Data Quality Score: 0.82\n",
      "\n",
      "Suggested Improvements:\n",
      "- Improve Email completeness by filling missing emails.\n",
      "- Improve Phone completeness by filling missing phone numbers.\n",
      "- Remove or merge duplicate email entries.\n",
      "- Fix invalid email formats.\n"
     ]
    }
   ],
   "source": [
    "import pandas as pd\n",
    "import numpy as np\n",
    "from io import StringIO\n",
    "\n",
    "# Sample customer dataset for Task 1\n",
    "csv_customer = \"\"\"\n",
    "CustomerID,Name,Email,Phone,Country\n",
    "1,John Doe,john@example.com,1234567890,USA\n",
    "2,Jane Smith,,1234567890,USA\n",
    "3,Bob Lee,bob@example.com,2345678901,UK\n",
    "4,Alice Brown,alice@example.com,2345678901,UK\n",
    "5,Tom Clark,tom@example,3456789012,Canada\n",
    "6,Mary Johnson,mary@example.com,,Canada\n",
    "7,Mary Johnson,mary@example.com,3456789012,Canada\n",
    "\"\"\"\n",
    "\n",
    "# Load the dataset from the CSV string\n",
    "df_customer = pd.read_csv(StringIO(csv_customer))\n",
    "\n",
    "# Task 1: Scoring Completeness, Uniqueness, Consistency\n",
    "\n",
    "# Completeness score = % non-missing in important fields (Email, Phone)\n",
    "completeness_email = df_customer['Email'].notna().mean()\n",
    "completeness_phone = df_customer['Phone'].notna().mean()\n",
    "\n",
    "# Uniqueness score = % unique values in Email (should be unique per customer)\n",
    "uniqueness_email = df_customer['Email'].nunique() / df_customer['Email'].count()\n",
    "\n",
    "# Consistency score: Check email format validity (basic check for '@' and '.')\n",
    "def valid_email(email):\n",
    "    if pd.isna(email):\n",
    "        return False\n",
    "    return ('@' in email) and ('.' in email)\n",
    "\n",
    "email_validity = df_customer['Email'].apply(valid_email)\n",
    "consistency_email = email_validity.mean()\n",
    "\n",
    "# Overall data quality score (simple average)\n",
    "overall_score = np.mean([completeness_email, completeness_phone, uniqueness_email, consistency_email])\n",
    "\n",
    "# Print scores\n",
    "print(f\"Completeness (Email): {completeness_email:.2f}\")\n",
    "print(f\"Completeness (Phone): {completeness_phone:.2f}\")\n",
    "print(f\"Uniqueness (Email): {uniqueness_email:.2f}\")\n",
    "print(f\"Consistency (Email Format): {consistency_email:.2f}\")\n",
    "print(f\"Overall Data Quality Score: {overall_score:.2f}\")\n",
    "\n",
    "# Identify areas for improvement\n",
    "improvements = []\n",
    "if completeness_email < 1.0:\n",
    "    improvements.append(\"Improve Email completeness by filling missing emails.\")\n",
    "if completeness_phone < 1.0:\n",
    "    improvements.append(\"Improve Phone completeness by filling missing phone numbers.\")\n",
    "if uniqueness_email < 1.0:\n",
    "    improvements.append(\"Remove or merge duplicate email entries.\")\n",
    "if consistency_email < 1.0:\n",
    "    improvements.append(\"Fix invalid email formats.\")\n",
    "\n",
    "print(\"\\nSuggested Improvements:\")\n",
    "for imp in improvements:\n",
    "    print(f\"- {imp}\")"
   ]
  }
 ],
 "metadata": {
  "kernelspec": {
   "display_name": "Python 3",
   "language": "python",
   "name": "python3"
  },
  "language_info": {
   "codemirror_mode": {
    "name": "ipython",
    "version": 3
   },
   "file_extension": ".py",
   "mimetype": "text/x-python",
   "name": "python",
   "nbconvert_exporter": "python",
   "pygments_lexer": "ipython3",
   "version": "3.10.12"
  }
 },
 "nbformat": 4,
 "nbformat_minor": 2
}
