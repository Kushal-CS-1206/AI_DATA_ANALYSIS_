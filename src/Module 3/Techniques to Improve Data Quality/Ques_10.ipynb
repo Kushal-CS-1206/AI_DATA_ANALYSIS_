{
 "cells": [
  {
   "cell_type": "code",
   "execution_count": 1,
   "metadata": {},
   "outputs": [
    {
     "name": "stdout",
     "output_type": "stream",
     "text": [
      "   id        name              email         address\n",
      "0   3  Jane Smith   jane@example.com      456 Oak St\n",
      "1   4      J. Doe  j.doe@example.com     123 Elm St.\n",
      "2   2     Jon Doe    jon@example.com  123 Elm Street\n",
      "3   1    John Doe   john@example.com      123 Elm St\n"
     ]
    }
   ],
   "source": [
    "import pandas as pd\n",
    "from io import StringIO\n",
    "from sklearn.feature_extraction.text import TfidfVectorizer\n",
    "from sklearn.metrics.pairwise import cosine_similarity\n",
    "from sklearn.cluster import AgglomerativeClustering\n",
    "\n",
    "csv_data = \"\"\"id,name,email,address\n",
    "1,John Doe,john@example.com,123 Elm St\n",
    "2,Jon Doe,jon@example.com,123 Elm Street\n",
    "3,Jane Smith,jane@example.com,456 Oak St\n",
    "4,J. Doe,j.doe@example.com,123 Elm St.\n",
    "5,Jane S.,jane.s@example.com,456 Oak Street\n",
    "\"\"\"\n",
    "\n",
    "df = pd.read_csv(StringIO(csv_data))\n",
    "df['combined'] = df['name'] + \" \" + df['email'] + \" \" + df['address']\n",
    "\n",
    "vectorizer = TfidfVectorizer().fit_transform(df['combined'])\n",
    "cosine_sim = cosine_similarity(vectorizer)\n",
    "\n",
    "clustering = AgglomerativeClustering(\n",
    "    n_clusters=None,\n",
    "    metric='precomputed',   # changed fromaffinity to metric\n",
    "    linkage='complete',\n",
    "    distance_threshold=0.3\n",
    ")\n",
    "labels = clustering.fit_predict(1 - cosine_sim)\n",
    "\n",
    "df['cluster'] = labels\n",
    "\n",
    "deduped_df = df.groupby('cluster').first().reset_index(drop=True)\n",
    "print(deduped_df[['id', 'name', 'email', 'address']])"
   ]
  }
 ],
 "metadata": {
  "kernelspec": {
   "display_name": "Python 3",
   "language": "python",
   "name": "python3"
  },
  "language_info": {
   "codemirror_mode": {
    "name": "ipython",
    "version": 3
   },
   "file_extension": ".py",
   "mimetype": "text/x-python",
   "name": "python",
   "nbconvert_exporter": "python",
   "pygments_lexer": "ipython3",
   "version": "3.10.12"
  }
 },
 "nbformat": 4,
 "nbformat_minor": 2
}
