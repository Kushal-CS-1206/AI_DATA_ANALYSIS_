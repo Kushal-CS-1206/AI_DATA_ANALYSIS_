{
 "cells": [
  {
   "cell_type": "markdown",
   "metadata": {},
   "source": [
    "gfhfh"
   ]
  },
  {
   "cell_type": "code",
   "execution_count": 1,
   "metadata": {},
   "outputs": [
    {
     "name": "stdout",
     "output_type": "stream",
     "text": [
      "7. Complete duplicate rows:\n",
      "Empty DataFrame\n",
      "Columns: [id, name, age, salary, department]\n",
      "Index: []\n",
      "\n",
      "8. Duplicates based on name, age, salary columns:\n",
      "   id   name  age  salary department\n",
      "0   1  Alice   25   50000         HR\n",
      "1   2    Bob   30   60000    Finance\n",
      "3   4  Alice   25   50000         HR\n",
      "5   6    Bob   30   60000    Finance\n",
      "\n",
      "9. Number of duplicate rows: 0\n"
     ]
    }
   ],
   "source": [
    "import pandas as pd\n",
    "from io import StringIO\n",
    "\n",
    "# Sample CSV data with duplicates.\n",
    "csv_data = \"\"\"\n",
    "id,name,age,salary,department\n",
    "1,Alice,25,50000,HR\n",
    "2,Bob,30,60000,Finance\n",
    "3,Charlie,30,60000,Finance\n",
    "4,Alice,25,50000,HR\n",
    "5,Eve,28,52000,HR\n",
    "6,Bob,30,60000,Finance\n",
    "\"\"\"\n",
    "\n",
    "df = pd.read_csv(StringIO(csv_data))\n",
    "\n",
    "# 7. Identify Complete Duplicates (all columns)\n",
    "complete_duplicates = df[df.duplicated(keep=False)]\n",
    "print(\"7. Complete duplicate rows:\")\n",
    "print(complete_duplicates)\n",
    "\n",
    "# 8. Identify Duplicates based on Specific Columns (e.g., name, age, salary)\n",
    "specific_cols_duplicates = df[df.duplicated(subset=['name', 'age', 'salary'], keep=False)]\n",
    "print(\"\\n8. Duplicates based on name, age, salary columns:\")\n",
    "print(specific_cols_duplicates)\n",
    "\n",
    "# 9. Count Duplicate Rows (complete duplicates)\n",
    "num_duplicates = df.duplicated().sum()\n",
    "print(f\"\\n9. Number of duplicate rows: {num_duplicates}\")\n"
   ]
  },
  {
   "cell_type": "code",
   "execution_count": 2,
   "metadata": {},
   "outputs": [
    {
     "name": "stdout",
     "output_type": "stream",
     "text": [
      "10. Data after removing complete duplicates (keep first):\n",
      "   id     name  age  salary department\n",
      "0   1    Alice   25   50000         HR\n",
      "1   2      Bob   30   60000    Finance\n",
      "2   3  Charlie   30   60000    Finance\n",
      "3   4    Alice   25   50000         HR\n",
      "4   5      Eve   28   52000         HR\n",
      "5   6      Bob   30   60000    Finance\n",
      "\n",
      "11. Data after removing duplicates based on subset columns (keep first):\n",
      "   id     name  age  salary department\n",
      "0   1    Alice   25   50000         HR\n",
      "1   2      Bob   30   60000    Finance\n",
      "2   3  Charlie   30   60000    Finance\n",
      "4   5      Eve   28   52000         HR\n",
      "\n",
      "12. Data after removing duplicates (keep last occurrence):\n",
      "   id     name  age  salary department\n",
      "0   1    Alice   25   50000         HR\n",
      "1   2      Bob   30   60000    Finance\n",
      "2   3  Charlie   30   60000    Finance\n",
      "3   4    Alice   25   50000         HR\n",
      "4   5      Eve   28   52000         HR\n",
      "5   6      Bob   30   60000    Finance\n"
     ]
    }
   ],
   "source": [
    "\n",
    "df_no_complete_duplicates = df.drop_duplicates(keep='first')\n",
    "print(\"10. Data after removing complete duplicates (keep first):\")\n",
    "print(df_no_complete_duplicates)\n",
    "\n",
    "# 11. Subset Deduplication (based on name, age, salary columns)\n",
    "df_no_subset_duplicates = df.drop_duplicates(subset=['name', 'age', 'salary'], keep='first')\n",
    "print(\"\\n11. Data after removing duplicates based on subset columns (keep first):\")\n",
    "print(df_no_subset_duplicates)\n",
    "\n",
    "# 12. Keep Last Occurrence when dropping duplicates (complete duplicates)\n",
    "df_keep_last = df.drop_duplicates(keep='last')\n",
    "print(\"\\n12. Data after removing duplicates (keep last occurrence):\")\n",
    "print(df_keep_last)"
   ]
  }
 ],
 "metadata": {
  "kernelspec": {
   "display_name": "Python 3",
   "language": "python",
   "name": "python3"
  },
  "language_info": {
   "codemirror_mode": {
    "name": "ipython",
    "version": 3
   },
   "file_extension": ".py",
   "mimetype": "text/x-python",
   "name": "python",
   "nbconvert_exporter": "python",
   "pygments_lexer": "ipython3",
   "version": "3.10.12"
  }
 },
 "nbformat": 4,
 "nbformat_minor": 2
}
