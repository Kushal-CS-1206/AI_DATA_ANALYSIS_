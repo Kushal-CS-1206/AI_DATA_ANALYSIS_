{
 "cells": [
  {
   "cell_type": "code",
   "execution_count": 1,
   "metadata": {},
   "outputs": [
    {
     "name": "stdout",
     "output_type": "stream",
     "text": [
      "         date   age                 email\n",
      "0  2022-01-12  25.0  john.doe@example.com\n",
      "1         NaN   NaN                  None\n",
      "2         NaN  40.0        alice@mail.com\n",
      "3         NaN   NaN                  None\n"
     ]
    }
   ],
   "source": [
    "import pandas as pd\n",
    "import re\n",
    "\n",
    "# Sample data including date, age, and email columns\n",
    "data = {\n",
    "    \"date\": [\"01/12/2022\", \"2022-05-20\", \"March 3, 2023\", \"2023/04/15\"],\n",
    "    \"age\": [25, -3, 40, 0],\n",
    "    \"email\": [\"john.doe@example.com\", \"invalid-email\", \"alice@mail.com\", \"bob@website\"]\n",
    "}\n",
    "df = pd.DataFrame(data)\n",
    "\n",
    "# 13. Date Format Standardization to YYYY-MM-DD\n",
    "df['date'] = pd.to_datetime(df['date'], errors='coerce').dt.strftime('%Y-%m-%d')\n",
    "\n",
    "# 14. Numeric Constraints Enforcement (age > 0)\n",
    "df['age'] = df['age'].apply(lambda x: x if x > 0 else None)\n",
    "\n",
    "# 15. String Format Checks: Validate email format using regex\n",
    "email_pattern = re.compile(r\"^[a-zA-Z0-9_.+-]+@[a-zA-Z0-9-]+\\.[a-zA-Z0-9-.]+$\")\n",
    "\n",
    "def validate_email(email):\n",
    "    return email if email_pattern.match(email) else None\n",
    "\n",
    "df['email'] = df['email'].apply(validate_email)\n",
    "\n",
    "print(df)\n"
   ]
  },
  {
   "cell_type": "code",
   "execution_count": 2,
   "metadata": {},
   "outputs": [
    {
     "name": "stdout",
     "output_type": "stream",
     "text": [
      "         date           phone           name\n",
      "0  2022-01-12  (123) 456-7890    ALICE SMITH\n",
      "1  2022-05-20  (123) 456-7890    BOB JOHNSON\n",
      "2  2023-03-03  (123) 456-7890  CHARLIE BROWN\n",
      "3  2023-04-15  (123) 456-7890    DIANA WHITE\n",
      "4  2023-04-15  (123) 456-7890      EVE BLACK\n"
     ]
    },
    {
     "name": "stderr",
     "output_type": "stream",
     "text": [
      "/tmp/ipykernel_22953/1933439878.py:13: UserWarning: Could not infer format, so each element will be parsed individually, falling back to `dateutil`. To ensure parsing is consistent and as-expected, please specify a format.\n",
      "  df['date'] = pd.to_datetime(df['date'], errors='coerce').dt.strftime('%Y-%m-%d')\n"
     ]
    }
   ],
   "source": [
    "import pandas as pd\n",
    "import re\n",
    "\n",
    "# Sample data with inconsistent date formats, phone numbers, and mixed case text\n",
    "data = {\n",
    "    \"date\": [\"01/12/22\", \"2022-5-20\", \"March 3, 2023\", \"15-Apr-2023\", \"2023/04/15\"],\n",
    "    \"phone\": [\"123-456-7890\", \"1234567890\", \"(123)456-7890\", \"123.456.7890\", \"+1 123 456 7890\"],\n",
    "    \"name\": [\"Alice Smith\", \"bob JOHNSON\", \"Charlie Brown\", \"diana WHITE\", \"Eve Black\"]\n",
    "}\n",
    "df = pd.DataFrame(data)\n",
    "\n",
    "# 16. Standardizing Date Formats (all to YYYY-MM-DD)\n",
    "df['date'] = pd.to_datetime(df['date'], errors='coerce').dt.strftime('%Y-%m-%d')\n",
    "\n",
    "# 17. Standardize phone numbers to (123) 456-7890 format\n",
    "def standardize_phone(phone):\n",
    "    digits = re.sub(r'\\D', '', phone)  # remove all non-digit characters\n",
    "    if len(digits) == 11 and digits.startswith('1'):\n",
    "        digits = digits[1:]  # remove leading country code if US number\n",
    "    if len(digits) == 10:\n",
    "        return f\"({digits[:3]}) {digits[3:6]}-{digits[6:]}\"\n",
    "    return None  # invalid phone number\n",
    "\n",
    "df['phone'] = df['phone'].apply(standardize_phone)\n",
    "\n",
    "# 18. Convert all text entries in 'name' to uppercase\n",
    "df['name'] = df['name'].str.upper()\n",
    "\n",
    "print(df)\n"
   ]
  }
 ],
 "metadata": {
  "kernelspec": {
   "display_name": "Python 3",
   "language": "python",
   "name": "python3"
  },
  "language_info": {
   "codemirror_mode": {
    "name": "ipython",
    "version": 3
   },
   "file_extension": ".py",
   "mimetype": "text/x-python",
   "name": "python",
   "nbconvert_exporter": "python",
   "pygments_lexer": "ipython3",
   "version": "3.10.12"
  }
 },
 "nbformat": 4,
 "nbformat_minor": 2
}
