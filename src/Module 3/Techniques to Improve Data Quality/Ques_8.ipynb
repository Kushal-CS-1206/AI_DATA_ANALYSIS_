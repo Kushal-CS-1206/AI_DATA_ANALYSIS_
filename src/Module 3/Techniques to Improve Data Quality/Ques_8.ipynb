{
 "cells": [
  {
   "cell_type": "code",
   "execution_count": 1,
   "metadata": {},
   "outputs": [
    {
     "name": "stderr",
     "output_type": "stream",
     "text": [
      "/home/vscode/.local/lib/python3.10/site-packages/great_expectations/expectations/expectation.py:1464: UserWarning: `result_format` configured at the Validator-level will not be persisted. Please add the configuration to your Checkpoint config or checkpoint_run() method instead.\n",
      "  warnings.warn(\n",
      "Calculating Metrics: 100%|██████████| 6/6 [00:00<00:00, 694.67it/s] \n"
     ]
    },
    {
     "ename": "DataContextRequiredError",
     "evalue": "This action requires an active data context. Please call `great_expectations.get_context()` first, then try your action again.",
     "output_type": "error",
     "traceback": [
      "\u001b[0;31m---------------------------------------------------------------------------\u001b[0m",
      "\u001b[0;31mDataContextRequiredError\u001b[0m                  Traceback (most recent call last)",
      "Cell \u001b[0;32mIn[1], line 31\u001b[0m\n\u001b[1;32m     28\u001b[0m validator \u001b[38;5;241m=\u001b[39m Validator(execution_engine\u001b[38;5;241m=\u001b[39mengine, batches\u001b[38;5;241m=\u001b[39m[batch])\n\u001b[1;32m     30\u001b[0m \u001b[38;5;66;03m# Run expectation: expect no nulls in 'age' column\u001b[39;00m\n\u001b[0;32m---> 31\u001b[0m result \u001b[38;5;241m=\u001b[39m \u001b[43mvalidator\u001b[49m\u001b[38;5;241;43m.\u001b[39;49m\u001b[43mexpect_column_values_to_not_be_null\u001b[49m\u001b[43m(\u001b[49m\u001b[43mcolumn\u001b[49m\u001b[38;5;241;43m=\u001b[39;49m\u001b[38;5;124;43m\"\u001b[39;49m\u001b[38;5;124;43mage\u001b[39;49m\u001b[38;5;124;43m\"\u001b[39;49m\u001b[43m)\u001b[49m\n\u001b[1;32m     33\u001b[0m \u001b[38;5;28mprint\u001b[39m(\u001b[38;5;124m\"\u001b[39m\u001b[38;5;124mExpectation result:\u001b[39m\u001b[38;5;124m\"\u001b[39m, result)\n\u001b[1;32m     35\u001b[0m \u001b[38;5;66;03m# To see if any nulls exist\u001b[39;00m\n",
      "File \u001b[0;32m~/.local/lib/python3.10/site-packages/great_expectations/validator/validator.py:550\u001b[0m, in \u001b[0;36mValidator.validate_expectation.<locals>.inst_expectation\u001b[0;34m(*args, **kwargs)\u001b[0m\n\u001b[1;32m    547\u001b[0m     \u001b[38;5;28;01melse\u001b[39;00m:\n\u001b[1;32m    548\u001b[0m         \u001b[38;5;28;01mraise\u001b[39;00m err  \u001b[38;5;66;03m# noqa: TRY201 # FIXME CoP\u001b[39;00m\n\u001b[0;32m--> 550\u001b[0m \u001b[38;5;28;01mif\u001b[39;00m \u001b[38;5;28;43mself\u001b[39;49m\u001b[38;5;241;43m.\u001b[39;49m\u001b[43m_include_rendered_content\u001b[49m:\n\u001b[1;32m    551\u001b[0m     validation_result\u001b[38;5;241m.\u001b[39mrender()\n\u001b[1;32m    553\u001b[0m \u001b[38;5;28;01mreturn\u001b[39;00m validation_result\n",
      "File \u001b[0;32m~/.local/lib/python3.10/site-packages/great_expectations/validator/validator.py:190\u001b[0m, in \u001b[0;36mValidator._include_rendered_content\u001b[0;34m(self)\u001b[0m\n\u001b[1;32m    188\u001b[0m \u001b[38;5;129m@property\u001b[39m\n\u001b[1;32m    189\u001b[0m \u001b[38;5;28;01mdef\u001b[39;00m\u001b[38;5;250m \u001b[39m\u001b[38;5;21m_include_rendered_content\u001b[39m(\u001b[38;5;28mself\u001b[39m) \u001b[38;5;241m-\u001b[39m\u001b[38;5;241m>\u001b[39m \u001b[38;5;28mbool\u001b[39m:\n\u001b[0;32m--> 190\u001b[0m     \u001b[38;5;28;01mreturn\u001b[39;00m \u001b[43mproject_manager\u001b[49m\u001b[38;5;241;43m.\u001b[39;49m\u001b[43mis_using_cloud\u001b[49m\u001b[43m(\u001b[49m\u001b[43m)\u001b[49m\n",
      "File \u001b[0;32m~/.local/lib/python3.10/site-packages/great_expectations/data_context/data_context/context_factory.py:127\u001b[0m, in \u001b[0;36mProjectManager.is_using_cloud\u001b[0;34m(self)\u001b[0m\n\u001b[1;32m    124\u001b[0m \u001b[38;5;28;01mdef\u001b[39;00m\u001b[38;5;250m \u001b[39m\u001b[38;5;21mis_using_cloud\u001b[39m(\u001b[38;5;28mself\u001b[39m) \u001b[38;5;241m-\u001b[39m\u001b[38;5;241m>\u001b[39m \u001b[38;5;28mbool\u001b[39m:\n\u001b[1;32m    125\u001b[0m     \u001b[38;5;28;01mfrom\u001b[39;00m\u001b[38;5;250m \u001b[39m\u001b[38;5;21;01mgreat_expectations\u001b[39;00m\u001b[38;5;21;01m.\u001b[39;00m\u001b[38;5;21;01mdata_context\u001b[39;00m\u001b[38;5;250m \u001b[39m\u001b[38;5;28;01mimport\u001b[39;00m CloudDataContext\n\u001b[0;32m--> 127\u001b[0m     \u001b[38;5;28;01mreturn\u001b[39;00m \u001b[38;5;28misinstance\u001b[39m(\u001b[38;5;28;43mself\u001b[39;49m\u001b[38;5;241;43m.\u001b[39;49m\u001b[43m_project\u001b[49m, CloudDataContext)\n",
      "File \u001b[0;32m~/.local/lib/python3.10/site-packages/great_expectations/data_context/data_context/context_factory.py:97\u001b[0m, in \u001b[0;36mProjectManager._project\u001b[0;34m(self)\u001b[0m\n\u001b[1;32m     94\u001b[0m \u001b[38;5;129m@property\u001b[39m\n\u001b[1;32m     95\u001b[0m \u001b[38;5;28;01mdef\u001b[39;00m\u001b[38;5;250m \u001b[39m\u001b[38;5;21m_project\u001b[39m(\u001b[38;5;28mself\u001b[39m) \u001b[38;5;241m-\u001b[39m\u001b[38;5;241m>\u001b[39m AbstractDataContext:\n\u001b[1;32m     96\u001b[0m     \u001b[38;5;28;01mif\u001b[39;00m \u001b[38;5;129;01mnot\u001b[39;00m \u001b[38;5;28mself\u001b[39m\u001b[38;5;241m.\u001b[39m__project:\n\u001b[0;32m---> 97\u001b[0m         \u001b[38;5;28;01mraise\u001b[39;00m DataContextRequiredError()\n\u001b[1;32m     98\u001b[0m     \u001b[38;5;28;01mreturn\u001b[39;00m \u001b[38;5;28mself\u001b[39m\u001b[38;5;241m.\u001b[39m__project\n",
      "\u001b[0;31mDataContextRequiredError\u001b[0m: This action requires an active data context. Please call `great_expectations.get_context()` first, then try your action again."
     ]
    }
   ],
   "source": [
    "import pandas as pd\n",
    "from io import StringIO\n",
    "\n",
    "import great_expectations as ge\n",
    "from great_expectations.execution_engine.pandas_execution_engine import PandasExecutionEngine\n",
    "from great_expectations.validator.validator import Validator\n",
    "from great_expectations.core.batch import Batch\n",
    "\n",
    "# Sample CSV data with missing values 'age'\n",
    "csv_data = \"\"\"id,name,age\n",
    "1,Alice,25\n",
    "2,Bob,\n",
    "3,Charlie,30\n",
    "4,David,22\n",
    "5,Eva,\n",
    "\"\"\"\n",
    "\n",
    "# Load sample data\n",
    "df = pd.read_csv(StringIO(csv_data))\n",
    "\n",
    "# Create PandasExecutionEngine with batch_data_dict: key is batch_id, value is DataFrame\n",
    "engine = PandasExecutionEngine(batch_data_dict={\"default_batch\": df})\n",
    "\n",
    "# Create Batch with minimal info: BatchDefinition is deprecated in this version, so just use Batch with batch_definition=None\n",
    "batch = Batch(data=df, batch_definition=None)\n",
    "\n",
    "# Create Validator instance using the engine and batch\n",
    "validator = Validator(execution_engine=engine, batches=[batch])\n",
    "\n",
    "# Run expectation: expect no nulls in 'age' column\n",
    "result = validator.expect_column_values_to_not_be_null(column=\"age\")\n",
    "\n",
    "print(\"Expectation result:\", result)\n",
    "\n",
    "# To see if any nulls exist\n",
    "if not result[\"success\"]:\n",
    "    print(f\"Null values detected in 'age' column: {result['result']['unexpected_count']} rows have nulls.\")\n",
    "else:\n",
    "    print(\"No null values in 'age' column.\")"
   ]
  }
 ],
 "metadata": {
  "kernelspec": {
   "display_name": "Python 3",
   "language": "python",
   "name": "python3"
  },
  "language_info": {
   "codemirror_mode": {
    "name": "ipython",
    "version": 3
   },
   "file_extension": ".py",
   "mimetype": "text/x-python",
   "name": "python",
   "nbconvert_exporter": "python",
   "pygments_lexer": "ipython3",
   "version": "3.10.12"
  }
 },
 "nbformat": 4,
 "nbformat_minor": 2
}
