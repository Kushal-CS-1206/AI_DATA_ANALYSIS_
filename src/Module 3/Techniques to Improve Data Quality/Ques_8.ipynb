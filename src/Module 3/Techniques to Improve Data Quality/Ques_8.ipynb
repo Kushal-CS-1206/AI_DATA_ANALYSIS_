{
 "cells": [
  {
   "cell_type": "code",
   "execution_count": 14,
   "metadata": {},
   "outputs": [
    {
     "name": "stderr",
     "output_type": "stream",
     "text": [
      "/home/vscode/.local/lib/python3.10/site-packages/great_expectations/expectations/expectation.py:1464: UserWarning: `result_format` configured at the Validator-level will not be persisted. Please add the configuration to your Checkpoint config or checkpoint_run() method instead.\n",
      "  warnings.warn(\n",
      "Calculating Metrics: 100%|██████████| 6/6 [00:00<00:00, 833.94it/s] "
     ]
    },
    {
     "name": "stdout",
     "output_type": "stream",
     "text": [
      "Expectation result: {\n",
      "  \"success\": false,\n",
      "  \"expectation_config\": {\n",
      "    \"type\": \"expect_column_values_to_not_be_null\",\n",
      "    \"kwargs\": {\n",
      "      \"column\": \"age\"\n",
      "    },\n",
      "    \"meta\": {}\n",
      "  },\n",
      "  \"result\": {\n",
      "    \"element_count\": 5,\n",
      "    \"unexpected_count\": 2,\n",
      "    \"unexpected_percent\": 40.0,\n",
      "    \"partial_unexpected_list\": [\n",
      "      null,\n",
      "      null\n",
      "    ]\n",
      "  },\n",
      "  \"meta\": {},\n",
      "  \"exception_info\": {\n",
      "    \"raised_exception\": false,\n",
      "    \"exception_traceback\": null,\n",
      "    \"exception_message\": null\n",
      "  }\n",
      "}\n",
      "Null values detected in 'age' column: 2 rows have nulls.\n"
     ]
    },
    {
     "name": "stderr",
     "output_type": "stream",
     "text": [
      "\n"
     ]
    }
   ],
   "source": [
    "import pandas as pd\n",
    "from io import StringIO\n",
    "\n",
    "import great_expectations as ge\n",
    "from great_expectations.execution_engine.pandas_execution_engine import PandasExecutionEngine\n",
    "from great_expectations.validator.validator import Validator\n",
    "from great_expectations.core.batch import Batch\n",
    "\n",
    "# Sample CSV data with missing values in 'age'\n",
    "csv_data = \"\"\"id,name,age\n",
    "1,Alice,25\n",
    "2,Bob,\n",
    "3,Charlie,30\n",
    "4,David,22\n",
    "5,Eva,\n",
    "\"\"\"\n",
    "\n",
    "# Load sample data\n",
    "df = pd.read_csv(StringIO(csv_data))\n",
    "\n",
    "# Create PandasExecutionEngine with batch_data_dict: key is batch_id, value is DataFrame\n",
    "engine = PandasExecutionEngine(batch_data_dict={\"default_batch\": df})\n",
    "\n",
    "# Create Batch with minimal info: BatchDefinition is deprecated in this version, so just use Batch with batch_definition=None\n",
    "batch = Batch(data=df, batch_definition=None)\n",
    "\n",
    "# Create Validator instance using the engine and batch\n",
    "validator = Validator(execution_engine=engine, batches=[batch])\n",
    "\n",
    "# Run expectation: expect no nulls in 'age' column\n",
    "result = validator.expect_column_values_to_not_be_null(column=\"age\")\n",
    "\n",
    "print(\"Expectation result:\", result)\n",
    "\n",
    "# To see if any nulls exist\n",
    "if not result[\"success\"]:\n",
    "    print(f\"Null values detected in 'age' column: {result['result']['unexpected_count']} rows have nulls.\")\n",
    "else:\n",
    "    print(\"No null values in 'age' column.\")"
   ]
  }
 ],
 "metadata": {
  "kernelspec": {
   "display_name": "Python 3",
   "language": "python",
   "name": "python3"
  },
  "language_info": {
   "codemirror_mode": {
    "name": "ipython",
    "version": 3
   },
   "file_extension": ".py",
   "mimetype": "text/x-python",
   "name": "python",
   "nbconvert_exporter": "python",
   "pygments_lexer": "ipython3",
   "version": "3.10.12"
  }
 },
 "nbformat": 4,
 "nbformat_minor": 2
}
