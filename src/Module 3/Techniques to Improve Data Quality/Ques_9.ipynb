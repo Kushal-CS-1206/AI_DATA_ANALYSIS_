{
 "cells": [
  {
   "cell_type": "code",
   "execution_count": 1,
   "metadata": {},
   "outputs": [
    {
     "name": "stdout",
     "output_type": "stream",
     "text": [
      "   id     name    age  height  weight\n",
      "0   1    Alice  25.00     165      68\n",
      "1   2      Bob  23.92     175      75\n",
      "2   3  Charlie  30.00     180      85\n",
      "3   4    David  22.00     170      72\n",
      "4   5      Eva  24.64     160      55\n"
     ]
    }
   ],
   "source": [
    "\n",
    "import pandas as pd\n",
    "from io import StringIO\n",
    "from sklearn.ensemble import RandomForestRegressor\n",
    "from sklearn.model_selection import train_test_split\n",
    "\n",
    "# Sample CSV data with missing values in 'age'\n",
    "csv_data = \"\"\"id,name,age,height,weight\n",
    "1,Alice,25,165,68\n",
    "2,Bob,,175,75\n",
    "3,Charlie,30,180,85\n",
    "4,David,22,170,72\n",
    "5,Eva,,160,55\n",
    "\"\"\"\n",
    "\n",
    "# Load data\n",
    "df = pd.read_csv(StringIO(csv_data))\n",
    "\n",
    "# Prepare features and target for imputation\n",
    "# Use 'height' and 'weight' to predict 'age'\n",
    "features = df[['height', 'weight']]\n",
    "target = df['age']\n",
    "\n",
    "# Split data into train (non-missing age) and predict (missing age)\n",
    "train_X = features[target.notnull()]\n",
    "train_y = target[target.notnull()]\n",
    "predict_X = features[target.isnull()]\n",
    "\n",
    "# Train RandomForestRegressor on available data\n",
    "model = RandomForestRegressor(random_state=42)\n",
    "model.fit(train_X, train_y)\n",
    "\n",
    "# Predict missing ages\n",
    "predicted_ages = model.predict(predict_X)\n",
    "\n",
    "# Fill missing values in original dataframe\n",
    "df.loc[target.isnull(), 'age'] = predicted_ages\n",
    "\n",
    "print(df)"
   ]
  }
 ],
 "metadata": {
  "kernelspec": {
   "display_name": "Python 3",
   "language": "python",
   "name": "python3"
  },
  "language_info": {
   "codemirror_mode": {
    "name": "ipython",
    "version": 3
   },
   "file_extension": ".py",
   "mimetype": "text/x-python",
   "name": "python",
   "nbconvert_exporter": "python",
   "pygments_lexer": "ipython3",
   "version": "3.10.12"
  }
 },
 "nbformat": 4,
 "nbformat_minor": 2
}
