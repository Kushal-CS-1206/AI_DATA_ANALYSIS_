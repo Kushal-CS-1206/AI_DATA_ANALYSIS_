{
 "cells": [
  {
   "cell_type": "code",
   "execution_count": 6,
   "metadata": {},
   "outputs": [
    {
     "name": "stdout",
     "output_type": "stream",
     "text": [
      "    age  income      status\n",
      "0  25.0   50000    employed\n",
      "1  30.0   60000  unemployed\n",
      "2  35.0   70000    employed\n",
      "3  30.0   80000  unemployed\n",
      "4  45.0   90000    employed\n"
     ]
    }
   ],
   "source": [
    "import pandas as pd\n",
    "\n",
    "# Sample DataFrame with missing values\n",
    "data = {\n",
    "    \"age\": [25, None, 35, None, 45],\n",
    "    \"income\": [50000, 60000, 70000, 80000, 90000],\n",
    "    \"status\": [\"employed\", \"unemployed\", \"employed\", \"unemployed\", \"employed\"]\n",
    "}\n",
    "df = pd.DataFrame(data)\n",
    "\n",
    "# Fill missing 'age' values:\n",
    "# If status is 'employed', fill missing age with 40,\n",
    "# else fill missing age with 30\n",
    "df[\"age\"] = df.apply(\n",
    "    lambda row: 40 if pd.isna(row[\"age\"]) and row[\"status\"] == \"employed\"\n",
    "    else (30 if pd.isna(row[\"age\"]) and row[\"status\"] == \"unemployed\" else row[\"age\"]),\n",
    "    axis=1\n",
    ")\n",
    "\n",
    "print(df)\n"
   ]
  },
  {
   "cell_type": "code",
   "execution_count": 7,
   "metadata": {},
   "outputs": [
    {
     "name": "stdout",
     "output_type": "stream",
     "text": [
      "   age  income\n",
      "0   25   50000\n",
      "1   30   52000\n",
      "2   35   51000\n",
      "3   40   48000\n",
      "4  100  600000\n",
      "5   28   49500\n",
      "6   27   50500\n",
      "7   29   49000\n",
      "8   31   51500\n",
      "9   32   53000\n"
     ]
    }
   ],
   "source": [
    "\n",
    "import pandas as pd\n",
    "import numpy as np\n",
    "\n",
    "# Sample DataFrame with outliers\n",
    "data = {\n",
    "    \"age\": [25, 30, 35, 40, 100, 28, 27, 29, 31, 32],\n",
    "    \"income\": [50000, 52000, 51000, 48000, 600000, 49500, 50500, 49000, 51500, 53000]\n",
    "}\n",
    "df = pd.DataFrame(data)\n",
    "\n",
    "# Calculate z-scores for the 'age' column\n",
    "df['age_zscore'] = (df['age'] - df['age'].mean()) / df['age'].std()\n",
    "\n",
    "# Define threshold for outlier detection (e.g., abs(z) > 3)\n",
    "threshold = 3\n",
    "\n",
    "# Filter out outliers\n",
    "df_no_outliers = df[df['age_zscore'].abs() <= threshold].drop(columns=['age_zscore'])\n",
    "\n",
    "print(df_no_outliers)"
   ]
  },
  {
   "cell_type": "code",
   "execution_count": 8,
   "metadata": {},
   "outputs": [
    {
     "name": "stdout",
     "output_type": "stream",
     "text": [
      "      Name  Age\n",
      "0    Alice   25\n",
      "1      Bob   27\n",
      "2  Charlie   30\n",
      "3    David   27\n"
     ]
    }
   ],
   "source": [
    "import pandas as pd\n",
    "import numpy as np\n",
    "\n",
    "# Sample DataFrame with missing values and Age as floats\n",
    "data = {\n",
    "    \"Name\": [\"Alice\", \"Bob\", \"Charlie\", \"David\"],\n",
    "    \"Age\": [25.0, np.nan, 30.5, np.nan]\n",
    "}\n",
    "df = pd.DataFrame(data)\n",
    "\n",
    "# Fill missing 'Age' values with the mean age\n",
    "mean_age = df['Age'].mean()\n",
    "df['Age'] = df['Age'].fillna(mean_age)\n",
    "\n",
    "# Convert 'Age' column to integers\n",
    "df['Age'] = df['Age'].astype(int)\n",
    "\n",
    "print(df)\n"
   ]
  },
  {
   "cell_type": "code",
   "execution_count": 9,
   "metadata": {},
   "outputs": [
    {
     "name": "stdout",
     "output_type": "stream",
     "text": [
      "      name   age\n",
      "0    Alice  25.0\n",
      "1      Bob  28.0\n",
      "3  Charlie  30.0\n"
     ]
    }
   ],
   "source": [
    "import pandas as pd\n",
    "\n",
    "def clean_data(df, fillna_values=None):\n",
    "    \"\"\"\n",
    "    Automate data cleaning:\n",
    "    - Fill missing values (dict: column -> value)\n",
    "    - Remove duplicates\n",
    "    - Standardize column names (lowercase, strip spaces)\n",
    "    \n",
    "    Args:\n",
    "        df (pd.DataFrame): Input DataFrame\n",
    "        fillna_values (dict, optional): Dict with column names as keys and fill values as values\n",
    "    \n",
    "    Returns:\n",
    "        pd.DataFrame: Cleaned DataFrame\n",
    "    \"\"\"\n",
    "    df_clean = df.copy()\n",
    "    \n",
    "    # Standardize column names: lowercase and strip spaces\n",
    "    df_clean.columns = df_clean.columns.str.lower().str.strip()\n",
    "    \n",
    "    # Fill missing values if specified\n",
    "    if fillna_values:\n",
    "        df_clean.fillna(value=fillna_values, inplace=True)\n",
    "    \n",
    "    # Remove duplicates\n",
    "    df_clean.drop_duplicates(inplace=True)\n",
    "    \n",
    "    return df_clean\n",
    "\n",
    "# Example usage\n",
    "data = {\n",
    "    \" Name \": [\"Alice\", \"Bob\", \"Alice\", \"Charlie\"],\n",
    "    \"Age\": [25, None, 25, 30]\n",
    "}\n",
    "df = pd.DataFrame(data)\n",
    "\n",
    "cleaned_df = clean_data(df, fillna_values={\"age\": 28})\n",
    "print(cleaned_df)\n"
   ]
  },
  {
   "cell_type": "code",
   "execution_count": 10,
   "metadata": {},
   "outputs": [
    {
     "name": "stdout",
     "output_type": "stream",
     "text": [
      "   score  score_normalized\n",
      "0     50             0.375\n",
      "1     20             0.000\n",
      "2     30             0.125\n",
      "3     80             0.750\n",
      "4    100             1.000\n"
     ]
    }
   ],
   "source": [
    "import pandas as pd\n",
    "\n",
    "def min_max_normalize(series):\n",
    "    \"\"\"\n",
    "    Normalize a pandas Series using min-max scaling to range [0, 1].\n",
    "    \"\"\"\n",
    "    min_val = series.min()\n",
    "    max_val = series.max()\n",
    "    return (series - min_val) / (max_val - min_val)\n",
    "\n",
    "# Example usage\n",
    "data = {\n",
    "    \"score\": [50, 20, 30, 80, 100]\n",
    "}\n",
    "df = pd.DataFrame(data)\n",
    "\n",
    "df[\"score_normalized\"] = min_max_normalize(df[\"score\"])\n",
    "print(df)\n"
   ]
  }
 ],
 "metadata": {
  "kernelspec": {
   "display_name": "Python 3",
   "language": "python",
   "name": "python3"
  },
  "language_info": {
   "codemirror_mode": {
    "name": "ipython",
    "version": 3
   },
   "file_extension": ".py",
   "mimetype": "text/x-python",
   "name": "python",
   "nbconvert_exporter": "python",
   "pygments_lexer": "ipython3",
   "version": "3.10.12"
  }
 },
 "nbformat": 4,
 "nbformat_minor": 2
}
