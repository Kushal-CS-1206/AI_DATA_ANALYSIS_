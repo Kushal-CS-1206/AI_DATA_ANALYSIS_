{
 "cells": [
  {
   "cell_type": "code",
   "execution_count": 1,
   "metadata": {},
   "outputs": [
    {
     "name": "stdout",
     "output_type": "stream",
     "text": [
      "Missing values per column:\n",
      " Name    1\n",
      "Age     2\n",
      "City    1\n",
      "dtype: int64\n",
      "\n",
      "Duplicates in dataframe:\n",
      " 0    False\n",
      "1    False\n",
      "2    False\n",
      "3    False\n",
      "4     True\n",
      "5    False\n",
      "6    False\n",
      "dtype: bool\n",
      "\n",
      "Cleaned new dataframe:\n",
      "       Name   Age     City\n",
      "0      Tom  34.0   Boston\n",
      "1    Jerry  29.0  Unknown\n",
      "3  Unknown  22.0   Boston\n",
      "4    Spike  29.0  Chicago\n"
     ]
    }
   ],
   "source": [
    "import pandas as pd\n",
    "\n",
    "# 1. Load the Data (example dataset).\n",
    "data = {\n",
    "    \"Name\": [\"Alice\", \"Bob\", \"Charlie\", \"David\", \"Alice\", None, \"Eve\"],\n",
    "    \"Age\": [25, None, 30, 22, 25, 28, None],\n",
    "    \"City\": [\"NY\", \"LA\", None, \"LA\", \"NY\", \"NY\", \"SF\"]\n",
    "}\n",
    "df = pd.DataFrame(data)\n",
    "\n",
    "# 2. Handling Missing Values\n",
    "# 2.1 Identify Missing Values\n",
    "print(\"Missing values per column:\\n\", df.isnull().sum())\n",
    "\n",
    "# 2.2 Fill Missing Values\n",
    "df[\"Age\"] = df[\"Age\"].fillna(df[\"Age\"].mean())  # Fill Age with mean\n",
    "df[\"City\"] = df[\"City\"].fillna(\"Unknown\")      # Fill City with \"Unknown\"\n",
    "df[\"Name\"] = df[\"Name\"].fillna(\"Unknown\")      # Fill Name with \"Unknown\"\n",
    "\n",
    "# 3. Handling Duplicates\n",
    "# 3.1 Identify Duplicates\n",
    "print(\"\\nDuplicates in dataframe:\\n\", df.duplicated())\n",
    "\n",
    "# 3.2 Remove Duplicates\n",
    "df_cleaned = df.drop_duplicates()\n",
    "\n",
    "# 4. Combined Practice on New Dataset\n",
    "new_data = {\n",
    "    \"Name\": [\"Tom\", \"Jerry\", \"Tom\", None, \"Spike\", \"Jerry\"],\n",
    "    \"Age\": [34, 29, 34, 22, None, 29],\n",
    "    \"City\": [\"Boston\", None, \"Boston\", \"Boston\", \"Chicago\", None]\n",
    "}\n",
    "new_df = pd.DataFrame(new_data)\n",
    "\n",
    "# Handling missing values\n",
    "new_df[\"Age\"] = new_df[\"Age\"].fillna(new_df[\"Age\"].median())\n",
    "new_df[\"City\"] = new_df[\"City\"].fillna(\"Unknown\")\n",
    "new_df[\"Name\"] = new_df[\"Name\"].fillna(\"Unknown\")\n",
    "\n",
    "# Remove duplicates\n",
    "new_df_cleaned = new_df.drop_duplicates()\n",
    "\n",
    "print(\"\\nCleaned new dataframe:\\n\", new_df_cleaned)\n"
   ]
  },
  {
   "cell_type": "code",
   "execution_count": 2,
   "metadata": {},
   "outputs": [
    {
     "name": "stdout",
     "output_type": "stream",
     "text": [
      "      Name  Age\n",
      "0    alice   26\n",
      "1      bob   30\n",
      "2  charlie   23\n",
      "3    david   28\n",
      "4      eve   31\n",
      "   Product    Price\n",
      "0   iphone  1000.00\n",
      "1  samsung   799.12\n",
      "2    pixel   899.99\n",
      "3   iphone   999.50\n",
      "4  samsung   799.10\n"
     ]
    }
   ],
   "source": [
    "import pandas as pd\n",
    "\n",
    "# 1. Standardize Text Data\n",
    "data = {\n",
    "    \"Name\": [\"Alice\", \"BOB\", \"Charlie\", \"david\", \"EVE\"],\n",
    "    \"Age\": [25.7, 30.2, 22.9, 27.5, 31.1]\n",
    "}\n",
    "df = pd.DataFrame(data)\n",
    "\n",
    "# 1.1 Convert All Names to Lowercase\n",
    "df[\"Name\"] = df[\"Name\"].str.lower()\n",
    "\n",
    "# 2. Format Numerical Data\n",
    "# 2.1 Round Age Column to Nearest Integer\n",
    "df[\"Age\"] = df[\"Age\"].round().astype(int)\n",
    "\n",
    "# 3. Combined Practice on Another Dataset\n",
    "product_data = {\n",
    "    \"Product\": [\"iPhone\", \"samsung\", \"PIXEL\", \"iphone\", \"Samsung\"],\n",
    "    \"Price\": [999.995, 799.1234, 899.987, 999.50, 799.1]\n",
    "}\n",
    "prod_df = pd.DataFrame(product_data)\n",
    "\n",
    "# 3.1 Standardize Product Names (lowercase)\n",
    "prod_df[\"Product\"] = prod_df[\"Product\"].str.lower()\n",
    "\n",
    "# 3.2 Format Prices to Two Decimal Places\n",
    "prod_df[\"Price\"] = prod_df[\"Price\"].round(2)\n",
    "\n",
    "print(df)\n",
    "print(prod_df)\n"
   ]
  }
 ],
 "metadata": {
  "kernelspec": {
   "display_name": "Python 3",
   "language": "python",
   "name": "python3"
  },
  "language_info": {
   "codemirror_mode": {
    "name": "ipython",
    "version": 3
   },
   "file_extension": ".py",
   "mimetype": "text/x-python",
   "name": "python",
   "nbconvert_exporter": "python",
   "pygments_lexer": "ipython3",
   "version": "3.10.12"
  }
 },
 "nbformat": 4,
 "nbformat_minor": 2
}
