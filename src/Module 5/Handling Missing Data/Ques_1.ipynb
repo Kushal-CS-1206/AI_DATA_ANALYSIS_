{
 "cells": [
  {
   "cell_type": "code",
   "execution_count": 1,
   "metadata": {},
   "outputs": [
    {
     "name": "stdout",
     "output_type": "stream",
     "text": [
      "Missing Values Mask:\n",
      "     Name    Age  Salary\n",
      "0  False  False   False\n",
      "1  False   True   False\n",
      "2  False  False    True\n",
      "3  False  False   False\n",
      "4  False  False   False\n",
      "\n",
      "Missing Values Summary:\n",
      " Name      0\n",
      "Age       1\n",
      "Salary    1\n",
      "dtype: int64\n"
     ]
    }
   ],
   "source": [
    "import pandas as pd\n",
    "from io import StringIO\n",
    "\n",
    "# 1. Sample CSV data with missing values\n",
    "csv_data = \"\"\"\n",
    "Name,Age,Salary\n",
    "Alice,25,50000\n",
    "Bob,,60000\n",
    "Charlie,30,\n",
    "David,22,45000\n",
    "Eve,28,55000\n",
    "\"\"\"\n",
    "\n",
    "# 2. Load the data into a DataFrame\n",
    "df = pd.read_csv(StringIO(csv_data))\n",
    "\n",
    "# 3. Check for missing values (True/False mask)\n",
    "missing_mask = df.isnull()\n",
    "\n",
    "# 4. Summarize missing values count per column\n",
    "missing_summary = df.isnull().sum()\n",
    "\n",
    "print(\"Missing Values Mask:\\n\", missing_mask)\n",
    "print(\"\\nMissing Values Summary:\\n\", missing_summary)\n"
   ]
  },
  {
   "cell_type": "code",
   "execution_count": 2,
   "metadata": {},
   "outputs": [
    {
     "name": "stdout",
     "output_type": "stream",
     "text": [
      "    Name   Age   Salary\n",
      "0  Alice  25.0  50000.0\n",
      "3  David  22.0  45000.0\n",
      "4    Eve  28.0  55000.0\n"
     ]
    }
   ],
   "source": [
    "import pandas as pd\n",
    "from io import StringIO\n",
    "\n",
    "# Sample CSV data with missing values\n",
    "csv_data = \"\"\"\n",
    "Name,Age,Salary\n",
    "Alice,25,50000\n",
    "Bob,,60000\n",
    "Charlie,30,\n",
    "David,22,45000\n",
    "Eve,28,55000\n",
    "\"\"\"\n",
    "\n",
    "# Load the data into a DataFrame\n",
    "df = pd.read_csv(StringIO(csv_data))\n",
    "\n",
    "# Drop rows with any missing values\n",
    "df_cleaned = df.dropna()\n",
    "\n",
    "print(df_cleaned)\n"
   ]
  },
  {
   "cell_type": "code",
   "execution_count": 3,
   "metadata": {},
   "outputs": [
    {
     "name": "stdout",
     "output_type": "stream",
     "text": [
      "      Name\n",
      "0    Alice\n",
      "1      Bob\n",
      "2  Charlie\n",
      "3    David\n",
      "4      Eve\n"
     ]
    }
   ],
   "source": [
    "import pandas as pd\n",
    "from io import StringIO\n",
    "\n",
    "# Sample CSV data with missing values\n",
    "csv_data = \"\"\"\n",
    "Name,Age,Salary\n",
    "Alice,25,50000\n",
    "Bob,,60000\n",
    "Charlie,30,\n",
    "David,22,45000\n",
    "Eve,28,55000\n",
    "\"\"\"\n",
    "\n",
    "# Load the data into a DataFrame\n",
    "df = pd.read_csv(StringIO(csv_data))\n",
    "\n",
    "# Drop columns with any missing values\n",
    "df_cleaned = df.dropna(axis=1)\n",
    "\n",
    "print(df_cleaned)\n"
   ]
  },
  {
   "cell_type": "code",
   "execution_count": 4,
   "metadata": {},
   "outputs": [
    {
     "name": "stdout",
     "output_type": "stream",
     "text": [
      "      Name    Age   Salary\n",
      "0    Alice  25.00  50000.0\n",
      "1      Bob  26.25  60000.0\n",
      "2  Charlie  30.00      NaN\n",
      "3    David  22.00  45000.0\n",
      "4      Eve  28.00  55000.0\n"
     ]
    }
   ],
   "source": [
    "import pandas as pd\n",
    "from io import StringIO\n",
    "\n",
    "csv_data = \"\"\"\n",
    "Name,Age,Salary\n",
    "Alice,25,50000\n",
    "Bob,,60000\n",
    "Charlie,30,\n",
    "David,22,45000\n",
    "Eve,28,55000\n",
    "\"\"\"\n",
    "\n",
    "df = pd.read_csv(StringIO(csv_data))\n",
    "\n",
    "# Calculate mean of 'Age' column excluding missing values\n",
    "age_mean = df['Age'].mean()\n",
    "\n",
    "# Fill missing values in 'Age' with the mean\n",
    "df['Age'] = df['Age'].fillna(age_mean)\n",
    "\n",
    "print(df)\n"
   ]
  },
  {
   "cell_type": "code",
   "execution_count": 5,
   "metadata": {},
   "outputs": [
    {
     "name": "stdout",
     "output_type": "stream",
     "text": [
      "      Name Department  Salary\n",
      "0    Alice         HR   50000\n",
      "1      Bob         HR   60000\n",
      "2  Charlie         IT   55000\n",
      "3    David         HR   45000\n",
      "4      Eve         HR   52000\n"
     ]
    }
   ],
   "source": [
    "import pandas as pd\n",
    "from io import StringIO\n",
    "\n",
    "csv_data = \"\"\"\n",
    "Name,Department,Salary\n",
    "Alice,HR,50000\n",
    "Bob,,60000\n",
    "Charlie,IT,55000\n",
    "David,HR,45000\n",
    "Eve,,52000\n",
    "\"\"\"\n",
    "\n",
    "df = pd.read_csv(StringIO(csv_data))\n",
    "\n",
    "# Calculate mode of 'Department' column\n",
    "dept_mode = df['Department'].mode()[0]\n",
    "\n",
    "# Fill missing values in 'Department' with the mode\n",
    "df['Department'] = df['Department'].fillna(dept_mode)\n",
    "\n",
    "print(df)\n",
    "\n",
    "\n",
    "\n",
    "\n",
    "\n",
    "\n",
    "\n",
    "\n",
    "\n"
   ]
  },
  {
   "cell_type": "code",
   "execution_count": 6,
   "metadata": {},
   "outputs": [
    {
     "name": "stdout",
     "output_type": "stream",
     "text": [
      "  Product  Price\n",
      "0       A   10.0\n",
      "1       B   15.0\n",
      "2       C  200.0\n",
      "3       D   14.0\n",
      "4       E   12.0\n",
      "5       F   14.0\n",
      "6       G   14.0\n"
     ]
    }
   ],
   "source": [
    "import pandas as pd\n",
    "from io import StringIO\n",
    "\n",
    "csv_data = \"\"\"\n",
    "Product,Price\n",
    "A,10\n",
    "B,15\n",
    "C,200\n",
    "D,\n",
    "E,12\n",
    "F,14\n",
    "G,\n",
    "\"\"\"\n",
    "\n",
    "df = pd.read_csv(StringIO(csv_data))\n",
    "\n",
    "# Calculate median of 'Price' column (ignoring NaN)\n",
    "price_median = df['Price'].median()\n",
    "\n",
    "# Fill missing values in 'Price' with median\n",
    "df['Price'] = df['Price'].fillna(price_median)\n",
    "\n",
    "print(df)\n"
   ]
  },
  {
   "cell_type": "code",
   "execution_count": 7,
   "metadata": {},
   "outputs": [
    {
     "name": "stdout",
     "output_type": "stream",
     "text": [
      "   Feature1  Feature2  Feature3\n",
      "0       1.0       5.0       2.5\n",
      "1       2.0       3.0       1.0\n",
      "2       3.0       1.0       2.0\n",
      "3       4.0       2.0       3.0\n",
      "4       5.0       4.0       4.0\n"
     ]
    }
   ],
   "source": [
    "import pandas as pd\n",
    "from sklearn.impute import KNNImputer\n",
    "\n",
    "# Sample data with missing values\n",
    "data = {\n",
    "    'Feature1': [1.0, 2.0, 3.0, None, 5.0],\n",
    "    'Feature2': [5.0, None, 1.0, 2.0, 4.0],\n",
    "    'Feature3': [None, 1.0, 2.0, 3.0, 4.0]\n",
    "}\n",
    "df = pd.DataFrame(data)\n",
    "\n",
    "# Initialize KNNImputer with k=2 neighbors\n",
    "imputer = KNNImputer(n_neighbors=2)\n",
    "\n",
    "# Perform imputation\n",
    "df_imputed = pd.DataFrame(imputer.fit_transform(df), columns=df.columns)\n",
    "\n",
    "print(df_imputed)\n"
   ]
  },
  {
   "cell_type": "code",
   "execution_count": 8,
   "metadata": {},
   "outputs": [
    {
     "name": "stdout",
     "output_type": "stream",
     "text": [
      "Missing values detected:\n",
      " 0    False\n",
      "1    False\n",
      "2     True\n",
      "3    False\n",
      "4    False\n",
      "5     True\n",
      "6    False\n",
      "7    False\n",
      "Name: Category, dtype: bool\n",
      "  Category Category_filled\n",
      "0    apple           apple\n",
      "1   banana          banana\n",
      "2     None          banana\n",
      "3   banana          banana\n",
      "4    apple           apple\n",
      "5     None          banana\n",
      "6   orange          orange\n",
      "7   banana          banana\n"
     ]
    }
   ],
   "source": [
    "import pandas as pd\n",
    "\n",
    "# Sample categorical data with missing values\n",
    "data = {\n",
    "    'Category': ['apple', 'banana', None, 'banana', 'apple', None, 'orange', 'banana']\n",
    "}\n",
    "df = pd.DataFrame(data)\n",
    "\n",
    "# Identify missing values\n",
    "missing_mask = df['Category'].isnull()\n",
    "print(\"Missing values detected:\\n\", missing_mask)\n",
    "\n",
    "# Find the most frequent category (mode)\n",
    "mode_value = df['Category'].mode()[0]\n",
    "\n",
    "# Fill missing values with the most frequent category\n",
    "df['Category_filled'] = df['Category'].fillna(mode_value)\n",
    "\n",
    "print(df)\n"
   ]
  },
  {
   "cell_type": "code",
   "execution_count": 9,
   "metadata": {},
   "outputs": [
    {
     "name": "stdout",
     "output_type": "stream",
     "text": [
      "   feature1  feature2  target\n",
      "0         1         7    10.0\n",
      "1         2         6    15.0\n",
      "2         3         5    20.0\n",
      "3         4         4    25.0\n",
      "4         5         3    30.0\n",
      "5         6         2    35.0\n",
      "6         7         1    40.0\n"
     ]
    }
   ],
   "source": [
    "import pandas as pd\n",
    "from sklearn.linear_model import LinearRegression\n",
    "\n",
    "# Sample data with missing values in 'target' column\n",
    "data = {\n",
    "    'feature1': [1, 2, 3, 4, 5, 6, 7],\n",
    "    'feature2': [7, 6, 5, 4, 3, 2, 1],\n",
    "    'target': [10, 15, None, 25, None, 35, 40]\n",
    "}\n",
    "df = pd.DataFrame(data)\n",
    "\n",
    "# Split data into train (non-missing target) and predict (missing target)\n",
    "train_df = df[df['target'].notna()]\n",
    "predict_df = df[df['target'].isna()]\n",
    "\n",
    "# Train regression model on non-missing rows\n",
    "model = LinearRegression()\n",
    "X_train = train_df[['feature1', 'feature2']]\n",
    "y_train = train_df['target']\n",
    "model.fit(X_train, y_train)\n",
    "\n",
    "# Predict missing target values\n",
    "X_predict = predict_df[['feature1', 'feature2']]\n",
    "predicted_values = model.predict(X_predict)\n",
    "\n",
    "# Impute missing values with predictions\n",
    "df.loc[df['target'].isna(), 'target'] = predicted_values\n",
    "\n",
    "print(df)\n"
   ]
  },
  {
   "cell_type": "code",
   "execution_count": 10,
   "metadata": {},
   "outputs": [
    {
     "name": "stdout",
     "output_type": "stream",
     "text": [
      "        date  value  value_ffill  value_bfill\n",
      "0 2023-01-01   10.0         10.0         10.0\n",
      "1 2023-01-02    NaN         10.0         40.0\n",
      "2 2023-01-03    NaN         10.0         40.0\n",
      "3 2023-01-04   40.0         40.0         40.0\n",
      "4 2023-01-05    NaN         40.0         60.0\n",
      "5 2023-01-06   60.0         60.0         60.0\n",
      "6 2023-01-07    NaN         60.0          NaN\n"
     ]
    },
    {
     "name": "stderr",
     "output_type": "stream",
     "text": [
      "/tmp/ipykernel_40237/3589265638.py:15: FutureWarning: Series.fillna with 'method' is deprecated and will raise in a future version. Use obj.ffill() or obj.bfill() instead.\n",
      "  df['value_ffill'] = df['value'].fillna(method='ffill')\n",
      "/tmp/ipykernel_40237/3589265638.py:18: FutureWarning: Series.fillna with 'method' is deprecated and will raise in a future version. Use obj.ffill() or obj.bfill() instead.\n",
      "  df['value_bfill'] = df['value'].fillna(method='bfill')\n"
     ]
    }
   ],
   "source": [
    "import pandas as pd\n",
    "import numpy as np\n",
    "\n",
    "# Sample time series data with missing values\n",
    "data = {\n",
    "    'date': pd.date_range(start='2023-01-01', periods=7, freq='D'),\n",
    "    'value': [10, np.nan, np.nan, 40, np.nan, 60, np.nan]\n",
    "}\n",
    "df = pd.DataFrame(data)\n",
    "\n",
    "# Step 1: Sort by date (if not already sorted)\n",
    "df = df.sort_values('date')\n",
    "\n",
    "# Step 2: Forward fill missing values\n",
    "df['value_ffill'] = df['value'].fillna(method='ffill')\n",
    "\n",
    "# Step 3: Backward fill missing values\n",
    "df['value_bfill'] = df['value'].fillna(method='bfill')\n",
    "\n",
    "print(df)\n",
    "\n",
    "\n",
    "\n",
    "\n",
    "\n",
    "\n",
    "\n",
    "\n"
   ]
  }
 ],
 "metadata": {
  "kernelspec": {
   "display_name": "Python 3",
   "language": "python",
   "name": "python3"
  },
  "language_info": {
   "codemirror_mode": {
    "name": "ipython",
    "version": 3
   },
   "file_extension": ".py",
   "mimetype": "text/x-python",
   "name": "python",
   "nbconvert_exporter": "python",
   "pygments_lexer": "ipython3",
   "version": "3.10.12"
  }
 },
 "nbformat": 4,
 "nbformat_minor": 2
}
