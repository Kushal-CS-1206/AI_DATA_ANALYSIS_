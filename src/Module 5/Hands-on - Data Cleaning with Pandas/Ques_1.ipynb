{
 "cells": [
  {
   "cell_type": "code",
   "execution_count": 1,
   "metadata": {},
   "outputs": [
    {
     "name": "stdout",
     "output_type": "stream",
     "text": [
      "Missing Data (True = Missing):\n",
      "    Name    Age   City\n",
      "0  False  False  False\n",
      "1  False   True  False\n",
      "2  False  False   True\n",
      "3  False  False  False\n",
      "4   True  False  False\n",
      "\n",
      "Missing Values Count per Column:\n",
      "Name    1\n",
      "Age     1\n",
      "City    1\n",
      "dtype: int64\n",
      "\n",
      "Data after dropping rows with missing values:\n",
      "    Name   Age      City\n",
      "0  Alice  25.0  New York\n",
      "3  David  22.0   Chicago\n",
      "\n",
      "Data after imputing missing values:\n",
      "      Name    Age         City\n",
      "0    Alice  25.00     New York\n",
      "1      Bob  26.25  Los Angeles\n",
      "2  Charlie  30.00      Unknown\n",
      "3    David  22.00      Chicago\n",
      "4  Unknown  28.00      Houston\n"
     ]
    }
   ],
   "source": [
    "import pandas as pd\n",
    "import numpy as np\n",
    "\n",
    "# Task 1: Detect Missing Data.\n",
    "\n",
    "# 1. Load the Data\n",
    "data = {\n",
    "    'Name': ['Alice', 'Bob', 'Charlie', 'David', None],\n",
    "    'Age': [25, np.nan, 30, 22, 28],\n",
    "    'City': ['New York', 'Los Angeles', None, 'Chicago', 'Houston']\n",
    "}\n",
    "df = pd.DataFrame(data)\n",
    "\n",
    "# 2. Detect Missing Data\n",
    "missing_data = df.isnull()\n",
    "missing_count = df.isnull().sum()\n",
    "print(\"Missing Data (True = Missing):\")\n",
    "print(missing_data)\n",
    "print(\"\\nMissing Values Count per Column:\")\n",
    "print(missing_count)\n",
    "\n",
    "\n",
    "# Task 2: Handle Missing Data by Dropping\n",
    "\n",
    "# 1. Drop Rows with Missing Values\n",
    "df_dropped = df.dropna()\n",
    "print(\"\\nData after dropping rows with missing values:\")\n",
    "print(df_dropped)\n",
    "\n",
    "\n",
    "# Task 3: Handle Missing Data by Imputation\n",
    "\n",
    "# 1. Fill Missing Values\n",
    "df_imputed = df.copy()\n",
    "df_imputed['Name'] = df_imputed['Name'].fillna('Unknown')\n",
    "df_imputed['Age'] = df_imputed['Age'].fillna(df_imputed['Age'].mean())\n",
    "df_imputed['City'] = df_imputed['City'].fillna('Unknown')\n",
    "print(\"\\nData after imputing missing values:\")\n",
    "print(df_imputed)\n"
   ]
  }
 ],
 "metadata": {
  "kernelspec": {
   "display_name": "Python 3",
   "language": "python",
   "name": "python3"
  },
  "language_info": {
   "codemirror_mode": {
    "name": "ipython",
    "version": 3
   },
   "file_extension": ".py",
   "mimetype": "text/x-python",
   "name": "python",
   "nbconvert_exporter": "python",
   "pygments_lexer": "ipython3",
   "version": "3.10.12"
  }
 },
 "nbformat": 4,
 "nbformat_minor": 2
}
