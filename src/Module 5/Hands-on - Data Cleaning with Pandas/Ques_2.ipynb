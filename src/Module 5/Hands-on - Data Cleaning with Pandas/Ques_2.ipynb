{
 "cells": [
  {
   "cell_type": "code",
   "execution_count": 1,
   "metadata": {},
   "outputs": [
    {
     "name": "stdout",
     "output_type": "stream",
     "text": [
      "Data after removing duplicates:\n",
      "   ID     Name  Age    JoinDate\n",
      "0   1    Alice   25  2023-01-15\n",
      "1   2      Bob   30  2023-02-20\n",
      "3   3  Charlie   35  2023-03-01\n",
      "4   4    David   40  2023-04-10\n",
      "\n",
      "Data types after fixing Age type:\n",
      "ID           int64\n",
      "Name        object\n",
      "Age          int64\n",
      "JoinDate    object\n",
      "dtype: object\n",
      "\n",
      "Data after converting 'JoinDate' to datetime:\n",
      "   ID     Name  Age   JoinDate\n",
      "0   1    Alice   25 2023-01-15\n",
      "1   2      Bob   30 2023-02-20\n",
      "3   3  Charlie   35 2023-03-01\n",
      "4   4    David   40 2023-04-10\n",
      "\n",
      "Data types after date conversion:\n",
      "ID                   int64\n",
      "Name                object\n",
      "Age                  int64\n",
      "JoinDate    datetime64[ns]\n",
      "dtype: object\n"
     ]
    },
    {
     "name": "stderr",
     "output_type": "stream",
     "text": [
      "/tmp/ipykernel_42752/3403165379.py:23: SettingWithCopyWarning: \n",
      "A value is trying to be set on a copy of a slice from a DataFrame.\n",
      "Try using .loc[row_indexer,col_indexer] = value instead\n",
      "\n",
      "See the caveats in the documentation: https://pandas.pydata.org/pandas-docs/stable/user_guide/indexing.html#returning-a-view-versus-a-copy\n",
      "  df_no_duplicates['Age'] = df_no_duplicates['Age'].astype(int)\n",
      "/tmp/ipykernel_42752/3403165379.py:31: SettingWithCopyWarning: \n",
      "A value is trying to be set on a copy of a slice from a DataFrame.\n",
      "Try using .loc[row_indexer,col_indexer] = value instead\n",
      "\n",
      "See the caveats in the documentation: https://pandas.pydata.org/pandas-docs/stable/user_guide/indexing.html#returning-a-view-versus-a-copy\n",
      "  df_no_duplicates['JoinDate'] = pd.to_datetime(df_no_duplicates['JoinDate'])\n"
     ]
    }
   ],
   "source": [
    "import pandas as pd\n",
    "\n",
    "# Task 1: Remove Duplicates\n",
    "\n",
    "# 1. Load Extended Data with duplicates\n",
    "data = {\n",
    "    'ID': [1, 2, 2, 3, 4, 4],\n",
    "    'Name': ['Alice', 'Bob', 'Bob', 'Charlie', 'David', 'David'],\n",
    "    'Age': [25, 30, 30, 35, 40, 40],\n",
    "    'JoinDate': ['2023-01-15', '2023-02-20', '2023-02-20', '2023-03-01', '2023-04-10', '2023-04-10']\n",
    "}\n",
    "df = pd.DataFrame(data)\n",
    "\n",
    "# 2. Remove Duplicates\n",
    "df_no_duplicates = df.drop_duplicates()\n",
    "print(\"Data after removing duplicates:\")\n",
    "print(df_no_duplicates)\n",
    "\n",
    "\n",
    "# Task 2: Fix Data Types\n",
    "\n",
    "# 1. Fix Incorrect Data Types (Age should be int, JoinDate should be str initially)\n",
    "df_no_duplicates['Age'] = df_no_duplicates['Age'].astype(int)\n",
    "print(\"\\nData types after fixing Age type:\")\n",
    "print(df_no_duplicates.dtypes)\n",
    "\n",
    "\n",
    "# Task 3: Convert Data Type for Analysis\n",
    "\n",
    "# 1. Convert Date Strings to DateTime\n",
    "df_no_duplicates['JoinDate'] = pd.to_datetime(df_no_duplicates['JoinDate'])\n",
    "print(\"\\nData after converting 'JoinDate' to datetime:\")\n",
    "print(df_no_duplicates)\n",
    "print(\"\\nData types after date conversion:\")\n",
    "print(df_no_duplicates.dtypes)\n"
   ]
  }
 ],
 "metadata": {
  "kernelspec": {
   "display_name": "Python 3",
   "language": "python",
   "name": "python3"
  },
  "language_info": {
   "codemirror_mode": {
    "name": "ipython",
    "version": 3
   },
   "file_extension": ".py",
   "mimetype": "text/x-python",
   "name": "python",
   "nbconvert_exporter": "python",
   "pygments_lexer": "ipython3",
   "version": "3.10.12"
  }
 },
 "nbformat": 4,
 "nbformat_minor": 2
}
