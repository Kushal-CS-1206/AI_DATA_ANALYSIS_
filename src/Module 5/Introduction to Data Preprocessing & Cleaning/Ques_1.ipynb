{
 "cells": [
  {
   "cell_type": "code",
   "execution_count": 1,
   "metadata": {},
   "outputs": [
    {
     "name": "stdout",
     "output_type": "stream",
     "text": [
      "Cleaned DataFrame:\n",
      "   ID     Name     Age     Salary\n",
      "0   1    Alice    25.0    50000.0\n",
      "1   2      Bob    28.5    60000.0\n",
      "3   3  Charlie    35.0    58000.0\n",
      "4   4    David   120.0    62000.0\n",
      "5   5      Eva    28.0   175750.0\n",
      "6   6    Frank    27.0    56000.0\n",
      "7   7    Grace    29.0    59000.0\n",
      "8   8     Hank    22.0    61000.0\n",
      "9   9      Ivy  1000.0  1000000.0\n"
     ]
    }
   ],
   "source": [
    "import pandas as pd\n",
    "import numpy as np\n",
    "from scipy import stats\n",
    "\n",
    "# Sample data with missing values, duplicates, and outliers\n",
    "data = {\n",
    "    'ID': [1, 2, 2, 3, 4, 5, 6, 7, 8, 9],\n",
    "    'Name': ['Alice', 'Bob', 'Bob', 'Charlie', 'David', 'Eva', 'Frank', 'Grace', 'Hank', 'Ivy'],\n",
    "    'Age': [25, np.nan, np.nan, 35, 120, 28, 27, 29, 22, 1000],  # 120 and 1000 are outliers\n",
    "    'Salary': [50000, 60000, 60000, 58000, 62000, np.nan, 56000, 59000, 61000, 1000000]  # 1,000,000 outlier\n",
    "}\n",
    "\n",
    "df = pd.DataFrame(data)\n",
    "\n",
    "# 1. Remove duplicates based on all columns\n",
    "df = df.drop_duplicates()\n",
    "\n",
    "# 2. Handle missing values\n",
    "# Fill missing 'Age' with median age\n",
    "df['Age'] = df['Age'].fillna(df['Age'].median())\n",
    "\n",
    "# Fill missing 'Salary' with mean salary\n",
    "df['Salary'] = df['Salary'].fillna(df['Salary'].mean())\n",
    "\n",
    "# 3. Detect and remove outliers using z-score (threshold 3)\n",
    "z_scores = np.abs(stats.zscore(df[['Age', 'Salary']]))\n",
    "df_clean = df[(z_scores < 3).all(axis=1)]\n",
    "\n",
    "print(\"Cleaned DataFrame:\")\n",
    "print(df_clean)\n"
   ]
  },
  {
   "cell_type": "code",
   "execution_count": 2,
   "metadata": {},
   "outputs": [
    {
     "name": "stdout",
     "output_type": "stream",
     "text": [
      "Original Data:\n",
      "0      20000\n",
      "1      22000\n",
      "2      25000\n",
      "3      27000\n",
      "4      30000\n",
      "5      35000\n",
      "6    1000000\n",
      "7      40000\n",
      "8      45000\n",
      "9      48000\n",
      "Name: Income, dtype: int64\n",
      "\n",
      "Log-transformed Data:\n",
      "0     9.903538\n",
      "1     9.998843\n",
      "2    10.126671\n",
      "3    10.203629\n",
      "4    10.308986\n",
      "5    10.463132\n",
      "6    13.815512\n",
      "7    10.596660\n",
      "8    10.714440\n",
      "9    10.778977\n",
      "Name: Income_log, dtype: float64\n"
     ]
    }
   ],
   "source": [
    "import pandas as pd\n",
    "import numpy as np\n",
    "\n",
    "# Sample skewed data (e.g., income)\n",
    "data = {\n",
    "    'Income': [20000, 22000, 25000, 27000, 30000, 35000, 1000000, 40000, 45000, 48000]\n",
    "}\n",
    "df = pd.DataFrame(data)\n",
    "\n",
    "# Apply log transformation (adding 1 to avoid log(0))\n",
    "df['Income_log'] = np.log1p(df['Income'])\n",
    "\n",
    "print(\"Original Data:\")\n",
    "print(df['Income'])\n",
    "print(\"\\nLog-transformed Data:\")\n",
    "print(df['Income_log'])\n"
   ]
  },
  {
   "cell_type": "code",
   "execution_count": 3,
   "metadata": {},
   "outputs": [
    {
     "name": "stdout",
     "output_type": "stream",
     "text": [
      "   Age  Annual_Income  Years_at_Job  Income_per_Year_at_Job\n",
      "0   25          50000             1                 50000.0\n",
      "1   32          60000             3                 20000.0\n",
      "2   47          80000            10                  8000.0\n",
      "3   51          90000             6                 15000.0\n",
      "4   62         120000            12                 10000.0\n"
     ]
    }
   ],
   "source": [
    "import pandas as pd\n",
    "\n",
    "# Sample data with existing features\n",
    "data = {\n",
    "    'Age': [25, 32, 47, 51, 62],\n",
    "    'Annual_Income': [50000, 60000, 80000, 90000, 120000],\n",
    "    'Years_at_Job': [1, 3, 10, 6, 12]\n",
    "}\n",
    "df = pd.DataFrame(data)\n",
    "\n",
    "# Create new feature: Income per Year at Job\n",
    "df['Income_per_Year_at_Job'] = df['Annual_Income'] / df['Years_at_Job']\n",
    "\n",
    "print(df)\n"
   ]
  },
  {
   "cell_type": "code",
   "execution_count": 4,
   "metadata": {},
   "outputs": [
    {
     "name": "stdout",
     "output_type": "stream",
     "text": [
      "Outliers detected:\n",
      "Empty DataFrame\n",
      "Columns: [Age, z_score]\n",
      "Index: []\n",
      "\n",
      "Data without outliers:\n",
      "   Age\n",
      "0   22\n",
      "1   25\n",
      "2   27\n",
      "3   30\n",
      "4  120\n",
      "5   26\n",
      "6   28\n",
      "7   24\n",
      "8   27\n",
      "9   29\n"
     ]
    }
   ],
   "source": [
    "import pandas as pd\n",
    "import numpy as np\n",
    "\n",
    "# Sample data\n",
    "data = {'Age': [22, 25, 27, 30, 120, 26, 28, 24, 27, 29]}\n",
    "df = pd.DataFrame(data)\n",
    "\n",
    "# Calculate Z-scores\n",
    "df['z_score'] = (df['Age'] - df['Age'].mean()) / df['Age'].std()\n",
    "\n",
    "# Define threshold for outliers\n",
    "threshold = 3\n",
    "\n",
    "# Identify outliers\n",
    "outliers = df[np.abs(df['z_score']) > threshold]\n",
    "\n",
    "# Remove outliers\n",
    "df_no_outliers = df[np.abs(df['z_score']) <= threshold].drop(columns='z_score')\n",
    "\n",
    "print(\"Outliers detected:\")\n",
    "print(outliers)\n",
    "\n",
    "print(\"\\nData without outliers:\")\n",
    "print(df_no_outliers)\n"
   ]
  },
  {
   "cell_type": "code",
   "execution_count": 5,
   "metadata": {},
   "outputs": [
    {
     "name": "stdout",
     "output_type": "stream",
     "text": [
      "   Feature1  Feature2  Feature3\n",
      "0       1.0       5.0       2.5\n",
      "1       2.0       4.0       2.0\n",
      "2       3.0       3.0       3.0\n",
      "3       4.0       2.0       4.0\n",
      "4       5.0       1.0       5.0\n"
     ]
    }
   ],
   "source": [
    "import pandas as pd\n",
    "import numpy as np\n",
    "from sklearn.impute import KNNImputer\n",
    "\n",
    "# Sample data with missing values\n",
    "data = {\n",
    "    'Feature1': [1.0, 2.0, np.nan, 4.0, 5.0],\n",
    "    'Feature2': [5.0, 4.0, 3.0, np.nan, 1.0],\n",
    "    'Feature3': [np.nan, 2.0, 3.0, 4.0, 5.0]\n",
    "}\n",
    "df = pd.DataFrame(data)\n",
    "\n",
    "# Initialize KNN Imputer with 2 neighbors\n",
    "imputer = KNNImputer(n_neighbors=2)\n",
    "\n",
    "# Fit and transform the data to impute missing values\n",
    "df_imputed = pd.DataFrame(imputer.fit_transform(df), columns=df.columns)\n",
    "\n",
    "print(df_imputed)\n"
   ]
  }
 ],
 "metadata": {
  "kernelspec": {
   "display_name": "Python 3",
   "language": "python",
   "name": "python3"
  },
  "language_info": {
   "codemirror_mode": {
    "name": "ipython",
    "version": 3
   },
   "file_extension": ".py",
   "mimetype": "text/x-python",
   "name": "python",
   "nbconvert_exporter": "python",
   "pygments_lexer": "ipython3",
   "version": "3.10.12"
  }
 },
 "nbformat": 4,
 "nbformat_minor": 2
}
