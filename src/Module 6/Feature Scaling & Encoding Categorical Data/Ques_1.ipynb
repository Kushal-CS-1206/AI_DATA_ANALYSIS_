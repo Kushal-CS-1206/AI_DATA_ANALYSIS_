{
 "cells": [
  {
   "cell_type": "code",
   "execution_count": 1,
   "metadata": {},
   "outputs": [
    {
     "name": "stdout",
     "output_type": "stream",
     "text": [
      "Accuracy without scaling: 0.9777777777777777\n",
      "Accuracy with Min-Max Scaling: 0.8888888888888888\n",
      "Accuracy with Standardization: 0.9777777777777777\n",
      "Accuracy with Robust Scaling: 0.9555555555555556\n"
     ]
    }
   ],
   "source": [
    "import numpy as np\n",
    "import pandas as pd\n",
    "from sklearn.datasets import load_iris\n",
    "from sklearn.model_selection import train_test_split\n",
    "from sklearn.linear_model import LogisticRegression\n",
    "from sklearn.preprocessing import MinMaxScaler, StandardScaler, RobustScaler\n",
    "from sklearn.metrics import accuracy_score\n",
    "\n",
    "# Load Iris dataset\n",
    "iris = load_iris()\n",
    "X = pd.DataFrame(iris.data, columns=iris.feature_names)\n",
    "y = iris.target\n",
    "\n",
    "# Question 1: Impact of unscaled features\n",
    "X_train_unscaled, X_test_unscaled, y_train, y_test = train_test_split(X, y, test_size=0.3, random_state=0)\n",
    "model_unscaled = LogisticRegression(max_iter=200)\n",
    "model_unscaled.fit(X_train_unscaled, y_train)\n",
    "acc_unscaled = accuracy_score(y_test, model_unscaled.predict(X_test_unscaled))\n",
    "\n",
    "# Question 2: Min-Max Scaling\n",
    "scaler_minmax = MinMaxScaler()\n",
    "X_minmax = scaler_minmax.fit_transform(X)\n",
    "X_train_minmax, X_test_minmax, _, _ = train_test_split(X_minmax, y, test_size=0.3, random_state=0)\n",
    "model_minmax = LogisticRegression(max_iter=200)\n",
    "model_minmax.fit(X_train_minmax, y_train)\n",
    "acc_minmax = accuracy_score(y_test, model_minmax.predict(X_test_minmax))\n",
    "\n",
    "# Question 3: Standardization (Z-score Scaling)\n",
    "scaler_standard = StandardScaler()\n",
    "X_standard = scaler_standard.fit_transform(X)\n",
    "X_train_std, X_test_std, _, _ = train_test_split(X_standard, y, test_size=0.3, random_state=0)\n",
    "model_std = LogisticRegression(max_iter=200)\n",
    "model_std.fit(X_train_std, y_train)\n",
    "acc_std = accuracy_score(y_test, model_std.predict(X_test_std))\n",
    "\n",
    "# Question 4: Robust Scaling\n",
    "scaler_robust = RobustScaler()\n",
    "X_robust = scaler_robust.fit_transform(X)\n",
    "X_train_robust, X_test_robust, _, _ = train_test_split(X_robust, y, test_size=0.3, random_state=0)\n",
    "model_robust = LogisticRegression(max_iter=200)\n",
    "model_robust.fit(X_train_robust, y_train)\n",
    "acc_robust = accuracy_score(y_test, model_robust.predict(X_test_robust))\n",
    "\n",
    "# Output accuracy results\n",
    "print(\"Accuracy without scaling:\", acc_unscaled)\n",
    "print(\"Accuracy with Min-Max Scaling:\", acc_minmax)\n",
    "print(\"Accuracy with Standardization:\", acc_std)\n",
    "print(\"Accuracy with Robust Scaling:\", acc_robust)\n"
   ]
  }
 ],
 "metadata": {
  "kernelspec": {
   "display_name": "Python 3",
   "language": "python",
   "name": "python3"
  },
  "language_info": {
   "codemirror_mode": {
    "name": "ipython",
    "version": 3
   },
   "file_extension": ".py",
   "mimetype": "text/x-python",
   "name": "python",
   "nbconvert_exporter": "python",
   "pygments_lexer": "ipython3",
   "version": "3.10.12"
  }
 },
 "nbformat": 4,
 "nbformat_minor": 2
}
