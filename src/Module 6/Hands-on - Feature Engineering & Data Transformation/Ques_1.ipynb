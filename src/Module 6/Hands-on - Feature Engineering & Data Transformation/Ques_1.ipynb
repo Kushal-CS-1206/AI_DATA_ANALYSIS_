{
 "cells": [
  {
   "cell_type": "code",
   "execution_count": 2,
   "metadata": {},
   "outputs": [
    {
     "name": "stdout",
     "output_type": "stream",
     "text": [
      "Number of rows before removal: 15\n",
      "Number of rows after removal: 13\n",
      "Number of rows removed: 2\n"
     ]
    }
   ],
   "source": [
    "import pandas as pd\n",
    "\n",
    "# Create sample dataset\n",
    "data = {\n",
    "    'Monthly_Sales': [1200, 1150, 1300, 1100, 1250, 1170, 1230, 1190, 1220, 5000, 6000, 1180, 1210, 1160, 1240]\n",
    "}\n",
    "df = pd.DataFrame(data)\n",
    "\n",
    "# Step 2: Calculate Q1, Q3, and IQR\n",
    "Q1 = df['Monthly_Sales'].quantile(0.25)\n",
    "Q3 = df['Monthly_Sales'].quantile(0.75)\n",
    "IQR = Q3 - Q1\n",
    "\n",
    "# Step 3: Identify outliers\n",
    "lower_bound = Q1 - 1.5 * IQR\n",
    "upper_bound = Q3 + 1.5 * IQR\n",
    "outliers = df[(df['Monthly_Sales'] < lower_bound) | (df['Monthly_Sales'] > upper_bound)]\n",
    "\n",
    "# Step 4: Remove the outliers\n",
    "df_cleaned = df[(df['Monthly_Sales'] >= lower_bound) & (df['Monthly_Sales'] <= upper_bound)]\n",
    "\n",
    "# Step 5: Check the number of rows removed\n",
    "rows_removed = len(df) - len(df_cleaned)\n",
    "print(\"Number of rows before removal:\", len(df))\n",
    "print(\"Number of rows after removal:\", len(df_cleaned))\n",
    "print(\"Number of rows removed:\", rows_removed)"
   ]
  }
 ],
 "metadata": {
  "kernelspec": {
   "display_name": "Python 3",
   "language": "python",
   "name": "python3"
  },
  "language_info": {
   "codemirror_mode": {
    "name": "ipython",
    "version": 3
   },
   "file_extension": ".py",
   "mimetype": "text/x-python",
   "name": "python",
   "nbconvert_exporter": "python",
   "pygments_lexer": "ipython3",
   "version": "3.10.12"
  }
 },
 "nbformat": 4,
 "nbformat_minor": 2
}
