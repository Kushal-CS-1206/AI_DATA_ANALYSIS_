{
 "cells": [
  {
   "cell_type": "code",
   "execution_count": 1,
   "metadata": {},
   "outputs": [
    {
     "name": "stdout",
     "output_type": "stream",
     "text": [
      "        Age  Annual_Income  Region_East  Region_North  Region_South  \\\n",
      "0  0.054054       0.032258        False          True         False   \n",
      "1  0.594595       0.516129        False         False          True   \n",
      "2  0.324324       0.225806         True         False         False   \n",
      "3  0.729730       0.677419        False         False         False   \n",
      "4  0.000000       0.000000        False          True         False   \n",
      "5  0.459459       0.435484         True         False         False   \n",
      "6  1.000000       1.000000        False         False          True   \n",
      "\n",
      "   Region_West  \n",
      "0        False  \n",
      "1        False  \n",
      "2        False  \n",
      "3         True  \n",
      "4        False  \n",
      "5        False  \n",
      "6        False  \n"
     ]
    }
   ],
   "source": [
    "import pandas as pd\n",
    "from sklearn.preprocessing import MinMaxScaler\n",
    "\n",
    "# Sample dataset\n",
    "data = {\n",
    "    'Age': [25, 45, 35, 50, 23, 40, 60],\n",
    "    'Annual_Income': [50000, 80000, 62000, 90000, 48000, 75000, 110000],\n",
    "    'Region': ['North', 'South', 'East', 'West', 'North', 'East', 'South']\n",
    "}\n",
    "df = pd.DataFrame(data)\n",
    "\n",
    "# Step 2: Scale Age and Annual_Income using MinMaxScaler\n",
    "scaler = MinMaxScaler()\n",
    "df[['Age', 'Annual_Income']] = scaler.fit_transform(df[['Age', 'Annual_Income']])\n",
    "\n",
    "# Step 3: One-Hot Encode Region\n",
    "df = pd.get_dummies(df, columns=['Region'])\n",
    "\n",
    "# Step 4: Verify transformed dataset\n",
    "print(df)\n"
   ]
  }
 ],
 "metadata": {
  "kernelspec": {
   "display_name": "Python 3",
   "language": "python",
   "name": "python3"
  },
  "language_info": {
   "codemirror_mode": {
    "name": "ipython",
    "version": 3
   },
   "file_extension": ".py",
   "mimetype": "text/x-python",
   "name": "python",
   "nbconvert_exporter": "python",
   "pygments_lexer": "ipython3",
   "version": "3.10.12"
  }
 },
 "nbformat": 4,
 "nbformat_minor": 2
}
