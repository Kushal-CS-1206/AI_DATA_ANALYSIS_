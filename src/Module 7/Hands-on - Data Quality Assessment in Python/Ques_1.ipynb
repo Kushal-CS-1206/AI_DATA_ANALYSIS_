{
 "cells": [
  {
   "cell_type": "markdown",
   "metadata": {},
   "source": [
    "**Task 1**: Checking Null Values for Completeness\n",
    "\n",
    "**Description**: Verify if there are any null values in a dataset, which indicate incomplete data."
   ]
  },
  {
   "cell_type": "code",
   "execution_count": 1,
   "metadata": {},
   "outputs": [
    {
     "name": "stdout",
     "output_type": "stream",
     "text": [
      "Null values per column:\n",
      "name     1\n",
      "age      1\n",
      "email    1\n",
      "dtype: int64\n",
      "\n",
      "Any null values in dataset?: True\n"
     ]
    }
   ],
   "source": [
    "# Write your code from here\n",
    "import pandas as pd\n",
    "\n",
    "# Sample dataset\n",
    "data = pd.DataFrame({\n",
    "    'name': ['Alice', 'Bob', None, 'David'],\n",
    "    'age': [25, None, 30, 40],\n",
    "    'email': ['alice@example.com', 'bob@example.com', 'charlie@example.com', None]\n",
    "})\n",
    "\n",
    "# Check for null values\n",
    "null_counts = data.isnull().sum()\n",
    "\n",
    "# Check if any null values exist\n",
    "has_nulls = data.isnull().values.any()\n",
    "\n",
    "print(\"Null values per column:\")\n",
    "print(null_counts)\n",
    "print(\"\\nAny null values in dataset?:\", has_nulls)"
   ]
  },
  {
   "cell_type": "markdown",
   "metadata": {},
   "source": [
    "**Task 2**: Checking Data Type Validity\n",
    "\n",
    "**Description**: Ensure that columns contain data of expected types, e.g., ages are integers."
   ]
  },
  {
   "cell_type": "code",
   "execution_count": 3,
   "metadata": {},
   "outputs": [
    {
     "name": "stdout",
     "output_type": "stream",
     "text": [
      "Invalid data types found in column 'age':\n",
      "           age\n",
      "2  thirty-five\n"
     ]
    }
   ],
   "source": [
    "# Wriimport pandas as pd\n",
    "\n",
    "# Sample dataset\n",
    "data = pd.DataFrame({\n",
    "    'name': ['Alice', 'Bob', 'Charlie', 'David'],\n",
    "    'age': [25, 30, 'thirty-five', 40],  # 'thirty-five' is invalid for age\n",
    "    'email': ['alice@example.com', 'bob@example.com', 'charlie@example.com', 'david@example.com']\n",
    "})\n",
    "\n",
    "# Define expected types for columns\n",
    "expected_types = {\n",
    "    'name': str,\n",
    "    'age': int,\n",
    "    'email': str\n",
    "}\n",
    "\n",
    "# Function to check data types validity per column\n",
    "def check_data_types(df, expected_types):\n",
    "    results = {}\n",
    "    for col, expected_type in expected_types.items():\n",
    "        # Check each value in column if it matches expected type\n",
    "        valid = df[col].apply(lambda x: isinstance(x, expected_type))\n",
    "        results[col] = valid\n",
    "    return results\n",
    "\n",
    "type_validity = check_data_types(data, expected_types)\n",
    "\n",
    "# Print rows where types are invalid\n",
    "for col, validity in type_validity.items():\n",
    "    invalid_rows = data[~validity]\n",
    "    if not invalid_rows.empty:\n",
    "        print(f\"Invalid data types found in column '{col}':\")\n",
    "        print(invalid_rows[[col]])\n"
   ]
  },
  {
   "cell_type": "markdown",
   "metadata": {},
   "source": [
    "**Task 3**: Verify Uniqueness of Identifiers\n",
    "\n",
    "**Description**: Check if a dataset has unique identifiers (e.g., emails)."
   ]
  },
  {
   "cell_type": "code",
   "execution_count": 4,
   "metadata": {},
   "outputs": [
    {
     "name": "stdout",
     "output_type": "stream",
     "text": [
      "Duplicate values found in 'user_id':\n",
      "   user_id\n",
      "1        2\n",
      "4        2\n",
      "Duplicate values found in 'email':\n",
      "           email\n",
      "1  b@example.com\n",
      "4  b@example.com\n"
     ]
    }
   ],
   "source": [
    "# Write your code from here\n",
    "import pandas as pd\n",
    "\n",
    "# Sample dataset\n",
    "data = pd.DataFrame({\n",
    "    'user_id': [1, 2, 3, 4, 2],  # user_id 2 is duplicated\n",
    "    'email': ['a@example.com', 'b@example.com', 'c@example.com', 'd@example.com', 'b@example.com']  # b@example.com duplicated\n",
    "})\n",
    "\n",
    "# Function to check uniqueness of a column\n",
    "def check_uniqueness(df, column):\n",
    "    duplicated = df[df.duplicated(column, keep=False)]\n",
    "    if duplicated.empty:\n",
    "        print(f\"All values in '{column}' are unique.\")\n",
    "    else:\n",
    "        print(f\"Duplicate values found in '{column}':\")\n",
    "        print(duplicated[[column]])\n",
    "\n",
    "# Check uniqueness of 'user_id' and 'email'\n",
    "check_uniqueness(data, 'user_id')\n",
    "check_uniqueness(data, 'email')"
   ]
  },
  {
   "cell_type": "markdown",
   "metadata": {},
   "source": [
    "Task 4: Validate Email Format Using Regex\n",
    "\n",
    "Description: Validate if email addresses in a dataset have the correct format."
   ]
  },
  {
   "cell_type": "code",
   "execution_count": 5,
   "metadata": {},
   "outputs": [
    {
     "name": "stdout",
     "output_type": "stream",
     "text": [
      "Invalid emails found:\n",
      "                    email\n",
      "1       invalid-email.com\n",
      "3  bad@address@domain.com\n"
     ]
    }
   ],
   "source": [
    "# Write your code from here\n",
    "import pandas as pd\n",
    "import re\n",
    "\n",
    "# Sample dataset\n",
    "data = pd.DataFrame({\n",
    "    'email': ['valid.email@example.com', 'invalid-email.com', 'another.valid@mail.co', 'bad@address@domain.com']\n",
    "})\n",
    "\n",
    "# Email validation regex pattern\n",
    "email_pattern = re.compile(r'^[\\w\\.-]+@[\\w\\.-]+\\.\\w+$')\n",
    "\n",
    "# Function to validate emails\n",
    "def validate_emails(df, column):\n",
    "    df['is_valid_email'] = df[column].apply(lambda x: bool(email_pattern.match(x)))\n",
    "    invalid_emails = df[df['is_valid_email'] == False]\n",
    "    if invalid_emails.empty:\n",
    "        print(\"All emails are valid.\")\n",
    "    else:\n",
    "        print(\"Invalid emails found:\")\n",
    "        print(invalid_emails[[column]])\n",
    "\n",
    "# Run validation\n",
    "validate_emails(data, 'email')"
   ]
  },
  {
   "cell_type": "markdown",
   "metadata": {},
   "source": [
    "Task 5: Check for Logical Age Validity\n",
    "\n",
    "Description: Ensure ages are within a reasonable human range (e.g., 0-120)."
   ]
  },
  {
   "cell_type": "code",
   "execution_count": 6,
   "metadata": {},
   "outputs": [
    {
     "name": "stdout",
     "output_type": "stream",
     "text": [
      "Invalid ages found:\n",
      "   age\n",
      "1   -5\n",
      "2  130\n",
      "6  121\n"
     ]
    }
   ],
   "source": [
    "# Write your code from here\n",
    "import pandas as pd\n",
    "\n",
    "# Sample dataset\n",
    "data = pd.DataFrame({\n",
    "    'age': [25, -5, 130, 45, 0, 120, 121]\n",
    "})\n",
    "\n",
    "# Function to check logical age validity\n",
    "def check_age_validity(df, column, min_age=0, max_age=120):\n",
    "    df['is_valid_age'] = df[column].apply(lambda x: isinstance(x, (int, float)) and min_age <= x <= max_age)\n",
    "    invalid_ages = df[df['is_valid_age'] == False]\n",
    "    if invalid_ages.empty:\n",
    "        print(\"All ages are within the valid range.\")\n",
    "    else:\n",
    "        print(\"Invalid ages found:\")\n",
    "        print(invalid_ages[[column]])\n",
    "\n",
    "# Run check\n",
    "check_age_validity(data, 'age')"
   ]
  },
  {
   "cell_type": "markdown",
   "metadata": {},
   "source": [
    "Task 6: Identify and Handle Missing Data\n",
    "\n",
    "Description: Identify missing values in a dataset and impute them using a simple strategy (e.g., mean)."
   ]
  },
  {
   "cell_type": "code",
   "execution_count": 7,
   "metadata": {},
   "outputs": [
    {
     "name": "stdout",
     "output_type": "stream",
     "text": [
      "Missing values in 'age': 2\n",
      "Data after imputation:\n",
      "    age  age_filled\n",
      "0  25.0       25.00\n",
      "1   NaN       38.75\n",
      "2  35.0       35.00\n",
      "3  40.0       40.00\n",
      "4   NaN       38.75\n",
      "5  55.0       55.00\n"
     ]
    }
   ],
   "source": [
    "# Write your code from here\n",
    "import pandas as pd\n",
    "import numpy as np\n",
    "\n",
    "# Sample dataset with missing values\n",
    "data = pd.DataFrame({\n",
    "    'age': [25, np.nan, 35, 40, np.nan, 55]\n",
    "})\n",
    "\n",
    "# Identify missing values\n",
    "missing_count = data['age'].isna().sum()\n",
    "print(f\"Missing values in 'age': {missing_count}\")\n",
    "\n",
    "# Impute missing values with mean\n",
    "mean_age = data['age'].mean()\n",
    "data['age_filled'] = data['age'].fillna(mean_age)\n",
    "\n",
    "print(\"Data after imputation:\")\n",
    "print(data)"
   ]
  },
  {
   "cell_type": "markdown",
   "metadata": {},
   "source": [
    "Task 7: Detect Duplicates\n",
    "\n",
    "Description: Detect duplicate rows in the dataset."
   ]
  },
  {
   "cell_type": "code",
   "execution_count": 8,
   "metadata": {},
   "outputs": [
    {
     "name": "stdout",
     "output_type": "stream",
     "text": [
      "Duplicate rows:\n",
      "   id   name\n",
      "2   2    Bob\n",
      "5   4  David\n",
      "6   4  David\n"
     ]
    }
   ],
   "source": [
    "# Write your code from here\n",
    "import pandas as pd\n",
    "\n",
    "# Sample dataset with duplicates\n",
    "data = pd.DataFrame({\n",
    "    'id': [1, 2, 2, 3, 4, 4, 4],\n",
    "    'name': ['Alice', 'Bob', 'Bob', 'Charlie', 'David', 'David', 'David']\n",
    "})\n",
    "\n",
    "# Detect duplicate rows\n",
    "duplicates = data[data.duplicated()]\n",
    "\n",
    "print(\"Duplicate rows:\")\n",
    "print(duplicates)"
   ]
  },
  {
   "cell_type": "markdown",
   "metadata": {},
   "source": [
    "Task 8: Validate Correctness of Numerical Values\n",
    "\n",
    "Description: Ensure numerical columns are within a specified range."
   ]
  },
  {
   "cell_type": "code",
   "execution_count": 9,
   "metadata": {},
   "outputs": [
    {
     "name": "stdout",
     "output_type": "stream",
     "text": [
      "Rows with invalid prices:\n",
      "   product_id   price\n",
      "2         103    -5.0\n",
      "3         104  2000.0\n"
     ]
    }
   ],
   "source": [
    "import pandas as pd\n",
    "\n",
    "# Sample dataset\n",
    "data = pd.DataFrame({\n",
    "    'product_id': [101, 102, 103, 104],\n",
    "    'price': [25.5, 100.0, -5.0, 2000.0]  # price should be between 0 and 1000\n",
    "})\n",
    "\n",
    "# Define valid range\n",
    "min_price, max_price = 0, 1000\n",
    "\n",
    "# Find rows where price is outside the valid range\n",
    "invalid_prices = data[(data['price'] < min_price) | (data['price'] > max_price)]\n",
    "\n",
    "print(\"Rows with invalid prices:\")\n",
    "print(invalid_prices)\n"
   ]
  },
  {
   "cell_type": "markdown",
   "metadata": {},
   "source": [
    "Task 9: Custom Completeness Rule Violation Report\n",
    "\n",
    "Description: Create a report showing which rows violate specific completeness rules, such as mandatory fields being empty."
   ]
  },
  {
   "cell_type": "code",
   "execution_count": 10,
   "metadata": {},
   "outputs": [
    {
     "name": "stdout",
     "output_type": "stream",
     "text": [
      "Rows violating completeness rules (missing mandatory fields):\n",
      "   customer_id     name            email         phone\n",
      "1            2           bob@example.com  234-567-8901\n",
      "2            3  Charlie                   345-678-9012\n",
      "3            4     None             None  456-789-0123\n"
     ]
    }
   ],
   "source": [
    "# Write your code from here\n",
    "import pandas as pd\n",
    "\n",
    "# Sample dataset with some missing mandatory fields: 'name' and 'email'\n",
    "data = pd.DataFrame({\n",
    "    'customer_id': [1, 2, 3, 4],\n",
    "    'name': ['Alice', '', 'Charlie', None],\n",
    "    'email': ['alice@example.com', 'bob@example.com', '', None],\n",
    "    'phone': ['123-456-7890', '234-567-8901', '345-678-9012', '456-789-0123']\n",
    "})\n",
    "\n",
    "# Define mandatory fields\n",
    "mandatory_fields = ['name', 'email']\n",
    "\n",
    "# Check completeness violations: rows where any mandatory field is empty or null\n",
    "violations = data[data[mandatory_fields].isnull().any(axis=1) | (data[mandatory_fields] == '').any(axis=1)]\n",
    "\n",
    "print(\"Rows violating completeness rules (missing mandatory fields):\")\n",
    "print(violations)"
   ]
  },
  {
   "cell_type": "markdown",
   "metadata": {},
   "source": [
    "Task 10: Advanced Regex for Data Validity Check\n",
    "\n",
    "Description: Check for validity with advanced regex patterns, such as validating complex fields with multi-level rules."
   ]
  },
  {
   "cell_type": "code",
   "execution_count": 11,
   "metadata": {},
   "outputs": [
    {
     "name": "stdout",
     "output_type": "stream",
     "text": [
      "     custom_id  valid_custom_id\n",
      "0   AB1234-xyz             True\n",
      "1   XY5678-abc             True\n",
      "2    A1234-xyz            False\n",
      "3  AB12345-xyz            False\n",
      "4   AB1234-XYZ            False\n",
      "5    AB1234-xy            False\n"
     ]
    }
   ],
   "source": [
    "# Write your code from here\n",
    "import pandas as pd\n",
    "import re\n",
    "\n",
    "# Sample data with complex field: a custom ID with format rules:\n",
    "# Example rule: ID must start with 2 uppercase letters, followed by 4 digits, then a dash, then 3 lowercase letters\n",
    "data = pd.DataFrame({\n",
    "    'custom_id': ['AB1234-xyz', 'XY5678-abc', 'A1234-xyz', 'AB12345-xyz', 'AB1234-XYZ', 'AB1234-xy']\n",
    "})\n",
    "\n",
    "# Advanced regex pattern for custom ID validation\n",
    "pattern = re.compile(r'^[A-Z]{2}\\d{4}-[a-z]{3}$')\n",
    "\n",
    "# Validate each ID against the regex pattern\n",
    "data['valid_custom_id'] = data['custom_id'].apply(lambda x: bool(pattern.match(x)))\n",
    "\n",
    "print(data)"
   ]
  }
 ],
 "metadata": {
  "kernelspec": {
   "display_name": "Python 3",
   "language": "python",
   "name": "python3"
  },
  "language_info": {
   "codemirror_mode": {
    "name": "ipython",
    "version": 3
   },
   "file_extension": ".py",
   "mimetype": "text/x-python",
   "name": "python",
   "nbconvert_exporter": "python",
   "pygments_lexer": "ipython3",
   "version": "3.10.12"
  }
 },
 "nbformat": 4,
 "nbformat_minor": 2
}
