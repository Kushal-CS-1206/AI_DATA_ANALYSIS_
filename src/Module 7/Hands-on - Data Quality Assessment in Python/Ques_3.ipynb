{
 "cells": [
  {
   "cell_type": "markdown",
   "metadata": {},
   "source": [
    "## Check Uniqueness & Validity\n",
    "\n",
    "**Objective**: Evaluate data quality by checking for uniqueness and validity of data entries.\n",
    "\n",
    "For this activity, you will use a sample dataset students.csv that contains the following\n",
    "columns: ID , Name , Age , Grade , Email .\n",
    "\n",
    "**Steps**:\n",
    "1. Check Uniqueness\n",
    "    - Unique IDs\n",
    "    - Unique Email Addresses\n",
    "    - Unique Combination\n",
    "\n",
    "2. Check Validity\n",
    "    - Validate Age Range\n",
    "    - Validate Grade Scale\n",
    "    - Validate Name Format"
   ]
  },
  {
   "cell_type": "code",
   "execution_count": 2,
   "metadata": {},
   "outputs": [
    {
     "name": "stdout",
     "output_type": "stream",
     "text": [
      "Uniqueness checks:\n",
      "Unique IDs: False\n",
      "Unique Emails: False\n",
      "Unique ID+Name combinations: True\n",
      "\n",
      "Validity checks (True means valid):\n",
      "   Age_Valid  Grade_Valid  Name_Valid\n",
      "0       True         True        True\n",
      "1       True        False       False\n",
      "2       True         True        True\n",
      "3       True        False        True\n",
      "4       True         True        True\n"
     ]
    }
   ],
   "source": [
    "# Write your code from here\n",
    "import pandas as pd\n",
    "import re\n",
    "\n",
    "# Sample students data\n",
    "data = pd.DataFrame({\n",
    "    'ID': [101, 102, 103, 104, 102],  # duplicate ID 102\n",
    "    'Name': ['Alice', 'Bob1', 'Charlie', 'David', 'Eve'],\n",
    "    'Age': [20, 21, 22, 19, 25],\n",
    "    'Grade': [85, 110, 88, -5, 95],  # invalid grades 110 and -5\n",
    "    'Email': ['alice@example.com', 'bob@example.com', 'charlie@example.com', 'david@sample.com', 'bob@example.com']  # duplicate email bob@example.com\n",
    "})\n",
    "\n",
    "# 1. Check Uniqueness\n",
    "unique_ids = data['ID'].is_unique\n",
    "unique_emails = data['Email'].is_unique\n",
    "unique_id_name_combo = data[['ID', 'Name']].drop_duplicates().shape[0] == data.shape[0]\n",
    "\n",
    "# 2. Check Validity\n",
    "# a. Validate Age Range (0-120)\n",
    "valid_age = data['Age'].between(0, 120)\n",
    "\n",
    "# b. Validate Grade Scale (0-100)\n",
    "valid_grade = data['Grade'].between(0, 100)\n",
    "\n",
    "# c. Validate Name Format (only letters and spaces)\n",
    "name_pattern = re.compile(r'^[A-Za-z\\s]+$')\n",
    "valid_name = data['Name'].apply(lambda x: bool(name_pattern.match(x)))\n",
    "\n",
    "# Results summary\n",
    "print(\"Uniqueness checks:\")\n",
    "print(f\"Unique IDs: {unique_ids}\")\n",
    "print(f\"Unique Emails: {unique_emails}\")\n",
    "print(f\"Unique ID+Name combinations: {unique_id_name_combo}\\n\")\n",
    "\n",
    "print(\"Validity checks (True means valid):\")\n",
    "print(pd.DataFrame({\n",
    "    'Age_Valid': valid_age,\n",
    "    'Grade_Valid': valid_grade,\n",
    "    'Name_Valid': valid_name\n",
    "}))\n",
    "#"
   ]
  }
 ],
 "metadata": {
  "kernelspec": {
   "display_name": "Python 3",
   "language": "python",
   "name": "python3"
  },
  "language_info": {
   "codemirror_mode": {
    "name": "ipython",
    "version": 3
   },
   "file_extension": ".py",
   "mimetype": "text/x-python",
   "name": "python",
   "nbconvert_exporter": "python",
   "pygments_lexer": "ipython3",
   "version": "3.10.12"
  }
 },
 "nbformat": 4,
 "nbformat_minor": 2
}
