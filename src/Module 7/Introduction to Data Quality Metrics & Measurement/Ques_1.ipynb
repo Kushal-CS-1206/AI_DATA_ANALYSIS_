{
 "cells": [
  {
   "cell_type": "markdown",
   "metadata": {},
   "source": [
    "## Data Quality Dashboard in Python\n",
    "\n",
    "**Description**: Create a basic dashboard using a Python library (e.g., Plotly Dash) to visualize data quality metrics for a given dataset."
   ]
  },
  {
   "cell_type": "code",
   "execution_count": 2,
   "metadata": {},
   "outputs": [
    {
     "name": "stdout",
     "output_type": "stream",
     "text": [
      "Defaulting to user installation because normal site-packages is not writeable\n",
      "Requirement already satisfied: dash in /home/vscode/.local/lib/python3.10/site-packages (3.0.4)\n",
      "Requirement already satisfied: pandas in /home/vscode/.local/lib/python3.10/site-packages (2.1.4)\n",
      "Requirement already satisfied: plotly in /home/vscode/.local/lib/python3.10/site-packages (6.0.1)\n",
      "Requirement already satisfied: setuptools in /usr/local/lib/python3.10/site-packages (from dash) (67.8.0)\n",
      "Requirement already satisfied: importlib-metadata in /home/vscode/.local/lib/python3.10/site-packages (from dash) (8.7.0)\n",
      "Requirement already satisfied: nest-asyncio in /home/vscode/.local/lib/python3.10/site-packages (from dash) (1.6.0)\n",
      "Requirement already satisfied: Werkzeug<3.1 in /home/vscode/.local/lib/python3.10/site-packages (from dash) (3.0.6)\n",
      "Requirement already satisfied: typing-extensions>=4.1.1 in /home/vscode/.local/lib/python3.10/site-packages (from dash) (4.13.2)\n",
      "Requirement already satisfied: requests in /home/vscode/.local/lib/python3.10/site-packages (from dash) (2.32.3)\n",
      "Requirement already satisfied: Flask<3.1,>=1.0.4 in /home/vscode/.local/lib/python3.10/site-packages (from dash) (3.0.3)\n",
      "Requirement already satisfied: retrying in /home/vscode/.local/lib/python3.10/site-packages (from dash) (1.3.4)\n",
      "Requirement already satisfied: numpy<2,>=1.22.4 in /home/vscode/.local/lib/python3.10/site-packages (from pandas) (1.26.4)\n",
      "Requirement already satisfied: pytz>=2020.1 in /home/vscode/.local/lib/python3.10/site-packages (from pandas) (2025.2)\n",
      "Requirement already satisfied: tzdata>=2022.1 in /home/vscode/.local/lib/python3.10/site-packages (from pandas) (2025.2)\n",
      "Requirement already satisfied: python-dateutil>=2.8.2 in /home/vscode/.local/lib/python3.10/site-packages (from pandas) (2.9.0.post0)\n",
      "Requirement already satisfied: narwhals>=1.15.1 in /home/vscode/.local/lib/python3.10/site-packages (from plotly) (1.38.2)\n",
      "Requirement already satisfied: packaging in /home/vscode/.local/lib/python3.10/site-packages (from plotly) (25.0)\n",
      "Requirement already satisfied: blinker>=1.6.2 in /home/vscode/.local/lib/python3.10/site-packages (from Flask<3.1,>=1.0.4->dash) (1.9.0)\n",
      "Requirement already satisfied: click>=8.1.3 in /home/vscode/.local/lib/python3.10/site-packages (from Flask<3.1,>=1.0.4->dash) (8.2.0)\n",
      "Requirement already satisfied: itsdangerous>=2.1.2 in /home/vscode/.local/lib/python3.10/site-packages (from Flask<3.1,>=1.0.4->dash) (2.2.0)\n",
      "Requirement already satisfied: Jinja2>=3.1.2 in /home/vscode/.local/lib/python3.10/site-packages (from Flask<3.1,>=1.0.4->dash) (3.1.6)\n",
      "Requirement already satisfied: six>=1.5 in /home/vscode/.local/lib/python3.10/site-packages (from python-dateutil>=2.8.2->pandas) (1.17.0)\n",
      "Requirement already satisfied: MarkupSafe>=2.1.1 in /home/vscode/.local/lib/python3.10/site-packages (from Werkzeug<3.1->dash) (3.0.2)\n",
      "Requirement already satisfied: zipp>=3.20 in /home/vscode/.local/lib/python3.10/site-packages (from importlib-metadata->dash) (3.21.0)\n",
      "Requirement already satisfied: urllib3<3,>=1.21.1 in /home/vscode/.local/lib/python3.10/site-packages (from requests->dash) (2.4.0)\n",
      "Requirement already satisfied: idna<4,>=2.5 in /home/vscode/.local/lib/python3.10/site-packages (from requests->dash) (3.10)\n",
      "Requirement already satisfied: certifi>=2017.4.17 in /home/vscode/.local/lib/python3.10/site-packages (from requests->dash) (2025.4.26)\n",
      "Requirement already satisfied: charset-normalizer<4,>=2 in /home/vscode/.local/lib/python3.10/site-packages (from requests->dash) (3.4.2)\n",
      "\n",
      "\u001b[1m[\u001b[0m\u001b[34;49mnotice\u001b[0m\u001b[1;39;49m]\u001b[0m\u001b[39;49m A new release of pip is available: \u001b[0m\u001b[31;49m23.0.1\u001b[0m\u001b[39;49m -> \u001b[0m\u001b[32;49m25.1.1\u001b[0m\n",
      "\u001b[1m[\u001b[0m\u001b[34;49mnotice\u001b[0m\u001b[1;39;49m]\u001b[0m\u001b[39;49m To update, run: \u001b[0m\u001b[32;49mpip install --upgrade pip\u001b[0m\n"
     ]
    }
   ],
   "source": [
    "!pip install dash pandas plotly"
   ]
  },
  {
   "cell_type": "code",
   "execution_count": 4,
   "metadata": {},
   "outputs": [
    {
     "data": {
      "text/html": [
       "\n",
       "        <iframe\n",
       "            width=\"100%\"\n",
       "            height=\"650\"\n",
       "            src=\"http://127.0.0.1:8050/\"\n",
       "            frameborder=\"0\"\n",
       "            allowfullscreen\n",
       "            \n",
       "        ></iframe>\n",
       "        "
      ],
      "text/plain": [
       "<IPython.lib.display.IFrame at 0x7e17baeb7b50>"
      ]
     },
     "metadata": {},
     "output_type": "display_data"
    }
   ],
   "source": [
    "# Write your code from here\n",
    "\n",
    "import pandas as pd\n",
    "import dash\n",
    "from dash import dcc, html, Input, Output\n",
    "import plotly.express as px\n",
    "\n",
    "# Sample dataset (can replace with your own CSV)\n",
    "df = pd.DataFrame({\n",
    "    'Name': ['Alice', 'Bob', 'Charlie', None, 'Eve'],\n",
    "    'Age': [25, None, 30, 22, 29],\n",
    "    'Email': ['a@example.com', 'b@example.com', None, 'd@example.com', 'e@example.com'],\n",
    "    'Salary': [50000, 60000, None, 55000, 52000]\n",
    "})\n",
    "\n",
    "# Calculate quality metrics\n",
    "def calculate_quality_metrics(data):\n",
    "    return pd.DataFrame({\n",
    "        'Column': data.columns,\n",
    "        'Missing Values': data.isnull().sum().values,\n",
    "        'Missing (%)': (data.isnull().mean() * 100).round(2),\n",
    "        'Unique Values': data.nunique().values,\n",
    "        'Data Type': data.dtypes.astype(str).values\n",
    "    })\n",
    "\n",
    "# Initialize app\n",
    "app = dash.Dash(__name__)\n",
    "app.title = 'Data Quality Dashboard'\n",
    "\n",
    "# Layout\n",
    "app.layout = html.Div([\n",
    "    html.H1(\"📊 Data Quality Dashboard\", style={'textAlign': 'center'}),\n",
    "\n",
    "    html.Div(id='summary-table'),\n",
    "\n",
    "    html.Br(),\n",
    "    dcc.Graph(id='missing-bar'),\n",
    "\n",
    "    html.Br(),\n",
    "    dcc.Graph(id='unique-bar'),\n",
    "])\n",
    "\n",
    "# Callbacks\n",
    "@app.callback(\n",
    "    Output('summary-table', 'children'),\n",
    "    Output('missing-bar', 'figure'),\n",
    "    Output('unique-bar', 'figure'),\n",
    "    Input('summary-table', 'children')\n",
    ")\n",
    "def update_dashboard(_):\n",
    "    quality_df = calculate_quality_metrics(df)\n",
    "\n",
    "    summary = html.Table([\n",
    "        html.Thead(html.Tr([html.Th(col) for col in quality_df.columns])),\n",
    "        html.Tbody([\n",
    "            html.Tr([html.Td(val) for val in row])\n",
    "            for row in quality_df.values\n",
    "        ])\n",
    "    ], style={'width': '100%', 'border': '1px solid black', 'borderCollapse': 'collapse'})\n",
    "\n",
    "    fig_missing = px.bar(\n",
    "        quality_df,\n",
    "        x='Column',\n",
    "        y='Missing (%)',\n",
    "        title='Missing Values (%) by Column',\n",
    "        text='Missing (%)',\n",
    "        color='Missing (%)',\n",
    "        color_continuous_scale='reds'\n",
    "    )\n",
    "\n",
    "    fig_unique = px.bar(\n",
    "        quality_df,\n",
    "        x='Column',\n",
    "        y='Unique Values',\n",
    "        title='Unique Values Count by Column',\n",
    "        text='Unique Values',\n",
    "        color='Unique Values',\n",
    "        color_continuous_scale='blues'\n",
    "    )\n",
    "\n",
    "    return summary, fig_missing, fig_unique\n",
    "\n",
    "# Run server\n",
    "if __name__ == '__main__':\n",
    "    app.run(debug=True)"
   ]
  }
 ],
 "metadata": {
  "kernelspec": {
   "display_name": "Python 3",
   "language": "python",
   "name": "python3"
  },
  "language_info": {
   "codemirror_mode": {
    "name": "ipython",
    "version": 3
   },
   "file_extension": ".py",
   "mimetype": "text/x-python",
   "name": "python",
   "nbconvert_exporter": "python",
   "pygments_lexer": "ipython3",
   "version": "3.10.12"
  }
 },
 "nbformat": 4,
 "nbformat_minor": 2
}
