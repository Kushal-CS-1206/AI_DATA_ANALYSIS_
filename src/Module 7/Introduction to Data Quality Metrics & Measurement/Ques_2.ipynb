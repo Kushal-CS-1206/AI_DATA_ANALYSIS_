{
 "cells": [
  {
   "cell_type": "markdown",
   "metadata": {},
   "source": [
    "## Data Quality Framework Implementation\n",
    "\n",
    "**Description**: Implement a simple data quality measurement framework using ISO 8000 principles to assess key dimensions in a dataset."
   ]
  },
  {
   "cell_type": "code",
   "execution_count": 1,
   "metadata": {},
   "outputs": [
    {
     "name": "stdout",
     "output_type": "stream",
     "text": [
      "Data Quality Assessment Report:\n",
      "\n",
      "COMPLETENESS:\n",
      "  id: 1.00\n",
      "  name: 0.83\n",
      "  email: 1.00\n",
      "  age: 0.83\n",
      "\n",
      "UNIQUENESS:\n",
      "  overall: 0.83\n",
      "\n",
      "VALIDITY:\n",
      "  email: 0.83\n",
      "\n",
      "CONSISTENCY:\n",
      "  age_non_negative: 0.83\n"
     ]
    }
   ],
   "source": [
    "# Write a conceptual framework described in Python pseudo-code:\n",
    "import pandas as pd\n",
    "import numpy as np\n",
    "\n",
    "# Sample dataset\n",
    "data = {\n",
    "    'id': [1, 2, 3, 4, 5, 5],\n",
    "    'name': ['Alice', 'Bob', 'Charlie', 'David', None, 'Eve'],\n",
    "    'email': ['alice@example.com', 'bob@example.com', 'charlie@example', 'david@example.com', 'eve@example.com', 'eve@example.com'],\n",
    "    'age': [25, 30, 35, None, 40, 40]\n",
    "}\n",
    "df = pd.DataFrame(data)\n",
    "\n",
    "# Define expected valid formats\n",
    "def is_valid_email(email):\n",
    "    return isinstance(email, str) and '@' in email and '.' in email.split('@')[-1]\n",
    "\n",
    "# Data Quality Metrics\n",
    "def calculate_completeness(df):\n",
    "    return df.notnull().mean()\n",
    "\n",
    "def calculate_uniqueness(df, key_cols):\n",
    "    return df.duplicated(subset=key_cols).mean()\n",
    "\n",
    "def calculate_validity(df):\n",
    "    return {\n",
    "        'email': df['email'].apply(is_valid_email).mean()\n",
    "    }\n",
    "\n",
    "def calculate_consistency(df):\n",
    "    consistency_checks = {\n",
    "        'age_non_negative': (df['age'] >= 0).fillna(False).mean()\n",
    "    }\n",
    "    return consistency_checks\n",
    "\n",
    "def assess_data_quality(df):\n",
    "    results = {}\n",
    "    results['completeness'] = calculate_completeness(df).to_dict()\n",
    "    results['uniqueness'] = 1 - calculate_uniqueness(df, key_cols=['id'])  # proportion unique\n",
    "    results['validity'] = calculate_validity(df)\n",
    "    results['consistency'] = calculate_consistency(df)\n",
    "    return results\n",
    "\n",
    "# Run assessment\n",
    "quality_report = assess_data_quality(df)\n",
    "print(\"Data Quality Assessment Report:\")\n",
    "for category, metrics in quality_report.items():\n",
    "    print(f\"\\n{category.upper()}:\")\n",
    "    for key, value in (metrics.items() if isinstance(metrics, dict) else [('overall', metrics)]):\n",
    "        print(f\"  {key}: {value:.2f}\")"
   ]
  }
 ],
 "metadata": {
  "kernelspec": {
   "display_name": "Python 3",
   "language": "python",
   "name": "python3"
  },
  "language_info": {
   "codemirror_mode": {
    "name": "ipython",
    "version": 3
   },
   "file_extension": ".py",
   "mimetype": "text/x-python",
   "name": "python",
   "nbconvert_exporter": "python",
   "pygments_lexer": "ipython3",
   "version": "3.10.12"
  }
 },
 "nbformat": 4,
 "nbformat_minor": 2
}
