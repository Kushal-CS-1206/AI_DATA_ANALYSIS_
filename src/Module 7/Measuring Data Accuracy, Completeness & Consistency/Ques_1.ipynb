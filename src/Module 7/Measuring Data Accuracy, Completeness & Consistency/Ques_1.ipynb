{
 "cells": [
  {
   "cell_type": "markdown",
   "metadata": {},
   "source": [
    "### Task 1: Measure Data Accuracy using a Trusted Source\n",
    "\n",
    "**Description**: You have two datasets of product prices: `company_prices.csv` and\n",
    "`trusted_prices.csv` . Check if the prices in `company_prices.csv` match the prices in\n",
    "`trusted_prices.csv` . Assume both files have a \"product_id\" and \"price\" column."
   ]
  },
  {
   "cell_type": "code",
   "execution_count": 2,
   "metadata": {},
   "outputs": [
    {
     "name": "stdout",
     "output_type": "stream",
     "text": [
      "Price Accuracy: 80.00%\n",
      "\n",
      "Mismatched Records:\n",
      "   product_id  price_company  price_trusted\n",
      "2         103           12.0          12.49\n"
     ]
    }
   ],
   "source": [
    "import pandas as pd\n",
    "from io import StringIO\n",
    "\n",
    "# Sample datasets as CSV strings\n",
    "company_csv = \"\"\"product_id,price\n",
    "101,19.99\n",
    "102,5.49\n",
    "103,12.00\n",
    "104,7.99\n",
    "105,24.50\n",
    "\"\"\"\n",
    "\n",
    "trusted_csv = \"\"\"product_id,price\n",
    "101,19.99\n",
    "102,5.49\n",
    "103,12.49\n",
    "104,7.99\n",
    "105,24.50\n",
    "\"\"\"\n",
    "\n",
    "# Read datasets from strings\n",
    "company_df = pd.read_csv(StringIO(company_csv))\n",
    "trusted_df = pd.read_csv(StringIO(trusted_csv))\n",
    "\n",
    "# Merge on product_id\n",
    "merged_df = pd.merge(company_df, trusted_df, on=\"product_id\", suffixes=('_company', '_trusted'))\n",
    "\n",
    "# Compare prices\n",
    "merged_df[\"price_match\"] = merged_df[\"price_company\"] == merged_df[\"price_trusted\"]\n",
    "\n",
    "# Calculate accuracy\n",
    "accuracy = merged_df[\"price_match\"].mean()\n",
    "\n",
    "# Print accuracy\n",
    "print(f\"Price Accuracy: {accuracy:.2%}\")\n",
    "\n",
    "# Print mismatches\n",
    "mismatches = merged_df[~merged_df[\"price_match\"]]\n",
    "print(\"\\nMismatched Records:\")\n",
    "print(mismatches[[\"product_id\", \"price_company\", \"price_trusted\"]])"
   ]
  },
  {
   "cell_type": "markdown",
   "metadata": {},
   "source": [
    "### Task 2: Detect Incorrect Values\n",
    "\n",
    "**Description**: In `company_prices.csv` , detect any negative price values which are incorrect values for prices."
   ]
  },
  {
   "cell_type": "code",
   "execution_count": 3,
   "metadata": {},
   "outputs": [
    {
     "name": "stdout",
     "output_type": "stream",
     "text": [
      "Incorrect Price Values (Negative Prices):\n",
      "   product_id  price\n",
      "1         102  -5.49\n",
      "4         105 -24.50\n"
     ]
    }
   ],
   "source": [
    "# Write your code from here\n",
    "import pandas as pd\n",
    "from io import StringIO\n",
    "\n",
    "# Sample dataset with possible incorrect values\n",
    "company_csv = \"\"\"product_id,price\n",
    "101,19.99\n",
    "102,-5.49\n",
    "103,12.00\n",
    "104,0.00\n",
    "105,-24.50\n",
    "106,8.75\n",
    "\"\"\"\n",
    "\n",
    "# Read the dataset\n",
    "company_df = pd.read_csv(StringIO(company_csv))\n",
    "\n",
    "# Detect negative prices\n",
    "incorrect_values = company_df[company_df['price'] < 0]\n",
    "\n",
    "# Output results\n",
    "print(\"Incorrect Price Values (Negative Prices):\")\n",
    "print(incorrect_values)"
   ]
  },
  {
   "cell_type": "markdown",
   "metadata": {},
   "source": [
    "### Task 3: Check Missing Data Rates\n",
    "\n",
    "**Description**: Calculate the percentage of missing values in `customer_data.csv` ."
   ]
  },
  {
   "cell_type": "code",
   "execution_count": 4,
   "metadata": {},
   "outputs": [
    {
     "name": "stdout",
     "output_type": "stream",
     "text": [
      "Missing Data Percentage by Column:\n",
      "customer_id     0.0\n",
      "name           20.0\n",
      "email          40.0\n",
      "age            20.0\n",
      "dtype: float64\n"
     ]
    }
   ],
   "source": [
    "# Write your code from here\n",
    "import pandas as pd\n",
    "from io import StringIO\n",
    "\n",
    "# Sample dataset with missing values\n",
    "customer_csv = \"\"\"customer_id,name,email,age\n",
    "1,John Doe,john@example.com,28\n",
    "2,Jane Smith,,34\n",
    "3,Bob Johnson,bob@example.com,\n",
    "4,,susan@example.com,45\n",
    "5,Alice White,, \n",
    "\"\"\"\n",
    "\n",
    "# Read the dataset\n",
    "customer_df = pd.read_csv(StringIO(customer_csv))\n",
    "\n",
    "# Calculate missing data rate for each column\n",
    "missing_percentage = customer_df.isnull().mean() * 100\n",
    "\n",
    "# Output results\n",
    "print(\"Missing Data Percentage by Column:\")\n",
    "print(missing_percentage)"
   ]
  },
  {
   "cell_type": "markdown",
   "metadata": {},
   "source": [
    "### Task 4: Handling Partially Available Records\n",
    "\n",
    "**Description**: In `customer_data.csv` , identify records with missing \"email\" or \"phone number\" and decide whether to drop or fill them."
   ]
  },
  {
   "cell_type": "code",
   "execution_count": 5,
   "metadata": {},
   "outputs": [
    {
     "name": "stdout",
     "output_type": "stream",
     "text": [
      "Records with Missing Email or Phone Number:\n",
      "   customer_id         name            email phone_number\n",
      "1            2   Jane Smith              NaN   9876543210\n",
      "2            3  Bob Johnson  bob@example.com          NaN\n",
      "3            4    Susan Lee              NaN             \n",
      "\n",
      "Data After Dropping Incomplete Contact Info:\n",
      "   customer_id         name              email phone_number\n",
      "0            1     John Doe   john@example.com   1234567890\n",
      "4            5  Alice White  alice@example.com   5551234567\n"
     ]
    }
   ],
   "source": [
    "# Write your code from here\n",
    "import pandas as pd\n",
    "from io import StringIO\n",
    "\n",
    "# Sample dataset with missing email or phone_number\n",
    "customer_csv = \"\"\"customer_id,name,email,phone_number\n",
    "1,John Doe,john@example.com,1234567890\n",
    "2,Jane Smith,,9876543210\n",
    "3,Bob Johnson,bob@example.com,\n",
    "4,Susan Lee,, \n",
    "5,Alice White,alice@example.com,5551234567\n",
    "\"\"\"\n",
    "\n",
    "# Read the dataset\n",
    "customer_df = pd.read_csv(StringIO(customer_csv))\n",
    "\n",
    "# Identify records with missing email or phone_number\n",
    "missing_contact = customer_df[customer_df[['email', 'phone_number']].isnull().any(axis=1)]\n",
    "\n",
    "# Drop records with missing contact info\n",
    "cleaned_df = customer_df.dropna(subset=['email', 'phone_number'])\n",
    "\n",
    "# Output\n",
    "print(\"Records with Missing Email or Phone Number:\")\n",
    "print(missing_contact)\n",
    "print(\"\\nData After Dropping Incomplete Contact Info:\")\n",
    "print(cleaned_df)"
   ]
  }
 ],
 "metadata": {
  "kernelspec": {
   "display_name": "Python 3",
   "language": "python",
   "name": "python3"
  },
  "language_info": {
   "codemirror_mode": {
    "name": "ipython",
    "version": 3
   },
   "file_extension": ".py",
   "mimetype": "text/x-python",
   "name": "python",
   "nbconvert_exporter": "python",
   "pygments_lexer": "ipython3",
   "version": "3.10.12"
  }
 },
 "nbformat": 4,
 "nbformat_minor": 2
}
