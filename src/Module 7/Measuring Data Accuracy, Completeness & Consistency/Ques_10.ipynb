{
 "cells": [
  {
   "cell_type": "markdown",
   "metadata": {},
   "source": [
    "# Ensuring Consistency\n",
    "\n",
    "**Activity Overview**: Ensure consistency by identifying and resolving conflicting values across datasets.\n",
    "\n",
    "## Title: Customer Address Discrepancies\n",
    "\n",
    "**Task**: Address customer address mismatches between CRM and marketing databases.\n",
    "\n",
    "**Steps**:\n",
    "1. Compare customer addresses in the CRM with those in the marketing database.\n",
    "2. Identify records with conflicting address information.\n",
    "3. Propose a method to consolidate records with verified addresses."
   ]
  },
  {
   "cell_type": "code",
   "execution_count": 1,
   "metadata": {},
   "outputs": [
    {
     "name": "stdout",
     "output_type": "stream",
     "text": [
      "Conflicting address records:\n",
      "   customer_id address_crm address_marketing\n",
      "1            2  456 Oak St       456 Oak Ave\n",
      "3            4  101 Elm St        102 Elm St\n",
      "\n",
      "Resolved addresses:\n",
      "   customer_id resolved_address\n",
      "0            1     123 Maple St\n",
      "1            2       456 Oak St\n",
      "2            3      789 Pine St\n",
      "3            4       101 Elm St\n"
     ]
    }
   ],
   "source": [
    "# Write your code from here\n",
    "import pandas as pd\n",
    "\n",
    "# Simulated CRM dataset\n",
    "crm_data = pd.DataFrame({\n",
    "    'customer_id': [1, 2, 3, 4],\n",
    "    'address': ['123 Maple St', '456 Oak St', '789 Pine St', '101 Elm St']\n",
    "})\n",
    "\n",
    "# Simulated Marketing dataset\n",
    "marketing_data = pd.DataFrame({\n",
    "    'customer_id': [1, 2, 3, 4],\n",
    "    'address': ['123 Maple St', '456 Oak Ave', '789 Pine St', '102 Elm St']\n",
    "})\n",
    "\n",
    "# Merge datasets on customer_id\n",
    "merged = pd.merge(crm_data, marketing_data, on='customer_id', suffixes=('_crm', '_marketing'))\n",
    "\n",
    "# Identify mismatched addresses\n",
    "address_conflicts = merged[merged['address_crm'] != merged['address_marketing']]\n",
    "\n",
    "print(\"Conflicting address records:\")\n",
    "print(address_conflicts)\n",
    "\n",
    "# Example method to resolve: prefer CRM data unless marketing is verified (for demo purpose only)\n",
    "resolved_addresses = merged.copy()\n",
    "resolved_addresses['resolved_address'] = resolved_addresses['address_crm']  # Prioritize CRM\n",
    "\n",
    "print(\"\\nResolved addresses:\")\n",
    "print(resolved_addresses[['customer_id', 'resolved_address']])"
   ]
  }
 ],
 "metadata": {
  "kernelspec": {
   "display_name": "Python 3",
   "language": "python",
   "name": "python3"
  },
  "language_info": {
   "codemirror_mode": {
    "name": "ipython",
    "version": 3
   },
   "file_extension": ".py",
   "mimetype": "text/x-python",
   "name": "python",
   "nbconvert_exporter": "python",
   "pygments_lexer": "ipython3",
   "version": "3.10.12"
  }
 },
 "nbformat": 4,
 "nbformat_minor": 2
}
