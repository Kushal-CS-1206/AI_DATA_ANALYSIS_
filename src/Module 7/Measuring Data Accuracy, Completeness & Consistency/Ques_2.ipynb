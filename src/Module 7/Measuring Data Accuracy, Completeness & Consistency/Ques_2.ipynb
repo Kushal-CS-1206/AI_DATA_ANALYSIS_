{
 "cells": [
  {
   "cell_type": "markdown",
   "metadata": {},
   "source": [
    "## Find Conflicting Values Across Datasets\n",
    "\n",
    "**Description**: You have two datasets: `crm_customers.csv` and `erp_customers.csv` . Find customers with conflicting \"email\" information."
   ]
  },
  {
   "cell_type": "code",
   "execution_count": 1,
   "metadata": {},
   "outputs": [
    {
     "name": "stdout",
     "output_type": "stream",
     "text": [
      "Conflicting Email Records:\n",
      "   customer_id  name_crm         email_crm         email_erp\n",
      "0            1  John Doe  john@example.com  john@company.com\n"
     ]
    }
   ],
   "source": [
    "# Write your code from here\n",
    "import pandas as pd\n",
    "from io import StringIO\n",
    "\n",
    "# Sample CRM dataset\n",
    "crm_csv = \"\"\"customer_id,name,email\n",
    "1,John Doe,john@example.com\n",
    "2,Jane Smith,jane@company.com\n",
    "3,Bob Johnson,bob@domain.com\n",
    "4,Alice White,alice@white.com\n",
    "\"\"\"\n",
    "\n",
    "# Sample ERP dataset\n",
    "erp_csv = \"\"\"customer_id,name,email\n",
    "1,John Doe,john@company.com\n",
    "2,Jane Smith,jane@company.com\n",
    "3,Bob Johnson,bob@domain.com\n",
    "4,Alice White,alice@white.com\n",
    "\"\"\"\n",
    "\n",
    "# Load datasets\n",
    "crm_df = pd.read_csv(StringIO(crm_csv))\n",
    "erp_df = pd.read_csv(StringIO(erp_csv))\n",
    "\n",
    "# Merge on customer_id and compare emails\n",
    "merged_df = pd.merge(crm_df, erp_df, on='customer_id', suffixes=('_crm', '_erp'))\n",
    "conflicts = merged_df[merged_df['email_crm'] != merged_df['email_erp']]\n",
    "\n",
    "# Output\n",
    "print(\"Conflicting Email Records:\")\n",
    "print(conflicts[['customer_id', 'name_crm', 'email_crm', 'email_erp']])"
   ]
  }
 ],
 "metadata": {
  "kernelspec": {
   "display_name": "Python 3",
   "language": "python",
   "name": "python3"
  },
  "language_info": {
   "codemirror_mode": {
    "name": "ipython",
    "version": 3
   },
   "file_extension": ".py",
   "mimetype": "text/x-python",
   "name": "python",
   "nbconvert_exporter": "python",
   "pygments_lexer": "ipython3",
   "version": "3.10.12"
  }
 },
 "nbformat": 4,
 "nbformat_minor": 2
}
