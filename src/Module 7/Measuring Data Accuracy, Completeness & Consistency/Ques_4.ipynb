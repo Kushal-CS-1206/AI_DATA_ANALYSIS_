{
 "cells": [
  {
   "cell_type": "markdown",
   "metadata": {},
   "source": [
    "## Ensuring Consistency in Multi-source Data Integration\n",
    "\n",
    "**Description**: Validate the integration of two datasets `products_A.csv` and `products_B.csv` . Ensure consistency in product \"category\" information."
   ]
  },
  {
   "cell_type": "code",
   "execution_count": 1,
   "metadata": {},
   "outputs": [
    {
     "name": "stdout",
     "output_type": "stream",
     "text": [
      "Inconsistent product categories between datasets:\n",
      "   product_id category_A       category_B\n",
      "1         102       Home  Home Appliances\n"
     ]
    }
   ],
   "source": [
    "# Write your code from here\n",
    "import pandas as pd\n",
    "from io import StringIO\n",
    "\n",
    "# Sample dataset products_A.csv\n",
    "products_A_csv = \"\"\"product_id,category,price\n",
    "101,Electronics,299.99\n",
    "102,Home,89.50\n",
    "103,Toys,15.99\n",
    "104,Electronics,199.99\n",
    "\"\"\"\n",
    "\n",
    "# Sample dataset products_B.csv\n",
    "products_B_csv = \"\"\"product_id,category,price\n",
    "101,Electronics,305.00\n",
    "102,Home Appliances,85.00\n",
    "103,Toys,15.99\n",
    "104,Electronics,210.00\n",
    "\"\"\"\n",
    "\n",
    "# Load datasets\n",
    "products_A = pd.read_csv(StringIO(products_A_csv))\n",
    "products_B = pd.read_csv(StringIO(products_B_csv))\n",
    "\n",
    "# Merge datasets on product_id to compare category\n",
    "merged = products_A.merge(products_B, on='product_id', suffixes=('_A', '_B'))\n",
    "\n",
    "# Find inconsistent categories\n",
    "inconsistent_categories = merged[merged['category_A'] != merged['category_B']]\n",
    "\n",
    "print(\"Inconsistent product categories between datasets:\")\n",
    "print(inconsistent_categories[['product_id', 'category_A', 'category_B']])\n",
    "\n",
    "\n",
    "\n",
    "\n",
    "\n",
    "\n",
    "\n"
   ]
  }
 ],
 "metadata": {
  "kernelspec": {
   "display_name": "Python 3",
   "language": "python",
   "name": "python3"
  },
  "language_info": {
   "codemirror_mode": {
    "name": "ipython",
    "version": 3
   },
   "file_extension": ".py",
   "mimetype": "text/x-python",
   "name": "python",
   "nbconvert_exporter": "python",
   "pygments_lexer": "ipython3",
   "version": "3.10.12"
  }
 },
 "nbformat": 4,
 "nbformat_minor": 2
}
