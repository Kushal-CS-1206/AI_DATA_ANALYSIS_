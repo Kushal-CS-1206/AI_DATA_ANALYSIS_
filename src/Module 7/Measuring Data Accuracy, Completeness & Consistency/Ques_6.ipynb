{
 "cells": [
  {
   "cell_type": "markdown",
   "metadata": {},
   "source": [
    "## Architecture to Monitor Data Quality Over Time\n",
    "\n",
    "**Description**: Design a monitoring system in Python that checks and logs data quality metrics (accuracy, completeness) for a dataset over time.\n",
    "\n",
    "**Steps to follow:**\n",
    "1. Implement a Scheduled Script:\n",
    "    - Use schedule library to periodically run a script.\n",
    "2. Script to Calculate Metrics:\n",
    "    - For simplicity, use a function calculate_quality_metrics() that calculates and logs metrics such as missing rate or mismatch rate.\n",
    "3. Store Logs:\n",
    "    - Use Python's logging library to save these metrics over time."
   ]
  },
  {
   "cell_type": "code",
   "execution_count": 5,
   "metadata": {},
   "outputs": [
    {
     "name": "stdout",
     "output_type": "stream",
     "text": [
      "Defaulting to user installation because normal site-packages is not writeable\n",
      "Collecting schedule\n",
      "  Downloading schedule-1.2.2-py3-none-any.whl (12 kB)\n",
      "Installing collected packages: schedule\n",
      "Successfully installed schedule-1.2.2\n",
      "\n",
      "\u001b[1m[\u001b[0m\u001b[34;49mnotice\u001b[0m\u001b[1;39;49m]\u001b[0m\u001b[39;49m A new release of pip is available: \u001b[0m\u001b[31;49m23.0.1\u001b[0m\u001b[39;49m -> \u001b[0m\u001b[32;49m25.1.1\u001b[0m\n",
      "\u001b[1m[\u001b[0m\u001b[34;49mnotice\u001b[0m\u001b[1;39;49m]\u001b[0m\u001b[39;49m To update, run: \u001b[0m\u001b[32;49mpip install --upgrade pip\u001b[0m\n",
      "Missing Rate:\n",
      "id       0.0\n",
      "value    0.4\n",
      "dtype: float64\n",
      "Missing Rate:\n",
      "id       0.0\n",
      "value    0.4\n",
      "dtype: float64\n",
      "Missing Rate:\n",
      "id       0.0\n",
      "value    0.4\n",
      "dtype: float64\n",
      "Missing Rate:\n",
      "id       0.0\n",
      "value    0.4\n",
      "dtype: float64\n",
      "Missing Rate:\n",
      "id       0.0\n",
      "value    0.4\n",
      "dtype: float64\n",
      "Missing Rate:\n",
      "id       0.0\n",
      "value    0.4\n",
      "dtype: float64\n",
      "Monitoring complete.\n"
     ]
    }
   ],
   "source": [
    "!pip install schedule\n",
    "import pandas as pd\n",
    "import logging\n",
    "import time\n",
    "from datetime import datetime, timedelta\n",
    "\n",
    "# Create dummy dataset\n",
    "data = {\n",
    "    'id': [1, 2, 3, 4, 5],\n",
    "    'value': [10, None, 15, None, 20]\n",
    "}\n",
    "df = pd.DataFrame(data)\n",
    "\n",
    "# Setup logging\n",
    "logging.basicConfig(filename='data_quality.log', level=logging.INFO, format='%(asctime)s - %(message)s')\n",
    "\n",
    "# Function to calculate quality metrics\n",
    "def calculate_quality_metrics():\n",
    "    missing_rate = df.isnull().mean()\n",
    "    log_message = f\"Missing Rate:\\n{missing_rate}\"\n",
    "    logging.info(log_message)\n",
    "    print(log_message)\n",
    "\n",
    "# Run every 10 seconds for 1 minute\n",
    "end_time = datetime.now() + timedelta(minutes=1)\n",
    "while datetime.now() < end_time:\n",
    "    calculate_quality_metrics()\n",
    "    time.sleep(10)\n",
    "\n",
    "print(\"Monitoring complete.\")"
   ]
  }
 ],
 "metadata": {
  "kernelspec": {
   "display_name": "Python 3",
   "language": "python",
   "name": "python3"
  },
  "language_info": {
   "codemirror_mode": {
    "name": "ipython",
    "version": 3
   },
   "file_extension": ".py",
   "mimetype": "text/x-python",
   "name": "python",
   "nbconvert_exporter": "python",
   "pygments_lexer": "ipython3",
   "version": "3.10.12"
  }
 },
 "nbformat": 4,
 "nbformat_minor": 2
}
