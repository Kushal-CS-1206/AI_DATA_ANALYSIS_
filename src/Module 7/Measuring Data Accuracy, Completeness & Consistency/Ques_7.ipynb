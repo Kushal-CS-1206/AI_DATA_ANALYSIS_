{
 "cells": [
  {
   "cell_type": "markdown",
   "metadata": {},
   "source": [
    "## Advanced Consistency Check with Hierarchical Data\n",
    "\n",
    "**Description**: You have two datasets `orders.csv` and `order_items.csv` . Perform a consistency check to ensure each order in `orders.csv` has corresponding items in `order_items.csv` ."
   ]
  },
  {
   "cell_type": "code",
   "execution_count": 1,
   "metadata": {},
   "outputs": [
    {
     "name": "stdout",
     "output_type": "stream",
     "text": [
      "Orders without corresponding items:\n",
      "   order_id\n",
      "2       103\n"
     ]
    }
   ],
   "source": [
    "# Write your code from here\n",
    "import pandas as pd\n",
    "\n",
    "# Sample data\n",
    "orders_data = {\n",
    "    'order_id': [101, 102, 103, 104]\n",
    "}\n",
    "order_items_data = {\n",
    "    'order_id': [101, 101, 102, 104, 104]\n",
    "}\n",
    "\n",
    "# Create DataFrames\n",
    "orders_df = pd.DataFrame(orders_data)\n",
    "order_items_df = pd.DataFrame(order_items_data)\n",
    "\n",
    "# Find orders without items\n",
    "orders_with_items = order_items_df['order_id'].unique()\n",
    "inconsistent_orders = orders_df[~orders_df['order_id'].isin(orders_with_items)]\n",
    "\n",
    "print(\"Orders without corresponding items:\")\n",
    "print(inconsistent_orders)"
   ]
  }
 ],
 "metadata": {
  "kernelspec": {
   "display_name": "Python 3",
   "language": "python",
   "name": "python3"
  },
  "language_info": {
   "codemirror_mode": {
    "name": "ipython",
    "version": 3
   },
   "file_extension": ".py",
   "mimetype": "text/x-python",
   "name": "python",
   "nbconvert_exporter": "python",
   "pygments_lexer": "ipython3",
   "version": "3.10.12"
  }
 },
 "nbformat": 4,
 "nbformat_minor": 2
}
