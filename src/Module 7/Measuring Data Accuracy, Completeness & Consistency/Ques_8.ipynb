{
 "cells": [
  {
   "cell_type": "markdown",
   "metadata": {},
   "source": [
    "# Measuring Data Accuracy\n",
    "\n",
    "**Activity Overview**: Assess data accuracy by comparing it to a trusted source and detecting incorrect values or mismatches.\n",
    "\n",
    "## Title: Product Pricing\n",
    "\n",
    "**Task**: Compare a dataset of product prices with the latest official price list.\n",
    "\n",
    "**Steps**:\n",
    "1. Obtain the latest product price list from the official company website.\n",
    "2. Compare the dataset's product prices against the verified list.\n",
    "3. Identify any discrepancies and mark them for correction."
   ]
  },
  {
   "cell_type": "code",
   "execution_count": 2,
   "metadata": {},
   "outputs": [
    {
     "name": "stdout",
     "output_type": "stream",
     "text": [
      "Discrepancies found:\n",
      "   product_id  price_company  price_trusted\n",
      "1           2            150            160\n",
      "3           4            120            115\n"
     ]
    }
   ],
   "source": [
    "import pandas as pd\n",
    "\n",
    "# Simulated datasets\n",
    "company_prices = pd.DataFrame({\n",
    "    'product_id': [1, 2, 3, 4, 5],\n",
    "    'price': [100, 150, 90, 120, 80]\n",
    "})\n",
    "\n",
    "trusted_prices = pd.DataFrame({\n",
    "    'product_id': [1, 2, 3, 4, 5],\n",
    "    'price': [100, 160, 90, 115, 80]\n",
    "})\n",
    "\n",
    "# Merge and compare\n",
    "merged = pd.merge(company_prices, trusted_prices, on='product_id', suffixes=('_company', '_trusted'))\n",
    "discrepancies = merged[merged['price_company'] != merged['price_trusted']]\n",
    "\n",
    "print(\"Discrepancies found:\")\n",
    "print(discrepancies)\n"
   ]
  }
 ],
 "metadata": {
  "kernelspec": {
   "display_name": "Python 3",
   "language": "python",
   "name": "python3"
  },
  "language_info": {
   "codemirror_mode": {
    "name": "ipython",
    "version": 3
   },
   "file_extension": ".py",
   "mimetype": "text/x-python",
   "name": "python",
   "nbconvert_exporter": "python",
   "pygments_lexer": "ipython3",
   "version": "3.10.12"
  }
 },
 "nbformat": 4,
 "nbformat_minor": 2
}
