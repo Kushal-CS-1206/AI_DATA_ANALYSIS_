{
 "cells": [
  {
   "cell_type": "markdown",
   "metadata": {},
   "source": [
    "# Measuring Completeness\n",
    "\n",
    "**Activity Overview**: Evaluate data completeness by checking missing data rates and handling partially available records.\n",
    "\n",
    "## Title: Customer Profiles\n",
    "\n",
    "**Task**: Calculate the missing data rate for customer profiles.\n",
    "\n",
    "**Steps**:\n",
    "1. List all required fields for a complete customer profile (e.g., name, address, email,\n",
    "phone number).\n",
    "2. Analyze the dataset to count how many profiles have missing fields.\n",
    "3. Calculate the percentage of missing data fields across all profiles."
   ]
  },
  {
   "cell_type": "code",
   "execution_count": 1,
   "metadata": {},
   "outputs": [
    {
     "name": "stdout",
     "output_type": "stream",
     "text": [
      "Missing data percentages for each field:\n",
      "name            20.0\n",
      "address         40.0\n",
      "email           40.0\n",
      "phone_number    40.0\n",
      "dtype: float64\n"
     ]
    }
   ],
   "source": [
    "# Write your code from here\n",
    "import pandas as pd\n",
    "\n",
    "# Simulated dataset\n",
    "customer_data = pd.DataFrame({\n",
    "    'name': ['Alice', 'Bob', None, 'David', 'Eve'],\n",
    "    'address': ['NY', None, 'LA', 'SF', None],\n",
    "    'email': ['alice@example.com', None, 'carol@example.com', 'david@example.com', None],\n",
    "    'phone_number': ['1234567890', '0987654321', None, None, '5678901234']\n",
    "})\n",
    "\n",
    "# Required fields\n",
    "required_fields = ['name', 'address', 'email', 'phone_number']\n",
    "\n",
    "# Count missing values for each field\n",
    "missing_counts = customer_data[required_fields].isnull().sum()\n",
    "\n",
    "# Calculate missing data percentage\n",
    "total_profiles = len(customer_data)\n",
    "missing_percentages = (missing_counts / total_profiles) * 100\n",
    "\n",
    "print(\"Missing data percentages for each field:\")\n",
    "print(missing_percentages)"
   ]
  }
 ],
 "metadata": {
  "kernelspec": {
   "display_name": "Python 3",
   "language": "python",
   "name": "python3"
  },
  "language_info": {
   "codemirror_mode": {
    "name": "ipython",
    "version": 3
   },
   "file_extension": ".py",
   "mimetype": "text/x-python",
   "name": "python",
   "nbconvert_exporter": "python",
   "pygments_lexer": "ipython3",
   "version": "3.10.12"
  }
 },
 "nbformat": 4,
 "nbformat_minor": 2
}
