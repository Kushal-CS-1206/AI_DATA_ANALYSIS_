{
 "cells": [
  {
   "cell_type": "markdown",
   "metadata": {},
   "source": [
    "## Format Compliance for Email\n",
    "\n",
    "**Description**: Check if emails in a list are valid based on a basic regex pattern."
   ]
  },
  {
   "cell_type": "code",
   "execution_count": 1,
   "metadata": {},
   "outputs": [
    {
     "name": "stdout",
     "output_type": "stream",
     "text": [
      "                  email  is_valid_email\n",
      "0  john.doe@example.com            True\n",
      "1     invalid-email@com           False\n",
      "2  jane123@domain.co.uk            True\n",
      "3      no_at_symbol.com           False\n",
      "4     alice@website.org            True\n"
     ]
    }
   ],
   "source": [
    "# Write your code from here\n",
    "import pandas as pd\n",
    "import re\n",
    "\n",
    "# Sample dataset with emails\n",
    "data = pd.DataFrame({\n",
    "    'email': [\n",
    "        'john.doe@example.com',\n",
    "        'invalid-email@com',\n",
    "        'jane123@domain.co.uk',\n",
    "        'no_at_symbol.com',\n",
    "        'alice@website.org'\n",
    "    ]\n",
    "})\n",
    "\n",
    "# Simple email regex pattern\n",
    "email_pattern = r'^[\\w\\.-]+@[\\w\\.-]+\\.\\w+$'\n",
    "\n",
    "# Validate emails\n",
    "data['is_valid_email'] = data['email'].apply(lambda x: bool(re.match(email_pattern, x)))\n",
    "\n",
    "print(data)"
   ]
  },
  {
   "cell_type": "markdown",
   "metadata": {},
   "source": [
    "## Format Compliance for Phone Numbers\n",
    "\n",
    "**Description**: Verify if the phone numbers follow a specific pattern."
   ]
  },
  {
   "cell_type": "code",
   "execution_count": 2,
   "metadata": {},
   "outputs": [
    {
     "name": "stdout",
     "output_type": "stream",
     "text": [
      "      phone_number  is_valid_phone\n",
      "0     123-456-7890            True\n",
      "1   (123) 456-7890            True\n",
      "2       1234567890            True\n",
      "3     123.456.7890            True\n",
      "4  +1-123-456-7890            True\n",
      "5         456-7890           False\n",
      "6      123-45-6789           False\n"
     ]
    }
   ],
   "source": [
    "# Write your code from here\n",
    "import pandas as pd\n",
    "import re\n",
    "\n",
    "# Sample dataset with phone numbers\n",
    "data = pd.DataFrame({\n",
    "    'phone_number': [\n",
    "        '123-456-7890',\n",
    "        '(123) 456-7890',\n",
    "        '1234567890',\n",
    "        '123.456.7890',\n",
    "        '+1-123-456-7890',\n",
    "        '456-7890',\n",
    "        '123-45-6789'\n",
    "    ]\n",
    "})\n",
    "\n",
    "# Define a regex pattern for US-style phone numbers\n",
    "phone_pattern = r'^(\\+1-)?\\(?\\d{3}\\)?[-.\\s]?\\d{3}[-.\\s]?\\d{4}$'\n",
    "\n",
    "# Validate phone numbers\n",
    "data['is_valid_phone'] = data['phone_number'].apply(lambda x: bool(re.match(phone_pattern, x)))\n",
    "\n",
    "print(data)"
   ]
  },
  {
   "cell_type": "markdown",
   "metadata": {},
   "source": [
    "## Checking Date Validity Format\n",
    "\n",
    "**Description**: Ensure the dates in a list adhere to a specific format (e.g., YYYY-MM-DD)."
   ]
  },
  {
   "cell_type": "code",
   "execution_count": 3,
   "metadata": {},
   "outputs": [
    {
     "name": "stdout",
     "output_type": "stream",
     "text": [
      "         date  is_valid_date\n",
      "0  2023-05-01           True\n",
      "1  2023-13-01          False\n",
      "2  2023-02-29          False\n",
      "3  2022-12-31           True\n",
      "4  2023/05/01          False\n",
      "5  2023-04-31          False\n"
     ]
    }
   ],
   "source": [
    "# Write your code from here\n",
    "import pandas as pd\n",
    "from datetime import datetime\n",
    "\n",
    "# Sample dataset with dates\n",
    "data = pd.DataFrame({\n",
    "    'date': [\n",
    "        '2023-05-01',\n",
    "        '2023-13-01',  # invalid month\n",
    "        '2023-02-29',  # invalid day (not a leap year)\n",
    "        '2022-12-31',\n",
    "        '2023/05/01',  # wrong format\n",
    "        '2023-04-31'   # invalid day (April has 30 days)\n",
    "    ]\n",
    "})\n",
    "\n",
    "# Function to check if date is valid and in YYYY-MM-DD format\n",
    "def is_valid_date(date_str):\n",
    "    try:\n",
    "        datetime.strptime(date_str, '%Y-%m-%d')\n",
    "        return True\n",
    "    except ValueError:\n",
    "        return False\n",
    "\n",
    "# Apply validation\n",
    "data['is_valid_date'] = data['date'].apply(is_valid_date)\n",
    "\n",
    "print(data)"
   ]
  }
 ],
 "metadata": {
  "kernelspec": {
   "display_name": "Python 3",
   "language": "python",
   "name": "python3"
  },
  "language_info": {
   "codemirror_mode": {
    "name": "ipython",
    "version": 3
   },
   "file_extension": ".py",
   "mimetype": "text/x-python",
   "name": "python",
   "nbconvert_exporter": "python",
   "pygments_lexer": "ipython3",
   "version": "3.10.12"
  }
 },
 "nbformat": 4,
 "nbformat_minor": 2
}
