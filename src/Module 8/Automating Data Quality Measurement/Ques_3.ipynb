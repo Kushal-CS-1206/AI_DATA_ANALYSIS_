{
 "cells": [
  {
   "cell_type": "markdown",
   "metadata": {},
   "source": [
    "## Using AI for Anomalies Detection in Data Quality\n",
    "**Description**: Implement an AI-based approach to detect anomalies in data quality.\n",
    "\n",
    "**Steps**:\n",
    "1. Use an Anomaly Detection Algorithm:\n",
    "    - Use sklearn's Isolation Forest for anomaly detection.\n",
    "\n",
    "**Example data:**\n",
    "\n",
    "data = np.array([[25, 50000], [30, 60000], [35, 75000], [40, None], [45, 100000]])\n",
    "\n",
    "2. Integrate with Great Expectations:\n",
    "    - Generate alerts if anomalies are detected:"
   ]
  },
  {
   "cell_type": "code",
   "execution_count": 1,
   "metadata": {},
   "outputs": [
    {
     "name": "stdout",
     "output_type": "stream",
     "text": [
      "Anomalies detected:\n",
      "  Age    Income  anomaly\n",
      "4  45  100000.0       -1\n"
     ]
    }
   ],
   "source": [
    "import numpy as np\n",
    "import pandas as pd\n",
    "from sklearn.ensemble import IsolationForest\n",
    "import great_expectations as ge\n",
    "\n",
    "data = np.array([[25, 50000], [30, 60000], [35, 75000], [40, None], [45, 100000]])\n",
    "df = pd.DataFrame(data, columns=[\"Age\", \"Income\"])\n",
    "\n",
    "df[\"Income\"].fillna(df[\"Income\"].median(), inplace=True)\n",
    "\n",
    "model = IsolationForest(contamination=0.2, random_state=42)\n",
    "df[\"anomaly\"] = model.fit_predict(df)\n",
    "\n",
    "context = ge.get_context()\n",
    "suite_name = \"anomaly_detection_suite\"\n",
    "try:\n",
    "    suite = context.get_expectation_suite(suite_name)\n",
    "except Exception:\n",
    "    suite = context.create_expectation_suite(suite_name, overwrite_existing=True)\n",
    "\n",
    "batch = ge.from_pandas(df)\n",
    "batch.expect_column_values_to_not_be_null(\"Age\")\n",
    "batch.expect_column_values_to_not_be_null(\"Income\")\n",
    "\n",
    "alerts = df[df[\"anomaly\"] == -1]\n",
    "if not alerts.empty:\n",
    "    print(\"Anomalies detected:\")\n",
    "    print(alerts)\n",
    "else:\n",
    "    print(\"No anomalies detected.\")\n"
   ]
  }
 ],
 "metadata": {
  "kernelspec": {
   "display_name": "Python 3",
   "language": "python",
   "name": "python3"
  },
  "language_info": {
   "codemirror_mode": {
    "name": "ipython",
    "version": 3
   },
   "file_extension": ".py",
   "mimetype": "text/x-python",
   "name": "python",
   "nbconvert_exporter": "python",
   "pygments_lexer": "ipython3",
   "version": "3.10.12"
  }
 },
 "nbformat": 4,
 "nbformat_minor": 2
}
