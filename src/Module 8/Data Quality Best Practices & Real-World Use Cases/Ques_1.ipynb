{
 "cells": [
  {
   "cell_type": "markdown",
   "metadata": {},
   "source": [
    "### Define Data Quality KPIs\n",
    "\n",
    "**Task 1**: Identify Relevant KPIs\n",
    "\n",
    "**Objective**: Develop KPIs that align with organizational goals.\n",
    "\n",
    "**Steps**:\n",
    "1. Choose a dataset from a domain of your interest (e.g., sales data, healthcare records, or transaction logs).\n",
    "2. Identify three KPIs that would be crucial for assessing the data quality in your chosen dataset. Consider accuracy, completeness, and timeliness.\n",
    "3. Document why each KPI is important for maintaining high-quality data in your given context."
   ]
  },
  {
   "cell_type": "code",
   "execution_count": 1,
   "metadata": {},
   "outputs": [
    {
     "name": "stdout",
     "output_type": "stream",
     "text": [
      "Data Completeness: 85.00%\n",
      "Data Accuracy: 80.00%\n",
      "Data Timeliness: 80.00%\n"
     ]
    }
   ],
   "source": [
    "import pandas as pd\n",
    "from datetime import datetime, timedelta\n",
    "\n",
    "# Sample sales data\n",
    "data = {\n",
    "    \"transaction_id\": [1, 2, 3, None, 5],\n",
    "    \"customer_id\": [101, 102, None, 104, 105],\n",
    "    \"transaction_date\": [\n",
    "        \"2025-05-18 10:00:00\",\n",
    "        \"2025-05-19 11:30:00\",\n",
    "        \"2025-05-20 09:00:00\",\n",
    "        \"2025-05-19 15:00:00\",\n",
    "        None,\n",
    "    ],\n",
    "    \"amount\": [250.0, 5000.0, 15000.0, 300.0, 400.0],\n",
    "    \"product_id\": [1001, 1002, 1003, 1004, 1005],\n",
    "    \"processing_time\": [\n",
    "        \"2025-05-18 15:00:00\",\n",
    "        \"2025-05-19 12:00:00\",\n",
    "        \"2025-05-21 09:00:00\",\n",
    "        \"2025-05-19 16:00:00\",\n",
    "        \"2025-05-21 10:00:00\",\n",
    "    ],\n",
    "}\n",
    "\n",
    "df = pd.DataFrame(data)\n",
    "\n",
    "# Convert date columns to datetime\n",
    "df[\"transaction_date\"] = pd.to_datetime(df[\"transaction_date\"])\n",
    "df[\"processing_time\"] = pd.to_datetime(df[\"processing_time\"])\n",
    "\n",
    "# KPI 1: Data Completeness (% non-null in critical columns)\n",
    "critical_cols = [\"transaction_id\", \"customer_id\", \"transaction_date\", \"amount\"]\n",
    "completeness = df[critical_cols].notnull().mean().mean() * 100\n",
    "\n",
    "# KPI 2: Data Accuracy (% amount within realistic bounds >0 and <10,000)\n",
    "valid_amount = df[\"amount\"].between(0, 10000)\n",
    "accuracy = valid_amount.mean() * 100\n",
    "\n",
    "# KPI 3: Data Timeliness (% processed within 24 hours of transaction_date)\n",
    "time_diff = df[\"processing_time\"] - df[\"transaction_date\"]\n",
    "timely_processed = (time_diff <= timedelta(hours=24)) & (~time_diff.isnull())\n",
    "timeliness = timely_processed.mean() * 100\n",
    "\n",
    "print(f\"Data Completeness: {completeness:.2f}%\")\n",
    "print(f\"Data Accuracy: {accuracy:.2f}%\")\n",
    "print(f\"Data Timeliness: {timeliness:.2f}%\")\n"
   ]
  },
  {
   "cell_type": "markdown",
   "metadata": {},
   "source": [
    "**Task 2**: Develop a KPI Dashboard\n",
    "\n",
    "**Objective**: Visualize your KPIs for better monitoring.\n",
    "\n",
    "**Steps**:\n",
    "1. Use a tool like Excel or a BI tool (e.g., Tableau, Power BI) to create a simple dashboard.\n",
    "2. Input sample data and visualize your chosen KPIs, showing how they would be monitored.\n",
    "3. Share your dashboard with peers and gather feedback on KPI relevance and clarity."
   ]
  },
  {
   "cell_type": "code",
   "execution_count": 2,
   "metadata": {},
   "outputs": [
    {
     "name": "stderr",
     "output_type": "stream",
     "text": [
      "/tmp/ipykernel_85642/615214736.py:14: FutureWarning: \n",
      "\n",
      "Passing `palette` without assigning `hue` is deprecated and will be removed in v0.14.0. Assign the `x` variable to `hue` and set `legend=False` for the same effect.\n",
      "\n",
      "  sns.barplot(x=\"KPI\", y=\"Value (%)\", data=df_kpi, palette=\"Blues_d\")\n"
     ]
    },
    {
     "data": {
      "image/png": "[encoded data removed]",
      "text/plain": [
       "<Figure size 800x500 with 1 Axes>"
      ]
     },
     "metadata": {},
     "output_type": "display_data"
    }
   ],
   "source": [
    "import matplotlib.pyplot as plt\n",
    "import seaborn as sns\n",
    "import pandas as pd\n",
    "\n",
    "# Sample KPI data (could be from previous KPI calculations)\n",
    "kpi_data = {\n",
    "    \"KPI\": [\"Data Completeness\", \"Data Accuracy\", \"Data Timeliness\"],\n",
    "    \"Value (%)\": [92.5, 88.3, 94.7]\n",
    "}\n",
    "\n",
    "df_kpi = pd.DataFrame(kpi_data)\n",
    "\n",
    "plt.figure(figsize=(8, 5))\n",
    "sns.barplot(x=\"KPI\", y=\"Value (%)\", data=df_kpi, palette=\"Blues_d\")\n",
    "\n",
    "plt.title(\"Data Quality KPI Dashboard\")\n",
    "plt.ylim(0, 100)\n",
    "plt.ylabel(\"Percentage (%)\")\n",
    "plt.xlabel(\"KPIs\")\n",
    "\n",
    "for index, row in df_kpi.iterrows():\n",
    "    plt.text(index, row[\"Value (%)\"] + 2, f\"{row['Value (%)']:.1f}%\", ha='center')\n",
    "\n",
    "plt.tight_layout()\n",
    "plt.show()\n"
   ]
  }
 ],
 "metadata": {
  "kernelspec": {
   "display_name": "Python 3",
   "language": "python",
   "name": "python3"
  },
  "language_info": {
   "codemirror_mode": {
    "name": "ipython",
    "version": 3
   },
   "file_extension": ".py",
   "mimetype": "text/x-python",
   "name": "python",
   "nbconvert_exporter": "python",
   "pygments_lexer": "ipython3",
   "version": "3.10.12"
  }
 },
 "nbformat": 4,
 "nbformat_minor": 2
}
