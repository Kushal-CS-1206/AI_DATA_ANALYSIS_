{
 "cells": [
  {
   "cell_type": "markdown",
   "metadata": {},
   "source": [
    "### Finance – Ensuring Accurate Transactions\n",
    "\n",
    "**Task 1**: Transaction Data Validation Insights\n",
    "\n",
    "**Objective**: Maintain transaction integrity.\n",
    "\n",
    "**Steps**:\n",
    "1. Choose a sample financial transaction dataset.\n",
    "2. Identify common transaction issues like duplicate entries or incorrect amounts.\n",
    "3. Develop a list of validation checks specific to financial transactions."
   ]
  },
  {
   "cell_type": "code",
   "execution_count": 1,
   "metadata": {},
   "outputs": [
    {
     "data": {
      "text/plain": [
       "(   transaction_id  account_id  transaction_amount transaction_date\n",
       " 2             103           3               250.0       2025-05-19\n",
       " 3             103           3               250.0       2025-05-19,\n",
       "    transaction_id  account_id  transaction_amount transaction_date\n",
       " 1             102           2               -50.0       2025-05-19\n",
       " 4             104           4           5000000.0       2025-05-19,\n",
       " ['Check for duplicate transaction IDs',\n",
       "  'Ensure transaction amounts are positive and below set thresholds',\n",
       "  'Validate transaction dates are within expected ranges',\n",
       "  'Confirm account IDs exist in authorized accounts',\n",
       "  'Verify no missing essential fields'])"
      ]
     },
     "execution_count": 1,
     "metadata": {},
     "output_type": "execute_result"
    }
   ],
   "source": [
    "import pandas as pd\n",
    "\n",
    "data = {\n",
    "    \"transaction_id\": [101, 102, 103, 103, 104],\n",
    "    \"account_id\": [1, 2, 3, 3, 4],\n",
    "    \"transaction_amount\": [1000.00, -50.00, 250.00, 250.00, 5000000.00],  # negative or abnormally high\n",
    "    \"transaction_date\": [\"2025-05-19\", \"2025-05-19\", \"2025-05-19\", \"2025-05-19\", \"2025-05-19\"]\n",
    "}\n",
    "\n",
    "df = pd.DataFrame(data)\n",
    "\n",
    "# Identify issues\n",
    "duplicate_transactions = df[df.duplicated(subset=[\"transaction_id\"], keep=False)]\n",
    "invalid_amounts = df[(df[\"transaction_amount\"] <= 0) | (df[\"transaction_amount\"] > 1_000_000)]\n",
    "\n",
    "# Validation checks list\n",
    "validation_checks = [\n",
    "    \"Check for duplicate transaction IDs\",\n",
    "    \"Ensure transaction amounts are positive and below set thresholds\",\n",
    "    \"Validate transaction dates are within expected ranges\",\n",
    "    \"Confirm account IDs exist in authorized accounts\",\n",
    "    \"Verify no missing essential fields\"\n",
    "]\n",
    "\n",
    "duplicate_transactions, invalid_amounts, validation_checks\n"
   ]
  },
  {
   "cell_type": "markdown",
   "metadata": {},
   "source": [
    "**Task 2**: Implement Financial Data Validation\n",
    "\n",
    "**Objective**: Use automated tools to ensure transaction accuracy.\n",
    "\n",
    "**Steps**:\n",
    "1. Integrate data validation rules into your existing financial systems.\n",
    "2. Ensure real-time checks to validate data upon entry."
   ]
  },
  {
   "cell_type": "code",
   "execution_count": 2,
   "metadata": {},
   "outputs": [],
   "source": [
    "\n",
    "import pandas as pd\n",
    "from great_expectations.dataset import PandasDataset\n",
    "\n",
    "class FinancialDataset(PandasDataset):\n",
    "    def validate_transactions(self):\n",
    "        self.expect_column_values_to_not_be_null(\"transaction_id\")\n",
    "        self.expect_column_values_to_be_unique(\"transaction_id\")\n",
    "        self.expect_column_values_to_be_between(\"transaction_amount\", min_value=0.01, max_value=1_000_000)\n",
    "        self.expect_column_values_to_not_be_null(\"transaction_date\")\n",
    "        self.expect_column_values_to_match_regex(\"transaction_date\", r\"\\d{4}-\\d{2}-\\d{2}\")\n",
    "\n",
    "# Sample data\n",
    "data = {\n",
    "    \"transaction_id\": [101, 102, 103, 104],\n",
    "    \"account_id\": [1, 2, 3, 4],\n",
    "    \"transaction_amount\": [1000.00, 500.00, -250.00, 750.00],\n",
    "    \"transaction_date\": [\"2025-05-19\", \"2025-05-19\", \"2025-05-19\", \"2025/05/19\"]\n",
    "}\n",
    "\n",
    "df = FinancialDataset(pd.DataFrame(data))\n",
    "\n",
    "validation_results = df.validate_transactions()\n",
    "validation_results\n",
    "\n",
    "\n",
    "\n",
    "\n",
    "\n",
    "\n"
   ]
  }
 ],
 "metadata": {
  "kernelspec": {
   "display_name": "Python 3",
   "language": "python",
   "name": "python3"
  },
  "language_info": {
   "codemirror_mode": {
    "name": "ipython",
    "version": 3
   },
   "file_extension": ".py",
   "mimetype": "text/x-python",
   "name": "python",
   "nbconvert_exporter": "python",
   "pygments_lexer": "ipython3",
   "version": "3.10.12"
  }
 },
 "nbformat": 4,
 "nbformat_minor": 2
}
