{
 "cells": [
  {
   "cell_type": "markdown",
   "metadata": {},
   "source": [
    "## Read Data from CSV and Calculate DQI\n",
    "\n",
    "**Description**: Read data from a CSV file, identify errors as missing values, and calculate the DQI."
   ]
  },
  {
   "cell_type": "code",
   "execution_count": 3,
   "metadata": {},
   "outputs": [
    {
     "name": "stdout",
     "output_type": "stream",
     "text": [
      "0.78\n"
     ]
    }
   ],
   "source": [
    "# Write your code from here\n",
    "import csv\n",
    "\n",
    "# Create sample dataset CSV\n",
    "with open(\"sample_data.csv\", \"w\", newline='') as f:\n",
    "    writer = csv.writer(f)\n",
    "    writer.writerow([\"name\", \"age\", \"email\"])\n",
    "    writer.writerow([\"Alice\", \"30\", \"alice@example.com\"])\n",
    "    writer.writerow([\"Bob\", \"\", \"bob@example.com\"])\n",
    "    writer.writerow([\"\", \"25\", \"charlie@example.com\"])\n",
    "\n",
    "# Function to read CSV and calculate DQI\n",
    "def read_data_and_calculate_dqi(filename):\n",
    "    total_cells = 0\n",
    "    missing_cells = 0\n",
    "\n",
    "    with open(filename, mode='r', newline='') as file:\n",
    "        reader = csv.reader(file)\n",
    "        headers = next(reader)\n",
    "        for row in reader:\n",
    "            total_cells += len(row)\n",
    "            missing_cells += sum(1 for cell in row if cell.strip() == '')\n",
    "\n",
    "    dqi = 1 - (missing_cells / total_cells) if total_cells > 0 else 0\n",
    "    return round(dqi, 2)\n",
    "\n",
    "# Run function and print DQI\n",
    "print(read_data_and_calculate_dqi(\"sample_data.csv\"))"
   ]
  },
  {
   "cell_type": "markdown",
   "metadata": {},
   "source": [
    "### Visualize Basic DQI with Bar Plot\n",
    "\n",
    "**Description**: Create a bar plot for DQI and errors in a dataset."
   ]
  },
  {
   "cell_type": "code",
   "execution_count": 4,
   "metadata": {},
   "outputs": [
    {
     "data": {
      "image/png": "[encoded data removed]",
      "text/plain": [
       "<Figure size 640x480 with 1 Axes>"
      ]
     },
     "metadata": {},
     "output_type": "display_data"
    }
   ],
   "source": [
    "# Write your code from here\n",
    "import csv\n",
    "import matplotlib.pyplot as plt\n",
    "\n",
    "# Create sample dataset CSV\n",
    "with open(\"sample_data.csv\", \"w\", newline='') as f:\n",
    "    writer = csv.writer(f)\n",
    "    writer.writerow([\"name\", \"age\", \"email\"])\n",
    "    writer.writerow([\"Alice\", \"30\", \"alice@example.com\"])\n",
    "    writer.writerow([\"Bob\", \"\", \"bob@example.com\"])\n",
    "    writer.writerow([\"\", \"25\", \"charlie@example.com\"])\n",
    "\n",
    "# Function to read CSV and calculate DQI and error count\n",
    "def calculate_dqi_and_errors(filename):\n",
    "    total_cells = 0\n",
    "    missing_cells = 0\n",
    "\n",
    "    with open(filename, mode='r', newline='') as file:\n",
    "        reader = csv.reader(file)\n",
    "        headers = next(reader)\n",
    "        for row in reader:\n",
    "            total_cells += len(row)\n",
    "            missing_cells += sum(1 for cell in row if cell.strip() == '')\n",
    "\n",
    "    dqi = 1 - (missing_cells / total_cells) if total_cells > 0 else 0\n",
    "    return round(dqi, 2), missing_cells\n",
    "\n",
    "# Calculate values\n",
    "dqi_value, error_count = calculate_dqi_and_errors(\"sample_data.csv\")\n",
    "\n",
    "# Create bar plot\n",
    "plt.bar([\"DQI\", \"Errors\"], [dqi_value, error_count], color=[\"green\", \"red\"])\n",
    "plt.title(\"DQI and Error Count\")\n",
    "plt.ylabel(\"Value\")\n",
    "plt.ylim(0, max(1, error_count + 1))\n",
    "plt.show()\n",
    "#"
   ]
  }
 ],
 "metadata": {
  "kernelspec": {
   "display_name": "Python 3",
   "language": "python",
   "name": "python3"
  },
  "language_info": {
   "codemirror_mode": {
    "name": "ipython",
    "version": 3
   },
   "file_extension": ".py",
   "mimetype": "text/x-python",
   "name": "python",
   "nbconvert_exporter": "python",
   "pygments_lexer": "ipython3",
   "version": "3.10.12"
  }
 },
 "nbformat": 4,
 "nbformat_minor": 2
}
