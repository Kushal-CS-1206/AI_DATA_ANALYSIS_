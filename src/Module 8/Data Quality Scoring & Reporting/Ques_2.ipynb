{
 "cells": [
  {
   "cell_type": "markdown",
   "metadata": {},
   "source": [
    "## Build a Data Quality Dashboard\n",
    "\n",
    "**Description**: Create a simple dashboard that displays data quality metrics using a library like `dash` or `streamlit`.\n",
    "\n",
    "**Steps:**\n",
    "1. Install Streamlit: pip install streamlit\n",
    "2. Create a Python script dashboard.py.\n",
    "3. Run the dashboard: streamlit run dashboard.py"
   ]
  },
  {
   "cell_type": "code",
   "execution_count": 4,
   "metadata": {},
   "outputs": [
    {
     "name": "stdout",
     "output_type": "stream",
     "text": [
      "Defaulting to user installation because normal site-packages is not writeable\n",
      "Requirement already satisfied: streamlit in /home/vscode/.local/lib/python3.10/site-packages (1.45.1)\n",
      "Requirement already satisfied: cachetools<6,>=4.0 in /home/vscode/.local/lib/python3.10/site-packages (from streamlit) (5.5.2)\n",
      "Requirement already satisfied: packaging<25,>=20 in /home/vscode/.local/lib/python3.10/site-packages (from streamlit) (24.2)\n",
      "Requirement already satisfied: pydeck<1,>=0.8.0b4 in /home/vscode/.local/lib/python3.10/site-packages (from streamlit) (0.9.1)\n",
      "Requirement already satisfied: requests<3,>=2.27 in /home/vscode/.local/lib/python3.10/site-packages (from streamlit) (2.32.3)\n",
      "Requirement already satisfied: numpy<3,>=1.23 in /home/vscode/.local/lib/python3.10/site-packages (from streamlit) (1.26.4)\n",
      "Requirement already satisfied: pandas<3,>=1.4.0 in /home/vscode/.local/lib/python3.10/site-packages (from streamlit) (2.1.4)\n",
      "Requirement already satisfied: tenacity<10,>=8.1.0 in /home/vscode/.local/lib/python3.10/site-packages (from streamlit) (9.1.2)\n",
      "Requirement already satisfied: protobuf<7,>=3.20 in /home/vscode/.local/lib/python3.10/site-packages (from streamlit) (6.31.0)\n",
      "Requirement already satisfied: toml<2,>=0.10.1 in /home/vscode/.local/lib/python3.10/site-packages (from streamlit) (0.10.2)\n",
      "Requirement already satisfied: gitpython!=3.1.19,<4,>=3.0.7 in /home/vscode/.local/lib/python3.10/site-packages (from streamlit) (3.1.44)\n",
      "Requirement already satisfied: blinker<2,>=1.5.0 in /home/vscode/.local/lib/python3.10/site-packages (from streamlit) (1.9.0)\n",
      "Requirement already satisfied: click<9,>=7.0 in /home/vscode/.local/lib/python3.10/site-packages (from streamlit) (8.2.0)\n",
      "Requirement already satisfied: altair<6,>=4.0 in /home/vscode/.local/lib/python3.10/site-packages (from streamlit) (4.2.2)\n",
      "Requirement already satisfied: pyarrow>=7.0 in /home/vscode/.local/lib/python3.10/site-packages (from streamlit) (20.0.0)\n",
      "Requirement already satisfied: watchdog<7,>=2.1.5 in /home/vscode/.local/lib/python3.10/site-packages (from streamlit) (6.0.0)\n",
      "Requirement already satisfied: pillow<12,>=7.1.0 in /home/vscode/.local/lib/python3.10/site-packages (from streamlit) (11.2.1)\n",
      "Requirement already satisfied: tornado<7,>=6.0.3 in /home/vscode/.local/lib/python3.10/site-packages (from streamlit) (6.4.2)\n",
      "Requirement already satisfied: typing-extensions<5,>=4.4.0 in /home/vscode/.local/lib/python3.10/site-packages (from streamlit) (4.13.2)\n",
      "Requirement already satisfied: jinja2 in /home/vscode/.local/lib/python3.10/site-packages (from altair<6,>=4.0->streamlit) (3.1.6)\n",
      "Requirement already satisfied: entrypoints in /home/vscode/.local/lib/python3.10/site-packages (from altair<6,>=4.0->streamlit) (0.4)\n",
      "Requirement already satisfied: toolz in /home/vscode/.local/lib/python3.10/site-packages (from altair<6,>=4.0->streamlit) (1.0.0)\n",
      "Requirement already satisfied: jsonschema>=3.0 in /home/vscode/.local/lib/python3.10/site-packages (from altair<6,>=4.0->streamlit) (4.23.0)\n",
      "Requirement already satisfied: gitdb<5,>=4.0.1 in /home/vscode/.local/lib/python3.10/site-packages (from gitpython!=3.1.19,<4,>=3.0.7->streamlit) (4.0.12)\n",
      "Requirement already satisfied: python-dateutil>=2.8.2 in /home/vscode/.local/lib/python3.10/site-packages (from pandas<3,>=1.4.0->streamlit) (2.9.0.post0)\n",
      "Requirement already satisfied: tzdata>=2022.1 in /home/vscode/.local/lib/python3.10/site-packages (from pandas<3,>=1.4.0->streamlit) (2025.2)\n",
      "Requirement already satisfied: pytz>=2020.1 in /home/vscode/.local/lib/python3.10/site-packages (from pandas<3,>=1.4.0->streamlit) (2025.2)\n",
      "Requirement already satisfied: certifi>=2017.4.17 in /home/vscode/.local/lib/python3.10/site-packages (from requests<3,>=2.27->streamlit) (2025.4.26)\n",
      "Requirement already satisfied: urllib3<3,>=1.21.1 in /home/vscode/.local/lib/python3.10/site-packages (from requests<3,>=2.27->streamlit) (2.4.0)\n",
      "Requirement already satisfied: idna<4,>=2.5 in /home/vscode/.local/lib/python3.10/site-packages (from requests<3,>=2.27->streamlit) (3.10)\n",
      "Requirement already satisfied: charset-normalizer<4,>=2 in /home/vscode/.local/lib/python3.10/site-packages (from requests<3,>=2.27->streamlit) (3.4.2)\n",
      "Requirement already satisfied: smmap<6,>=3.0.1 in /home/vscode/.local/lib/python3.10/site-packages (from gitdb<5,>=4.0.1->gitpython!=3.1.19,<4,>=3.0.7->streamlit) (5.0.2)\n",
      "Requirement already satisfied: MarkupSafe>=2.0 in /home/vscode/.local/lib/python3.10/site-packages (from jinja2->altair<6,>=4.0->streamlit) (3.0.2)\n",
      "Requirement already satisfied: rpds-py>=0.7.1 in /home/vscode/.local/lib/python3.10/site-packages (from jsonschema>=3.0->altair<6,>=4.0->streamlit) (0.25.0)\n",
      "Requirement already satisfied: referencing>=0.28.4 in /home/vscode/.local/lib/python3.10/site-packages (from jsonschema>=3.0->altair<6,>=4.0->streamlit) (0.36.2)\n",
      "Requirement already satisfied: attrs>=22.2.0 in /home/vscode/.local/lib/python3.10/site-packages (from jsonschema>=3.0->altair<6,>=4.0->streamlit) (25.3.0)\n",
      "Requirement already satisfied: jsonschema-specifications>=2023.03.6 in /home/vscode/.local/lib/python3.10/site-packages (from jsonschema>=3.0->altair<6,>=4.0->streamlit) (2025.4.1)\n",
      "Requirement already satisfied: six>=1.5 in /home/vscode/.local/lib/python3.10/site-packages (from python-dateutil>=2.8.2->pandas<3,>=1.4.0->streamlit) (1.17.0)\n",
      "\n",
      "\u001b[1m[\u001b[0m\u001b[34;49mnotice\u001b[0m\u001b[1;39;49m]\u001b[0m\u001b[39;49m A new release of pip is available: \u001b[0m\u001b[31;49m23.0.1\u001b[0m\u001b[39;49m -> \u001b[0m\u001b[32;49m25.1.1\u001b[0m\n",
      "\u001b[1m[\u001b[0m\u001b[34;49mnotice\u001b[0m\u001b[1;39;49m]\u001b[0m\u001b[39;49m To update, run: \u001b[0m\u001b[32;49mpip install --upgrade pip\u001b[0m\n"
     ]
    }
   ],
   "source": [
    "!pip install streamlit"
   ]
  },
  {
   "cell_type": "code",
   "execution_count": 5,
   "metadata": {},
   "outputs": [
    {
     "name": "stderr",
     "output_type": "stream",
     "text": [
      "2025-05-19 17:04:34.730 Thread 'MainThread': missing ScriptRunContext! This warning can be ignored when running in bare mode.\n",
      "2025-05-19 17:04:34.733 Thread 'MainThread': missing ScriptRunContext! This warning can be ignored when running in bare mode.\n",
      "2025-05-19 17:04:34.736 Thread 'MainThread': missing ScriptRunContext! This warning can be ignored when running in bare mode.\n",
      "2025-05-19 17:04:34.737 Thread 'MainThread': missing ScriptRunContext! This warning can be ignored when running in bare mode.\n",
      "2025-05-19 17:04:34.740 Thread 'MainThread': missing ScriptRunContext! This warning can be ignored when running in bare mode.\n",
      "2025-05-19 17:04:34.741 Thread 'MainThread': missing ScriptRunContext! This warning can be ignored when running in bare mode.\n",
      "2025-05-19 17:04:34.741 Thread 'MainThread': missing ScriptRunContext! This warning can be ignored when running in bare mode.\n",
      "2025-05-19 17:04:34.742 Thread 'MainThread': missing ScriptRunContext! This warning can be ignored when running in bare mode.\n",
      "2025-05-19 17:04:34.743 Thread 'MainThread': missing ScriptRunContext! This warning can be ignored when running in bare mode.\n",
      "2025-05-19 17:04:34.743 Thread 'MainThread': missing ScriptRunContext! This warning can be ignored when running in bare mode.\n",
      "2025-05-19 17:04:34.745 Thread 'MainThread': missing ScriptRunContext! This warning can be ignored when running in bare mode.\n",
      "2025-05-19 17:04:34.745 Thread 'MainThread': missing ScriptRunContext! This warning can be ignored when running in bare mode.\n",
      "2025-05-19 17:04:34.746 Thread 'MainThread': missing ScriptRunContext! This warning can be ignored when running in bare mode.\n",
      "2025-05-19 17:04:34.747 Thread 'MainThread': missing ScriptRunContext! This warning can be ignored when running in bare mode.\n"
     ]
    },
    {
     "data": {
      "text/plain": [
       "DeltaGenerator()"
      ]
     },
     "execution_count": 5,
     "metadata": {},
     "output_type": "execute_result"
    }
   ],
   "source": [
    "import pandas as pd\n",
    "import streamlit as st\n",
    "\n",
    "# Sample data as dictionary\n",
    "data = {\n",
    "    \"name\": [\"Alice\", \"Bob\", \"\"],\n",
    "    \"age\": [\"30\", \"\", \"25\"],\n",
    "    \"email\": [\"alice@example.com\", \"bob@example.com\", \"charlie@example.com\"]\n",
    "}\n",
    "\n",
    "# Convert to DataFrame\n",
    "df = pd.DataFrame(data)\n",
    "\n",
    "# Calculate Data Quality Index (DQI)\n",
    "total_cells = df.size\n",
    "missing_cells = df.isin([\"\", None]).sum().sum()\n",
    "dqi = 1 - (missing_cells / total_cells) if total_cells > 0 else 0\n",
    "\n",
    "# Streamlit dashboard\n",
    "st.title(\"Data Quality Dashboard\")\n",
    "\n",
    "st.subheader(\"Dataset\")\n",
    "st.dataframe(df)\n",
    "\n",
    "st.subheader(\"Metrics\")\n",
    "st.metric(\"Total Cells\", total_cells)\n",
    "st.metric(\"Missing Values\", missing_cells)\n",
    "st.metric(\"DQI\", f\"{dqi:.2f}\")\n",
    "##"
   ]
  }
 ],
 "metadata": {
  "kernelspec": {
   "display_name": "Python 3",
   "language": "python",
   "name": "python3"
  },
  "language_info": {
   "codemirror_mode": {
    "name": "ipython",
    "version": 3
   },
   "file_extension": ".py",
   "mimetype": "text/x-python",
   "name": "python",
   "nbconvert_exporter": "python",
   "pygments_lexer": "ipython3",
   "version": "3.10.12"
  }
 },
 "nbformat": 4,
 "nbformat_minor": 2
}
