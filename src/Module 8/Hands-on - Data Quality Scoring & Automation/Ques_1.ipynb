{
 "cells": [
  {
   "cell_type": "markdown",
   "metadata": {},
   "source": [
    "### Task 1: Understanding and Defining Data Quality Metrics\n",
    "**Description**: Learn how to define basic data quality metrics such as completeness, validity, and uniqueness for a simple dataset.\n",
    "\n",
    "**Steps**:\n",
    "1. Dataset: Use a CSV with columns like Name , Email , Age .\n",
    "2. Metric Definitions:\n",
    "    - Completeness: Percentage of non-null values.\n",
    "    - Validity: % of email fields containing @ .\n",
    "    - Uniqueness: Count distinct entries in the Email column."
   ]
  },
  {
   "cell_type": "code",
   "execution_count": 1,
   "metadata": {},
   "outputs": [
    {
     "name": "stdout",
     "output_type": "stream",
     "text": [
      "Completeness (% non-null values):\n",
      "Name     100.0\n",
      "Email     80.0\n",
      "Age       80.0\n",
      "dtype: float64\n",
      "\n",
      "Email Validity (% with '@'): 75.00%\n",
      "Unique Emails Count: 4\n"
     ]
    }
   ],
   "source": [
    "# Write your code from here\n",
    "import pandas as pd\n",
    "\n",
    "# Sample dataset as CSV string\n",
    "csv_data = \"\"\"Name,Email,Age\n",
    "Alice,alice@example.com,30\n",
    "Bob,bob.example.com,25\n",
    "Charlie,charlie@example.com,\n",
    "David,david@example.com,40\n",
    "Eve,,22\n",
    "\"\"\"\n",
    "\n",
    "# Read dataset from CSV string\n",
    "from io import StringIO\n",
    "df = pd.read_csv(StringIO(csv_data))\n",
    "\n",
    "# 1. Completeness: % of non-null values per column\n",
    "completeness = df.notnull().mean() * 100\n",
    "\n",
    "# 2. Validity: % of Email containing '@'\n",
    "valid_email = df['Email'].dropna().apply(lambda x: '@' in x).mean() * 100\n",
    "\n",
    "# 3. Uniqueness: Count distinct emails (excluding nulls)\n",
    "unique_emails = df['Email'].nunique(dropna=True)\n",
    "\n",
    "# Display metrics\n",
    "print(f\"Completeness (% non-null values):\\n{completeness}\\n\")\n",
    "print(f\"Email Validity (% with '@'): {valid_email:.2f}%\")\n",
    "print(f\"Unique Emails Count: {unique_emails}\")"
   ]
  },
  {
   "cell_type": "markdown",
   "metadata": {},
   "source": [
    "### Task 2: Calculating Data Quality Score\n",
    "**Description**: Aggregate multiple metrics to calculate an overall data quality score.\n",
    "\n",
    "**Steps**:\n",
    "1. Formula: Simple average of all metrics defined in Task 1."
   ]
  },
  {
   "cell_type": "code",
   "execution_count": 3,
   "metadata": {},
   "outputs": [
    {
     "name": "stdout",
     "output_type": "stream",
     "text": [
      "Completeness: 86.67%\n",
      "Email Validity: 75.00%\n",
      "Email Uniqueness: 100.00%\n",
      "\n",
      "Overall Data Quality Score: 87.22%\n"
     ]
    }
   ],
   "source": [
    "import pandas as pd\n",
    "\n",
    "# Sample dataset as CSV string\n",
    "csv_data = \"\"\"Name,Email,Age\n",
    "Alice,alice@example.com,30\n",
    "Bob,bob.example.com,25\n",
    "Charlie,charlie@example.com,\n",
    "David,david@example.com,40\n",
    "Eve,,22\n",
    "\"\"\"\n",
    "\n",
    "# Read dataset from CSV string\n",
    "from io import StringIO\n",
    "df = pd.read_csv(StringIO(csv_data))\n",
    "\n",
    "# 1. Completeness: % of non-null values per column, averaged across columns\n",
    "completeness = df.notnull().mean().mean() * 100\n",
    "\n",
    "# 2. Validity: % of Email containing '@'\n",
    "valid_email = df['Email'].dropna().apply(lambda x: '@' in x).mean() * 100\n",
    "\n",
    "# 3. Uniqueness: % unique emails relative to total non-null emails\n",
    "unique_emails = df['Email'].nunique(dropna=True)\n",
    "total_emails = df['Email'].notnull().sum()\n",
    "uniqueness = (unique_emails / total_emails) * 100 if total_emails > 0 else 0\n",
    "\n",
    "# Calculate overall Data Quality Score as average of the three metrics\n",
    "dqs = (completeness + valid_email + uniqueness) / 3\n",
    "\n",
    "# Display metrics and score\n",
    "print(f\"Completeness: {completeness:.2f}%\")\n",
    "print(f\"Email Validity: {valid_email:.2f}%\")\n",
    "print(f\"Email Uniqueness: {uniqueness:.2f}%\")\n",
    "print(f\"\\nOverall Data Quality Score: {dqs:.2f}%\")\n"
   ]
  },
  {
   "cell_type": "markdown",
   "metadata": {},
   "source": [
    "### Task 3: Creating Expectations for a CSV\n",
    "**Description**: Develop basic data quality expectations using Great Expectations.\n",
    "\n",
    "**Steps**:\n",
    "1. Expectation Suite\n",
    "2. Define Expectations for Completeness"
   ]
  },
  {
   "cell_type": "code",
   "execution_count": 7,
   "metadata": {},
   "outputs": [
    {
     "name": "stdout",
     "output_type": "stream",
     "text": [
      "Completeness (%) per column:\n",
      "Name     100.0\n",
      "Email     80.0\n",
      "Age       80.0\n",
      "dtype: float64\n",
      "\n",
      "Expectations Results (No nulls):\n",
      "Name: Pass\n",
      "Email: Fail\n",
      "Age: Fail\n"
     ]
    }
   ],
   "source": [
    "import pandas as pd\n",
    "from io import StringIO\n",
    "\n",
    "# Sample CSV data\n",
    "csv_data = \"\"\"Name,Email,Age\n",
    "Alice,alice@example.com,30\n",
    "Bob,bob@example.com,25\n",
    "Charlie,charlie@example.com,\n",
    "David,david@example.com,40\n",
    "Eve,,22\n",
    "\"\"\"\n",
    "\n",
    "# Load data into DataFrame\n",
    "df = pd.read_csv(StringIO(csv_data))\n",
    "\n",
    "# Completeness: Percentage of non-null values per column\n",
    "completeness = df.notnull().mean() * 100\n",
    "\n",
    "# Print completeness per column\n",
    "print(\"Completeness (%) per column:\")\n",
    "print(completeness)\n",
    "\n",
    "# Define a simple expectation: no nulls in Name, Email, Age\n",
    "expectations = {\n",
    "    'Name': df['Name'].notnull().all(),\n",
    "    'Email': df['Email'].notnull().all(),\n",
    "    'Age': df['Age'].notnull().all()\n",
    "}\n",
    "\n",
    "print(\"\\nExpectations Results (No nulls):\")\n",
    "for col, result in expectations.items():\n",
    "    print(f\"{col}: {'Pass' if result else 'Fail'}\")"
   ]
  },
  {
   "cell_type": "markdown",
   "metadata": {},
   "source": [
    "### Task 4: Running and Validating Expectations\n",
    "**Description**: Run the created expectations and generate an output report.\n",
    "\n",
    "**Steps**:\n",
    "1. Validate\n",
    "2. Generate HTML Report"
   ]
  },
  {
   "cell_type": "code",
   "execution_count": 8,
   "metadata": {},
   "outputs": [
    {
     "name": "stdout",
     "output_type": "stream",
     "text": [
      "Validation report saved as 'validation_report.html'\n"
     ]
    }
   ],
   "source": [
    "# Write your code from here\n",
    "import pandas as pd\n",
    "from io import StringIO\n",
    "\n",
    "# Sample CSV data\n",
    "csv_data = \"\"\"Name,Email,Age\n",
    "Alice,alice@example.com,30\n",
    "Bob,bob@example.com,25\n",
    "Charlie,charlie@example.com,\n",
    "David,david@example.com,40\n",
    "Eve,,22\n",
    "\"\"\"\n",
    "\n",
    "# Load data into DataFrame\n",
    "df = pd.read_csv(StringIO(csv_data))\n",
    "\n",
    "# Define expectations as functions returning True/False\n",
    "def expect_no_nulls(column):\n",
    "    return df[column].notnull().all()\n",
    "\n",
    "def expect_valid_email(column):\n",
    "    return df[column].dropna().str.contains('@').all()\n",
    "\n",
    "# Run validations\n",
    "results = {\n",
    "    \"No Nulls in Name\": expect_no_nulls('Name'),\n",
    "    \"No Nulls in Email\": expect_no_nulls('Email'),\n",
    "    \"No Nulls in Age\": expect_no_nulls('Age'),\n",
    "    \"Emails contain '@'\": expect_valid_email('Email'),\n",
    "}\n",
    "\n",
    "# Create simple HTML report\n",
    "html_report = \"<h1>Data Quality Validation Report</h1><table border='1'><tr><th>Expectation</th><th>Result</th></tr>\"\n",
    "\n",
    "for expectation, passed in results.items():\n",
    "    color = \"green\" if passed else \"red\"\n",
    "    status = \"Pass\" if passed else \"Fail\"\n",
    "    html_report += f\"<tr><td>{expectation}</td><td style='color:{color};font-weight:bold'>{status}</td></tr>\"\n",
    "\n",
    "html_report += \"</table>\"\n",
    "\n",
    "# Save report\n",
    "with open(\"validation_report.html\", \"w\") as f:\n",
    "    f.write(html_report)\n",
    "\n",
    "print(\"Validation report saved as 'validation_report.html'\")"
   ]
  },
  {
   "cell_type": "markdown",
   "metadata": {},
   "source": [
    "### Task 5: Automating Data Quality Score Calculation\n",
    "**Description**: Automate the data quality score via a script that integrates with Great\n",
    "Expectations."
   ]
  },
  {
   "cell_type": "code",
   "execution_count": 9,
   "metadata": {},
   "outputs": [
    {
     "name": "stdout",
     "output_type": "stream",
     "text": [
      "Data Quality Score report saved as 'data_quality_score_report.html'\n"
     ]
    }
   ],
   "source": [
    "# Write your code from here\n",
    "import pandas as pd\n",
    "from io import StringIO\n",
    "\n",
    "# Sample CSV data\n",
    "csv_data = \"\"\"Name,Email,Age\n",
    "Alice,alice@example.com,30\n",
    "Bob,bob@example.com,25\n",
    "Charlie,charlie@example.com,\n",
    "David,david@example.com,40\n",
    "Eve,,22\n",
    "\"\"\"\n",
    "\n",
    "# Load CSV into DataFrame\n",
    "df = pd.read_csv(StringIO(csv_data))\n",
    "\n",
    "# --- Data Quality Metrics Functions ---\n",
    "\n",
    "def completeness(column):\n",
    "    return df[column].notnull().mean()\n",
    "\n",
    "def validity_email(column):\n",
    "    return df[column].dropna().str.contains('@').mean()\n",
    "\n",
    "def uniqueness(column):\n",
    "    return df[column].nunique() / len(df)\n",
    "\n",
    "# --- Metrics Calculation ---\n",
    "completeness_name = completeness(\"Name\")\n",
    "completeness_email = completeness(\"Email\")\n",
    "completeness_age = completeness(\"Age\")\n",
    "validity = validity_email(\"Email\")\n",
    "uniqueness_score = uniqueness(\"Email\")\n",
    "\n",
    "# --- Quality Score: Average of All Metrics ---\n",
    "metrics = [completeness_name, completeness_email, completeness_age, validity, uniqueness_score]\n",
    "quality_score = sum(metrics) / len(metrics)\n",
    "\n",
    "# --- Generate HTML Report ---\n",
    "html = f\"\"\"\n",
    "<h2>Data Quality Score Report</h2>\n",
    "<table border=\"1\" cellpadding=\"8\">\n",
    "<tr><th>Metric</th><th>Value</th></tr>\n",
    "<tr><td>Completeness (Name)</td><td>{completeness_name:.2f}</td></tr>\n",
    "<tr><td>Completeness (Email)</td><td>{completeness_email:.2f}</td></tr>\n",
    "<tr><td>Completeness (Age)</td><td>{completeness_age:.2f}</td></tr>\n",
    "<tr><td>Validity (Email contains @)</td><td>{validity:.2f}</td></tr>\n",
    "<tr><td>Uniqueness (Email)</td><td>{uniqueness_score:.2f}</td></tr>\n",
    "<tr><th>Overall Data Quality Score</th><th>{quality_score:.2f}</th></tr>\n",
    "</table>\n",
    "\"\"\"\n",
    "\n",
    "with open(\"data_quality_score_report.html\", \"w\") as f:\n",
    "    f.write(html)\n",
    "\n",
    "print(\"Data Quality Score report saved as 'data_quality_score_report.html'\")"
   ]
  },
  {
   "cell_type": "markdown",
   "metadata": {},
   "source": [
    "### Task 6: Leveraging Data Quality Metrics for Automated Data Cleaning\n",
    "**Description**: Implement a system where if data quality metrics fall below a threshold,\n",
    "automated data cleaning scripts are triggered.\n",
    "\n",
    "**Steps**:\n",
    "1. Define Cleaning Logic\n",
    "2. Integrate with Great Expectations:\n",
    "    - Use an action within the Great Expectations action list that only triggers if quality score is below a threshold, automating the cleaning."
   ]
  },
  {
   "cell_type": "code",
   "execution_count": 10,
   "metadata": {},
   "outputs": [
    {
     "name": "stdout",
     "output_type": "stream",
     "text": [
      "Data Quality Score: 0.81\n",
      "Cleaning triggered...\n",
      "Data cleaned and saved as 'cleaned_data.csv'\n"
     ]
    },
    {
     "name": "stderr",
     "output_type": "stream",
     "text": [
      "/tmp/ipykernel_18589/4225737228.py:54: SettingWithCopyWarning: \n",
      "A value is trying to be set on a copy of a slice from a DataFrame.\n",
      "Try using .loc[row_indexer,col_indexer] = value instead\n",
      "\n",
      "See the caveats in the documentation: https://pandas.pydata.org/pandas-docs/stable/user_guide/indexing.html#returning-a-view-versus-a-copy\n",
      "  df[\"Email\"] = df[\"Email\"].apply(lambda x: x if pd.notna(x) and \"@\" in x else None)\n"
     ]
    }
   ],
   "source": [
    "# Write your code from here\n",
    "import pandas as pd\n",
    "from io import StringIO\n",
    "\n",
    "# Sample CSV data\n",
    "csv_data = \"\"\"Name,Email,Age\n",
    "Alice,alice@example.com,30\n",
    "Bob,bob@example.com,25\n",
    "Charlie,charlieexample.com,\n",
    "David,david@example.com,40\n",
    "Eve,,22\n",
    "\"\"\"\n",
    "\n",
    "# Load DataFrame\n",
    "df = pd.read_csv(StringIO(csv_data))\n",
    "\n",
    "# --- Data Quality Functions ---\n",
    "\n",
    "def completeness(column):\n",
    "    return df[column].notnull().mean()\n",
    "\n",
    "def validity_email(column):\n",
    "    return df[column].dropna().str.contains('@').mean()\n",
    "\n",
    "def uniqueness(column):\n",
    "    return df[column].nunique() / len(df)\n",
    "\n",
    "# --- Calculate Metrics ---\n",
    "completeness_score = (\n",
    "    completeness(\"Name\") +\n",
    "    completeness(\"Email\") +\n",
    "    completeness(\"Age\")\n",
    ") / 3\n",
    "\n",
    "validity_score = validity_email(\"Email\")\n",
    "uniqueness_score = uniqueness(\"Email\")\n",
    "\n",
    "# --- Overall Data Quality Score ---\n",
    "metrics = [completeness_score, validity_score, uniqueness_score]\n",
    "quality_score = sum(metrics) / len(metrics)\n",
    "print(f\"Data Quality Score: {quality_score:.2f}\")\n",
    "\n",
    "# --- Threshold ---\n",
    "threshold = 0.85\n",
    "\n",
    "# --- Cleaning Logic ---\n",
    "def clean_data(df):\n",
    "    print(\"Cleaning triggered...\")\n",
    "\n",
    "    # Drop rows with missing Name or Email\n",
    "    df = df.dropna(subset=[\"Name\", \"Email\"])\n",
    "\n",
    "    # Fix invalid emails (e.g., those missing \"@\")\n",
    "    df[\"Email\"] = df[\"Email\"].apply(lambda x: x if pd.notna(x) and \"@\" in x else None)\n",
    "\n",
    "    # Drop rows again if email still invalid\n",
    "    df = df.dropna(subset=[\"Email\"])\n",
    "\n",
    "    # Fill missing Age with median\n",
    "    df[\"Age\"] = df[\"Age\"].fillna(df[\"Age\"].median())\n",
    "\n",
    "    return df\n",
    "\n",
    "# --- Trigger Cleaning if Needed ---\n",
    "if quality_score < threshold:\n",
    "    df_cleaned = clean_data(df)\n",
    "    df_cleaned.to_csv(\"cleaned_data.csv\", index=False)\n",
    "    print(\"Data cleaned and saved as 'cleaned_data.csv'\")\n",
    "else:\n",
    "    print(\"Data quality is sufficient. No cleaning applied.\")"
   ]
  }
 ],
 "metadata": {
  "kernelspec": {
   "display_name": "Python 3",
   "language": "python",
   "name": "python3"
  },
  "language_info": {
   "codemirror_mode": {
    "name": "ipython",
    "version": 3
   },
   "file_extension": ".py",
   "mimetype": "text/x-python",
   "name": "python",
   "nbconvert_exporter": "python",
   "pygments_lexer": "ipython3",
   "version": "3.10.12"
  }
 },
 "nbformat": 4,
 "nbformat_minor": 2
}
