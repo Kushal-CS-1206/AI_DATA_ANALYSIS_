{
 "cells": [
  {
   "cell_type": "markdown",
   "metadata": {},
   "source": [
    "## Calculate Data Quality Score\n",
    "**Introduction**: In this activity, you will calculate data quality scores for datasets using different metrics. You will explore examples where you assess completeness, accuracy, and consistency.\n",
    "\n",
    "### Task 1: Completeness Score\n",
    "1. Objective: Determine the percentage of non-missing values in a dataset.\n",
    "2. Steps:\n",
    "    - Load a sample dataset using Pandas.\n",
    "    - Identify the columns with missing values.\n",
    "    - Calculate the completeness score as the ratio of non-missing values to total values.\n",
    "    - E.g., a dataset with customer information."
   ]
  },
  {
   "cell_type": "code",
   "execution_count": 1,
   "metadata": {},
   "outputs": [
    {
     "name": "stdout",
     "output_type": "stream",
     "text": [
      "Dataset:\n",
      "    CustomerID     Name                Email         Phone\n",
      "0           1    Alice    alice@example.com  1.234568e+09\n",
      "1           2      Bob                  NaN  9.876543e+09\n",
      "2           3  Charlie  charlie@example.com           NaN\n",
      "3           4    David    david@example.com  4.567891e+09\n",
      "4           5      Eve                  NaN  5.678912e+09\n",
      "\n",
      "Completeness per column:\n",
      "CustomerID    1.0\n",
      "Name          1.0\n",
      "Email         0.6\n",
      "Phone         0.8\n",
      "dtype: float64\n",
      "\n",
      "Overall Completeness Score: 0.85\n"
     ]
    }
   ],
   "source": [
    "# Write your code from here\n",
    "import pandas as pd\n",
    "from io import StringIO\n",
    "\n",
    "# Sample customer dataset with some missing values\n",
    "csv_data = \"\"\"CustomerID,Name,Email,Phone\n",
    "1,Alice,alice@example.com,1234567890\n",
    "2,Bob,,9876543210\n",
    "3,Charlie,charlie@example.com,\n",
    "4,David,david@example.com,4567891230\n",
    "5,Eve,,5678912345\n",
    "\"\"\"\n",
    "\n",
    "# Load dataset into DataFrame\n",
    "df = pd.read_csv(StringIO(csv_data))\n",
    "\n",
    "# Display the dataset\n",
    "print(\"Dataset:\\n\", df)\n",
    "\n",
    "# Calculate completeness for each column\n",
    "completeness_per_column = df.notnull().mean()\n",
    "\n",
    "# Overall completeness score (mean of column completeness)\n",
    "overall_completeness_score = completeness_per_column.mean()\n",
    "\n",
    "print(\"\\nCompleteness per column:\")\n",
    "print(completeness_per_column)\n",
    "\n",
    "print(f\"\\nOverall Completeness Score: {overall_completeness_score:.2f}\")"
   ]
  },
  {
   "cell_type": "markdown",
   "metadata": {},
   "source": [
    "### Task 2: Accuracy Score\n",
    "\n",
    "1. Objective: Measure the accuracy of a dataset by comparing it against a reference dataset.\n",
    "2. Steps:\n",
    "    - Load the main dataset and a reference dataset.\n",
    "    - Select key columns for accuracy check.\n",
    "    - Match values from both datasets and calculate the accuracy percentage.\n",
    "    - E.g., along existing dataset with sales information."
   ]
  },
  {
   "cell_type": "code",
   "execution_count": 2,
   "metadata": {},
   "outputs": [
    {
     "name": "stdout",
     "output_type": "stream",
     "text": [
      "Comparison Data:\n",
      "    OrderID  Amount_main  Amount_ref  Amount_match\n",
      "0      101          250         250          True\n",
      "1      102          300         300          True\n",
      "2      103          275         280         False\n",
      "3      104          400         400          True\n",
      "4      105          350         340         False\n",
      "\n",
      "Accuracy Score for 'Amount': 0.60\n"
     ]
    }
   ],
   "source": [
    "# Write your code from here\n",
    "import pandas as pd\n",
    "from io import StringIO\n",
    "\n",
    "# Main dataset (possibly containing errors)\n",
    "main_data = \"\"\"OrderID,Customer,Amount\n",
    "101,John,250\n",
    "102,Alice,300\n",
    "103,Bob,275\n",
    "104,David,400\n",
    "105,Eve,350\n",
    "\"\"\"\n",
    "\n",
    "# Reference dataset (considered correct)\n",
    "reference_data = \"\"\"OrderID,Customer,Amount\n",
    "101,John,250\n",
    "102,Alice,300\n",
    "103,Bob,280\n",
    "104,David,400\n",
    "105,Eve,340\n",
    "\"\"\"\n",
    "\n",
    "# Load both datasets\n",
    "main_df = pd.read_csv(StringIO(main_data))\n",
    "ref_df = pd.read_csv(StringIO(reference_data))\n",
    "\n",
    "# Merge on OrderID to compare records\n",
    "merged_df = pd.merge(main_df, ref_df, on=\"OrderID\", suffixes=(\"_main\", \"_ref\"))\n",
    "\n",
    "# Accuracy check for 'Amount' column\n",
    "merged_df[\"Amount_match\"] = merged_df[\"Amount_main\"] == merged_df[\"Amount_ref\"]\n",
    "\n",
    "# Calculate accuracy score as percentage of matches\n",
    "accuracy_score = merged_df[\"Amount_match\"].mean()\n",
    "\n",
    "# Display comparison and result\n",
    "print(\"Comparison Data:\\n\", merged_df[[\"OrderID\", \"Amount_main\", \"Amount_ref\", \"Amount_match\"]])\n",
    "print(f\"\\nAccuracy Score for 'Amount': {accuracy_score:.2f}\")"
   ]
  },
  {
   "cell_type": "markdown",
   "metadata": {},
   "source": [
    "### Task 3: Consistency Score\n",
    "\n",
    "1. Objective: Evaluate the consistency within a dataset for specific columns.\n",
    "2. Steps:\n",
    "    - Choose a column expected to have consistent values.\n",
    "    - Use statistical or rule-based checks to identify inconsistencies.\n",
    "    - Calculate the consistency score by the ratio of consistent to total entries.\n",
    "    - E.g., validating phone number formats in a contact list."
   ]
  },
  {
   "cell_type": "code",
   "execution_count": 3,
   "metadata": {},
   "outputs": [
    {
     "name": "stdout",
     "output_type": "stream",
     "text": [
      "Phone Number Consistency Check:\n",
      "       Name         Phone  Consistent\n",
      "0    Alice  123-456-7890        True\n",
      "1      Bob    1234567890       False\n",
      "2  Charlie  123-456-7890        True\n",
      "3    David  123.456.7890       False\n",
      "4      Eve   123-45-6789       False\n",
      "\n",
      "Consistency Score: 0.40\n"
     ]
    }
   ],
   "source": [
    "# Write your code from here\n",
    "import pandas as pd\n",
    "import re\n",
    "\n",
    "# Sample dataset with phone numbers (some inconsistent)\n",
    "data = {\n",
    "    \"Name\": [\"Alice\", \"Bob\", \"Charlie\", \"David\", \"Eve\"],\n",
    "    \"Phone\": [\"123-456-7890\", \"1234567890\", \"123-456-7890\", \"123.456.7890\", \"123-45-6789\"]\n",
    "}\n",
    "\n",
    "df = pd.DataFrame(data)\n",
    "\n",
    "# Define a regex pattern for consistent format: XXX-XXX-XXXX\n",
    "pattern = re.compile(r\"^\\d{3}-\\d{3}-\\d{4}$\")\n",
    "\n",
    "# Check consistency\n",
    "df[\"Consistent\"] = df[\"Phone\"].apply(lambda x: bool(pattern.match(x)))\n",
    "\n",
    "# Calculate consistency score\n",
    "consistency_score = df[\"Consistent\"].mean()\n",
    "\n",
    "# Output\n",
    "print(\"Phone Number Consistency Check:\\n\", df[[\"Name\", \"Phone\", \"Consistent\"]])\n",
    "print(f\"\\nConsistency Score: {consistency_score:.2f}\")"
   ]
  }
 ],
 "metadata": {
  "kernelspec": {
   "display_name": "Python 3",
   "language": "python",
   "name": "python3"
  },
  "language_info": {
   "codemirror_mode": {
    "name": "ipython",
    "version": 3
   },
   "file_extension": ".py",
   "mimetype": "text/x-python",
   "name": "python",
   "nbconvert_exporter": "python",
   "pygments_lexer": "ipython3",
   "version": "3.10.12"
  }
 },
 "nbformat": 4,
 "nbformat_minor": 2
}
