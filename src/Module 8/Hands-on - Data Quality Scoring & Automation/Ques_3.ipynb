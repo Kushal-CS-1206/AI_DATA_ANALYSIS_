{
 "cells": [
  {
   "cell_type": "markdown",
   "metadata": {},
   "source": [
    "## Automate Data Quality Checks with Great Expectations\n",
    "**Introduction**: In this activity, you will learn how to automate data quality checks using the Great Expectations framework. This includes setting up expectations and generating validation reports.\n",
    "\n",
    "### Task 1: Setup and Initial Expectations\n",
    "\n",
    "1. Objective: Set up Great Expectations and create initial expectations for a dataset.\n",
    "2. Steps:\n",
    "    - Install Great Expectations using pip.\n",
    "    - Initialize a data context.\n",
    "    - Create basic expectations on a sample dataset.\n",
    "    - Eg., Implement a basic setup and expectation for column presence and type."
   ]
  },
  {
   "cell_type": "code",
   "execution_count": 1,
   "metadata": {},
   "outputs": [
    {
     "name": "stdout",
     "output_type": "stream",
     "text": [
      "\n",
      "\u001b[1m[\u001b[0m\u001b[34;49mnotice\u001b[0m\u001b[1;39;49m]\u001b[0m\u001b[39;49m A new release of pip is available: \u001b[0m\u001b[31;49m23.0.1\u001b[0m\u001b[39;49m -> \u001b[0m\u001b[32;49m25.1.1\u001b[0m\n",
      "\u001b[1m[\u001b[0m\u001b[34;49mnotice\u001b[0m\u001b[1;39;49m]\u001b[0m\u001b[39;49m To update, run: \u001b[0m\u001b[32;49mpip install --upgrade pip\u001b[0m\n"
     ]
    },
    {
     "ename": "ImportError",
     "evalue": "cannot import name 'get_context' from 'great_expectations.data_context' (/home/vscode/.local/lib/python3.10/site-packages/great_expectations/data_context/__init__.py)",
     "output_type": "error",
     "traceback": [
      "\u001b[0;31m---------------------------------------------------------------------------\u001b[0m",
      "\u001b[0;31mImportError\u001b[0m                               Traceback (most recent call last)",
      "Cell \u001b[0;32mIn[1], line 6\u001b[0m\n\u001b[1;32m      4\u001b[0m \u001b[38;5;28;01mimport\u001b[39;00m \u001b[38;5;21;01mos\u001b[39;00m\n\u001b[1;32m      5\u001b[0m \u001b[38;5;28;01mimport\u001b[39;00m \u001b[38;5;21;01mpandas\u001b[39;00m \u001b[38;5;28;01mas\u001b[39;00m \u001b[38;5;21;01mpd\u001b[39;00m\n\u001b[0;32m----> 6\u001b[0m \u001b[38;5;28;01mfrom\u001b[39;00m \u001b[38;5;21;01mgreat_expectations\u001b[39;00m\u001b[38;5;21;01m.\u001b[39;00m\u001b[38;5;21;01mdata_context\u001b[39;00m \u001b[38;5;28;01mimport\u001b[39;00m get_context\n\u001b[1;32m      7\u001b[0m \u001b[38;5;28;01mfrom\u001b[39;00m \u001b[38;5;21;01mgreat_expectations\u001b[39;00m\u001b[38;5;21;01m.\u001b[39;00m\u001b[38;5;21;01mcheckpoint\u001b[39;00m \u001b[38;5;28;01mimport\u001b[39;00m SimpleCheckpoint\n\u001b[1;32m      8\u001b[0m \u001b[38;5;28;01mfrom\u001b[39;00m \u001b[38;5;21;01mgreat_expectations\u001b[39;00m\u001b[38;5;21;01m.\u001b[39;00m\u001b[38;5;21;01mdatasource\u001b[39;00m\u001b[38;5;21;01m.\u001b[39;00m\u001b[38;5;21;01mfluent\u001b[39;00m \u001b[38;5;28;01mimport\u001b[39;00m PandasDatasource\n",
      "\u001b[0;31mImportError\u001b[0m: cannot import name 'get_context' from 'great_expectations.data_context' (/home/vscode/.local/lib/python3.10/site-packages/great_expectations/data_context/__init__.py)"
     ]
    }
   ],
   "source": [
    "# Write your code from here\n",
    "!pip install great_expectations --quiet\n",
    "\n",
    "import os\n",
    "import pandas as pd\n",
    "from great_expectations.data_context import get_context\n",
    "from great_expectations.checkpoint import SimpleCheckpoint\n",
    "from great_expectations.datasource.fluent import PandasDatasource\n",
    "from great_expectations.expectations.expectation_configuration import ExpectationConfiguration\n",
    "\n",
    "# Step 1: Setup - Initialize Data Context\n",
    "context_path = \"ge_context\"\n",
    "if not os.path.exists(context_path):\n",
    "    context = get_context(project_root_dir=context_path)\n",
    "    context.create_expectation_suite(\"initial_suite\", overwrite_existing=True)\n",
    "else:\n",
    "    context = get_context(project_root_dir=context_path)\n",
    "\n",
    "# Step 2: Load a sample DataFrame\n",
    "data = {\n",
    "    \"Name\": [\"Alice\", \"Bob\", \"Charlie\", \"David\"],\n",
    "    \"Age\": [25, 30, 35, 40],\n",
    "    \"Email\": [\"alice@example.com\", \"bob@example.com\", \"charlie@example.com\", \"david@example.com\"]\n",
    "}\n",
    "df = pd.DataFrame(data)\n",
    "\n",
    "# Step 3: Register Pandas datasource (using Fluent API)\n",
    "if \"my_pandas_ds\" not in context.datasources:\n",
    "    context.sources.add_pandas(name=\"my_pandas_ds\")\n",
    "\n",
    "# Step 4: Create expectation suite\n",
    "context.create_expectation_suite(expectation_suite_name=\"basic_expectations\", overwrite_existing=True)\n",
    "\n",
    "# Step 5: Create a Validator\n",
    "validator = context.sources.my_pandas_ds.read_dataframe(df=df).validate(expectation_suite_name=\"basic_expectations\")\n",
    "\n",
    "# Step 6: Add basic expectations\n",
    "validator.expect_column_to_exist(\"Name\")\n",
    "validator.expect_column_values_to_be_of_type(\"Age\", \"int64\")\n",
    "validator.expect_column_values_to_match_regex(\"Email\", r\".+@.+\\..+\")\n",
    "\n",
    "# Save expectations\n",
    "validator.save_expectation_suite(discard_failed_expectations=False)\n",
    "\n",
    "# Step 7: Create and run a simple checkpoint\n",
    "checkpoint = SimpleCheckpoint(\n",
    "    name=\"basic_checkpoint\",\n",
    "    data_context=context,\n",
    "    validator=validator\n",
    ")\n",
    "checkpoint_result = checkpoint.run()\n",
    "\n",
    "# View validation report\n",
    "print(\"Validation results stored in:\", checkpoint_result.run_id.run_name)"
   ]
  },
  {
   "cell_type": "markdown",
   "metadata": {},
   "source": [
    "### Task 2: Validate Datasets and Generate Reports\n",
    "\n",
    "1. Objective: Validate a dataset against defined expectations and generate a report.\n",
    "2. Steps:\n",
    "    - Execute the validation process on the dataset.\n",
    "    - Review the validation results and generate a report.\n",
    "    - Eg., Validate completeness and consistency expectations, and view the results.\n"
   ]
  },
  {
   "cell_type": "code",
   "execution_count": 2,
   "metadata": {},
   "outputs": [
    {
     "ename": "AttributeError",
     "evalue": "module 'great_expectations' has no attribute 'get_batch'",
     "output_type": "error",
     "traceback": [
      "\u001b[0;31m---------------------------------------------------------------------------\u001b[0m",
      "\u001b[0;31mAttributeError\u001b[0m                            Traceback (most recent call last)",
      "Cell \u001b[0;32mIn[2], line 14\u001b[0m\n\u001b[1;32m     10\u001b[0m context \u001b[38;5;241m=\u001b[39m gx\u001b[38;5;241m.\u001b[39mget_context()\n\u001b[1;32m     12\u001b[0m suite \u001b[38;5;241m=\u001b[39m context\u001b[38;5;241m.\u001b[39mcreate_expectation_suite(expectation_suite_name\u001b[38;5;241m=\u001b[39m\u001b[38;5;124m\"\u001b[39m\u001b[38;5;124mvalidation_suite\u001b[39m\u001b[38;5;124m\"\u001b[39m, overwrite_existing\u001b[38;5;241m=\u001b[39m\u001b[38;5;28;01mTrue\u001b[39;00m)\n\u001b[0;32m---> 14\u001b[0m batch \u001b[38;5;241m=\u001b[39m \u001b[43mgx\u001b[49m\u001b[38;5;241;43m.\u001b[39;49m\u001b[43mget_batch\u001b[49m({\n\u001b[1;32m     15\u001b[0m     \u001b[38;5;124m\"\u001b[39m\u001b[38;5;124mdatasource_name\u001b[39m\u001b[38;5;124m\"\u001b[39m: \u001b[38;5;124m\"\u001b[39m\u001b[38;5;124mdefault_pandas_datasource\u001b[39m\u001b[38;5;124m\"\u001b[39m,\n\u001b[1;32m     16\u001b[0m     \u001b[38;5;124m\"\u001b[39m\u001b[38;5;124mdata_connector_name\u001b[39m\u001b[38;5;124m\"\u001b[39m: \u001b[38;5;124m\"\u001b[39m\u001b[38;5;124mdefault_runtime_data_connector\u001b[39m\u001b[38;5;124m\"\u001b[39m,\n\u001b[1;32m     17\u001b[0m     \u001b[38;5;124m\"\u001b[39m\u001b[38;5;124mdata_asset_name\u001b[39m\u001b[38;5;124m\"\u001b[39m: \u001b[38;5;124m\"\u001b[39m\u001b[38;5;124mruntime_data_asset\u001b[39m\u001b[38;5;124m\"\u001b[39m,\n\u001b[1;32m     18\u001b[0m     \u001b[38;5;124m\"\u001b[39m\u001b[38;5;124mruntime_parameters\u001b[39m\u001b[38;5;124m\"\u001b[39m: {\u001b[38;5;124m\"\u001b[39m\u001b[38;5;124mbatch_data\u001b[39m\u001b[38;5;124m\"\u001b[39m: df},\n\u001b[1;32m     19\u001b[0m     \u001b[38;5;124m\"\u001b[39m\u001b[38;5;124mbatch_identifiers\u001b[39m\u001b[38;5;124m\"\u001b[39m: {\u001b[38;5;124m\"\u001b[39m\u001b[38;5;124mdefault_identifier_name\u001b[39m\u001b[38;5;124m\"\u001b[39m: \u001b[38;5;124m\"\u001b[39m\u001b[38;5;124mdefault_identifier\u001b[39m\u001b[38;5;124m\"\u001b[39m},\n\u001b[1;32m     20\u001b[0m })\n\u001b[1;32m     22\u001b[0m batch\u001b[38;5;241m.\u001b[39mexpect_column_values_to_not_be_null(\u001b[38;5;124m\"\u001b[39m\u001b[38;5;124mage\u001b[39m\u001b[38;5;124m\"\u001b[39m)\n\u001b[1;32m     23\u001b[0m batch\u001b[38;5;241m.\u001b[39mexpect_column_values_to_not_be_null(\u001b[38;5;124m\"\u001b[39m\u001b[38;5;124mstatus\u001b[39m\u001b[38;5;124m\"\u001b[39m)\n",
      "\u001b[0;31mAttributeError\u001b[0m: module 'great_expectations' has no attribute 'get_batch'"
     ]
    }
   ],
   "source": [
    "import great_expectations as gx\n",
    "import pandas as pd\n",
    "\n",
    "df = pd.DataFrame({\n",
    "    \"id\": [1, 2, 3, 4, 5],\n",
    "    \"age\": [25, 30, None, 22, 28],\n",
    "    \"status\": [\"Active\", \"Inactive\", \"Active\", \"Active\", None]\n",
    "})\n",
    "\n",
    "context = gx.get_context()\n",
    "\n",
    "suite = context.create_expectation_suite(expectation_suite_name=\"validation_suite\", overwrite_existing=True)\n",
    "\n",
    "batch = gx.get_batch({\n",
    "    \"datasource_name\": \"default_pandas_datasource\",\n",
    "    \"data_connector_name\": \"default_runtime_data_connector\",\n",
    "    \"data_asset_name\": \"runtime_data_asset\",\n",
    "    \"runtime_parameters\": {\"batch_data\": df},\n",
    "    \"batch_identifiers\": {\"default_identifier_name\": \"default_identifier\"},\n",
    "})\n",
    "\n",
    "batch.expect_column_values_to_not_be_null(\"age\")\n",
    "batch.expect_column_values_to_not_be_null(\"status\")\n",
    "batch.expect_column_values_to_be_in_set(\"status\", [\"Active\", \"Inactive\"])\n",
    "\n",
    "results = context.run_validation_operator(\n",
    "    \"action_list_operator\",\n",
    "    assets_to_validate=[batch],\n",
    "    run_name=\"validation_run\"\n",
    ")\n",
    "\n",
    "context.build_data_docs()\n",
    "validation_result = context.open_data_docs()\n",
    "print(results)\n"
   ]
  },
  {
   "cell_type": "markdown",
   "metadata": {},
   "source": [
    "### Task 3: Advanced Expectations and Scheduling\n",
    "\n",
    "1. Objective: Create advanced expectations for conditional checks and automate the validation.\n",
    "2. Steps:\n",
    "    - Define advanced expectations based on complex conditions.\n",
    "    - Use scheduling tools to automate periodic checks.\n",
    "    - E.g., an expectation that customer IDs must be unique and schedule a daily check."
   ]
  },
  {
   "cell_type": "code",
   "execution_count": 3,
   "metadata": {},
   "outputs": [
    {
     "ename": "ModuleNotFoundError",
     "evalue": "No module named 'apscheduler'",
     "output_type": "error",
     "traceback": [
      "\u001b[0;31m---------------------------------------------------------------------------\u001b[0m",
      "\u001b[0;31mModuleNotFoundError\u001b[0m                       Traceback (most recent call last)",
      "Cell \u001b[0;32mIn[3], line 3\u001b[0m\n\u001b[1;32m      1\u001b[0m \u001b[38;5;28;01mimport\u001b[39;00m \u001b[38;5;21;01mgreat_expectations\u001b[39;00m \u001b[38;5;28;01mas\u001b[39;00m \u001b[38;5;21;01mgx\u001b[39;00m\n\u001b[1;32m      2\u001b[0m \u001b[38;5;28;01mimport\u001b[39;00m \u001b[38;5;21;01mpandas\u001b[39;00m \u001b[38;5;28;01mas\u001b[39;00m \u001b[38;5;21;01mpd\u001b[39;00m\n\u001b[0;32m----> 3\u001b[0m \u001b[38;5;28;01mfrom\u001b[39;00m \u001b[38;5;21;01mapscheduler\u001b[39;00m\u001b[38;5;21;01m.\u001b[39;00m\u001b[38;5;21;01mschedulers\u001b[39;00m\u001b[38;5;21;01m.\u001b[39;00m\u001b[38;5;21;01mblocking\u001b[39;00m \u001b[38;5;28;01mimport\u001b[39;00m BlockingScheduler\n\u001b[1;32m      5\u001b[0m df \u001b[38;5;241m=\u001b[39m pd\u001b[38;5;241m.\u001b[39mDataFrame({\n\u001b[1;32m      6\u001b[0m     \u001b[38;5;124m\"\u001b[39m\u001b[38;5;124mcustomer_id\u001b[39m\u001b[38;5;124m\"\u001b[39m: [\u001b[38;5;241m101\u001b[39m, \u001b[38;5;241m102\u001b[39m, \u001b[38;5;241m103\u001b[39m, \u001b[38;5;241m104\u001b[39m, \u001b[38;5;241m105\u001b[39m],\n\u001b[1;32m      7\u001b[0m     \u001b[38;5;124m\"\u001b[39m\u001b[38;5;124mpurchase_amount\u001b[39m\u001b[38;5;124m\"\u001b[39m: [\u001b[38;5;241m250.0\u001b[39m, \u001b[38;5;241m150.0\u001b[39m, \u001b[38;5;241m400.0\u001b[39m, \u001b[38;5;241m300.0\u001b[39m, \u001b[38;5;241m150.0\u001b[39m],\n\u001b[1;32m      8\u001b[0m     \u001b[38;5;124m\"\u001b[39m\u001b[38;5;124mstatus\u001b[39m\u001b[38;5;124m\"\u001b[39m: [\u001b[38;5;124m\"\u001b[39m\u001b[38;5;124mactive\u001b[39m\u001b[38;5;124m\"\u001b[39m, \u001b[38;5;124m\"\u001b[39m\u001b[38;5;124mactive\u001b[39m\u001b[38;5;124m\"\u001b[39m, \u001b[38;5;124m\"\u001b[39m\u001b[38;5;124minactive\u001b[39m\u001b[38;5;124m\"\u001b[39m, \u001b[38;5;124m\"\u001b[39m\u001b[38;5;124mactive\u001b[39m\u001b[38;5;124m\"\u001b[39m, \u001b[38;5;124m\"\u001b[39m\u001b[38;5;124minactive\u001b[39m\u001b[38;5;124m\"\u001b[39m]\n\u001b[1;32m      9\u001b[0m })\n\u001b[1;32m     11\u001b[0m context \u001b[38;5;241m=\u001b[39m gx\u001b[38;5;241m.\u001b[39mget_context()\n",
      "\u001b[0;31mModuleNotFoundError\u001b[0m: No module named 'apscheduler'"
     ]
    }
   ],
   "source": [
    "import great_expectations as gx\n",
    "import pandas as pd\n",
    "from apscheduler.schedulers.blocking import BlockingScheduler\n",
    "\n",
    "df = pd.DataFrame({\n",
    "    \"customer_id\": [101, 102, 103, 104, 105],\n",
    "    \"purchase_amount\": [250.0, 150.0, 400.0, 300.0, 150.0],\n",
    "    \"status\": [\"active\", \"active\", \"inactive\", \"active\", \"inactive\"]\n",
    "})\n",
    "\n",
    "context = gx.get_context()\n",
    "\n",
    "suite_name = \"advanced_expectation_suite\"\n",
    "suite = context.create_expectation_suite(expectation_suite_name=suite_name, overwrite_existing=True)\n",
    "\n",
    "batch = gx.get_batch({\n",
    "    \"datasource_name\": \"default_pandas_datasource\",\n",
    "    \"data_connector_name\": \"default_runtime_data_connector\",\n",
    "    \"data_asset_name\": \"runtime_data_asset\",\n",
    "    \"runtime_parameters\": {\"batch_data\": df},\n",
    "    \"batch_identifiers\": {\"default_identifier_name\": \"default_identifier\"},\n",
    "})\n",
    "\n",
    "batch.expect_column_values_to_be_unique(\"customer_id\")\n",
    "batch.expect_column_values_to_be_between(\"purchase_amount\", min_value=100, max_value=500)\n",
    "batch.expect_column_values_to_match_regex(\"status\", regex=\"^(active|inactive)$\")\n",
    "\n",
    "def run_validation():\n",
    "    results = context.run_validation_operator(\n",
    "        \"action_list_operator\",\n",
    "        assets_to_validate=[batch],\n",
    "        run_name=\"scheduled_validation_run\"\n",
    "    )\n",
    "    context.build_data_docs()\n",
    "    print(results)\n",
    "\n",
    "scheduler = BlockingScheduler()\n",
    "scheduler.add_job(run_validation, 'interval', days=1)\n",
    "scheduler.start()\n",
    "\n",
    "\n",
    "\n",
    "\n",
    "\n",
    "\n",
    "\n"
   ]
  }
 ],
 "metadata": {
  "kernelspec": {
   "display_name": "Python 3",
   "language": "python",
   "name": "python3"
  },
  "language_info": {
   "codemirror_mode": {
    "name": "ipython",
    "version": 3
   },
   "file_extension": ".py",
   "mimetype": "text/x-python",
   "name": "python",
   "nbconvert_exporter": "python",
   "pygments_lexer": "ipython3",
   "version": "3.10.12"
  }
 },
 "nbformat": 4,
 "nbformat_minor": 2
}
