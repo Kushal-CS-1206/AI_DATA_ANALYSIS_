{
 "cells": [
  {
   "cell_type": "markdown",
   "metadata": {},
   "source": [
    "### Metadata Management for Data Quality\n",
    "**Description**: Store and use metadata to manage data quality in a pipeline.\n",
    "\n",
    "**Steps**:\n",
    "1. Load metadata\n",
    "2. Load data\n",
    "3. Use metadata to validate data quality\n",
    "4. Show valid data\n"
   ]
  },
  {
   "cell_type": "code",
   "execution_count": 2,
   "metadata": {},
   "outputs": [
    {
     "name": "stdout",
     "output_type": "stream",
     "text": [
      "    id   name  age          email\n",
      "0  1.0  Alice   25  a@example.com\n",
      "1  2.0    Bob   30  b@example.com\n"
     ]
    }
   ],
   "source": [
    "import pandas as pd\n",
    "\n",
    "metadata = {\n",
    "    \"columns\": {\n",
    "        \"id\": {\"type\": \"int\", \"required\": True},\n",
    "        \"name\": {\"type\": \"str\", \"required\": True},\n",
    "        \"age\": {\"type\": \"int\", \"required\": False},\n",
    "        \"email\": {\"type\": \"str\", \"required\": False}\n",
    "    }\n",
    "}\n",
    "\n",
    "data = pd.DataFrame({\n",
    "    \"id\": [1, 2, None, 4],\n",
    "    \"name\": [\"Alice\", \"Bob\", \"Charlie\", None],\n",
    "    \"age\": [25, 30, 22, 28],\n",
    "    \"email\": [\"a@example.com\", \"b@example.com\", \"c@example.com\", \"d@example.com\"]\n",
    "})\n",
    "\n",
    "valid_data = data.copy()\n",
    "for col, rules in metadata[\"columns\"].items():\n",
    "    if col not in valid_data.columns:\n",
    "        continue\n",
    "    if rules[\"required\"]:\n",
    "        valid_data = valid_data[valid_data[col].notnull()]\n",
    "    if rules[\"type\"] == \"int\":\n",
    "        valid_data = valid_data[valid_data[col].apply(lambda x: isinstance(x, (int, float)) and not pd.isna(x))]\n",
    "    elif rules[\"type\"] == \"str\":\n",
    "        valid_data = valid_data[valid_data[col].apply(lambda x: isinstance(x, str))]\n",
    "\n",
    "print(valid_data)"
   ]
  }
 ],
 "metadata": {
  "kernelspec": {
   "display_name": "Python 3",
   "language": "python",
   "name": "python3"
  },
  "language_info": {
   "codemirror_mode": {
    "name": "ipython",
    "version": 3
   },
   "file_extension": ".py",
   "mimetype": "text/x-python",
   "name": "python",
   "nbconvert_exporter": "python",
   "pygments_lexer": "ipython3",
   "version": "3.10.12"
  }
 },
 "nbformat": 4,
 "nbformat_minor": 2
}
