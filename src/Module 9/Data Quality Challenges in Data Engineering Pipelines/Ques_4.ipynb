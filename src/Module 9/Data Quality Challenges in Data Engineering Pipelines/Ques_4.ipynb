{
 "cells": [
  {
   "cell_type": "markdown",
   "metadata": {},
   "source": [
    "### Complex Schema Validation with Avro\n",
    "**Description**: Implement a solution in Python to validate records against a complex nested Avro schema.\n",
    "\n",
    "Eg., Complex schema ( nested_schema.avsc ):\n",
    "\n",
    "**Steps**:\n",
    "1. Load schema\n",
    "2. Example data to validate\n",
    "3. Validate against schema\n",
    "4. Read back to check"
   ]
  },
  {
   "cell_type": "code",
   "execution_count": 3,
   "metadata": {},
   "outputs": [
    {
     "name": "stdout",
     "output_type": "stream",
     "text": [
      "True\n",
      "False\n"
     ]
    }
   ],
   "source": [
    "import jsonschema\n",
    "\n",
    "nested_schema = {\n",
    "    \"type\": \"object\",\n",
    "    \"properties\": {\n",
    "        \"name\": {\"type\": \"string\"},\n",
    "        \"age\": {\"type\": \"integer\"},\n",
    "        \"address\": {\n",
    "            \"type\": \"object\",\n",
    "            \"properties\": {\n",
    "                \"street\": {\"type\": \"string\"},\n",
    "                \"city\": {\"type\": \"string\"},\n",
    "                \"zipcode\": {\"type\": \"string\"}\n",
    "            },\n",
    "            \"required\": [\"street\", \"city\", \"zipcode\"]\n",
    "        },\n",
    "        \"phones\": {\n",
    "            \"type\": \"array\",\n",
    "            \"items\": {\"type\": \"string\"}\n",
    "        }\n",
    "    },\n",
    "    \"required\": [\"name\", \"age\", \"address\", \"phones\"]\n",
    "}\n",
    "\n",
    "valid_record = {\n",
    "    \"name\": \"John Doe\",\n",
    "    \"age\": 30,\n",
    "    \"address\": {\n",
    "        \"street\": \"123 Main St\",\n",
    "        \"city\": \"Anytown\",\n",
    "        \"zipcode\": \"12345\"\n",
    "    },\n",
    "    \"phones\": [\"123-456-7890\", \"987-654-3210\"]\n",
    "}\n",
    "\n",
    "invalid_record = {\n",
    "    \"name\": \"Jane Doe\",\n",
    "    \"age\": \"thirty\",\n",
    "    \"address\": {\n",
    "        \"street\": \"456 Elm St\",\n",
    "        \"city\": \"Othertown\",\n",
    "        \"zipcode\": \"67890\"\n",
    "    },\n",
    "    \"phones\": [\"555-555-5555\"]\n",
    "}\n",
    "\n",
    "def validate_record(record, schema):\n",
    "    try:\n",
    "        jsonschema.validate(instance=record, schema=schema)\n",
    "        return True\n",
    "    except jsonschema.ValidationError as e:\n",
    "        return False\n",
    "\n",
    "print(validate_record(valid_record, nested_schema))\n",
    "print(validate_record(invalid_record, nested_schema))"
   ]
  }
 ],
 "metadata": {
  "kernelspec": {
   "display_name": "Python 3",
   "language": "python",
   "name": "python3"
  },
  "language_info": {
   "codemirror_mode": {
    "name": "ipython",
    "version": 3
   },
   "file_extension": ".py",
   "mimetype": "text/x-python",
   "name": "python",
   "nbconvert_exporter": "python",
   "pygments_lexer": "ipython3",
   "version": "3.10.12"
  }
 },
 "nbformat": 4,
 "nbformat_minor": 2
}
