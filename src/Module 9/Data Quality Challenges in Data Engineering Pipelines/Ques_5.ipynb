{
 "cells": [
  {
   "cell_type": "markdown",
   "metadata": {},
   "source": [
    "### Implementing Data Validation using Protobuf in a Distributed System\n",
    "**Description**: Use gRPC to implement a distributed system that validates messages using\n",
    "Protobuf.\n",
    "\n",
    "**Steps**:\n",
    "1. Create a .proto file for gRPC service.\n",
    "2. Implement server-side validation\n",
    "    - Create a gRPC server\n",
    "    - Bind the server to an address\n",
    "    - Start server"
   ]
  },
  {
   "cell_type": "code",
   "execution_count": 2,
   "metadata": {},
   "outputs": [
    {
     "ename": "ModuleNotFoundError",
     "evalue": "No module named 'validation_pb2'",
     "output_type": "error",
     "traceback": [
      "\u001b[0;31m---------------------------------------------------------------------------\u001b[0m",
      "\u001b[0;31mModuleNotFoundError\u001b[0m                       Traceback (most recent call last)",
      "Cell \u001b[0;32mIn[2], line 31\u001b[0m\n\u001b[1;32m     28\u001b[0m \u001b[38;5;28;01mimport\u001b[39;00m \u001b[38;5;21;01mtime\u001b[39;00m\n\u001b[1;32m     29\u001b[0m \u001b[38;5;28;01mimport\u001b[39;00m \u001b[38;5;21;01mthreading\u001b[39;00m\n\u001b[0;32m---> 31\u001b[0m \u001b[38;5;28;01mimport\u001b[39;00m \u001b[38;5;21;01mvalidation_pb2\u001b[39;00m\n\u001b[1;32m     32\u001b[0m \u001b[38;5;28;01mimport\u001b[39;00m \u001b[38;5;21;01mvalidation_pb2_grpc\u001b[39;00m\n\u001b[1;32m     34\u001b[0m \u001b[38;5;28;01mclass\u001b[39;00m \u001b[38;5;21;01mValidatorServicer\u001b[39;00m(validation_pb2_grpc\u001b[38;5;241m.\u001b[39mValidatorServicer):\n",
      "\u001b[0;31mModuleNotFoundError\u001b[0m: No module named 'validation_pb2'"
     ]
    }
   ],
   "source": [
    "# validation.proto content (save separately as validation.proto before running this script):\n",
    "'''\n",
    "syntax = \"proto3\";\n",
    "\n",
    "package validation;\n",
    "\n",
    "service Validator {\n",
    "  rpc ValidatePerson (Person) returns (ValidationResponse);\n",
    "}\n",
    "\n",
    "message Person {\n",
    "  string name = 1;\n",
    "  int32 age = 2;\n",
    "  string email = 3;\n",
    "}\n",
    "\n",
    "message ValidationResponse {\n",
    "  bool valid = 1;\n",
    "  string message = 2;\n",
    "}\n",
    "'''\n",
    "\n",
    "# --- Run this in terminal once before running the Python code below to generate gRPC files ---\n",
    "# python -m grpc_tools.protoc -I. --python_out=. --grpc_python_out=. validation.proto\n",
    "\n",
    "import grpc\n",
    "from concurrent import futures\n",
    "import time\n",
    "import threading\n",
    "\n",
    "import validation_pb2\n",
    "import validation_pb2_grpc\n",
    "\n",
    "class ValidatorServicer(validation_pb2_grpc.ValidatorServicer):\n",
    "    def ValidatePerson(self, request, context):\n",
    "        if not request.name:\n",
    "            return validation_pb2.ValidationResponse(valid=False, message=\"Name cannot be empty.\")\n",
    "        if request.age < 0 or request.age > 120:\n",
    "            return validation_pb2.ValidationResponse(valid=False, message=\"Age must be between 0 and 120.\")\n",
    "        if \"@\" not in request.email:\n",
    "            return validation_pb2.ValidationResponse(valid=False, message=\"Invalid email address.\")\n",
    "        return validation_pb2.ValidationResponse(valid=True, message=\"Validation successful.\")\n",
    "\n",
    "def serve():\n",
    "    server = grpc.server(futures.ThreadPoolExecutor(max_workers=10))\n",
    "    validation_pb2_grpc.add_ValidatorServicer_to_server(ValidatorServicer(), server)\n",
    "    server.add_insecure_port('[::]:50051')\n",
    "    server.start()\n",
    "    print(\"Server started on port 50051...\")\n",
    "    try:\n",
    "        while True:\n",
    "            time.sleep(86400)\n",
    "    except KeyboardInterrupt:\n",
    "        server.stop(0)\n",
    "\n",
    "def run_client():\n",
    "    channel = grpc.insecure_channel('localhost:50051')\n",
    "    stub = validation_pb2_grpc.ValidatorStub(channel)\n",
    "    test_cases = [\n",
    "        validation_pb2.Person(name=\"\", age=25, email=\"test@example.com\"),\n",
    "        validation_pb2.Person(name=\"Bob\", age=130, email=\"bob@example.com\"),\n",
    "        validation_pb2.Person(name=\"Carol\", age=30, email=\"carolexample.com\"),\n",
    "        validation_pb2.Person(name=\"Dave\", age=40, email=\"dave@example.com\"),\n",
    "    ]\n",
    "    for person in test_cases:\n",
    "        response = stub.ValidatePerson(person)\n",
    "        print(f\"Input: name={person.name}, age={person.age}, email={person.email}\")\n",
    "        print(f\"Valid: {response.valid}, Message: {response.message}\\n\")\n",
    "\n",
    "if __name__ == '__main__':\n",
    "    # Run server in a separate thread\n",
    "    server_thread = threading.Thread(target=serve, daemon=True)\n",
    "    server_thread.start()\n",
    "    time.sleep(2)  # wait for server to start\n",
    "\n",
    "    # Run client requests\n",
    "    run_client()"
   ]
  }
 ],
 "metadata": {
  "kernelspec": {
   "display_name": "Python 3",
   "language": "python",
   "name": "python3"
  },
  "language_info": {
   "codemirror_mode": {
    "name": "ipython",
    "version": 3
   },
   "file_extension": ".py",
   "mimetype": "text/x-python",
   "name": "python",
   "nbconvert_exporter": "python",
   "pygments_lexer": "ipython3",
   "version": "3.10.12"
  }
 },
 "nbformat": 4,
 "nbformat_minor": 2
}
