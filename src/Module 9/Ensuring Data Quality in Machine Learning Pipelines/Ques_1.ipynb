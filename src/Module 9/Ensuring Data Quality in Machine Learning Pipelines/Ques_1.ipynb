{
 "cells": [
  {
   "cell_type": "markdown",
   "metadata": {},
   "source": [
    "### Garbage In, Garbage Out (GIGO): Cleaning Missing Data\n",
    "**Description**: Load a dataset (e.g., Titanic dataset) and identify missing values. Use\n",
    "appropriate techniques to handle these missing values."
   ]
  },
  {
   "cell_type": "code",
   "execution_count": 2,
   "metadata": {},
   "outputs": [
    {
     "data": {
      "text/plain": [
       "(   PassengerId        Age     Sex   Fare\n",
       " 0            1  22.000000    male   7.25\n",
       " 1            2  38.000000  female  71.83\n",
       " 2            3  31.666667  female   7.92\n",
       " 3            4  35.000000  female  53.10\n",
       " 4            5  31.666667    male   8.05,\n",
       " PassengerId    0\n",
       " Age            2\n",
       " Sex            0\n",
       " Fare           0\n",
       " dtype: int64)"
      ]
     },
     "execution_count": 2,
     "metadata": {},
     "output_type": "execute_result"
    }
   ],
   "source": [
    "\n",
    "\n",
    "\n",
    "import pandas as pd\n",
    "from sklearn.impute import SimpleImputer\n",
    "\n",
    "data = {\n",
    "    'PassengerId': [1, 2, 3, 4, 5],\n",
    "    'Age': [22, 38, None, 35, None],\n",
    "    'Sex': ['male', 'female', 'female', 'female', 'male'],\n",
    "    'Fare': [7.25, 71.83, 7.92, 53.10, 8.05]\n",
    "}\n",
    "\n",
    "df = pd.DataFrame(data)\n",
    "\n",
    "missing_values = df.isnull().sum()\n",
    "\n",
    "num_cols = ['Age', 'Fare']\n",
    "cat_cols = ['Sex']\n",
    "\n",
    "num_imputer = SimpleImputer(strategy='mean')\n",
    "cat_imputer = SimpleImputer(strategy='most_frequent')\n",
    "\n",
    "df[num_cols] = num_imputer.fit_transform(df[num_cols])\n",
    "df[cat_cols] = cat_imputer.fit_transform(df[cat_cols])\n",
    "\n",
    "(df, missing_values)"
   ]
  }
 ],
 "metadata": {
  "kernelspec": {
   "display_name": "Python 3",
   "language": "python",
   "name": "python3"
  },
  "language_info": {
   "codemirror_mode": {
    "name": "ipython",
    "version": 3
   },
   "file_extension": ".py",
   "mimetype": "text/x-python",
   "name": "python",
   "nbconvert_exporter": "python",
   "pygments_lexer": "ipython3",
   "version": "3.10.12"
  }
 },
 "nbformat": 4,
 "nbformat_minor": 2
}
