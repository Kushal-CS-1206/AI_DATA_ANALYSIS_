{
 "cells": [
  {
   "cell_type": "markdown",
   "metadata": {},
   "source": [
    "### Ensuring Consistency Across Training & Inference Datasets: Feature Scaling\n",
    "**Question**: Load a dataset (e.g., Boston Housing) and perform feature scaling. Ensure the\n",
    "same scaling is applied during model inference with new data."
   ]
  },
  {
   "cell_type": "code",
   "execution_count": 2,
   "metadata": {},
   "outputs": [
    {
     "data": {
      "text/plain": [
       "(     MedInc  HouseAge  AveRooms  AveBedrms  Population  AveOccup  Latitude  \\\n",
       " 0  2.394020  0.964042  0.571311  -0.150639   -0.979925 -0.088546  1.315493   \n",
       " 1  2.381437 -0.653081  0.301082  -0.247372    0.845648 -0.171636  1.305714   \n",
       " 2  1.829490  1.853460  1.043677  -0.058177   -0.827136 -0.042555  1.300824   \n",
       " 3  0.976034  1.853460  0.148657  -0.058898   -0.772693 -0.089965  1.300824   \n",
       " 4  0.026039  1.853460  0.316918  -0.043955   -0.766547 -0.158284  1.300824   \n",
       " \n",
       "    Longitude  \n",
       " 0  -1.734894  \n",
       " 1  -1.729452  \n",
       " 2  -1.740336  \n",
       " 3  -1.745778  \n",
       " 4  -1.745778  ,\n",
       "      MedInc  HouseAge  AveRooms  AveBedrms  Population  AveOccup  Latitude  \\\n",
       " 0 -0.059290  0.317193 -0.212671  -0.275982    0.746423 -0.035103 -1.197829   \n",
       " 1 -1.024352 -1.380786 -0.598266  -0.016978    0.493529 -0.140789 -1.197829   \n",
       " 2 -1.099161 -1.946779 -0.583259  -0.128639    0.253808 -0.140220 -1.197829   \n",
       " 3 -0.146841  0.559762  0.163995  -0.071440   -0.323105 -0.056102 -1.192940   \n",
       " 4 -0.510893 -0.006231 -0.251096  -0.115657   -0.000842 -0.108589 -1.192940   \n",
       " \n",
       "    Longitude  \n",
       " 0   1.089434  \n",
       " 1   1.100318  \n",
       " 2   1.089434  \n",
       " 3   1.089434  \n",
       " 4   1.083993  )"
      ]
     },
     "execution_count": 2,
     "metadata": {},
     "output_type": "execute_result"
    }
   ],
   "source": [
    "import pandas as pd\n",
    "from sklearn.preprocessing import StandardScaler\n",
    "from sklearn.datasets import fetch_california_housing\n",
    "\n",
    "california = fetch_california_housing(as_frame=True)\n",
    "X = california.frame.drop(columns='MedHouseVal')\n",
    "\n",
    "X_train = X.iloc[:15000].copy()\n",
    "X_infer = X.iloc[15000:15005].copy()\n",
    "\n",
    "scaler = StandardScaler()\n",
    "X_train_scaled = pd.DataFrame(scaler.fit_transform(X_train), columns=X_train.columns)\n",
    "\n",
    "X_infer_scaled = pd.DataFrame(scaler.transform(X_infer), columns=X_infer.columns)\n",
    "\n",
    "(X_train_scaled.head(), X_infer_scaled)"
   ]
  }
 ],
 "metadata": {
  "kernelspec": {
   "display_name": "Python 3",
   "language": "python",
   "name": "python3"
  },
  "language_info": {
   "codemirror_mode": {
    "name": "ipython",
    "version": 3
   },
   "file_extension": ".py",
   "mimetype": "text/x-python",
   "name": "python",
   "nbconvert_exporter": "python",
   "pygments_lexer": "ipython3",
   "version": "3.10.12"
  }
 },
 "nbformat": 4,
 "nbformat_minor": 2
}
