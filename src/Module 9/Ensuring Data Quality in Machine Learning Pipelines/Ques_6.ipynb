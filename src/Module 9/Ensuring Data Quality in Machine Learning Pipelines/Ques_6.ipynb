{
 "cells": [
  {
   "cell_type": "markdown",
   "metadata": {},
   "source": [
    "### Bias & Fairness in Data: Bias Mitigation Techniques\n",
    "**Question**: Use the Adult Income dataset and apply reweighing technique to balance the\n",
    "class weights based on sensitive attributes (e.g., gender)."
   ]
  },
  {
   "cell_type": "code",
   "execution_count": 3,
   "metadata": {},
   "outputs": [
    {
     "name": "stdout",
     "output_type": "stream",
     "text": [
      "              precision    recall  f1-score   support\n",
      "\n",
      "           0       0.91      0.81      0.86      7455\n",
      "           1       0.55      0.75      0.63      2314\n",
      "\n",
      "    accuracy                           0.80      9769\n",
      "   macro avg       0.73      0.78      0.75      9769\n",
      "weighted avg       0.83      0.80      0.81      9769\n",
      "\n",
      "sex\n",
      "0    0.252934\n",
      "1    0.356760\n",
      "Name: pred, dtype: float64\n"
     ]
    },
    {
     "name": "stderr",
     "output_type": "stream",
     "text": [
      "/home/vscode/.local/lib/python3.10/site-packages/sklearn/linear_model/_logistic.py:465: ConvergenceWarning: lbfgs failed to converge (status=1):\n",
      "STOP: TOTAL NO. of ITERATIONS REACHED LIMIT.\n",
      "\n",
      "Increase the number of iterations (max_iter) or scale the data as shown in:\n",
      "    https://scikit-learn.org/stable/modules/preprocessing.html\n",
      "Please also refer to the documentation for alternative solver options:\n",
      "    https://scikit-learn.org/stable/modules/linear_model.html#logistic-regression\n",
      "  n_iter_i = _check_optimize_result(\n"
     ]
    }
   ],
   "source": [
    "import pandas as pd\n",
    "import numpy as np\n",
    "from sklearn.linear_model import LogisticRegression\n",
    "from sklearn.metrics import classification_report\n",
    "from sklearn.model_selection import train_test_split\n",
    "\n",
    "# Load Adult dataset from UCI (sampled smaller for speed)\n",
    "url = \"https://archive.ics.uci.edu/ml/machine-learning-databases/adult/adult.data\"\n",
    "cols = [\n",
    "    \"age\",\"workclass\",\"fnlwgt\",\"education\",\"education-num\",\n",
    "    \"marital-status\",\"occupation\",\"relationship\",\"race\",\"sex\",\n",
    "    \"capital-gain\",\"capital-loss\",\"hours-per-week\",\"native-country\",\"income\"\n",
    "]\n",
    "data = pd.read_csv(url, header=None, names=cols, na_values=\" ?\", skipinitialspace=True)\n",
    "\n",
    "# Drop rows with missing values\n",
    "data.dropna(inplace=True)\n",
    "\n",
    "# Encode target and sensitive attribute (sex)\n",
    "data['income'] = data['income'].apply(lambda x: 1 if x == '>50K' else 0)\n",
    "data['sex'] = data['sex'].apply(lambda x: 1 if x == 'Male' else 0)\n",
    "\n",
    "# Calculate weights to balance sex distribution relative to income\n",
    "# Calculate P(sex, income) and then weights = 1 / P(sex, income)\n",
    "counts = data.groupby(['sex', 'income']).size()\n",
    "total = len(data)\n",
    "joint_prob = counts / total\n",
    "weights = 1 / joint_prob\n",
    "\n",
    "# Map weights back to rows\n",
    "data['weight'] = data.apply(lambda row: weights.loc[(row['sex'], row['income'])], axis=1)\n",
    "\n",
    "# Features: just numeric + one-hot encoding for simplicity\n",
    "X = pd.get_dummies(data.drop(columns=['income', 'weight']), drop_first=True)\n",
    "y = data['income']\n",
    "w = data['weight']\n",
    "\n",
    "# Train-test split\n",
    "X_train, X_test, y_train, y_test, w_train, w_test = train_test_split(X, y, w, test_size=0.3, random_state=42)\n",
    "\n",
    "# Train Logistic Regression with sample weights\n",
    "model = LogisticRegression(max_iter=1000)\n",
    "model.fit(X_train, y_train, sample_weight=w_train)\n",
    "\n",
    "# Predict and evaluate\n",
    "y_pred = model.predict(X_test)\n",
    "print(classification_report(y_test, y_pred))\n",
    "\n",
    "# Show distribution of predicted income by sex to assess bias mitigation\n",
    "pred_df = pd.DataFrame({'sex': data.loc[X_test.index, 'sex'], 'pred': y_pred})\n",
    "print(pred_df.groupby('sex')['pred'].mean())\n",
    "#"
   ]
  }
 ],
 "metadata": {
  "kernelspec": {
   "display_name": "Python 3",
   "language": "python",
   "name": "python3"
  },
  "language_info": {
   "codemirror_mode": {
    "name": "ipython",
    "version": 3
   },
   "file_extension": ".py",
   "mimetype": "text/x-python",
   "name": "python",
   "nbconvert_exporter": "python",
   "pygments_lexer": "ipython3",
   "version": "3.10.12"
  }
 },
 "nbformat": 4,
 "nbformat_minor": 2
}
