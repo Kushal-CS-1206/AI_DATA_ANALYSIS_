{
 "cells": [
  {
   "cell_type": "markdown",
   "metadata": {},
   "source": [
    "## Detect Schema Mismatches in Data Pipelines\n",
    "**Objective**: Identify and resolve schema mismatches that commonly occur in data pipelines.\n",
    "\n",
    "**Task**: Column Name Mismatch\n",
    "\n",
    "**Steps**:\n",
    "1. Load the source DataFrame with the below schema:\n",
    "    - id : Integer\n",
    "    - name : String\n",
    "    - age : Integer\n",
    "2. Load the target DataFrame with the below schema:\n",
    "    - id : Integer\n",
    "    - fullname : String\n",
    "    - age : Integer\n",
    "3. Use a schema comparison tool or write a simple function to detect mismatches in column names.\n",
    "4. Resolve the mismatch by renaming the `fullname` column in the target DataFrame to `name` ."
   ]
  },
  {
   "cell_type": "code",
   "execution_count": 2,
   "metadata": {},
   "outputs": [
    {
     "name": "stdout",
     "output_type": "stream",
     "text": [
      "Column mismatches: {'fullname', 'name'}\n",
      "\n",
      "Source columns: ['id', 'name', 'age']\n",
      "Target columns: ['id', 'name', 'age']\n"
     ]
    }
   ],
   "source": [
    "import pandas as pd\n",
    "\n",
    "# Step 1: Load source DataFrame\n",
    "source_df = pd.DataFrame({\n",
    "    'id': [1, 2, 3],\n",
    "    'name': ['Alice', 'Bob', 'Charlie'],\n",
    "    'age': [25, 30, 35]\n",
    "})\n",
    "\n",
    "# Step 2: Load target DataFrame\n",
    "target_df = pd.DataFrame({\n",
    "    'id': [4, 5, 6],\n",
    "    'fullname': ['David', 'Eva', 'Frank'],\n",
    "    'age': [40, 45, 50]\n",
    "})\n",
    "\n",
    "# Step 3: Detect column name mismatches\n",
    "source_columns = set(source_df.columns)\n",
    "target_columns = set(target_df.columns)\n",
    "\n",
    "mismatches = source_columns.symmetric_difference(target_columns)\n",
    "print(\"Column mismatches:\", mismatches)\n",
    "\n",
    "# Step 4: Resolve mismatch by renaming 'fullname' to 'name' in target DataFrame\n",
    "if 'fullname' in target_df.columns:\n",
    "    target_df.rename(columns={'fullname': 'name'}, inplace=True)\n",
    "\n",
    "# Verify final column \n",
    "print(\"\\nSource columns:\", source_df.columns.tolist())\n",
    "print(\"Target columns:\", target_df.columns.tolist())\n"
   ]
  }
 ],
 "metadata": {
  "kernelspec": {
   "display_name": "Python 3",
   "language": "python",
   "name": "python3"
  },
  "language_info": {
   "codemirror_mode": {
    "name": "ipython",
    "version": 3
   },
   "file_extension": ".py",
   "mimetype": "text/x-python",
   "name": "python",
   "nbconvert_exporter": "python",
   "pygments_lexer": "ipython3",
   "version": "3.10.12"
  }
 },
 "nbformat": 4,
 "nbformat_minor": 2
}
