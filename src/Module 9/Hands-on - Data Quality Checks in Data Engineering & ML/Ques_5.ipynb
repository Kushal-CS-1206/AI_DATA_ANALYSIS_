{
 "cells": [
  {
   "cell_type": "markdown",
   "metadata": {},
   "source": [
    "## Detect Schema Mismatches in Data Pipelines\n",
    "**Objective**: Identify and resolve schema mismatches that commonly occur in data pipelines.\n",
    "\n",
    "**Task**: Missing Column\n",
    "\n",
    "1. Load the source DataFrame with the below schema:\n",
    "    - id : Integer\n",
    "    - email : String\n",
    "    - signup_date : Date\n",
    "2. Load the target DataFrame with the below schema:\n",
    "    - id : Integer\n",
    "    - email : String\n",
    "3. Implement a check to identify any columns that are present in the source DataFrame but missing in the target.\n",
    "4. Add the missing `signup_date` column to the target DataFrame."
   ]
  },
  {
   "cell_type": "code",
   "execution_count": 2,
   "metadata": {},
   "outputs": [
    {
     "name": "stdout",
     "output_type": "stream",
     "text": [
      "Source DataFrame:\n",
      "    id          email signup_date\n",
      "0   1  a@example.com  2023-01-01\n",
      "1   2  b@example.com  2023-02-01\n",
      "2   3  c@example.com  2023-03-01\n",
      "\n",
      "Target DataFrame after column alignment:\n",
      "    id          email signup_date\n",
      "0   4  d@example.com         NaT\n",
      "1   5  e@example.com         NaT\n",
      "2   6  f@example.com         NaT\n"
     ]
    }
   ],
   "source": [
    "import pandas as pd\n",
    "import numpy as np\n",
    "\n",
    "# Step 1: Load source\n",
    "source_df = pd.DataFrame({\n",
    "    'id': [1, 2, 3],\n",
    "    'email': ['a@example.com', 'b@example.com', 'c@example.com'],\n",
    "    'signup_date': pd.to_datetime(['2023-01-01', '2023-02-01', '2023-03-01'])\n",
    "})\n",
    "\n",
    "# Step 2: Load target DataFrame\n",
    "target_df = pd.DataFrame({\n",
    "    'id': [4, 5, 6],\n",
    "    'email': ['d@example.com', 'e@example.com', 'f@example.com']\n",
    "})\n",
    "\n",
    "# Step 3: Identify missing columns\n",
    "missing_columns = set(source_df.columns) - set(target_df.columns)\n",
    "\n",
    "# Step 4: Add missing columns to target DataFrame with NaN or default values\n",
    "for col in missing_columns:\n",
    "    target_df[col] = np.nan\n",
    "    if source_df[col].dtype == 'datetime64[ns]':\n",
    "        target_df[col] = pd.to_datetime(target_df[col])\n",
    "\n",
    "# Output the aligned \n",
    "print(\"Source DataFrame:\\n\", source_df)\n",
    "print(\"\\nTarget DataFrame after column alignment:\\n\", target_df)\n"
   ]
  }
 ],
 "metadata": {
  "kernelspec": {
   "display_name": "Python 3",
   "language": "python",
   "name": "python3"
  },
  "language_info": {
   "codemirror_mode": {
    "name": "ipython",
    "version": 3
   },
   "file_extension": ".py",
   "mimetype": "text/x-python",
   "name": "python",
   "nbconvert_exporter": "python",
   "pygments_lexer": "ipython3",
   "version": "3.10.12"
  }
 },
 "nbformat": 4,
 "nbformat_minor": 2
}
