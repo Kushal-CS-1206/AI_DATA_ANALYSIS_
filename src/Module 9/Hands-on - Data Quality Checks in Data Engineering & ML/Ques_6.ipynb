{
 "cells": [
  {
   "cell_type": "markdown",
   "metadata": {},
   "source": [
    "### Detect Data Drift in ML Models\n",
    "**Objective**: Monitor and detect changes in data distributions that impact ML model performance.\n",
    "\n",
    "**Task**: Categorical Feature Drift\n",
    "\n",
    "**Steps**:\n",
    "1. Load the baseline distribution for a categorical feature (e.g., gender ) from your training dataset.\n",
    "2. Load the same feature from your current production data.\n",
    "3. Use chi-squared tests to compare the distributions of the categorical feature.\n",
    "4. Step 4: If significant drift is detected, investigate the cause and update the model as needed."
   ]
  },
  {
   "cell_type": "code",
   "execution_count": null,
   "metadata": {},
   "outputs": [
    {
     "name": "stdout",
     "output_type": "stream",
     "text": [
      "Chi-squared test p-value: 0.1432349075246656\n",
      "No significant drift detected in 'gender' feature.\n"
     ]
    }
   ],
   "source": [
    "import pandas as pd\n",
    "from scipy.stats import chi2_contingency\n",
    "\n",
    "# Step 1: (training) data distribution\n",
    "train_data = pd.DataFrame({\n",
    "    'gender': ['Male', 'Female', 'Female', 'Male', 'Female', 'Male', 'Male', 'Female', 'Male', 'Female']\n",
    "})\n",
    "\n",
    "# Step 2: Production data distribution\n",
    "prod_data = pd.DataFrame({\n",
    "    'gender': ['Male', 'Male', 'Male', 'Male', 'Male', 'Male', 'Male', 'Male', 'Female', 'Male']\n",
    "})\n",
    "\n",
    "# Step 3: Create frequency tables\n",
    "train_counts = train_data['gender'].value_counts().sort_index()\n",
    "prod_counts = prod_data['gender'].value_counts().sort_index()\n",
    "\n",
    "# Combine into contingency table\n",
    "categories = sorted(set(train_counts.index).union(set(prod_counts.index)))\n",
    "contingency = [\n",
    "    [train_counts.get(cat, 0) for cat in categories],\n",
    "    [prod_counts.get(cat, 0) for cat in categories]\n",
    "]\n",
    "\n",
    "# Chi-squared test\n",
    "chi2, p, dof, expected = chi2_contingency(contingency)\n",
    "\n",
    "print(\"Chi-squared test p-value:\", p)\n",
    "if p < 0.05:\n",
    "    print(\"Significant drift detected in 'gender' feature.\")\n",
    "else:\n",
    "    print(\"No significant drift detected in 'gender' feature.\")\n"
   ]
  }
 ],
 "metadata": {
  "kernelspec": {
   "display_name": "Python 3",
   "language": "python",
   "name": "python3"
  },
  "language_info": {
   "codemirror_mode": {
    "name": "ipython",
    "version": 3
   },
   "file_extension": ".py",
   "mimetype": "text/x-python",
   "name": "python",
   "nbconvert_exporter": "python",
   "pygments_lexer": "ipython3",
   "version": "3.10.12"
  }
 },
 "nbformat": 4,
 "nbformat_minor": 2
}
