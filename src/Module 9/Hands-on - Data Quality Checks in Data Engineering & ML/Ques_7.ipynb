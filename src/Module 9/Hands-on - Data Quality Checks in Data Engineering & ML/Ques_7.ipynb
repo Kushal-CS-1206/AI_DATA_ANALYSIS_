{
 "cells": [
  {
   "cell_type": "markdown",
   "metadata": {},
   "source": [
    "### Detect Data Drift in ML Models\n",
    "**Objective**: Monitor and detect changes in data distributions that impact ML model performance.\n",
    "\n",
    "**Task**: Feature Correlation Drift\n",
    "\n",
    "**Steps**:\n",
    "1. Compute the correlation matrix of features in your training dataset.\n",
    "2. Compute the correlation matrix of the same features in your production data.\n",
    "3. Assess changes in the correlation matrix over time to identify any significant deviations.\n",
    "4. Investigate any significant changes in correlation as they may indicate issues in the data collection process or model assumptions."
   ]
  },
  {
   "cell_type": "code",
   "execution_count": 1,
   "metadata": {},
   "outputs": [
    {
     "name": "stdout",
     "output_type": "stream",
     "text": [
      "Absolute differences in correlation matrices:\n",
      "          feature1  feature2  feature3\n",
      "feature1  0.000000  0.914982  0.109939\n",
      "feature2  0.914982  0.000000  0.049445\n",
      "feature3  0.109939  0.049445  0.000000\n"
     ]
    }
   ],
   "source": [
    "import pandas as pd\n",
    "import numpy as np\n",
    "\n",
    "# Step 1: Simulated training dataset\n",
    "train_data = pd.DataFrame({\n",
    "    'feature1': np.random.normal(0, 1, 100),\n",
    "    'feature2': np.random.normal(0, 1, 100),\n",
    "    'feature3': np.random.normal(0, 1, 100)\n",
    "})\n",
    "train_data['feature2'] = train_data['feature1'] * 0.8 + np.random.normal(0, 0.2, 100)\n",
    "\n",
    "# Step 2: Simulated production dataset with drift\n",
    "prod_data = pd.DataFrame({\n",
    "    'feature1': np.random.normal(0, 1, 100),\n",
    "    'feature2': np.random.normal(0, 1, 100),\n",
    "    'feature3': np.random.normal(0, 1, 100)\n",
    "})\n",
    "\n",
    "# Step 3: Compute correlation matrices\n",
    "train_corr = train_data.corr()\n",
    "prod_corr = prod_data.corr()\n",
    "\n",
    "# Step 4: Compare correlation matrices\n",
    "diff_corr = (train_corr - prod_corr).abs()\n",
    "\n",
    "print(\"Absolute differences in correlation matrices:\")\n",
    "print(diff_corr)\n"
   ]
  }
 ],
 "metadata": {
  "kernelspec": {
   "display_name": "Python 3",
   "language": "python",
   "name": "python3"
  },
  "language_info": {
   "codemirror_mode": {
    "name": "ipython",
    "version": 3
   },
   "file_extension": ".py",
   "mimetype": "text/x-python",
   "name": "python",
   "nbconvert_exporter": "python",
   "pygments_lexer": "ipython3",
   "version": "3.10.12"
  }
 },
 "nbformat": 4,
 "nbformat_minor": 2
}
