{
 "cells": [
  {
   "cell_type": "markdown",
   "metadata": {},
   "source": [
    "### Imputing Missing Data\n",
    "**Description**: Impute missing data using various strategies like mean, median, or mode."
   ]
  },
  {
   "cell_type": "code",
   "execution_count": 1,
   "metadata": {},
   "outputs": [],
   "source": [
    "import pandas as pd\n",
    "import numpy as np\n",
    "from sklearn.impute import SimpleImputer\n",
    "\n",
    "data = pd.DataFrame({\n",
    "    \"age\": [25, np.nan, 35, 40, np.nan],\n",
    "    \"income\": [50000, 60000, np.nan, 80000, 75000],\n",
    "    \"gender\": [\"M\", \"F\", np.nan, \"F\", \"M\"]\n",
    "})\n",
    "\n",
    "mean_imputer = SimpleImputer(strategy=\"mean\")\n",
    "median_imputer = SimpleImputer(strategy=\"median\")\n",
    "mode_imputer = SimpleImputer(strategy=\"most_frequent\")\n",
    "\n",
    "data[[\"age\"]] = mean_imputer.fit_transform(data[[\"age\"]])\n",
    "data[[\"income\"]] = median_imputer.fit_transform(data[[\"income\"]])\n",
    "data[[\"gender\"]] = mode_imputer.fit_transform(data[[\"gender\"]])\n"
   ]
  }
 ],
 "metadata": {
  "kernelspec": {
   "display_name": "Python 3",
   "language": "python",
   "name": "python3"
  },
  "language_info": {
   "codemirror_mode": {
    "name": "ipython",
    "version": 3
   },
   "file_extension": ".py",
   "mimetype": "text/x-python",
   "name": "python",
   "nbconvert_exporter": "python",
   "pygments_lexer": "ipython3",
   "version": "3.10.12"
  }
 },
 "nbformat": 4,
 "nbformat_minor": 2
}
